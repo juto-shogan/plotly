{
 "cells": [
  {
   "cell_type": "code",
   "execution_count": 29,
   "metadata": {},
   "outputs": [],
   "source": [
    "import numpy as np\n",
    "import pandas as pd\n",
    "import plotly.express as px\n",
    "import plotly.graph_objects as go\n",
    "import matplotlib.pyplot as plt"
   ]
  },
  {
   "cell_type": "code",
   "execution_count": 30,
   "metadata": {},
   "outputs": [
    {
     "data": {
      "application/vnd.microsoft.datawrangler.viewer.v0+json": {
       "columns": [
        {
         "name": "index",
         "rawType": "int64",
         "type": "integer"
        },
        {
         "name": "Row ID",
         "rawType": "int64",
         "type": "integer"
        },
        {
         "name": "Order ID",
         "rawType": "object",
         "type": "string"
        },
        {
         "name": "Order Date",
         "rawType": "object",
         "type": "string"
        },
        {
         "name": "Ship Date",
         "rawType": "object",
         "type": "string"
        },
        {
         "name": "Ship Mode",
         "rawType": "object",
         "type": "string"
        },
        {
         "name": "Customer ID",
         "rawType": "object",
         "type": "string"
        },
        {
         "name": "Customer Name",
         "rawType": "object",
         "type": "string"
        },
        {
         "name": "Segment",
         "rawType": "object",
         "type": "string"
        },
        {
         "name": "Country",
         "rawType": "object",
         "type": "string"
        },
        {
         "name": "City",
         "rawType": "object",
         "type": "string"
        },
        {
         "name": "State",
         "rawType": "object",
         "type": "string"
        },
        {
         "name": "Postal Code",
         "rawType": "int64",
         "type": "integer"
        },
        {
         "name": "Region",
         "rawType": "object",
         "type": "string"
        },
        {
         "name": "Product ID",
         "rawType": "object",
         "type": "string"
        },
        {
         "name": "Category",
         "rawType": "object",
         "type": "string"
        },
        {
         "name": "Sub-Category",
         "rawType": "object",
         "type": "string"
        },
        {
         "name": "Product Name",
         "rawType": "object",
         "type": "string"
        },
        {
         "name": "Sales",
         "rawType": "float64",
         "type": "float"
        },
        {
         "name": "Quantity",
         "rawType": "int64",
         "type": "integer"
        },
        {
         "name": "Discount",
         "rawType": "float64",
         "type": "float"
        },
        {
         "name": "Profit",
         "rawType": "float64",
         "type": "float"
        }
       ],
       "ref": "c1877ddd-974b-470e-8da6-65ca8912561c",
       "rows": [
        [
         "0",
         "1",
         "CA-2016-152156",
         "11/8/2016",
         "11/11/2016",
         "Second Class",
         "CG-12520",
         "Claire Gute",
         "Consumer",
         "United States",
         "Henderson",
         "Kentucky",
         "42420",
         "South",
         "FUR-BO-10001798",
         "Furniture",
         "Bookcases",
         "Bush Somerset Collection Bookcase",
         "261.96",
         "2",
         "0.0",
         "41.9136"
        ],
        [
         "1",
         "2",
         "CA-2016-152156",
         "11/8/2016",
         "11/11/2016",
         "Second Class",
         "CG-12520",
         "Claire Gute",
         "Consumer",
         "United States",
         "Henderson",
         "Kentucky",
         "42420",
         "South",
         "FUR-CH-10000454",
         "Furniture",
         "Chairs",
         "Hon Deluxe Fabric Upholstered Stacking Chairs, Rounded Back",
         "731.94",
         "3",
         "0.0",
         "219.582"
        ],
        [
         "2",
         "4",
         "US-2015-108966",
         "10/11/2015",
         "10/18/2015",
         "Standard Class",
         "SO-20335",
         "Sean O'Donnell",
         "Consumer",
         "United States",
         "Fort Lauderdale",
         "Florida",
         "33311",
         "South",
         "FUR-TA-10000577",
         "Furniture",
         "Tables",
         "Bretford CR4500 Series Slim Rectangular Table",
         "957.5775",
         "5",
         "0.45",
         "-383.031"
        ],
        [
         "3",
         "6",
         "CA-2014-115812",
         "6/9/2014",
         "6/14/2014",
         "Standard Class",
         "BH-11710",
         "Brosina Hoffman",
         "Consumer",
         "United States",
         "Los Angeles",
         "California",
         "90032",
         "West",
         "FUR-FU-10001487",
         "Furniture",
         "Furnishings",
         "Eldon Expressions Wood and Plastic Desk Accessories, Cherry Wood",
         "48.86",
         "7",
         "0.0",
         "14.1694"
        ],
        [
         "4",
         "11",
         "CA-2014-115812",
         "6/9/2014",
         "6/14/2014",
         "Standard Class",
         "BH-11710",
         "Brosina Hoffman",
         "Consumer",
         "United States",
         "Los Angeles",
         "California",
         "90032",
         "West",
         "FUR-TA-10001539",
         "Furniture",
         "Tables",
         "Chromcraft Rectangular Conference Tables",
         "1706.184",
         "9",
         "0.2",
         "85.3092"
        ],
        [
         "5",
         "24",
         "US-2017-156909",
         "7/16/2017",
         "7/18/2017",
         "Second Class",
         "SF-20065",
         "Sandra Flanagan",
         "Consumer",
         "United States",
         "Philadelphia",
         "Pennsylvania",
         "19140",
         "East",
         "FUR-CH-10002774",
         "Furniture",
         "Chairs",
         "Global Deluxe Stacking Chair, Gray",
         "71.372",
         "2",
         "0.3",
         "-1.0196"
        ],
        [
         "6",
         "25",
         "CA-2015-106320",
         "9/25/2015",
         "9/30/2015",
         "Standard Class",
         "EB-13870",
         "Emily Burns",
         "Consumer",
         "United States",
         "Orem",
         "Utah",
         "84057",
         "West",
         "FUR-TA-10000577",
         "Furniture",
         "Tables",
         "Bretford CR4500 Series Slim Rectangular Table",
         "1044.63",
         "3",
         "0.0",
         "240.2649"
        ],
        [
         "7",
         "28",
         "US-2015-150630",
         "9/17/2015",
         "9/21/2015",
         "Standard Class",
         "TB-21520",
         "Tracy Blumstein",
         "Consumer",
         "United States",
         "Philadelphia",
         "Pennsylvania",
         "19140",
         "East",
         "FUR-BO-10004834",
         "Furniture",
         "Bookcases",
         "Riverside Palais Royal Lawyers Bookcase, Royale Cherry Finish",
         "3083.43",
         "7",
         "0.5",
         "-1665.0522"
        ],
        [
         "8",
         "30",
         "US-2015-150630",
         "9/17/2015",
         "9/21/2015",
         "Standard Class",
         "TB-21520",
         "Tracy Blumstein",
         "Consumer",
         "United States",
         "Philadelphia",
         "Pennsylvania",
         "19140",
         "East",
         "FUR-FU-10004848",
         "Furniture",
         "Furnishings",
         "Howard Miller 13-3/4\" Diameter Brushed Chrome Round Wall Clock",
         "124.2",
         "3",
         "0.2",
         "15.525"
        ],
        [
         "9",
         "37",
         "CA-2016-117590",
         "12/8/2016",
         "12/10/2016",
         "First Class",
         "GH-14485",
         "Gene Hale",
         "Corporate",
         "United States",
         "Richardson",
         "Texas",
         "75080",
         "Central",
         "FUR-FU-10003664",
         "Furniture",
         "Furnishings",
         "Electrix Architect's Clamp-On Swing Arm Lamp, Black",
         "190.92",
         "5",
         "0.6",
         "-147.963"
        ],
        [
         "10",
         "39",
         "CA-2015-117415",
         "12/27/2015",
         "12/31/2015",
         "Standard Class",
         "SN-20710",
         "Steve Nguyen",
         "Home Office",
         "United States",
         "Houston",
         "Texas",
         "77041",
         "Central",
         "FUR-BO-10002545",
         "Furniture",
         "Bookcases",
         "Atlantic Metals Mobile 3-Shelf Bookcases, Custom Colors",
         "532.3992",
         "3",
         "0.32",
         "-46.9764"
        ],
        [
         "11",
         "40",
         "CA-2015-117415",
         "12/27/2015",
         "12/31/2015",
         "Standard Class",
         "SN-20710",
         "Steve Nguyen",
         "Home Office",
         "United States",
         "Houston",
         "Texas",
         "77041",
         "Central",
         "FUR-CH-10004218",
         "Furniture",
         "Chairs",
         "Global Fabric Manager's Chair, Dark Gray",
         "212.058",
         "3",
         "0.3",
         "-15.147"
        ],
        [
         "12",
         "52",
         "CA-2015-115742",
         "4/18/2015",
         "4/22/2015",
         "Standard Class",
         "DP-13000",
         "Darren Powers",
         "Consumer",
         "United States",
         "New Albany",
         "Indiana",
         "47150",
         "Central",
         "FUR-FU-10001706",
         "Furniture",
         "Furnishings",
         "Longer-Life Soft White Bulbs",
         "6.16",
         "2",
         "0.0",
         "2.9568"
        ],
        [
         "13",
         "53",
         "CA-2015-115742",
         "4/18/2015",
         "4/22/2015",
         "Standard Class",
         "DP-13000",
         "Darren Powers",
         "Consumer",
         "United States",
         "New Albany",
         "Indiana",
         "47150",
         "Central",
         "FUR-CH-10003061",
         "Furniture",
         "Chairs",
         "Global Leather Task Chair, Black",
         "89.99",
         "1",
         "0.0",
         "17.0981"
        ],
        [
         "14",
         "58",
         "CA-2016-111682",
         "6/17/2016",
         "6/18/2016",
         "First Class",
         "TB-21055",
         "Ted Butterfield",
         "Consumer",
         "United States",
         "Troy",
         "New York",
         "12180",
         "East",
         "FUR-CH-10003968",
         "Furniture",
         "Chairs",
         "Novimex Turbo Task Chair",
         "319.41",
         "5",
         "0.1",
         "7.098"
        ],
        [
         "15",
         "66",
         "CA-2015-135545",
         "11/24/2015",
         "11/30/2015",
         "Standard Class",
         "KM-16720",
         "Kunst Miller",
         "Consumer",
         "United States",
         "Los Angeles",
         "California",
         "90004",
         "West",
         "FUR-FU-10000397",
         "Furniture",
         "Furnishings",
         "Luxo Economy Swing Arm Lamp",
         "79.76",
         "4",
         "0.0",
         "22.3328"
        ],
        [
         "16",
         "67",
         "US-2015-164175",
         "4/30/2015",
         "5/5/2015",
         "Standard Class",
         "PS-18970",
         "Paul Stevenson",
         "Home Office",
         "United States",
         "Chicago",
         "Illinois",
         "60610",
         "Central",
         "FUR-CH-10001146",
         "Furniture",
         "Chairs",
         "Global Value Mid-Back Manager's Chair, Gray",
         "213.115",
         "5",
         "0.3",
         "-15.2225"
        ],
        [
         "17",
         "73",
         "US-2015-134026",
         "4/26/2015",
         "5/2/2015",
         "Standard Class",
         "JE-15745",
         "Joel Eaton",
         "Consumer",
         "United States",
         "Memphis",
         "Tennessee",
         "38109",
         "South",
         "FUR-CH-10000513",
         "Furniture",
         "Chairs",
         "High-Back Leather Manager's Chair",
         "831.936",
         "8",
         "0.2",
         "-114.3912"
        ],
        [
         "18",
         "74",
         "US-2015-134026",
         "4/26/2015",
         "5/2/2015",
         "Standard Class",
         "JE-15745",
         "Joel Eaton",
         "Consumer",
         "United States",
         "Memphis",
         "Tennessee",
         "38109",
         "South",
         "FUR-FU-10003708",
         "Furniture",
         "Furnishings",
         "Tenex Traditional Chairmats for Medium Pile Carpet, Standard Lip, 36\" x 48\"",
         "97.04",
         "2",
         "0.2",
         "1.213"
        ],
        [
         "19",
         "77",
         "US-2017-118038",
         "12/9/2017",
         "12/11/2017",
         "First Class",
         "KB-16600",
         "Ken Brennan",
         "Corporate",
         "United States",
         "Houston",
         "Texas",
         "77041",
         "Central",
         "FUR-FU-10000260",
         "Furniture",
         "Furnishings",
         "6\" Cubicle Wall Clock, Black",
         "9.708",
         "3",
         "0.6",
         "-5.8248"
        ],
        [
         "20",
         "79",
         "US-2014-147606",
         "11/26/2014",
         "12/1/2014",
         "Second Class",
         "JE-15745",
         "Joel Eaton",
         "Consumer",
         "United States",
         "Houston",
         "Texas",
         "77070",
         "Central",
         "FUR-FU-10003194",
         "Furniture",
         "Furnishings",
         "Eldon Expressions Desk Accessory, Wood Pencil Holder, Oak",
         "19.3",
         "5",
         "0.6",
         "-14.475"
        ],
        [
         "21",
         "86",
         "CA-2017-140088",
         "5/28/2017",
         "5/30/2017",
         "Second Class",
         "PO-18865",
         "Patrick O'Donnell",
         "Consumer",
         "United States",
         "Columbia",
         "South Carolina",
         "29203",
         "South",
         "FUR-CH-10000863",
         "Furniture",
         "Chairs",
         "Novimex Swivel Fabric Task Chair",
         "301.96",
         "2",
         "0.0",
         "33.2156"
        ],
        [
         "22",
         "94",
         "CA-2015-149587",
         "1/31/2015",
         "2/5/2015",
         "Second Class",
         "KB-16315",
         "Karl Braun",
         "Consumer",
         "United States",
         "Minneapolis",
         "Minnesota",
         "55407",
         "Central",
         "FUR-FU-10003799",
         "Furniture",
         "Furnishings",
         "Seth Thomas 13 1/2\" Wall Clock",
         "53.34",
         "3",
         "0.0",
         "16.5354"
        ],
        [
         "23",
         "97",
         "CA-2017-161018",
         "11/9/2017",
         "11/11/2017",
         "Second Class",
         "PN-18775",
         "Parhena Norris",
         "Home Office",
         "United States",
         "New York City",
         "New York",
         "10009",
         "East",
         "FUR-FU-10000629",
         "Furniture",
         "Furnishings",
         "9-3/4 Diameter Round Wall Clock",
         "96.53",
         "7",
         "0.0",
         "40.5426"
        ],
        [
         "24",
         "105",
         "US-2015-156867",
         "11/13/2015",
         "11/17/2015",
         "Standard Class",
         "LC-16870",
         "Lena Cacioppo",
         "Consumer",
         "United States",
         "Aurora",
         "Colorado",
         "80013",
         "West",
         "FUR-FU-10004006",
         "Furniture",
         "Furnishings",
         "Deflect-o DuraMat Lighweight, Studded, Beveled Mat for Low Pile Carpeting",
         "102.36",
         "3",
         "0.2",
         "-3.8385"
        ],
        [
         "25",
         "111",
         "CA-2017-146780",
         "12/25/2017",
         "12/30/2017",
         "Standard Class",
         "CV-12805",
         "Cynthia Voltz",
         "Corporate",
         "United States",
         "New York City",
         "New York",
         "10035",
         "East",
         "FUR-FU-10001934",
         "Furniture",
         "Furnishings",
         "Magnifier Swing Arm Lamp",
         "41.96",
         "2",
         "0.0",
         "10.9096"
        ],
        [
         "26",
         "118",
         "CA-2015-110457",
         "3/2/2015",
         "3/6/2015",
         "Standard Class",
         "DK-13090",
         "Dave Kipp",
         "Consumer",
         "United States",
         "Seattle",
         "Washington",
         "98103",
         "West",
         "FUR-TA-10001768",
         "Furniture",
         "Tables",
         "Hon Racetrack Conference Tables",
         "787.53",
         "3",
         "0.0",
         "165.3813"
        ],
        [
         "27",
         "120",
         "CA-2016-103730",
         "6/12/2016",
         "6/15/2016",
         "First Class",
         "SC-20725",
         "Steven Cartwright",
         "Consumer",
         "United States",
         "Wilmington",
         "Delaware",
         "19805",
         "East",
         "FUR-FU-10002157",
         "Furniture",
         "Furnishings",
         "Artistic Insta-Plaque",
         "47.04",
         "3",
         "0.0",
         "18.3456"
        ],
        [
         "28",
         "125",
         "US-2014-152030",
         "12/26/2014",
         "12/28/2014",
         "Second Class",
         "AD-10180",
         "Alan Dominguez",
         "Home Office",
         "United States",
         "Houston",
         "Texas",
         "77041",
         "Central",
         "FUR-CH-10004063",
         "Furniture",
         "Chairs",
         "Global Deluxe High-Back Manager's Chair",
         "600.558",
         "3",
         "0.3",
         "-8.5794"
        ],
        [
         "29",
         "126",
         "US-2014-134614",
         "9/20/2014",
         "9/25/2014",
         "Standard Class",
         "PF-19165",
         "Philip Fox",
         "Consumer",
         "United States",
         "Bloomington",
         "Illinois",
         "61701",
         "Central",
         "FUR-TA-10004534",
         "Furniture",
         "Tables",
         "Bevis 44 x 96 Conference Tables",
         null,
         "6",
         null,
         "-407.682"
        ],
        [
         "30",
         "129",
         "US-2016-125969",
         "11/6/2016",
         "11/10/2016",
         "Second Class",
         "LS-16975",
         "Lindsay Shagiari",
         "Home Office",
         "United States",
         "Los Angeles",
         "California",
         "90004",
         "West",
         "FUR-CH-10001146",
         "Furniture",
         "Chairs",
         "Global Task Chair, Black",
         "81.424",
         "2",
         "0.2",
         "-9.1602"
        ],
        [
         "31",
         "130",
         "US-2016-125969",
         "11/6/2016",
         "11/10/2016",
         "Second Class",
         "LS-16975",
         "Lindsay Shagiari",
         "Home Office",
         "United States",
         "Los Angeles",
         "California",
         "90004",
         "West",
         "FUR-FU-10003773",
         "Furniture",
         "Furnishings",
         "Eldon Cleatmat Plus Chair Mats for High Pile Carpets",
         "238.56",
         "3",
         "0.0",
         "26.2416"
        ],
        [
         "32",
         "140",
         "CA-2016-145583",
         "10/13/2016",
         "10/19/2016",
         "Standard Class",
         "LC-16885",
         "Lena Creighton",
         "Consumer",
         "United States",
         "Roseville",
         "California",
         "95661",
         "West",
         "FUR-FU-10001706",
         "Furniture",
         "Furnishings",
         "Longer-Life Soft White Bulbs",
         "43.12",
         "14",
         "0.0",
         "20.6976"
        ],
        [
         "33",
         "141",
         "CA-2016-110366",
         "9/5/2016",
         "9/7/2016",
         "Second Class",
         "JD-15895",
         "Jonathan Doherty",
         "Corporate",
         "United States",
         "Philadelphia",
         "Pennsylvania",
         "19140",
         "East",
         "FUR-FU-10004848",
         "Furniture",
         "Furnishings",
         "Howard Miller 13-3/4\" Diameter Brushed Chrome Round Wall Clock",
         "82.8",
         "2",
         "0.2",
         "10.35"
        ],
        [
         "34",
         "147",
         "CA-2014-110072",
         "10/22/2014",
         "10/28/2014",
         "Standard Class",
         "MG-17680",
         "Maureen Gastineau",
         "Home Office",
         "United States",
         "Newark",
         "Ohio",
         "43055",
         "East",
         "FUR-FU-10000521",
         "Furniture",
         "Furnishings",
         "Seth Thomas 14\" Putty-Colored Wall Clock",
         "93.888",
         "4",
         "0.2",
         "12.9096"
        ],
        [
         "35",
         "150",
         "CA-2016-114489",
         "12/5/2016",
         "12/9/2016",
         "Standard Class",
         "JE-16165",
         "Justin Ellison",
         "Corporate",
         "United States",
         "Franklin",
         "Wisconsin",
         "53132",
         "Central",
         "FUR-CH-10000454",
         "Furniture",
         "Chairs",
         "Hon Deluxe Fabric Upholstered Stacking Chairs, Rounded Back",
         "1951.84",
         "8",
         "0.0",
         "585.552"
        ],
        [
         "36",
         "158",
         "CA-2014-104269",
         "3/1/2014",
         "3/6/2014",
         "Second Class",
         "DB-13060",
         "Dave Brooks",
         "Consumer",
         "United States",
         "Seattle",
         "Washington",
         "98115",
         "West",
         "FUR-CH-10004063",
         "Furniture",
         "Chairs",
         "Global Deluxe High-Back Manager's Chair",
         "457.568",
         "2",
         "0.2",
         "51.4764"
        ],
        [
         "37",
         "168",
         "CA-2014-139892",
         "9/8/2014",
         "9/12/2014",
         "Standard Class",
         "BM-11140",
         "Becky Martin",
         "Consumer",
         "United States",
         "San Antonio",
         "Texas",
         "78207",
         "Central",
         "FUR-CH-10004287",
         "Furniture",
         "Chairs",
         "SAFCO Arco Folding Chair",
         "1740.06",
         "9",
         "0.3",
         "-24.858"
        ],
        [
         "38",
         "174",
         "CA-2014-118962",
         "8/5/2014",
         "8/9/2014",
         "Standard Class",
         "CS-12130",
         "Chad Sievert",
         "Consumer",
         "United States",
         "Los Angeles",
         "California",
         "90004",
         "West",
         "FUR-CH-10003817",
         "Furniture",
         "Chairs",
         "Global Value Steno Chair, Gray",
         "340.144",
         "7",
         "0.2",
         "21.259"
        ],
        [
         "39",
         "178",
         "US-2015-101511",
         "11/21/2015",
         "11/23/2015",
         "Second Class",
         "JE-15745",
         "Joel Eaton",
         "Consumer",
         "United States",
         "Newark",
         "Ohio",
         "43055",
         "East",
         "FUR-CH-10004698",
         "Furniture",
         "Chairs",
         "Padded Folding Chairs, Black, 4/Carton",
         "396.802",
         "7",
         "0.3",
         "-11.3372"
        ],
        [
         "40",
         "190",
         "CA-2015-102281",
         "10/12/2015",
         "10/14/2015",
         "First Class",
         "MP-17470",
         "Mark Packer",
         "Home Office",
         "United States",
         "New York City",
         "New York",
         "10035",
         "East",
         "FUR-BO-10002613",
         "Furniture",
         "Bookcases",
         "Atlantic Metals Mobile 4-Shelf Bookcases, Custom Colors",
         "899.136",
         "4",
         "0.2",
         "112.392"
        ],
        [
         "41",
         "193",
         "CA-2015-102281",
         "10/12/2015",
         "10/14/2015",
         "First Class",
         "MP-17470",
         "Mark Packer",
         "Home Office",
         "United States",
         "New York City",
         "New York",
         "10035",
         "East",
         "FUR-BO-10002545",
         "Furniture",
         "Bookcases",
         "Atlantic Metals Mobile 3-Shelf Bookcases, Custom Colors",
         "626.352",
         "3",
         "0.2",
         "46.9764"
        ],
        [
         "42",
         "202",
         "CA-2014-133690",
         "8/3/2014",
         "8/5/2014",
         "First Class",
         "BS-11755",
         "Bruce Stewart",
         "Consumer",
         "United States",
         "Denver",
         "Colorado",
         "80219",
         "West",
         "FUR-TA-10004289",
         "Furniture",
         "Tables",
         "BoxOffice By Design Rectangular and Half-Moon Meeting Room Tables",
         "218.75",
         "2",
         "0.5",
         "-161.875"
        ],
        [
         "43",
         "205",
         "CA-2017-126382",
         "6/3/2017",
         "6/7/2017",
         "Standard Class",
         "HK-14890",
         "Heather Kirkland",
         "Corporate",
         "United States",
         "Franklin",
         "Tennessee",
         "37064",
         "South",
         "FUR-FU-10002960",
         "Furniture",
         "Furnishings",
         "Eldon 200 Class Desk Accessories, Burgundy",
         "35.168",
         "7",
         "0.2",
         "9.6712"
        ],
        [
         "44",
         "214",
         "CA-2015-146262",
         "1/2/2015",
         "1/9/2015",
         "Standard Class",
         "VW-21775",
         "Victoria Wilson",
         "Corporate",
         "United States",
         "Medina",
         "Ohio",
         "44256",
         "East",
         "FUR-BO-10004695",
         "Furniture",
         "Bookcases",
         "O'Sullivan 2-Door Barrister Bookcase in Odessa Pine",
         "452.45",
         "5",
         "0.5",
         "-244.323"
        ],
        [
         "45",
         "223",
         "CA-2015-169397",
         "12/24/2015",
         "12/27/2015",
         "First Class",
         "JB-15925",
         "Joni Blumstein",
         "Consumer",
         "United States",
         "Dublin",
         "Ohio",
         "43017",
         "East",
         "FUR-FU-10000087",
         "Furniture",
         "Furnishings",
         "Executive Impressions 14\" Two-Color Numerals Wall Clock",
         "72.704",
         "4",
         "0.2",
         "19.0848"
        ],
        [
         "46",
         "227",
         "CA-2015-163055",
         "8/9/2015",
         "8/16/2015",
         "Standard Class",
         "DS-13180",
         "David Smith",
         "Corporate",
         "United States",
         "Detroit",
         "Michigan",
         "48227",
         "Central",
         "FUR-TA-10003748",
         "Furniture",
         "Tables",
         "Bevis 36 x 72 Conference Tables",
         "622.45",
         "5",
         "0.0",
         "136.939"
        ],
        [
         "47",
         "229",
         "US-2015-145436",
         "2/28/2015",
         "3/4/2015",
         "Standard Class",
         "VD-21670",
         "Valerie Dominguez",
         "Consumer",
         "United States",
         "Columbia",
         "Tennessee",
         "38401",
         "South",
         "FUR-CH-10004860",
         "Furniture",
         "Chairs",
         "Global Low Back Tilter Chair",
         "161.568",
         "2",
         "0.2",
         "-28.2744"
        ],
        [
         "48",
         "230",
         "US-2015-145436",
         "2/28/2015",
         "3/4/2015",
         "Standard Class",
         "VD-21670",
         "Valerie Dominguez",
         "Consumer",
         "United States",
         "Columbia",
         "Tennessee",
         "38401",
         "South",
         "FUR-CH-10004477",
         "Furniture",
         "Chairs",
         "Global Push Button Manager's Chair, Indigo",
         "389.696",
         "8",
         "0.2",
         "43.8408"
        ],
        [
         "49",
         "232",
         "US-2017-100930",
         "4/7/2017",
         "4/12/2017",
         "Standard Class",
         "CS-12400",
         "Christopher Schild",
         "Home Office",
         "United States",
         "Tampa",
         "Florida",
         "33614",
         "South",
         "FUR-TA-10001705",
         "Furniture",
         "Tables",
         "Bush Advantage Collection Round Conference Table",
         "233.86",
         "2",
         "0.45",
         "-102.048"
        ]
       ],
       "shape": {
        "columns": 21,
        "rows": 2121
       }
      },
      "text/html": [
       "<div>\n",
       "<style scoped>\n",
       "    .dataframe tbody tr th:only-of-type {\n",
       "        vertical-align: middle;\n",
       "    }\n",
       "\n",
       "    .dataframe tbody tr th {\n",
       "        vertical-align: top;\n",
       "    }\n",
       "\n",
       "    .dataframe thead th {\n",
       "        text-align: right;\n",
       "    }\n",
       "</style>\n",
       "<table border=\"1\" class=\"dataframe\">\n",
       "  <thead>\n",
       "    <tr style=\"text-align: right;\">\n",
       "      <th></th>\n",
       "      <th>Row ID</th>\n",
       "      <th>Order ID</th>\n",
       "      <th>Order Date</th>\n",
       "      <th>Ship Date</th>\n",
       "      <th>Ship Mode</th>\n",
       "      <th>Customer ID</th>\n",
       "      <th>Customer Name</th>\n",
       "      <th>Segment</th>\n",
       "      <th>Country</th>\n",
       "      <th>City</th>\n",
       "      <th>...</th>\n",
       "      <th>Postal Code</th>\n",
       "      <th>Region</th>\n",
       "      <th>Product ID</th>\n",
       "      <th>Category</th>\n",
       "      <th>Sub-Category</th>\n",
       "      <th>Product Name</th>\n",
       "      <th>Sales</th>\n",
       "      <th>Quantity</th>\n",
       "      <th>Discount</th>\n",
       "      <th>Profit</th>\n",
       "    </tr>\n",
       "  </thead>\n",
       "  <tbody>\n",
       "    <tr>\n",
       "      <th>0</th>\n",
       "      <td>1</td>\n",
       "      <td>CA-2016-152156</td>\n",
       "      <td>11/8/2016</td>\n",
       "      <td>11/11/2016</td>\n",
       "      <td>Second Class</td>\n",
       "      <td>CG-12520</td>\n",
       "      <td>Claire Gute</td>\n",
       "      <td>Consumer</td>\n",
       "      <td>United States</td>\n",
       "      <td>Henderson</td>\n",
       "      <td>...</td>\n",
       "      <td>42420</td>\n",
       "      <td>South</td>\n",
       "      <td>FUR-BO-10001798</td>\n",
       "      <td>Furniture</td>\n",
       "      <td>Bookcases</td>\n",
       "      <td>Bush Somerset Collection Bookcase</td>\n",
       "      <td>261.9600</td>\n",
       "      <td>2</td>\n",
       "      <td>0.00</td>\n",
       "      <td>41.9136</td>\n",
       "    </tr>\n",
       "    <tr>\n",
       "      <th>1</th>\n",
       "      <td>2</td>\n",
       "      <td>CA-2016-152156</td>\n",
       "      <td>11/8/2016</td>\n",
       "      <td>11/11/2016</td>\n",
       "      <td>Second Class</td>\n",
       "      <td>CG-12520</td>\n",
       "      <td>Claire Gute</td>\n",
       "      <td>Consumer</td>\n",
       "      <td>United States</td>\n",
       "      <td>Henderson</td>\n",
       "      <td>...</td>\n",
       "      <td>42420</td>\n",
       "      <td>South</td>\n",
       "      <td>FUR-CH-10000454</td>\n",
       "      <td>Furniture</td>\n",
       "      <td>Chairs</td>\n",
       "      <td>Hon Deluxe Fabric Upholstered Stacking Chairs,...</td>\n",
       "      <td>731.9400</td>\n",
       "      <td>3</td>\n",
       "      <td>0.00</td>\n",
       "      <td>219.5820</td>\n",
       "    </tr>\n",
       "    <tr>\n",
       "      <th>2</th>\n",
       "      <td>4</td>\n",
       "      <td>US-2015-108966</td>\n",
       "      <td>10/11/2015</td>\n",
       "      <td>10/18/2015</td>\n",
       "      <td>Standard Class</td>\n",
       "      <td>SO-20335</td>\n",
       "      <td>Sean O'Donnell</td>\n",
       "      <td>Consumer</td>\n",
       "      <td>United States</td>\n",
       "      <td>Fort Lauderdale</td>\n",
       "      <td>...</td>\n",
       "      <td>33311</td>\n",
       "      <td>South</td>\n",
       "      <td>FUR-TA-10000577</td>\n",
       "      <td>Furniture</td>\n",
       "      <td>Tables</td>\n",
       "      <td>Bretford CR4500 Series Slim Rectangular Table</td>\n",
       "      <td>957.5775</td>\n",
       "      <td>5</td>\n",
       "      <td>0.45</td>\n",
       "      <td>-383.0310</td>\n",
       "    </tr>\n",
       "    <tr>\n",
       "      <th>3</th>\n",
       "      <td>6</td>\n",
       "      <td>CA-2014-115812</td>\n",
       "      <td>6/9/2014</td>\n",
       "      <td>6/14/2014</td>\n",
       "      <td>Standard Class</td>\n",
       "      <td>BH-11710</td>\n",
       "      <td>Brosina Hoffman</td>\n",
       "      <td>Consumer</td>\n",
       "      <td>United States</td>\n",
       "      <td>Los Angeles</td>\n",
       "      <td>...</td>\n",
       "      <td>90032</td>\n",
       "      <td>West</td>\n",
       "      <td>FUR-FU-10001487</td>\n",
       "      <td>Furniture</td>\n",
       "      <td>Furnishings</td>\n",
       "      <td>Eldon Expressions Wood and Plastic Desk Access...</td>\n",
       "      <td>48.8600</td>\n",
       "      <td>7</td>\n",
       "      <td>0.00</td>\n",
       "      <td>14.1694</td>\n",
       "    </tr>\n",
       "    <tr>\n",
       "      <th>4</th>\n",
       "      <td>11</td>\n",
       "      <td>CA-2014-115812</td>\n",
       "      <td>6/9/2014</td>\n",
       "      <td>6/14/2014</td>\n",
       "      <td>Standard Class</td>\n",
       "      <td>BH-11710</td>\n",
       "      <td>Brosina Hoffman</td>\n",
       "      <td>Consumer</td>\n",
       "      <td>United States</td>\n",
       "      <td>Los Angeles</td>\n",
       "      <td>...</td>\n",
       "      <td>90032</td>\n",
       "      <td>West</td>\n",
       "      <td>FUR-TA-10001539</td>\n",
       "      <td>Furniture</td>\n",
       "      <td>Tables</td>\n",
       "      <td>Chromcraft Rectangular Conference Tables</td>\n",
       "      <td>1706.1840</td>\n",
       "      <td>9</td>\n",
       "      <td>0.20</td>\n",
       "      <td>85.3092</td>\n",
       "    </tr>\n",
       "    <tr>\n",
       "      <th>...</th>\n",
       "      <td>...</td>\n",
       "      <td>...</td>\n",
       "      <td>...</td>\n",
       "      <td>...</td>\n",
       "      <td>...</td>\n",
       "      <td>...</td>\n",
       "      <td>...</td>\n",
       "      <td>...</td>\n",
       "      <td>...</td>\n",
       "      <td>...</td>\n",
       "      <td>...</td>\n",
       "      <td>...</td>\n",
       "      <td>...</td>\n",
       "      <td>...</td>\n",
       "      <td>...</td>\n",
       "      <td>...</td>\n",
       "      <td>...</td>\n",
       "      <td>...</td>\n",
       "      <td>...</td>\n",
       "      <td>...</td>\n",
       "      <td>...</td>\n",
       "    </tr>\n",
       "    <tr>\n",
       "      <th>2116</th>\n",
       "      <td>9963</td>\n",
       "      <td>CA-2015-168088</td>\n",
       "      <td>3/19/2015</td>\n",
       "      <td>3/22/2015</td>\n",
       "      <td>First Class</td>\n",
       "      <td>CM-12655</td>\n",
       "      <td>Corinna Mitchell</td>\n",
       "      <td>Home Office</td>\n",
       "      <td>United States</td>\n",
       "      <td>Houston</td>\n",
       "      <td>...</td>\n",
       "      <td>77041</td>\n",
       "      <td>Central</td>\n",
       "      <td>FUR-BO-10004218</td>\n",
       "      <td>Furniture</td>\n",
       "      <td>Bookcases</td>\n",
       "      <td>Bush Heritage Pine Collection 5-Shelf Bookcase...</td>\n",
       "      <td>383.4656</td>\n",
       "      <td>4</td>\n",
       "      <td>0.32</td>\n",
       "      <td>-67.6704</td>\n",
       "    </tr>\n",
       "    <tr>\n",
       "      <th>2117</th>\n",
       "      <td>9965</td>\n",
       "      <td>CA-2016-146374</td>\n",
       "      <td>12/5/2016</td>\n",
       "      <td>12/10/2016</td>\n",
       "      <td>Second Class</td>\n",
       "      <td>HE-14800</td>\n",
       "      <td>Harold Engle</td>\n",
       "      <td>Corporate</td>\n",
       "      <td>United States</td>\n",
       "      <td>Newark</td>\n",
       "      <td>...</td>\n",
       "      <td>19711</td>\n",
       "      <td>East</td>\n",
       "      <td>FUR-FU-10002671</td>\n",
       "      <td>Furniture</td>\n",
       "      <td>Furnishings</td>\n",
       "      <td>Electrix 20W Halogen Replacement Bulb for Zoom...</td>\n",
       "      <td>13.4000</td>\n",
       "      <td>1</td>\n",
       "      <td>0.00</td>\n",
       "      <td>6.4320</td>\n",
       "    </tr>\n",
       "    <tr>\n",
       "      <th>2118</th>\n",
       "      <td>9981</td>\n",
       "      <td>US-2015-151435</td>\n",
       "      <td>9/6/2015</td>\n",
       "      <td>9/9/2015</td>\n",
       "      <td>Second Class</td>\n",
       "      <td>SW-20455</td>\n",
       "      <td>Shaun Weien</td>\n",
       "      <td>Consumer</td>\n",
       "      <td>United States</td>\n",
       "      <td>Lafayette</td>\n",
       "      <td>...</td>\n",
       "      <td>70506</td>\n",
       "      <td>South</td>\n",
       "      <td>FUR-TA-10001039</td>\n",
       "      <td>Furniture</td>\n",
       "      <td>Tables</td>\n",
       "      <td>KI Adjustable-Height Table</td>\n",
       "      <td>85.9800</td>\n",
       "      <td>1</td>\n",
       "      <td>0.00</td>\n",
       "      <td>22.3548</td>\n",
       "    </tr>\n",
       "    <tr>\n",
       "      <th>2119</th>\n",
       "      <td>9990</td>\n",
       "      <td>CA-2014-110422</td>\n",
       "      <td>1/21/2014</td>\n",
       "      <td>1/23/2014</td>\n",
       "      <td>Second Class</td>\n",
       "      <td>TB-21400</td>\n",
       "      <td>Tom Boeckenhauer</td>\n",
       "      <td>Consumer</td>\n",
       "      <td>United States</td>\n",
       "      <td>Miami</td>\n",
       "      <td>...</td>\n",
       "      <td>33180</td>\n",
       "      <td>South</td>\n",
       "      <td>FUR-FU-10001889</td>\n",
       "      <td>Furniture</td>\n",
       "      <td>Furnishings</td>\n",
       "      <td>Ultra Door Pull Handle</td>\n",
       "      <td>25.2480</td>\n",
       "      <td>3</td>\n",
       "      <td>0.20</td>\n",
       "      <td>4.1028</td>\n",
       "    </tr>\n",
       "    <tr>\n",
       "      <th>2120</th>\n",
       "      <td>9991</td>\n",
       "      <td>CA-2017-121258</td>\n",
       "      <td>2/26/2017</td>\n",
       "      <td>3/3/2017</td>\n",
       "      <td>Standard Class</td>\n",
       "      <td>DB-13060</td>\n",
       "      <td>Dave Brooks</td>\n",
       "      <td>Consumer</td>\n",
       "      <td>United States</td>\n",
       "      <td>Costa Mesa</td>\n",
       "      <td>...</td>\n",
       "      <td>92627</td>\n",
       "      <td>West</td>\n",
       "      <td>FUR-FU-10000747</td>\n",
       "      <td>Furniture</td>\n",
       "      <td>Furnishings</td>\n",
       "      <td>Tenex B1-RE Series Chair Mats for Low Pile Car...</td>\n",
       "      <td>91.9600</td>\n",
       "      <td>2</td>\n",
       "      <td>0.00</td>\n",
       "      <td>15.6332</td>\n",
       "    </tr>\n",
       "  </tbody>\n",
       "</table>\n",
       "<p>2121 rows × 21 columns</p>\n",
       "</div>"
      ],
      "text/plain": [
       "      Row ID        Order ID  Order Date   Ship Date       Ship Mode  \\\n",
       "0          1  CA-2016-152156   11/8/2016  11/11/2016    Second Class   \n",
       "1          2  CA-2016-152156   11/8/2016  11/11/2016    Second Class   \n",
       "2          4  US-2015-108966  10/11/2015  10/18/2015  Standard Class   \n",
       "3          6  CA-2014-115812    6/9/2014   6/14/2014  Standard Class   \n",
       "4         11  CA-2014-115812    6/9/2014   6/14/2014  Standard Class   \n",
       "...      ...             ...         ...         ...             ...   \n",
       "2116    9963  CA-2015-168088   3/19/2015   3/22/2015     First Class   \n",
       "2117    9965  CA-2016-146374   12/5/2016  12/10/2016    Second Class   \n",
       "2118    9981  US-2015-151435    9/6/2015    9/9/2015    Second Class   \n",
       "2119    9990  CA-2014-110422   1/21/2014   1/23/2014    Second Class   \n",
       "2120    9991  CA-2017-121258   2/26/2017    3/3/2017  Standard Class   \n",
       "\n",
       "     Customer ID     Customer Name      Segment        Country  \\\n",
       "0       CG-12520       Claire Gute     Consumer  United States   \n",
       "1       CG-12520       Claire Gute     Consumer  United States   \n",
       "2       SO-20335    Sean O'Donnell     Consumer  United States   \n",
       "3       BH-11710   Brosina Hoffman     Consumer  United States   \n",
       "4       BH-11710   Brosina Hoffman     Consumer  United States   \n",
       "...          ...               ...          ...            ...   \n",
       "2116    CM-12655  Corinna Mitchell  Home Office  United States   \n",
       "2117    HE-14800      Harold Engle    Corporate  United States   \n",
       "2118    SW-20455       Shaun Weien     Consumer  United States   \n",
       "2119    TB-21400  Tom Boeckenhauer     Consumer  United States   \n",
       "2120    DB-13060       Dave Brooks     Consumer  United States   \n",
       "\n",
       "                 City  ... Postal Code   Region       Product ID   Category  \\\n",
       "0           Henderson  ...       42420    South  FUR-BO-10001798  Furniture   \n",
       "1           Henderson  ...       42420    South  FUR-CH-10000454  Furniture   \n",
       "2     Fort Lauderdale  ...       33311    South  FUR-TA-10000577  Furniture   \n",
       "3         Los Angeles  ...       90032     West  FUR-FU-10001487  Furniture   \n",
       "4         Los Angeles  ...       90032     West  FUR-TA-10001539  Furniture   \n",
       "...               ...  ...         ...      ...              ...        ...   \n",
       "2116          Houston  ...       77041  Central  FUR-BO-10004218  Furniture   \n",
       "2117           Newark  ...       19711     East  FUR-FU-10002671  Furniture   \n",
       "2118        Lafayette  ...       70506    South  FUR-TA-10001039  Furniture   \n",
       "2119            Miami  ...       33180    South  FUR-FU-10001889  Furniture   \n",
       "2120       Costa Mesa  ...       92627     West  FUR-FU-10000747  Furniture   \n",
       "\n",
       "     Sub-Category                                       Product Name  \\\n",
       "0       Bookcases                  Bush Somerset Collection Bookcase   \n",
       "1          Chairs  Hon Deluxe Fabric Upholstered Stacking Chairs,...   \n",
       "2          Tables      Bretford CR4500 Series Slim Rectangular Table   \n",
       "3     Furnishings  Eldon Expressions Wood and Plastic Desk Access...   \n",
       "4          Tables           Chromcraft Rectangular Conference Tables   \n",
       "...           ...                                                ...   \n",
       "2116    Bookcases  Bush Heritage Pine Collection 5-Shelf Bookcase...   \n",
       "2117  Furnishings  Electrix 20W Halogen Replacement Bulb for Zoom...   \n",
       "2118       Tables                         KI Adjustable-Height Table   \n",
       "2119  Furnishings                             Ultra Door Pull Handle   \n",
       "2120  Furnishings  Tenex B1-RE Series Chair Mats for Low Pile Car...   \n",
       "\n",
       "          Sales  Quantity  Discount    Profit  \n",
       "0      261.9600         2      0.00   41.9136  \n",
       "1      731.9400         3      0.00  219.5820  \n",
       "2      957.5775         5      0.45 -383.0310  \n",
       "3       48.8600         7      0.00   14.1694  \n",
       "4     1706.1840         9      0.20   85.3092  \n",
       "...         ...       ...       ...       ...  \n",
       "2116   383.4656         4      0.32  -67.6704  \n",
       "2117    13.4000         1      0.00    6.4320  \n",
       "2118    85.9800         1      0.00   22.3548  \n",
       "2119    25.2480         3      0.20    4.1028  \n",
       "2120    91.9600         2      0.00   15.6332  \n",
       "\n",
       "[2121 rows x 21 columns]"
      ]
     },
     "execution_count": 30,
     "metadata": {},
     "output_type": "execute_result"
    }
   ],
   "source": [
    "df = pd.read_csv('data/quest.csv')\n",
    "df"
   ]
  },
  {
   "cell_type": "markdown",
   "metadata": {},
   "source": [
    "## Checking the data to see datatyppes and if there are any null values."
   ]
  },
  {
   "cell_type": "code",
   "execution_count": 31,
   "metadata": {},
   "outputs": [
    {
     "name": "stdout",
     "output_type": "stream",
     "text": [
      "<class 'pandas.core.frame.DataFrame'>\n",
      "RangeIndex: 2121 entries, 0 to 2120\n",
      "Data columns (total 21 columns):\n",
      " #   Column         Non-Null Count  Dtype  \n",
      "---  ------         --------------  -----  \n",
      " 0   Row ID         2121 non-null   int64  \n",
      " 1   Order ID       2121 non-null   object \n",
      " 2   Order Date     2121 non-null   object \n",
      " 3   Ship Date      2121 non-null   object \n",
      " 4   Ship Mode      2121 non-null   object \n",
      " 5   Customer ID    2121 non-null   object \n",
      " 6   Customer Name  2121 non-null   object \n",
      " 7   Segment        2121 non-null   object \n",
      " 8   Country        2121 non-null   object \n",
      " 9   City           2121 non-null   object \n",
      " 10  State          2121 non-null   object \n",
      " 11  Postal Code    2121 non-null   int64  \n",
      " 12  Region         2121 non-null   object \n",
      " 13  Product ID     2121 non-null   object \n",
      " 14  Category       2121 non-null   object \n",
      " 15  Sub-Category   2121 non-null   object \n",
      " 16  Product Name   2121 non-null   object \n",
      " 17  Sales          2015 non-null   float64\n",
      " 18  Quantity       2121 non-null   int64  \n",
      " 19  Discount       2015 non-null   float64\n",
      " 20  Profit         2121 non-null   float64\n",
      "dtypes: float64(3), int64(3), object(15)\n",
      "memory usage: 348.1+ KB\n"
     ]
    }
   ],
   "source": [
    "df.info()"
   ]
  },
  {
   "cell_type": "markdown",
   "metadata": {},
   "source": [
    "As we can see two columns have missing values<br>\n",
    "So we have to handle missing data but which approach would we take?<br>\n",
    "since the columns with missing values are 'floats' and are also of such nature being the record of 'Sales' and 'Discount' we are going to drop the row that have the missing valaues. "
   ]
  },
  {
   "cell_type": "code",
   "execution_count": 32,
   "metadata": {},
   "outputs": [
    {
     "data": {
      "application/vnd.microsoft.datawrangler.viewer.v0+json": {
       "columns": [
        {
         "name": "index",
         "rawType": "object",
         "type": "string"
        },
        {
         "name": "0",
         "rawType": "int64",
         "type": "integer"
        }
       ],
       "ref": "73a2e437-3aa9-465f-b7ba-44695923c8ca",
       "rows": [
        [
         "Row ID",
         "0"
        ],
        [
         "Order ID",
         "0"
        ],
        [
         "Order Date",
         "0"
        ],
        [
         "Ship Date",
         "0"
        ],
        [
         "Ship Mode",
         "0"
        ],
        [
         "Customer ID",
         "0"
        ],
        [
         "Customer Name",
         "0"
        ],
        [
         "Segment",
         "0"
        ],
        [
         "Country",
         "0"
        ],
        [
         "City",
         "0"
        ],
        [
         "State",
         "0"
        ],
        [
         "Postal Code",
         "0"
        ],
        [
         "Region",
         "0"
        ],
        [
         "Product ID",
         "0"
        ],
        [
         "Category",
         "0"
        ],
        [
         "Sub-Category",
         "0"
        ],
        [
         "Product Name",
         "0"
        ],
        [
         "Sales",
         "106"
        ],
        [
         "Quantity",
         "0"
        ],
        [
         "Discount",
         "106"
        ],
        [
         "Profit",
         "0"
        ]
       ],
       "shape": {
        "columns": 1,
        "rows": 21
       }
      },
      "text/plain": [
       "Row ID             0\n",
       "Order ID           0\n",
       "Order Date         0\n",
       "Ship Date          0\n",
       "Ship Mode          0\n",
       "Customer ID        0\n",
       "Customer Name      0\n",
       "Segment            0\n",
       "Country            0\n",
       "City               0\n",
       "State              0\n",
       "Postal Code        0\n",
       "Region             0\n",
       "Product ID         0\n",
       "Category           0\n",
       "Sub-Category       0\n",
       "Product Name       0\n",
       "Sales            106\n",
       "Quantity           0\n",
       "Discount         106\n",
       "Profit             0\n",
       "dtype: int64"
      ]
     },
     "execution_count": 32,
     "metadata": {},
     "output_type": "execute_result"
    }
   ],
   "source": [
    "df.isna().sum()"
   ]
  },
  {
   "cell_type": "code",
   "execution_count": 33,
   "metadata": {},
   "outputs": [
    {
     "name": "stdout",
     "output_type": "stream",
     "text": [
      "<class 'pandas.core.frame.DataFrame'>\n",
      "Index: 2015 entries, 0 to 2120\n",
      "Data columns (total 21 columns):\n",
      " #   Column         Non-Null Count  Dtype  \n",
      "---  ------         --------------  -----  \n",
      " 0   Row ID         2015 non-null   int64  \n",
      " 1   Order ID       2015 non-null   object \n",
      " 2   Order Date     2015 non-null   object \n",
      " 3   Ship Date      2015 non-null   object \n",
      " 4   Ship Mode      2015 non-null   object \n",
      " 5   Customer ID    2015 non-null   object \n",
      " 6   Customer Name  2015 non-null   object \n",
      " 7   Segment        2015 non-null   object \n",
      " 8   Country        2015 non-null   object \n",
      " 9   City           2015 non-null   object \n",
      " 10  State          2015 non-null   object \n",
      " 11  Postal Code    2015 non-null   int64  \n",
      " 12  Region         2015 non-null   object \n",
      " 13  Product ID     2015 non-null   object \n",
      " 14  Category       2015 non-null   object \n",
      " 15  Sub-Category   2015 non-null   object \n",
      " 16  Product Name   2015 non-null   object \n",
      " 17  Sales          2015 non-null   float64\n",
      " 18  Quantity       2015 non-null   int64  \n",
      " 19  Discount       2015 non-null   float64\n",
      " 20  Profit         2015 non-null   float64\n",
      "dtypes: float64(3), int64(3), object(15)\n",
      "memory usage: 346.3+ KB\n"
     ]
    }
   ],
   "source": [
    "nan_columns = ['Sales', 'Discount']\n",
    "\n",
    "df = df.dropna()\n",
    "df.info()"
   ]
  },
  {
   "cell_type": "code",
   "execution_count": 34,
   "metadata": {},
   "outputs": [
    {
     "data": {
      "application/vnd.microsoft.datawrangler.viewer.v0+json": {
       "columns": [
        {
         "name": "index",
         "rawType": "object",
         "type": "string"
        },
        {
         "name": "0",
         "rawType": "int64",
         "type": "integer"
        }
       ],
       "ref": "4d2f3378-c5ba-47b0-8405-254eb4225871",
       "rows": [
        [
         "Row ID",
         "0"
        ],
        [
         "Order ID",
         "0"
        ],
        [
         "Order Date",
         "0"
        ],
        [
         "Ship Date",
         "0"
        ],
        [
         "Ship Mode",
         "0"
        ],
        [
         "Customer ID",
         "0"
        ],
        [
         "Customer Name",
         "0"
        ],
        [
         "Segment",
         "0"
        ],
        [
         "Country",
         "0"
        ],
        [
         "City",
         "0"
        ],
        [
         "State",
         "0"
        ],
        [
         "Postal Code",
         "0"
        ],
        [
         "Region",
         "0"
        ],
        [
         "Product ID",
         "0"
        ],
        [
         "Category",
         "0"
        ],
        [
         "Sub-Category",
         "0"
        ],
        [
         "Product Name",
         "0"
        ],
        [
         "Sales",
         "0"
        ],
        [
         "Quantity",
         "0"
        ],
        [
         "Discount",
         "0"
        ],
        [
         "Profit",
         "0"
        ]
       ],
       "shape": {
        "columns": 1,
        "rows": 21
       }
      },
      "text/plain": [
       "Row ID           0\n",
       "Order ID         0\n",
       "Order Date       0\n",
       "Ship Date        0\n",
       "Ship Mode        0\n",
       "Customer ID      0\n",
       "Customer Name    0\n",
       "Segment          0\n",
       "Country          0\n",
       "City             0\n",
       "State            0\n",
       "Postal Code      0\n",
       "Region           0\n",
       "Product ID       0\n",
       "Category         0\n",
       "Sub-Category     0\n",
       "Product Name     0\n",
       "Sales            0\n",
       "Quantity         0\n",
       "Discount         0\n",
       "Profit           0\n",
       "dtype: int64"
      ]
     },
     "execution_count": 34,
     "metadata": {},
     "output_type": "execute_result"
    }
   ],
   "source": [
    "df.isna().sum()"
   ]
  },
  {
   "cell_type": "markdown",
   "metadata": {},
   "source": [
    "# As we can see all the columns are now the same with no missing values."
   ]
  },
  {
   "cell_type": "markdown",
   "metadata": {},
   "source": [
    "Analyse the trend of total sales and profits over time. "
   ]
  },
  {
   "cell_type": "code",
   "execution_count": 35,
   "metadata": {},
   "outputs": [
    {
     "data": {
      "application/vnd.plotly.v1+json": {
       "config": {
        "plotlyServerURL": "https://plot.ly"
       },
       "data": [
        {
         "hovertemplate": "variable=Sales<br>Order Date=%{x}<br>value=%{y}<extra></extra>",
         "legendgroup": "Sales",
         "line": {
          "color": "#636efa",
          "dash": "solid"
         },
         "marker": {
          "symbol": "circle"
         },
         "mode": "lines",
         "name": "Sales",
         "showlegend": true,
         "type": "scattergl",
         "x": [
          "9/9/2017",
          "9/9/2016",
          "9/9/2014",
          "9/8/2017",
          "9/8/2016",
          "9/8/2015",
          "9/8/2014",
          "9/7/2017",
          "9/7/2015",
          "9/7/2014",
          "9/6/2016",
          "9/6/2015",
          "9/6/2014",
          "9/5/2016",
          "9/5/2015",
          "9/5/2014",
          "9/4/2017",
          "9/4/2016",
          "9/30/2016",
          "9/30/2014",
          "9/3/2017",
          "9/3/2016",
          "9/3/2015",
          "9/29/2017",
          "9/29/2014",
          "9/28/2017",
          "9/28/2014",
          "9/27/2016",
          "9/27/2015",
          "9/27/2014",
          "9/26/2017",
          "9/26/2016",
          "9/26/2014",
          "9/25/2017",
          "9/25/2016",
          "9/25/2015",
          "9/25/2014",
          "9/24/2017",
          "9/24/2016",
          "9/24/2015",
          "9/23/2017",
          "9/23/2016",
          "9/23/2014",
          "9/22/2017",
          "9/22/2016",
          "9/22/2015",
          "9/22/2014",
          "9/21/2015",
          "9/21/2014",
          "9/20/2017",
          "9/20/2016",
          "9/20/2014",
          "9/2/2017",
          "9/2/2016",
          "9/2/2014",
          "9/19/2017",
          "9/19/2016",
          "9/19/2015",
          "9/19/2014",
          "9/18/2017",
          "9/18/2016",
          "9/18/2015",
          "9/17/2017",
          "9/17/2016",
          "9/17/2015",
          "9/17/2014",
          "9/16/2017",
          "9/16/2016",
          "9/15/2017",
          "9/15/2016",
          "9/15/2015",
          "9/15/2014",
          "9/14/2017",
          "9/14/2015",
          "9/14/2014",
          "9/13/2016",
          "9/13/2015",
          "9/13/2014",
          "9/12/2016",
          "9/12/2014",
          "9/11/2017",
          "9/11/2015",
          "9/11/2014",
          "9/10/2017",
          "9/10/2016",
          "9/10/2015",
          "9/10/2014",
          "9/1/2017",
          "9/1/2016",
          "9/1/2015",
          "8/9/2015",
          "8/8/2015",
          "8/8/2014",
          "8/7/2017",
          "8/7/2015",
          "8/6/2017",
          "8/6/2015",
          "8/5/2015",
          "8/5/2014",
          "8/4/2016",
          "8/31/2017",
          "8/31/2015",
          "8/30/2016",
          "8/3/2017",
          "8/3/2014",
          "8/29/2017",
          "8/29/2016",
          "8/29/2014",
          "8/28/2017",
          "8/28/2016",
          "8/28/2015",
          "8/27/2017",
          "8/27/2016",
          "8/27/2014",
          "8/26/2017",
          "8/26/2016",
          "8/25/2017",
          "8/25/2015",
          "8/25/2014",
          "8/24/2015",
          "8/24/2014",
          "8/23/2017",
          "8/23/2016",
          "8/23/2014",
          "8/22/2017",
          "8/22/2016",
          "8/21/2017",
          "8/21/2016",
          "8/21/2015",
          "8/20/2014",
          "8/2/2015",
          "8/19/2014",
          "8/18/2017",
          "8/18/2016",
          "8/17/2017",
          "8/16/2016",
          "8/16/2015",
          "8/16/2014",
          "8/15/2016",
          "8/15/2015",
          "8/15/2014",
          "8/14/2017",
          "8/13/2017",
          "8/13/2016",
          "8/13/2015",
          "8/12/2017",
          "8/12/2016",
          "8/12/2014",
          "8/11/2015",
          "8/11/2014",
          "8/10/2017",
          "8/1/2016",
          "8/1/2015",
          "8/1/2014",
          "7/9/2017",
          "7/9/2016",
          "7/9/2015",
          "7/9/2014",
          "7/8/2017",
          "7/8/2016",
          "7/8/2014",
          "7/7/2017",
          "7/7/2016",
          "7/7/2014",
          "7/6/2017",
          "7/6/2015",
          "7/6/2014",
          "7/5/2017",
          "7/5/2015",
          "7/5/2014",
          "7/4/2016",
          "7/31/2017",
          "7/31/2016",
          "7/31/2015",
          "7/30/2015",
          "7/30/2014",
          "7/3/2017",
          "7/3/2015",
          "7/29/2017",
          "7/28/2016",
          "7/28/2014",
          "7/27/2017",
          "7/26/2015",
          "7/26/2014",
          "7/25/2017",
          "7/25/2016",
          "7/25/2015",
          "7/25/2014",
          "7/24/2016",
          "7/24/2015",
          "7/23/2015",
          "7/22/2017",
          "7/22/2016",
          "7/22/2014",
          "7/21/2017",
          "7/21/2016",
          "7/21/2014",
          "7/20/2017",
          "7/20/2015",
          "7/20/2014",
          "7/2/2016",
          "7/2/2015",
          "7/19/2016",
          "7/19/2014",
          "7/18/2017",
          "7/18/2016",
          "7/18/2014",
          "7/17/2017",
          "7/17/2016",
          "7/17/2015",
          "7/16/2017",
          "7/16/2016",
          "7/16/2015",
          "7/15/2017",
          "7/15/2016",
          "7/14/2017",
          "7/14/2016",
          "7/14/2015",
          "7/14/2014",
          "7/13/2017",
          "7/13/2015",
          "7/13/2014",
          "7/12/2015",
          "7/12/2014",
          "7/11/2015",
          "7/11/2014",
          "7/10/2017",
          "6/9/2017",
          "6/9/2016",
          "6/9/2015",
          "6/9/2014",
          "6/8/2017",
          "6/8/2015",
          "6/8/2014",
          "6/7/2014",
          "6/6/2017",
          "6/6/2016",
          "6/6/2014",
          "6/5/2015",
          "6/4/2017",
          "6/4/2016",
          "6/4/2015",
          "6/4/2014",
          "6/30/2017",
          "6/30/2016",
          "6/3/2017",
          "6/3/2016",
          "6/3/2014",
          "6/29/2017",
          "6/29/2015",
          "6/28/2016",
          "6/28/2015",
          "6/28/2014",
          "6/27/2017",
          "6/27/2016",
          "6/27/2014",
          "6/26/2017",
          "6/26/2016",
          "6/26/2015",
          "6/25/2017",
          "6/25/2016",
          "6/25/2015",
          "6/25/2014",
          "6/24/2017",
          "6/24/2014",
          "6/22/2017",
          "6/22/2015",
          "6/22/2014",
          "6/21/2017",
          "6/21/2014",
          "6/20/2016",
          "6/20/2015",
          "6/20/2014",
          "6/2/2014",
          "6/19/2017",
          "6/19/2015",
          "6/18/2017",
          "6/18/2015",
          "6/17/2017",
          "6/17/2016",
          "6/17/2014",
          "6/16/2017",
          "6/16/2015",
          "6/16/2014",
          "6/15/2017",
          "6/15/2015",
          "6/15/2014",
          "6/14/2016",
          "6/14/2015",
          "6/14/2014",
          "6/13/2017",
          "6/12/2017",
          "6/12/2016",
          "6/12/2015",
          "6/11/2017",
          "6/11/2016",
          "6/11/2015",
          "6/10/2017",
          "6/10/2016",
          "6/1/2017",
          "6/1/2014",
          "5/9/2017",
          "5/8/2017",
          "5/8/2016",
          "5/8/2015",
          "5/7/2017",
          "5/7/2016",
          "5/7/2015",
          "5/7/2014",
          "5/6/2017",
          "5/6/2016",
          "5/5/2017",
          "5/5/2016",
          "5/5/2014",
          "5/4/2017",
          "5/4/2015",
          "5/4/2014",
          "5/31/2016",
          "5/31/2015",
          "5/30/2017",
          "5/30/2016",
          "5/30/2014",
          "5/3/2017",
          "5/3/2016",
          "5/3/2015",
          "5/29/2017",
          "5/29/2016",
          "5/29/2015",
          "5/28/2017",
          "5/28/2016",
          "5/27/2017",
          "5/27/2016",
          "5/27/2014",
          "5/26/2016",
          "5/26/2015",
          "5/26/2014",
          "5/25/2017",
          "5/25/2016",
          "5/25/2015",
          "5/25/2014",
          "5/24/2015",
          "5/23/2017",
          "5/23/2016",
          "5/23/2015",
          "5/22/2017",
          "5/22/2016",
          "5/21/2017",
          "5/21/2014",
          "5/20/2017",
          "5/20/2016",
          "5/20/2015",
          "5/20/2014",
          "5/2/2017",
          "5/2/2016",
          "5/19/2017",
          "5/19/2016",
          "5/18/2017",
          "5/18/2014",
          "5/17/2016",
          "5/16/2016",
          "5/16/2014",
          "5/15/2017",
          "5/14/2017",
          "5/14/2016",
          "5/14/2015",
          "5/14/2014",
          "5/13/2017",
          "5/13/2014",
          "5/12/2017",
          "5/12/2016",
          "5/12/2015",
          "5/12/2014",
          "5/11/2017",
          "5/11/2015",
          "5/11/2014",
          "5/10/2014",
          "5/1/2017",
          "5/1/2016",
          "5/1/2015",
          "4/9/2016",
          "4/9/2015",
          "4/8/2017",
          "4/8/2016",
          "4/8/2014",
          "4/7/2017",
          "4/7/2016",
          "4/7/2014",
          "4/6/2014",
          "4/5/2015",
          "4/4/2016",
          "4/4/2015",
          "4/4/2014",
          "4/30/2017",
          "4/30/2016",
          "4/30/2015",
          "4/3/2017",
          "4/3/2016",
          "4/29/2017",
          "4/29/2014",
          "4/28/2016",
          "4/27/2017",
          "4/27/2015",
          "4/26/2017",
          "4/26/2016",
          "4/26/2015",
          "4/26/2014",
          "4/25/2017",
          "4/25/2015",
          "4/25/2014",
          "4/24/2016",
          "4/23/2017",
          "4/23/2014",
          "4/22/2017",
          "4/22/2016",
          "4/21/2017",
          "4/21/2015",
          "4/20/2017",
          "4/20/2015",
          "4/20/2014",
          "4/2/2017",
          "4/2/2016",
          "4/2/2014",
          "4/19/2016",
          "4/19/2014",
          "4/18/2016",
          "4/18/2015",
          "4/18/2014",
          "4/17/2017",
          "4/17/2016",
          "4/16/2017",
          "4/16/2016",
          "4/16/2015",
          "4/15/2017",
          "4/15/2016",
          "4/15/2014",
          "4/14/2017",
          "4/14/2016",
          "4/13/2017",
          "4/13/2015",
          "4/12/2016",
          "4/12/2014",
          "4/11/2015",
          "4/10/2017",
          "4/1/2017",
          "4/1/2016",
          "3/9/2016",
          "3/8/2016",
          "3/8/2015",
          "3/7/2014",
          "3/6/2017",
          "3/6/2016",
          "3/6/2015",
          "3/5/2015",
          "3/4/2017",
          "3/31/2017",
          "3/31/2016",
          "3/31/2015",
          "3/31/2014",
          "3/30/2015",
          "3/30/2014",
          "3/3/2017",
          "3/3/2016",
          "3/3/2014",
          "3/29/2016",
          "3/29/2015",
          "3/29/2014",
          "3/28/2017",
          "3/28/2014",
          "3/27/2017",
          "3/27/2016",
          "3/26/2017",
          "3/26/2015",
          "3/25/2017",
          "3/25/2014",
          "3/24/2017",
          "3/24/2016",
          "3/24/2015",
          "3/24/2014",
          "3/23/2017",
          "3/23/2015",
          "3/22/2016",
          "3/22/2015",
          "3/22/2014",
          "3/21/2017",
          "3/21/2016",
          "3/21/2014",
          "3/20/2017",
          "3/20/2016",
          "3/2/2017",
          "3/2/2015",
          "3/19/2017",
          "3/19/2016",
          "3/19/2015",
          "3/19/2014",
          "3/18/2017",
          "3/18/2016",
          "3/18/2014",
          "3/17/2016",
          "3/17/2014",
          "3/16/2017",
          "3/16/2015",
          "3/15/2016",
          "3/15/2014",
          "3/14/2016",
          "3/14/2014",
          "3/13/2017",
          "3/13/2016",
          "3/13/2015",
          "3/12/2016",
          "3/12/2015",
          "3/11/2017",
          "3/11/2016",
          "3/11/2014",
          "3/10/2017",
          "3/10/2016",
          "3/1/2016",
          "3/1/2015",
          "3/1/2014",
          "2/9/2017",
          "2/9/2015",
          "2/8/2016",
          "2/8/2014",
          "2/6/2017",
          "2/6/2016",
          "2/6/2015",
          "2/5/2016",
          "2/4/2016",
          "2/3/2017",
          "2/3/2016",
          "2/3/2015",
          "2/28/2015",
          "2/27/2016",
          "2/27/2015",
          "2/26/2017",
          "2/25/2017",
          "2/21/2016",
          "2/20/2017",
          "2/20/2014",
          "2/2/2017",
          "2/2/2016",
          "2/19/2017",
          "2/19/2016",
          "2/18/2015",
          "2/18/2014",
          "2/17/2017",
          "2/16/2017",
          "2/16/2016",
          "2/14/2016",
          "2/13/2017",
          "2/12/2014",
          "2/11/2017",
          "2/11/2014",
          "2/10/2017",
          "12/9/2017",
          "12/9/2016",
          "12/8/2017",
          "12/8/2016",
          "12/8/2014",
          "12/7/2017",
          "12/7/2015",
          "12/6/2015",
          "12/6/2014",
          "12/5/2017",
          "12/5/2016",
          "12/5/2015",
          "12/4/2017",
          "12/4/2016",
          "12/4/2015",
          "12/31/2015",
          "12/31/2014",
          "12/30/2017",
          "12/30/2016",
          "12/30/2014",
          "12/3/2017",
          "12/3/2016",
          "12/3/2015",
          "12/29/2017",
          "12/29/2016",
          "12/29/2014",
          "12/28/2017",
          "12/27/2016",
          "12/27/2015",
          "12/27/2014",
          "12/26/2016",
          "12/26/2015",
          "12/26/2014",
          "12/25/2017",
          "12/25/2016",
          "12/25/2015",
          "12/24/2017",
          "12/24/2016",
          "12/24/2015",
          "12/24/2014",
          "12/23/2017",
          "12/23/2016",
          "12/23/2014",
          "12/22/2017",
          "12/22/2016",
          "12/22/2015",
          "12/21/2017",
          "12/21/2015",
          "12/21/2014",
          "12/20/2016",
          "12/20/2015",
          "12/20/2014",
          "12/2/2017",
          "12/2/2016",
          "12/2/2014",
          "12/19/2017",
          "12/19/2016",
          "12/19/2015",
          "12/19/2014",
          "12/18/2017",
          "12/18/2016",
          "12/18/2015",
          "12/17/2017",
          "12/17/2016",
          "12/17/2015",
          "12/16/2017",
          "12/16/2016",
          "12/16/2014",
          "12/15/2017",
          "12/15/2016",
          "12/15/2015",
          "12/15/2014",
          "12/14/2017",
          "12/14/2016",
          "12/14/2015",
          "12/14/2014",
          "12/13/2017",
          "12/13/2016",
          "12/13/2014",
          "12/12/2016",
          "12/12/2015",
          "12/12/2014",
          "12/11/2017",
          "12/11/2016",
          "12/11/2015",
          "12/10/2017",
          "12/10/2016",
          "12/10/2015",
          "12/10/2014",
          "12/1/2017",
          "12/1/2016",
          "12/1/2015",
          "12/1/2014",
          "11/9/2017",
          "11/9/2015",
          "11/9/2014",
          "11/8/2017",
          "11/8/2016",
          "11/8/2015",
          "11/7/2017",
          "11/7/2016",
          "11/7/2015",
          "11/7/2014",
          "11/6/2017",
          "11/6/2016",
          "11/5/2017",
          "11/5/2016",
          "11/5/2015",
          "11/5/2014",
          "11/4/2017",
          "11/4/2016",
          "11/4/2014",
          "11/30/2017",
          "11/30/2016",
          "11/30/2015",
          "11/3/2017",
          "11/3/2016",
          "11/3/2015",
          "11/3/2014",
          "11/29/2017",
          "11/29/2016",
          "11/29/2015",
          "11/28/2017",
          "11/28/2016",
          "11/28/2015",
          "11/28/2014",
          "11/27/2017",
          "11/27/2016",
          "11/27/2015",
          "11/27/2014",
          "11/26/2017",
          "11/26/2016",
          "11/26/2015",
          "11/26/2014",
          "11/25/2017",
          "11/25/2016",
          "11/25/2014",
          "11/24/2017",
          "11/24/2016",
          "11/24/2015",
          "11/24/2014",
          "11/23/2017",
          "11/23/2016",
          "11/23/2014",
          "11/22/2016",
          "11/22/2015",
          "11/21/2017",
          "11/21/2016",
          "11/21/2015",
          "11/20/2017",
          "11/20/2016",
          "11/20/2015",
          "11/2/2017",
          "11/2/2015",
          "11/2/2014",
          "11/19/2017",
          "11/19/2016",
          "11/19/2015",
          "11/19/2014",
          "11/18/2017",
          "11/18/2016",
          "11/18/2014",
          "11/17/2017",
          "11/17/2015",
          "11/17/2014",
          "11/16/2017",
          "11/16/2015",
          "11/16/2014",
          "11/15/2017",
          "11/15/2016",
          "11/15/2015",
          "11/15/2014",
          "11/14/2017",
          "11/14/2016",
          "11/14/2015",
          "11/14/2014",
          "11/13/2017",
          "11/13/2016",
          "11/13/2015",
          "11/12/2017",
          "11/12/2016",
          "11/12/2015",
          "11/12/2014",
          "11/11/2017",
          "11/11/2016",
          "11/11/2014",
          "11/10/2017",
          "11/10/2016",
          "11/10/2015",
          "11/10/2014",
          "11/1/2017",
          "11/1/2015",
          "11/1/2014",
          "10/9/2017",
          "10/9/2016",
          "10/9/2015",
          "10/8/2017",
          "10/8/2016",
          "10/8/2015",
          "10/7/2017",
          "10/7/2014",
          "10/5/2017",
          "10/5/2015",
          "10/4/2017",
          "10/4/2016",
          "10/4/2015",
          "10/4/2014",
          "10/31/2016",
          "10/31/2015",
          "10/31/2014",
          "10/30/2017",
          "10/30/2015",
          "10/3/2017",
          "10/3/2016",
          "10/3/2015",
          "10/3/2014",
          "10/29/2016",
          "10/28/2017",
          "10/28/2016",
          "10/28/2015",
          "10/28/2014",
          "10/27/2017",
          "10/27/2016",
          "10/26/2017",
          "10/26/2014",
          "10/25/2015",
          "10/24/2017",
          "10/24/2015",
          "10/23/2017",
          "10/23/2016",
          "10/23/2015",
          "10/22/2017",
          "10/22/2016",
          "10/22/2014",
          "10/21/2017",
          "10/21/2016",
          "10/21/2014",
          "10/20/2017",
          "10/20/2016",
          "10/20/2015",
          "10/20/2014",
          "10/2/2017",
          "10/2/2015",
          "10/19/2017",
          "10/18/2016",
          "10/18/2015",
          "10/18/2014",
          "10/17/2016",
          "10/17/2014",
          "10/16/2017",
          "10/16/2016",
          "10/15/2017",
          "10/15/2015",
          "10/15/2014",
          "10/14/2017",
          "10/14/2016",
          "10/14/2014",
          "10/13/2017",
          "10/13/2016",
          "10/13/2015",
          "10/13/2014",
          "10/12/2017",
          "10/12/2015",
          "10/11/2015",
          "10/11/2014",
          "10/10/2017",
          "10/10/2016",
          "10/10/2015",
          "10/10/2014",
          "10/1/2017",
          "10/1/2016",
          "1/9/2016",
          "1/8/2017",
          "1/8/2016",
          "1/7/2016",
          "1/7/2014",
          "1/6/2014",
          "1/5/2015",
          "1/4/2015",
          "1/31/2015",
          "1/31/2014",
          "1/30/2017",
          "1/30/2016",
          "1/3/2016",
          "1/3/2015",
          "1/29/2017",
          "1/28/2015",
          "1/27/2015",
          "1/26/2017",
          "1/26/2014",
          "1/25/2016",
          "1/23/2017",
          "1/23/2016",
          "1/22/2016",
          "1/21/2017",
          "1/21/2016",
          "1/21/2014",
          "1/20/2017",
          "1/20/2014",
          "1/2/2017",
          "1/2/2016",
          "1/2/2015",
          "1/19/2017",
          "1/19/2015",
          "1/19/2014",
          "1/17/2016",
          "1/17/2015",
          "1/16/2017",
          "1/16/2014",
          "1/15/2016",
          "1/14/2017",
          "1/14/2016",
          "1/14/2014",
          "1/13/2017",
          "1/13/2015",
          "1/13/2014",
          "1/11/2016",
          "1/11/2014",
          "1/10/2016",
          "1/10/2015",
          "1/10/2014",
          "1/1/2017"
         ],
         "xaxis": "x",
         "y": {
          "bdata": "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",
          "dtype": "f8"
         },
         "yaxis": "y"
        },
        {
         "hovertemplate": "variable=Profit<br>Order Date=%{x}<br>value=%{y}<extra></extra>",
         "legendgroup": "Profit",
         "line": {
          "color": "#EF553B",
          "dash": "solid"
         },
         "marker": {
          "symbol": "circle"
         },
         "mode": "lines",
         "name": "Profit",
         "showlegend": true,
         "type": "scattergl",
         "x": [
          "9/9/2017",
          "9/9/2016",
          "9/9/2014",
          "9/8/2017",
          "9/8/2016",
          "9/8/2015",
          "9/8/2014",
          "9/7/2017",
          "9/7/2015",
          "9/7/2014",
          "9/6/2016",
          "9/6/2015",
          "9/6/2014",
          "9/5/2016",
          "9/5/2015",
          "9/5/2014",
          "9/4/2017",
          "9/4/2016",
          "9/30/2016",
          "9/30/2014",
          "9/3/2017",
          "9/3/2016",
          "9/3/2015",
          "9/29/2017",
          "9/29/2014",
          "9/28/2017",
          "9/28/2014",
          "9/27/2016",
          "9/27/2015",
          "9/27/2014",
          "9/26/2017",
          "9/26/2016",
          "9/26/2014",
          "9/25/2017",
          "9/25/2016",
          "9/25/2015",
          "9/25/2014",
          "9/24/2017",
          "9/24/2016",
          "9/24/2015",
          "9/23/2017",
          "9/23/2016",
          "9/23/2014",
          "9/22/2017",
          "9/22/2016",
          "9/22/2015",
          "9/22/2014",
          "9/21/2015",
          "9/21/2014",
          "9/20/2017",
          "9/20/2016",
          "9/20/2014",
          "9/2/2017",
          "9/2/2016",
          "9/2/2014",
          "9/19/2017",
          "9/19/2016",
          "9/19/2015",
          "9/19/2014",
          "9/18/2017",
          "9/18/2016",
          "9/18/2015",
          "9/17/2017",
          "9/17/2016",
          "9/17/2015",
          "9/17/2014",
          "9/16/2017",
          "9/16/2016",
          "9/15/2017",
          "9/15/2016",
          "9/15/2015",
          "9/15/2014",
          "9/14/2017",
          "9/14/2015",
          "9/14/2014",
          "9/13/2016",
          "9/13/2015",
          "9/13/2014",
          "9/12/2016",
          "9/12/2014",
          "9/11/2017",
          "9/11/2015",
          "9/11/2014",
          "9/10/2017",
          "9/10/2016",
          "9/10/2015",
          "9/10/2014",
          "9/1/2017",
          "9/1/2016",
          "9/1/2015",
          "8/9/2015",
          "8/8/2015",
          "8/8/2014",
          "8/7/2017",
          "8/7/2015",
          "8/6/2017",
          "8/6/2015",
          "8/5/2015",
          "8/5/2014",
          "8/4/2016",
          "8/31/2017",
          "8/31/2015",
          "8/30/2016",
          "8/3/2017",
          "8/3/2014",
          "8/29/2017",
          "8/29/2016",
          "8/29/2014",
          "8/28/2017",
          "8/28/2016",
          "8/28/2015",
          "8/27/2017",
          "8/27/2016",
          "8/27/2014",
          "8/26/2017",
          "8/26/2016",
          "8/25/2017",
          "8/25/2015",
          "8/25/2014",
          "8/24/2015",
          "8/24/2014",
          "8/23/2017",
          "8/23/2016",
          "8/23/2014",
          "8/22/2017",
          "8/22/2016",
          "8/21/2017",
          "8/21/2016",
          "8/21/2015",
          "8/20/2014",
          "8/2/2015",
          "8/19/2014",
          "8/18/2017",
          "8/18/2016",
          "8/17/2017",
          "8/16/2016",
          "8/16/2015",
          "8/16/2014",
          "8/15/2016",
          "8/15/2015",
          "8/15/2014",
          "8/14/2017",
          "8/13/2017",
          "8/13/2016",
          "8/13/2015",
          "8/12/2017",
          "8/12/2016",
          "8/12/2014",
          "8/11/2015",
          "8/11/2014",
          "8/10/2017",
          "8/1/2016",
          "8/1/2015",
          "8/1/2014",
          "7/9/2017",
          "7/9/2016",
          "7/9/2015",
          "7/9/2014",
          "7/8/2017",
          "7/8/2016",
          "7/8/2014",
          "7/7/2017",
          "7/7/2016",
          "7/7/2014",
          "7/6/2017",
          "7/6/2015",
          "7/6/2014",
          "7/5/2017",
          "7/5/2015",
          "7/5/2014",
          "7/4/2016",
          "7/31/2017",
          "7/31/2016",
          "7/31/2015",
          "7/30/2015",
          "7/30/2014",
          "7/3/2017",
          "7/3/2015",
          "7/29/2017",
          "7/28/2016",
          "7/28/2014",
          "7/27/2017",
          "7/26/2015",
          "7/26/2014",
          "7/25/2017",
          "7/25/2016",
          "7/25/2015",
          "7/25/2014",
          "7/24/2016",
          "7/24/2015",
          "7/23/2015",
          "7/22/2017",
          "7/22/2016",
          "7/22/2014",
          "7/21/2017",
          "7/21/2016",
          "7/21/2014",
          "7/20/2017",
          "7/20/2015",
          "7/20/2014",
          "7/2/2016",
          "7/2/2015",
          "7/19/2016",
          "7/19/2014",
          "7/18/2017",
          "7/18/2016",
          "7/18/2014",
          "7/17/2017",
          "7/17/2016",
          "7/17/2015",
          "7/16/2017",
          "7/16/2016",
          "7/16/2015",
          "7/15/2017",
          "7/15/2016",
          "7/14/2017",
          "7/14/2016",
          "7/14/2015",
          "7/14/2014",
          "7/13/2017",
          "7/13/2015",
          "7/13/2014",
          "7/12/2015",
          "7/12/2014",
          "7/11/2015",
          "7/11/2014",
          "7/10/2017",
          "6/9/2017",
          "6/9/2016",
          "6/9/2015",
          "6/9/2014",
          "6/8/2017",
          "6/8/2015",
          "6/8/2014",
          "6/7/2014",
          "6/6/2017",
          "6/6/2016",
          "6/6/2014",
          "6/5/2015",
          "6/4/2017",
          "6/4/2016",
          "6/4/2015",
          "6/4/2014",
          "6/30/2017",
          "6/30/2016",
          "6/3/2017",
          "6/3/2016",
          "6/3/2014",
          "6/29/2017",
          "6/29/2015",
          "6/28/2016",
          "6/28/2015",
          "6/28/2014",
          "6/27/2017",
          "6/27/2016",
          "6/27/2014",
          "6/26/2017",
          "6/26/2016",
          "6/26/2015",
          "6/25/2017",
          "6/25/2016",
          "6/25/2015",
          "6/25/2014",
          "6/24/2017",
          "6/24/2014",
          "6/22/2017",
          "6/22/2015",
          "6/22/2014",
          "6/21/2017",
          "6/21/2014",
          "6/20/2016",
          "6/20/2015",
          "6/20/2014",
          "6/2/2014",
          "6/19/2017",
          "6/19/2015",
          "6/18/2017",
          "6/18/2015",
          "6/17/2017",
          "6/17/2016",
          "6/17/2014",
          "6/16/2017",
          "6/16/2015",
          "6/16/2014",
          "6/15/2017",
          "6/15/2015",
          "6/15/2014",
          "6/14/2016",
          "6/14/2015",
          "6/14/2014",
          "6/13/2017",
          "6/12/2017",
          "6/12/2016",
          "6/12/2015",
          "6/11/2017",
          "6/11/2016",
          "6/11/2015",
          "6/10/2017",
          "6/10/2016",
          "6/1/2017",
          "6/1/2014",
          "5/9/2017",
          "5/8/2017",
          "5/8/2016",
          "5/8/2015",
          "5/7/2017",
          "5/7/2016",
          "5/7/2015",
          "5/7/2014",
          "5/6/2017",
          "5/6/2016",
          "5/5/2017",
          "5/5/2016",
          "5/5/2014",
          "5/4/2017",
          "5/4/2015",
          "5/4/2014",
          "5/31/2016",
          "5/31/2015",
          "5/30/2017",
          "5/30/2016",
          "5/30/2014",
          "5/3/2017",
          "5/3/2016",
          "5/3/2015",
          "5/29/2017",
          "5/29/2016",
          "5/29/2015",
          "5/28/2017",
          "5/28/2016",
          "5/27/2017",
          "5/27/2016",
          "5/27/2014",
          "5/26/2016",
          "5/26/2015",
          "5/26/2014",
          "5/25/2017",
          "5/25/2016",
          "5/25/2015",
          "5/25/2014",
          "5/24/2015",
          "5/23/2017",
          "5/23/2016",
          "5/23/2015",
          "5/22/2017",
          "5/22/2016",
          "5/21/2017",
          "5/21/2014",
          "5/20/2017",
          "5/20/2016",
          "5/20/2015",
          "5/20/2014",
          "5/2/2017",
          "5/2/2016",
          "5/19/2017",
          "5/19/2016",
          "5/18/2017",
          "5/18/2014",
          "5/17/2016",
          "5/16/2016",
          "5/16/2014",
          "5/15/2017",
          "5/14/2017",
          "5/14/2016",
          "5/14/2015",
          "5/14/2014",
          "5/13/2017",
          "5/13/2014",
          "5/12/2017",
          "5/12/2016",
          "5/12/2015",
          "5/12/2014",
          "5/11/2017",
          "5/11/2015",
          "5/11/2014",
          "5/10/2014",
          "5/1/2017",
          "5/1/2016",
          "5/1/2015",
          "4/9/2016",
          "4/9/2015",
          "4/8/2017",
          "4/8/2016",
          "4/8/2014",
          "4/7/2017",
          "4/7/2016",
          "4/7/2014",
          "4/6/2014",
          "4/5/2015",
          "4/4/2016",
          "4/4/2015",
          "4/4/2014",
          "4/30/2017",
          "4/30/2016",
          "4/30/2015",
          "4/3/2017",
          "4/3/2016",
          "4/29/2017",
          "4/29/2014",
          "4/28/2016",
          "4/27/2017",
          "4/27/2015",
          "4/26/2017",
          "4/26/2016",
          "4/26/2015",
          "4/26/2014",
          "4/25/2017",
          "4/25/2015",
          "4/25/2014",
          "4/24/2016",
          "4/23/2017",
          "4/23/2014",
          "4/22/2017",
          "4/22/2016",
          "4/21/2017",
          "4/21/2015",
          "4/20/2017",
          "4/20/2015",
          "4/20/2014",
          "4/2/2017",
          "4/2/2016",
          "4/2/2014",
          "4/19/2016",
          "4/19/2014",
          "4/18/2016",
          "4/18/2015",
          "4/18/2014",
          "4/17/2017",
          "4/17/2016",
          "4/16/2017",
          "4/16/2016",
          "4/16/2015",
          "4/15/2017",
          "4/15/2016",
          "4/15/2014",
          "4/14/2017",
          "4/14/2016",
          "4/13/2017",
          "4/13/2015",
          "4/12/2016",
          "4/12/2014",
          "4/11/2015",
          "4/10/2017",
          "4/1/2017",
          "4/1/2016",
          "3/9/2016",
          "3/8/2016",
          "3/8/2015",
          "3/7/2014",
          "3/6/2017",
          "3/6/2016",
          "3/6/2015",
          "3/5/2015",
          "3/4/2017",
          "3/31/2017",
          "3/31/2016",
          "3/31/2015",
          "3/31/2014",
          "3/30/2015",
          "3/30/2014",
          "3/3/2017",
          "3/3/2016",
          "3/3/2014",
          "3/29/2016",
          "3/29/2015",
          "3/29/2014",
          "3/28/2017",
          "3/28/2014",
          "3/27/2017",
          "3/27/2016",
          "3/26/2017",
          "3/26/2015",
          "3/25/2017",
          "3/25/2014",
          "3/24/2017",
          "3/24/2016",
          "3/24/2015",
          "3/24/2014",
          "3/23/2017",
          "3/23/2015",
          "3/22/2016",
          "3/22/2015",
          "3/22/2014",
          "3/21/2017",
          "3/21/2016",
          "3/21/2014",
          "3/20/2017",
          "3/20/2016",
          "3/2/2017",
          "3/2/2015",
          "3/19/2017",
          "3/19/2016",
          "3/19/2015",
          "3/19/2014",
          "3/18/2017",
          "3/18/2016",
          "3/18/2014",
          "3/17/2016",
          "3/17/2014",
          "3/16/2017",
          "3/16/2015",
          "3/15/2016",
          "3/15/2014",
          "3/14/2016",
          "3/14/2014",
          "3/13/2017",
          "3/13/2016",
          "3/13/2015",
          "3/12/2016",
          "3/12/2015",
          "3/11/2017",
          "3/11/2016",
          "3/11/2014",
          "3/10/2017",
          "3/10/2016",
          "3/1/2016",
          "3/1/2015",
          "3/1/2014",
          "2/9/2017",
          "2/9/2015",
          "2/8/2016",
          "2/8/2014",
          "2/6/2017",
          "2/6/2016",
          "2/6/2015",
          "2/5/2016",
          "2/4/2016",
          "2/3/2017",
          "2/3/2016",
          "2/3/2015",
          "2/28/2015",
          "2/27/2016",
          "2/27/2015",
          "2/26/2017",
          "2/25/2017",
          "2/21/2016",
          "2/20/2017",
          "2/20/2014",
          "2/2/2017",
          "2/2/2016",
          "2/19/2017",
          "2/19/2016",
          "2/18/2015",
          "2/18/2014",
          "2/17/2017",
          "2/16/2017",
          "2/16/2016",
          "2/14/2016",
          "2/13/2017",
          "2/12/2014",
          "2/11/2017",
          "2/11/2014",
          "2/10/2017",
          "12/9/2017",
          "12/9/2016",
          "12/8/2017",
          "12/8/2016",
          "12/8/2014",
          "12/7/2017",
          "12/7/2015",
          "12/6/2015",
          "12/6/2014",
          "12/5/2017",
          "12/5/2016",
          "12/5/2015",
          "12/4/2017",
          "12/4/2016",
          "12/4/2015",
          "12/31/2015",
          "12/31/2014",
          "12/30/2017",
          "12/30/2016",
          "12/30/2014",
          "12/3/2017",
          "12/3/2016",
          "12/3/2015",
          "12/29/2017",
          "12/29/2016",
          "12/29/2014",
          "12/28/2017",
          "12/27/2016",
          "12/27/2015",
          "12/27/2014",
          "12/26/2016",
          "12/26/2015",
          "12/26/2014",
          "12/25/2017",
          "12/25/2016",
          "12/25/2015",
          "12/24/2017",
          "12/24/2016",
          "12/24/2015",
          "12/24/2014",
          "12/23/2017",
          "12/23/2016",
          "12/23/2014",
          "12/22/2017",
          "12/22/2016",
          "12/22/2015",
          "12/21/2017",
          "12/21/2015",
          "12/21/2014",
          "12/20/2016",
          "12/20/2015",
          "12/20/2014",
          "12/2/2017",
          "12/2/2016",
          "12/2/2014",
          "12/19/2017",
          "12/19/2016",
          "12/19/2015",
          "12/19/2014",
          "12/18/2017",
          "12/18/2016",
          "12/18/2015",
          "12/17/2017",
          "12/17/2016",
          "12/17/2015",
          "12/16/2017",
          "12/16/2016",
          "12/16/2014",
          "12/15/2017",
          "12/15/2016",
          "12/15/2015",
          "12/15/2014",
          "12/14/2017",
          "12/14/2016",
          "12/14/2015",
          "12/14/2014",
          "12/13/2017",
          "12/13/2016",
          "12/13/2014",
          "12/12/2016",
          "12/12/2015",
          "12/12/2014",
          "12/11/2017",
          "12/11/2016",
          "12/11/2015",
          "12/10/2017",
          "12/10/2016",
          "12/10/2015",
          "12/10/2014",
          "12/1/2017",
          "12/1/2016",
          "12/1/2015",
          "12/1/2014",
          "11/9/2017",
          "11/9/2015",
          "11/9/2014",
          "11/8/2017",
          "11/8/2016",
          "11/8/2015",
          "11/7/2017",
          "11/7/2016",
          "11/7/2015",
          "11/7/2014",
          "11/6/2017",
          "11/6/2016",
          "11/5/2017",
          "11/5/2016",
          "11/5/2015",
          "11/5/2014",
          "11/4/2017",
          "11/4/2016",
          "11/4/2014",
          "11/30/2017",
          "11/30/2016",
          "11/30/2015",
          "11/3/2017",
          "11/3/2016",
          "11/3/2015",
          "11/3/2014",
          "11/29/2017",
          "11/29/2016",
          "11/29/2015",
          "11/28/2017",
          "11/28/2016",
          "11/28/2015",
          "11/28/2014",
          "11/27/2017",
          "11/27/2016",
          "11/27/2015",
          "11/27/2014",
          "11/26/2017",
          "11/26/2016",
          "11/26/2015",
          "11/26/2014",
          "11/25/2017",
          "11/25/2016",
          "11/25/2014",
          "11/24/2017",
          "11/24/2016",
          "11/24/2015",
          "11/24/2014",
          "11/23/2017",
          "11/23/2016",
          "11/23/2014",
          "11/22/2016",
          "11/22/2015",
          "11/21/2017",
          "11/21/2016",
          "11/21/2015",
          "11/20/2017",
          "11/20/2016",
          "11/20/2015",
          "11/2/2017",
          "11/2/2015",
          "11/2/2014",
          "11/19/2017",
          "11/19/2016",
          "11/19/2015",
          "11/19/2014",
          "11/18/2017",
          "11/18/2016",
          "11/18/2014",
          "11/17/2017",
          "11/17/2015",
          "11/17/2014",
          "11/16/2017",
          "11/16/2015",
          "11/16/2014",
          "11/15/2017",
          "11/15/2016",
          "11/15/2015",
          "11/15/2014",
          "11/14/2017",
          "11/14/2016",
          "11/14/2015",
          "11/14/2014",
          "11/13/2017",
          "11/13/2016",
          "11/13/2015",
          "11/12/2017",
          "11/12/2016",
          "11/12/2015",
          "11/12/2014",
          "11/11/2017",
          "11/11/2016",
          "11/11/2014",
          "11/10/2017",
          "11/10/2016",
          "11/10/2015",
          "11/10/2014",
          "11/1/2017",
          "11/1/2015",
          "11/1/2014",
          "10/9/2017",
          "10/9/2016",
          "10/9/2015",
          "10/8/2017",
          "10/8/2016",
          "10/8/2015",
          "10/7/2017",
          "10/7/2014",
          "10/5/2017",
          "10/5/2015",
          "10/4/2017",
          "10/4/2016",
          "10/4/2015",
          "10/4/2014",
          "10/31/2016",
          "10/31/2015",
          "10/31/2014",
          "10/30/2017",
          "10/30/2015",
          "10/3/2017",
          "10/3/2016",
          "10/3/2015",
          "10/3/2014",
          "10/29/2016",
          "10/28/2017",
          "10/28/2016",
          "10/28/2015",
          "10/28/2014",
          "10/27/2017",
          "10/27/2016",
          "10/26/2017",
          "10/26/2014",
          "10/25/2015",
          "10/24/2017",
          "10/24/2015",
          "10/23/2017",
          "10/23/2016",
          "10/23/2015",
          "10/22/2017",
          "10/22/2016",
          "10/22/2014",
          "10/21/2017",
          "10/21/2016",
          "10/21/2014",
          "10/20/2017",
          "10/20/2016",
          "10/20/2015",
          "10/20/2014",
          "10/2/2017",
          "10/2/2015",
          "10/19/2017",
          "10/18/2016",
          "10/18/2015",
          "10/18/2014",
          "10/17/2016",
          "10/17/2014",
          "10/16/2017",
          "10/16/2016",
          "10/15/2017",
          "10/15/2015",
          "10/15/2014",
          "10/14/2017",
          "10/14/2016",
          "10/14/2014",
          "10/13/2017",
          "10/13/2016",
          "10/13/2015",
          "10/13/2014",
          "10/12/2017",
          "10/12/2015",
          "10/11/2015",
          "10/11/2014",
          "10/10/2017",
          "10/10/2016",
          "10/10/2015",
          "10/10/2014",
          "10/1/2017",
          "10/1/2016",
          "1/9/2016",
          "1/8/2017",
          "1/8/2016",
          "1/7/2016",
          "1/7/2014",
          "1/6/2014",
          "1/5/2015",
          "1/4/2015",
          "1/31/2015",
          "1/31/2014",
          "1/30/2017",
          "1/30/2016",
          "1/3/2016",
          "1/3/2015",
          "1/29/2017",
          "1/28/2015",
          "1/27/2015",
          "1/26/2017",
          "1/26/2014",
          "1/25/2016",
          "1/23/2017",
          "1/23/2016",
          "1/22/2016",
          "1/21/2017",
          "1/21/2016",
          "1/21/2014",
          "1/20/2017",
          "1/20/2014",
          "1/2/2017",
          "1/2/2016",
          "1/2/2015",
          "1/19/2017",
          "1/19/2015",
          "1/19/2014",
          "1/17/2016",
          "1/17/2015",
          "1/16/2017",
          "1/16/2014",
          "1/15/2016",
          "1/14/2017",
          "1/14/2016",
          "1/14/2014",
          "1/13/2017",
          "1/13/2015",
          "1/13/2014",
          "1/11/2016",
          "1/11/2014",
          "1/10/2016",
          "1/10/2015",
          "1/10/2014",
          "1/1/2017"
         ],
         "xaxis": "x",
         "y": {
          "bdata": "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",
          "dtype": "f8"
         },
         "yaxis": "y"
        }
       ],
       "layout": {
        "height": 500,
        "legend": {
         "title": {
          "text": "variable"
         },
         "tracegroupgap": 0
        },
        "margin": {
         "t": 60
        },
        "template": {
         "data": {
          "bar": [
           {
            "error_x": {
             "color": "#2a3f5f"
            },
            "error_y": {
             "color": "#2a3f5f"
            },
            "marker": {
             "line": {
              "color": "#E5ECF6",
              "width": 0.5
             },
             "pattern": {
              "fillmode": "overlay",
              "size": 10,
              "solidity": 0.2
             }
            },
            "type": "bar"
           }
          ],
          "barpolar": [
           {
            "marker": {
             "line": {
              "color": "#E5ECF6",
              "width": 0.5
             },
             "pattern": {
              "fillmode": "overlay",
              "size": 10,
              "solidity": 0.2
             }
            },
            "type": "barpolar"
           }
          ],
          "carpet": [
           {
            "aaxis": {
             "endlinecolor": "#2a3f5f",
             "gridcolor": "white",
             "linecolor": "white",
             "minorgridcolor": "white",
             "startlinecolor": "#2a3f5f"
            },
            "baxis": {
             "endlinecolor": "#2a3f5f",
             "gridcolor": "white",
             "linecolor": "white",
             "minorgridcolor": "white",
             "startlinecolor": "#2a3f5f"
            },
            "type": "carpet"
           }
          ],
          "choropleth": [
           {
            "colorbar": {
             "outlinewidth": 0,
             "ticks": ""
            },
            "type": "choropleth"
           }
          ],
          "contour": [
           {
            "colorbar": {
             "outlinewidth": 0,
             "ticks": ""
            },
            "colorscale": [
             [
              0,
              "#0d0887"
             ],
             [
              0.1111111111111111,
              "#46039f"
             ],
             [
              0.2222222222222222,
              "#7201a8"
             ],
             [
              0.3333333333333333,
              "#9c179e"
             ],
             [
              0.4444444444444444,
              "#bd3786"
             ],
             [
              0.5555555555555556,
              "#d8576b"
             ],
             [
              0.6666666666666666,
              "#ed7953"
             ],
             [
              0.7777777777777778,
              "#fb9f3a"
             ],
             [
              0.8888888888888888,
              "#fdca26"
             ],
             [
              1,
              "#f0f921"
             ]
            ],
            "type": "contour"
           }
          ],
          "contourcarpet": [
           {
            "colorbar": {
             "outlinewidth": 0,
             "ticks": ""
            },
            "type": "contourcarpet"
           }
          ],
          "heatmap": [
           {
            "colorbar": {
             "outlinewidth": 0,
             "ticks": ""
            },
            "colorscale": [
             [
              0,
              "#0d0887"
             ],
             [
              0.1111111111111111,
              "#46039f"
             ],
             [
              0.2222222222222222,
              "#7201a8"
             ],
             [
              0.3333333333333333,
              "#9c179e"
             ],
             [
              0.4444444444444444,
              "#bd3786"
             ],
             [
              0.5555555555555556,
              "#d8576b"
             ],
             [
              0.6666666666666666,
              "#ed7953"
             ],
             [
              0.7777777777777778,
              "#fb9f3a"
             ],
             [
              0.8888888888888888,
              "#fdca26"
             ],
             [
              1,
              "#f0f921"
             ]
            ],
            "type": "heatmap"
           }
          ],
          "histogram": [
           {
            "marker": {
             "pattern": {
              "fillmode": "overlay",
              "size": 10,
              "solidity": 0.2
             }
            },
            "type": "histogram"
           }
          ],
          "histogram2d": [
           {
            "colorbar": {
             "outlinewidth": 0,
             "ticks": ""
            },
            "colorscale": [
             [
              0,
              "#0d0887"
             ],
             [
              0.1111111111111111,
              "#46039f"
             ],
             [
              0.2222222222222222,
              "#7201a8"
             ],
             [
              0.3333333333333333,
              "#9c179e"
             ],
             [
              0.4444444444444444,
              "#bd3786"
             ],
             [
              0.5555555555555556,
              "#d8576b"
             ],
             [
              0.6666666666666666,
              "#ed7953"
             ],
             [
              0.7777777777777778,
              "#fb9f3a"
             ],
             [
              0.8888888888888888,
              "#fdca26"
             ],
             [
              1,
              "#f0f921"
             ]
            ],
            "type": "histogram2d"
           }
          ],
          "histogram2dcontour": [
           {
            "colorbar": {
             "outlinewidth": 0,
             "ticks": ""
            },
            "colorscale": [
             [
              0,
              "#0d0887"
             ],
             [
              0.1111111111111111,
              "#46039f"
             ],
             [
              0.2222222222222222,
              "#7201a8"
             ],
             [
              0.3333333333333333,
              "#9c179e"
             ],
             [
              0.4444444444444444,
              "#bd3786"
             ],
             [
              0.5555555555555556,
              "#d8576b"
             ],
             [
              0.6666666666666666,
              "#ed7953"
             ],
             [
              0.7777777777777778,
              "#fb9f3a"
             ],
             [
              0.8888888888888888,
              "#fdca26"
             ],
             [
              1,
              "#f0f921"
             ]
            ],
            "type": "histogram2dcontour"
           }
          ],
          "mesh3d": [
           {
            "colorbar": {
             "outlinewidth": 0,
             "ticks": ""
            },
            "type": "mesh3d"
           }
          ],
          "parcoords": [
           {
            "line": {
             "colorbar": {
              "outlinewidth": 0,
              "ticks": ""
             }
            },
            "type": "parcoords"
           }
          ],
          "pie": [
           {
            "automargin": true,
            "type": "pie"
           }
          ],
          "scatter": [
           {
            "fillpattern": {
             "fillmode": "overlay",
             "size": 10,
             "solidity": 0.2
            },
            "type": "scatter"
           }
          ],
          "scatter3d": [
           {
            "line": {
             "colorbar": {
              "outlinewidth": 0,
              "ticks": ""
             }
            },
            "marker": {
             "colorbar": {
              "outlinewidth": 0,
              "ticks": ""
             }
            },
            "type": "scatter3d"
           }
          ],
          "scattercarpet": [
           {
            "marker": {
             "colorbar": {
              "outlinewidth": 0,
              "ticks": ""
             }
            },
            "type": "scattercarpet"
           }
          ],
          "scattergeo": [
           {
            "marker": {
             "colorbar": {
              "outlinewidth": 0,
              "ticks": ""
             }
            },
            "type": "scattergeo"
           }
          ],
          "scattergl": [
           {
            "marker": {
             "colorbar": {
              "outlinewidth": 0,
              "ticks": ""
             }
            },
            "type": "scattergl"
           }
          ],
          "scattermap": [
           {
            "marker": {
             "colorbar": {
              "outlinewidth": 0,
              "ticks": ""
             }
            },
            "type": "scattermap"
           }
          ],
          "scattermapbox": [
           {
            "marker": {
             "colorbar": {
              "outlinewidth": 0,
              "ticks": ""
             }
            },
            "type": "scattermapbox"
           }
          ],
          "scatterpolar": [
           {
            "marker": {
             "colorbar": {
              "outlinewidth": 0,
              "ticks": ""
             }
            },
            "type": "scatterpolar"
           }
          ],
          "scatterpolargl": [
           {
            "marker": {
             "colorbar": {
              "outlinewidth": 0,
              "ticks": ""
             }
            },
            "type": "scatterpolargl"
           }
          ],
          "scatterternary": [
           {
            "marker": {
             "colorbar": {
              "outlinewidth": 0,
              "ticks": ""
             }
            },
            "type": "scatterternary"
           }
          ],
          "surface": [
           {
            "colorbar": {
             "outlinewidth": 0,
             "ticks": ""
            },
            "colorscale": [
             [
              0,
              "#0d0887"
             ],
             [
              0.1111111111111111,
              "#46039f"
             ],
             [
              0.2222222222222222,
              "#7201a8"
             ],
             [
              0.3333333333333333,
              "#9c179e"
             ],
             [
              0.4444444444444444,
              "#bd3786"
             ],
             [
              0.5555555555555556,
              "#d8576b"
             ],
             [
              0.6666666666666666,
              "#ed7953"
             ],
             [
              0.7777777777777778,
              "#fb9f3a"
             ],
             [
              0.8888888888888888,
              "#fdca26"
             ],
             [
              1,
              "#f0f921"
             ]
            ],
            "type": "surface"
           }
          ],
          "table": [
           {
            "cells": {
             "fill": {
              "color": "#EBF0F8"
             },
             "line": {
              "color": "white"
             }
            },
            "header": {
             "fill": {
              "color": "#C8D4E3"
             },
             "line": {
              "color": "white"
             }
            },
            "type": "table"
           }
          ]
         },
         "layout": {
          "annotationdefaults": {
           "arrowcolor": "#2a3f5f",
           "arrowhead": 0,
           "arrowwidth": 1
          },
          "autotypenumbers": "strict",
          "coloraxis": {
           "colorbar": {
            "outlinewidth": 0,
            "ticks": ""
           }
          },
          "colorscale": {
           "diverging": [
            [
             0,
             "#8e0152"
            ],
            [
             0.1,
             "#c51b7d"
            ],
            [
             0.2,
             "#de77ae"
            ],
            [
             0.3,
             "#f1b6da"
            ],
            [
             0.4,
             "#fde0ef"
            ],
            [
             0.5,
             "#f7f7f7"
            ],
            [
             0.6,
             "#e6f5d0"
            ],
            [
             0.7,
             "#b8e186"
            ],
            [
             0.8,
             "#7fbc41"
            ],
            [
             0.9,
             "#4d9221"
            ],
            [
             1,
             "#276419"
            ]
           ],
           "sequential": [
            [
             0,
             "#0d0887"
            ],
            [
             0.1111111111111111,
             "#46039f"
            ],
            [
             0.2222222222222222,
             "#7201a8"
            ],
            [
             0.3333333333333333,
             "#9c179e"
            ],
            [
             0.4444444444444444,
             "#bd3786"
            ],
            [
             0.5555555555555556,
             "#d8576b"
            ],
            [
             0.6666666666666666,
             "#ed7953"
            ],
            [
             0.7777777777777778,
             "#fb9f3a"
            ],
            [
             0.8888888888888888,
             "#fdca26"
            ],
            [
             1,
             "#f0f921"
            ]
           ],
           "sequentialminus": [
            [
             0,
             "#0d0887"
            ],
            [
             0.1111111111111111,
             "#46039f"
            ],
            [
             0.2222222222222222,
             "#7201a8"
            ],
            [
             0.3333333333333333,
             "#9c179e"
            ],
            [
             0.4444444444444444,
             "#bd3786"
            ],
            [
             0.5555555555555556,
             "#d8576b"
            ],
            [
             0.6666666666666666,
             "#ed7953"
            ],
            [
             0.7777777777777778,
             "#fb9f3a"
            ],
            [
             0.8888888888888888,
             "#fdca26"
            ],
            [
             1,
             "#f0f921"
            ]
           ]
          },
          "colorway": [
           "#636efa",
           "#EF553B",
           "#00cc96",
           "#ab63fa",
           "#FFA15A",
           "#19d3f3",
           "#FF6692",
           "#B6E880",
           "#FF97FF",
           "#FECB52"
          ],
          "font": {
           "color": "#2a3f5f"
          },
          "geo": {
           "bgcolor": "white",
           "lakecolor": "white",
           "landcolor": "#E5ECF6",
           "showlakes": true,
           "showland": true,
           "subunitcolor": "white"
          },
          "hoverlabel": {
           "align": "left"
          },
          "hovermode": "closest",
          "mapbox": {
           "style": "light"
          },
          "paper_bgcolor": "white",
          "plot_bgcolor": "#E5ECF6",
          "polar": {
           "angularaxis": {
            "gridcolor": "white",
            "linecolor": "white",
            "ticks": ""
           },
           "bgcolor": "#E5ECF6",
           "radialaxis": {
            "gridcolor": "white",
            "linecolor": "white",
            "ticks": ""
           }
          },
          "scene": {
           "xaxis": {
            "backgroundcolor": "#E5ECF6",
            "gridcolor": "white",
            "gridwidth": 2,
            "linecolor": "white",
            "showbackground": true,
            "ticks": "",
            "zerolinecolor": "white"
           },
           "yaxis": {
            "backgroundcolor": "#E5ECF6",
            "gridcolor": "white",
            "gridwidth": 2,
            "linecolor": "white",
            "showbackground": true,
            "ticks": "",
            "zerolinecolor": "white"
           },
           "zaxis": {
            "backgroundcolor": "#E5ECF6",
            "gridcolor": "white",
            "gridwidth": 2,
            "linecolor": "white",
            "showbackground": true,
            "ticks": "",
            "zerolinecolor": "white"
           }
          },
          "shapedefaults": {
           "line": {
            "color": "#2a3f5f"
           }
          },
          "ternary": {
           "aaxis": {
            "gridcolor": "white",
            "linecolor": "white",
            "ticks": ""
           },
           "baxis": {
            "gridcolor": "white",
            "linecolor": "white",
            "ticks": ""
           },
           "bgcolor": "#E5ECF6",
           "caxis": {
            "gridcolor": "white",
            "linecolor": "white",
            "ticks": ""
           }
          },
          "title": {
           "x": 0.05
          },
          "xaxis": {
           "automargin": true,
           "gridcolor": "white",
           "linecolor": "white",
           "ticks": "",
           "title": {
            "standoff": 15
           },
           "zerolinecolor": "white",
           "zerolinewidth": 2
          },
          "yaxis": {
           "automargin": true,
           "gridcolor": "white",
           "linecolor": "white",
           "ticks": "",
           "title": {
            "standoff": 15
           },
           "zerolinecolor": "white",
           "zerolinewidth": 2
          }
         }
        },
        "width": 800,
        "xaxis": {
         "anchor": "y",
         "domain": [
          0,
          1
         ],
         "title": {
          "text": "Order Date"
         }
        },
        "yaxis": {
         "anchor": "x",
         "domain": [
          0,
          1
         ],
         "title": {
          "text": "value"
         }
        }
       }
      }
     },
     "metadata": {},
     "output_type": "display_data"
    }
   ],
   "source": [
    "# Graph Logic\n",
    "chosen_cols1 = ['Sales', 'Profit']\n",
    "total_sales = df.groupby('Order Date')[chosen_cols1].sum().reset_index().sort_values(by='Order Date', ascending=False)\n",
    "total_sales\n",
    "\n",
    "# Graph plotting\n",
    "fig = px.line(total_sales, x='Order Date', y=chosen_cols1, width=800, height=500)\n",
    "\n",
    "# Plot Settings\n",
    "fig.write_image(\"line_plot.jpg\")\n",
    "fig.show()"
   ]
  },
  {
   "cell_type": "markdown",
   "metadata": {},
   "source": [
    "Compare the sales and profits of different states."
   ]
  },
  {
   "cell_type": "code",
   "execution_count": 36,
   "metadata": {},
   "outputs": [
    {
     "data": {
      "application/vnd.plotly.v1+json": {
       "config": {
        "plotlyServerURL": "https://plot.ly"
       },
       "data": [
        {
         "hovertemplate": "variable=Sales<br>value=%{x}<br>State=%{y}<extra></extra>",
         "legendgroup": "Sales",
         "line": {
          "color": "#636efa",
          "dash": "solid"
         },
         "marker": {
          "symbol": "circle"
         },
         "mode": "lines",
         "name": "Sales",
         "orientation": "h",
         "showlegend": true,
         "type": "scatter",
         "x": {
          "bdata": "BoGVQ4sMmUCamZmZqafQQJhuEoPACoVAVOOlm9RS50BmZmZmtkjYQJmZmZkZALRAmpmZmVnWskDqlbIMLVzsQB1aZDufP8pAZmZmZmZOdEAAAAAAgAyoQMdLN4nBHrdAl24Sg+zz4kCe76fGy7CyQHE9Ctcjur9A9ihcj3rX1kDLoUW2sxXMQJVDi2wVkfZAz/dT46WVmkAxCKwcGnS3QDeJQWDleZ1A3SQGgZUKp0DNzMzMzGKeQD0K16Nw/U9APgrXo/DgpUBnZmZmZoewQJmZmZlZrbNAPQrXo1Bc1UDqJjEILEbFQN0kBoEl18BAwvUoXA8mp0BxPQrXA2nHQEjhehSux1tAhetRuJ6kpEAVrkfhWnTGQCGwcmgRWtpABoGVQwvzo0DNzMzMTH+9QCcxCKxcDtVAmZmZmZlzlECoxks3ydmwQP7UeOmGG7RApHA9CufVyUBYObRIRlUCQWdmZmbmmahAqvHSTdLnxkCamZmZmZq2QA==",
          "dtype": "f8"
         },
         "xaxis": "x",
         "y": [
          "Wyoming",
          "Wisconsin",
          "West Virginia",
          "Washington",
          "Virginia",
          "Vermont",
          "Utah",
          "Texas",
          "Tennessee",
          "South Dakota",
          "South Carolina",
          "Rhode Island",
          "Pennsylvania",
          "Oregon",
          "Oklahoma",
          "Ohio",
          "North Carolina",
          "New York",
          "New Mexico",
          "New Jersey",
          "New Hampshire",
          "Nevada",
          "Nebraska",
          "Montana",
          "Missouri",
          "Mississippi",
          "Minnesota",
          "Michigan",
          "Massachusetts",
          "Maryland",
          "Louisiana",
          "Kentucky",
          "Kansas",
          "Iowa",
          "Indiana",
          "Illinois",
          "Idaho",
          "Georgia",
          "Florida",
          "District of Columbia",
          "Delaware",
          "Connecticut",
          "Colorado",
          "California",
          "Arkansas",
          "Arizona",
          "Alabama"
         ],
         "yaxis": "y"
        },
        {
         "hovertemplate": "variable=Profit<br>value=%{x}<br>State=%{y}<extra></extra>",
         "legendgroup": "Profit",
         "line": {
          "color": "#EF553B",
          "dash": "solid"
         },
         "marker": {
          "symbol": "circle"
         },
         "mode": "lines",
         "name": "Profit",
         "orientation": "h",
         "showlegend": true,
         "type": "scatter",
         "x": {
          "bdata": "BoGVQ4sMWUD8qfHS7ZitQMxdS8gHPVPARGlv8GXzu0AIrBxaNPCzQJHtfD+1n5JAswxxrAu+g0CaCBueJvXCwEw3iUHAaaHA+THmriXMUEDBqKROwCaDQL10kxgEi4xA1zTvOBXju8AJih9jrvGXwIhjXdwGeaBAjSjtDR5Jr8COBvAW6J2rwB8Wak1zOrdAYqHWNO9yb0B4nKIjOZGMQESLbOf7PWNAdQKaCBuIaUDMf0i/fTOAQOJYF7fRwDVAD5wzojQogkBtNIC3QFaMQBsN4C1QipNAiGNd3AbhsUA6I0p7Q9mQQB9j7lrCQ5xA0ETY8PRvhUDpSC7/IceoQM4ZUdobfEJAK4cW2U5AgEAuIR/0jAqhQOPHmLvuxsDALm6jATyYgEB0RpT2BtOcQDF3LSFfgpzANxrAWyDkdEBKDAIrBySMQMNkqmCUAZNAGXPXErL5pMBbQj7oQcjAQKyL22gAD4hARrbz/VRMpsAukKD4sSGSQA==",
          "dtype": "f8"
         },
         "xaxis": "x",
         "y": [
          "Wyoming",
          "Wisconsin",
          "West Virginia",
          "Washington",
          "Virginia",
          "Vermont",
          "Utah",
          "Texas",
          "Tennessee",
          "South Dakota",
          "South Carolina",
          "Rhode Island",
          "Pennsylvania",
          "Oregon",
          "Oklahoma",
          "Ohio",
          "North Carolina",
          "New York",
          "New Mexico",
          "New Jersey",
          "New Hampshire",
          "Nevada",
          "Nebraska",
          "Montana",
          "Missouri",
          "Mississippi",
          "Minnesota",
          "Michigan",
          "Massachusetts",
          "Maryland",
          "Louisiana",
          "Kentucky",
          "Kansas",
          "Iowa",
          "Indiana",
          "Illinois",
          "Idaho",
          "Georgia",
          "Florida",
          "District of Columbia",
          "Delaware",
          "Connecticut",
          "Colorado",
          "California",
          "Arkansas",
          "Arizona",
          "Alabama"
         ],
         "yaxis": "y"
        }
       ],
       "layout": {
        "height": 500,
        "legend": {
         "title": {
          "text": "variable"
         },
         "tracegroupgap": 0
        },
        "margin": {
         "t": 60
        },
        "template": {
         "data": {
          "bar": [
           {
            "error_x": {
             "color": "#2a3f5f"
            },
            "error_y": {
             "color": "#2a3f5f"
            },
            "marker": {
             "line": {
              "color": "#E5ECF6",
              "width": 0.5
             },
             "pattern": {
              "fillmode": "overlay",
              "size": 10,
              "solidity": 0.2
             }
            },
            "type": "bar"
           }
          ],
          "barpolar": [
           {
            "marker": {
             "line": {
              "color": "#E5ECF6",
              "width": 0.5
             },
             "pattern": {
              "fillmode": "overlay",
              "size": 10,
              "solidity": 0.2
             }
            },
            "type": "barpolar"
           }
          ],
          "carpet": [
           {
            "aaxis": {
             "endlinecolor": "#2a3f5f",
             "gridcolor": "white",
             "linecolor": "white",
             "minorgridcolor": "white",
             "startlinecolor": "#2a3f5f"
            },
            "baxis": {
             "endlinecolor": "#2a3f5f",
             "gridcolor": "white",
             "linecolor": "white",
             "minorgridcolor": "white",
             "startlinecolor": "#2a3f5f"
            },
            "type": "carpet"
           }
          ],
          "choropleth": [
           {
            "colorbar": {
             "outlinewidth": 0,
             "ticks": ""
            },
            "type": "choropleth"
           }
          ],
          "contour": [
           {
            "colorbar": {
             "outlinewidth": 0,
             "ticks": ""
            },
            "colorscale": [
             [
              0,
              "#0d0887"
             ],
             [
              0.1111111111111111,
              "#46039f"
             ],
             [
              0.2222222222222222,
              "#7201a8"
             ],
             [
              0.3333333333333333,
              "#9c179e"
             ],
             [
              0.4444444444444444,
              "#bd3786"
             ],
             [
              0.5555555555555556,
              "#d8576b"
             ],
             [
              0.6666666666666666,
              "#ed7953"
             ],
             [
              0.7777777777777778,
              "#fb9f3a"
             ],
             [
              0.8888888888888888,
              "#fdca26"
             ],
             [
              1,
              "#f0f921"
             ]
            ],
            "type": "contour"
           }
          ],
          "contourcarpet": [
           {
            "colorbar": {
             "outlinewidth": 0,
             "ticks": ""
            },
            "type": "contourcarpet"
           }
          ],
          "heatmap": [
           {
            "colorbar": {
             "outlinewidth": 0,
             "ticks": ""
            },
            "colorscale": [
             [
              0,
              "#0d0887"
             ],
             [
              0.1111111111111111,
              "#46039f"
             ],
             [
              0.2222222222222222,
              "#7201a8"
             ],
             [
              0.3333333333333333,
              "#9c179e"
             ],
             [
              0.4444444444444444,
              "#bd3786"
             ],
             [
              0.5555555555555556,
              "#d8576b"
             ],
             [
              0.6666666666666666,
              "#ed7953"
             ],
             [
              0.7777777777777778,
              "#fb9f3a"
             ],
             [
              0.8888888888888888,
              "#fdca26"
             ],
             [
              1,
              "#f0f921"
             ]
            ],
            "type": "heatmap"
           }
          ],
          "histogram": [
           {
            "marker": {
             "pattern": {
              "fillmode": "overlay",
              "size": 10,
              "solidity": 0.2
             }
            },
            "type": "histogram"
           }
          ],
          "histogram2d": [
           {
            "colorbar": {
             "outlinewidth": 0,
             "ticks": ""
            },
            "colorscale": [
             [
              0,
              "#0d0887"
             ],
             [
              0.1111111111111111,
              "#46039f"
             ],
             [
              0.2222222222222222,
              "#7201a8"
             ],
             [
              0.3333333333333333,
              "#9c179e"
             ],
             [
              0.4444444444444444,
              "#bd3786"
             ],
             [
              0.5555555555555556,
              "#d8576b"
             ],
             [
              0.6666666666666666,
              "#ed7953"
             ],
             [
              0.7777777777777778,
              "#fb9f3a"
             ],
             [
              0.8888888888888888,
              "#fdca26"
             ],
             [
              1,
              "#f0f921"
             ]
            ],
            "type": "histogram2d"
           }
          ],
          "histogram2dcontour": [
           {
            "colorbar": {
             "outlinewidth": 0,
             "ticks": ""
            },
            "colorscale": [
             [
              0,
              "#0d0887"
             ],
             [
              0.1111111111111111,
              "#46039f"
             ],
             [
              0.2222222222222222,
              "#7201a8"
             ],
             [
              0.3333333333333333,
              "#9c179e"
             ],
             [
              0.4444444444444444,
              "#bd3786"
             ],
             [
              0.5555555555555556,
              "#d8576b"
             ],
             [
              0.6666666666666666,
              "#ed7953"
             ],
             [
              0.7777777777777778,
              "#fb9f3a"
             ],
             [
              0.8888888888888888,
              "#fdca26"
             ],
             [
              1,
              "#f0f921"
             ]
            ],
            "type": "histogram2dcontour"
           }
          ],
          "mesh3d": [
           {
            "colorbar": {
             "outlinewidth": 0,
             "ticks": ""
            },
            "type": "mesh3d"
           }
          ],
          "parcoords": [
           {
            "line": {
             "colorbar": {
              "outlinewidth": 0,
              "ticks": ""
             }
            },
            "type": "parcoords"
           }
          ],
          "pie": [
           {
            "automargin": true,
            "type": "pie"
           }
          ],
          "scatter": [
           {
            "fillpattern": {
             "fillmode": "overlay",
             "size": 10,
             "solidity": 0.2
            },
            "type": "scatter"
           }
          ],
          "scatter3d": [
           {
            "line": {
             "colorbar": {
              "outlinewidth": 0,
              "ticks": ""
             }
            },
            "marker": {
             "colorbar": {
              "outlinewidth": 0,
              "ticks": ""
             }
            },
            "type": "scatter3d"
           }
          ],
          "scattercarpet": [
           {
            "marker": {
             "colorbar": {
              "outlinewidth": 0,
              "ticks": ""
             }
            },
            "type": "scattercarpet"
           }
          ],
          "scattergeo": [
           {
            "marker": {
             "colorbar": {
              "outlinewidth": 0,
              "ticks": ""
             }
            },
            "type": "scattergeo"
           }
          ],
          "scattergl": [
           {
            "marker": {
             "colorbar": {
              "outlinewidth": 0,
              "ticks": ""
             }
            },
            "type": "scattergl"
           }
          ],
          "scattermap": [
           {
            "marker": {
             "colorbar": {
              "outlinewidth": 0,
              "ticks": ""
             }
            },
            "type": "scattermap"
           }
          ],
          "scattermapbox": [
           {
            "marker": {
             "colorbar": {
              "outlinewidth": 0,
              "ticks": ""
             }
            },
            "type": "scattermapbox"
           }
          ],
          "scatterpolar": [
           {
            "marker": {
             "colorbar": {
              "outlinewidth": 0,
              "ticks": ""
             }
            },
            "type": "scatterpolar"
           }
          ],
          "scatterpolargl": [
           {
            "marker": {
             "colorbar": {
              "outlinewidth": 0,
              "ticks": ""
             }
            },
            "type": "scatterpolargl"
           }
          ],
          "scatterternary": [
           {
            "marker": {
             "colorbar": {
              "outlinewidth": 0,
              "ticks": ""
             }
            },
            "type": "scatterternary"
           }
          ],
          "surface": [
           {
            "colorbar": {
             "outlinewidth": 0,
             "ticks": ""
            },
            "colorscale": [
             [
              0,
              "#0d0887"
             ],
             [
              0.1111111111111111,
              "#46039f"
             ],
             [
              0.2222222222222222,
              "#7201a8"
             ],
             [
              0.3333333333333333,
              "#9c179e"
             ],
             [
              0.4444444444444444,
              "#bd3786"
             ],
             [
              0.5555555555555556,
              "#d8576b"
             ],
             [
              0.6666666666666666,
              "#ed7953"
             ],
             [
              0.7777777777777778,
              "#fb9f3a"
             ],
             [
              0.8888888888888888,
              "#fdca26"
             ],
             [
              1,
              "#f0f921"
             ]
            ],
            "type": "surface"
           }
          ],
          "table": [
           {
            "cells": {
             "fill": {
              "color": "#EBF0F8"
             },
             "line": {
              "color": "white"
             }
            },
            "header": {
             "fill": {
              "color": "#C8D4E3"
             },
             "line": {
              "color": "white"
             }
            },
            "type": "table"
           }
          ]
         },
         "layout": {
          "annotationdefaults": {
           "arrowcolor": "#2a3f5f",
           "arrowhead": 0,
           "arrowwidth": 1
          },
          "autotypenumbers": "strict",
          "coloraxis": {
           "colorbar": {
            "outlinewidth": 0,
            "ticks": ""
           }
          },
          "colorscale": {
           "diverging": [
            [
             0,
             "#8e0152"
            ],
            [
             0.1,
             "#c51b7d"
            ],
            [
             0.2,
             "#de77ae"
            ],
            [
             0.3,
             "#f1b6da"
            ],
            [
             0.4,
             "#fde0ef"
            ],
            [
             0.5,
             "#f7f7f7"
            ],
            [
             0.6,
             "#e6f5d0"
            ],
            [
             0.7,
             "#b8e186"
            ],
            [
             0.8,
             "#7fbc41"
            ],
            [
             0.9,
             "#4d9221"
            ],
            [
             1,
             "#276419"
            ]
           ],
           "sequential": [
            [
             0,
             "#0d0887"
            ],
            [
             0.1111111111111111,
             "#46039f"
            ],
            [
             0.2222222222222222,
             "#7201a8"
            ],
            [
             0.3333333333333333,
             "#9c179e"
            ],
            [
             0.4444444444444444,
             "#bd3786"
            ],
            [
             0.5555555555555556,
             "#d8576b"
            ],
            [
             0.6666666666666666,
             "#ed7953"
            ],
            [
             0.7777777777777778,
             "#fb9f3a"
            ],
            [
             0.8888888888888888,
             "#fdca26"
            ],
            [
             1,
             "#f0f921"
            ]
           ],
           "sequentialminus": [
            [
             0,
             "#0d0887"
            ],
            [
             0.1111111111111111,
             "#46039f"
            ],
            [
             0.2222222222222222,
             "#7201a8"
            ],
            [
             0.3333333333333333,
             "#9c179e"
            ],
            [
             0.4444444444444444,
             "#bd3786"
            ],
            [
             0.5555555555555556,
             "#d8576b"
            ],
            [
             0.6666666666666666,
             "#ed7953"
            ],
            [
             0.7777777777777778,
             "#fb9f3a"
            ],
            [
             0.8888888888888888,
             "#fdca26"
            ],
            [
             1,
             "#f0f921"
            ]
           ]
          },
          "colorway": [
           "#636efa",
           "#EF553B",
           "#00cc96",
           "#ab63fa",
           "#FFA15A",
           "#19d3f3",
           "#FF6692",
           "#B6E880",
           "#FF97FF",
           "#FECB52"
          ],
          "font": {
           "color": "#2a3f5f"
          },
          "geo": {
           "bgcolor": "white",
           "lakecolor": "white",
           "landcolor": "#E5ECF6",
           "showlakes": true,
           "showland": true,
           "subunitcolor": "white"
          },
          "hoverlabel": {
           "align": "left"
          },
          "hovermode": "closest",
          "mapbox": {
           "style": "light"
          },
          "paper_bgcolor": "white",
          "plot_bgcolor": "#E5ECF6",
          "polar": {
           "angularaxis": {
            "gridcolor": "white",
            "linecolor": "white",
            "ticks": ""
           },
           "bgcolor": "#E5ECF6",
           "radialaxis": {
            "gridcolor": "white",
            "linecolor": "white",
            "ticks": ""
           }
          },
          "scene": {
           "xaxis": {
            "backgroundcolor": "#E5ECF6",
            "gridcolor": "white",
            "gridwidth": 2,
            "linecolor": "white",
            "showbackground": true,
            "ticks": "",
            "zerolinecolor": "white"
           },
           "yaxis": {
            "backgroundcolor": "#E5ECF6",
            "gridcolor": "white",
            "gridwidth": 2,
            "linecolor": "white",
            "showbackground": true,
            "ticks": "",
            "zerolinecolor": "white"
           },
           "zaxis": {
            "backgroundcolor": "#E5ECF6",
            "gridcolor": "white",
            "gridwidth": 2,
            "linecolor": "white",
            "showbackground": true,
            "ticks": "",
            "zerolinecolor": "white"
           }
          },
          "shapedefaults": {
           "line": {
            "color": "#2a3f5f"
           }
          },
          "ternary": {
           "aaxis": {
            "gridcolor": "white",
            "linecolor": "white",
            "ticks": ""
           },
           "baxis": {
            "gridcolor": "white",
            "linecolor": "white",
            "ticks": ""
           },
           "bgcolor": "#E5ECF6",
           "caxis": {
            "gridcolor": "white",
            "linecolor": "white",
            "ticks": ""
           }
          },
          "title": {
           "x": 0.05
          },
          "xaxis": {
           "automargin": true,
           "gridcolor": "white",
           "linecolor": "white",
           "ticks": "",
           "title": {
            "standoff": 15
           },
           "zerolinecolor": "white",
           "zerolinewidth": 2
          },
          "yaxis": {
           "automargin": true,
           "gridcolor": "white",
           "linecolor": "white",
           "ticks": "",
           "title": {
            "standoff": 15
           },
           "zerolinecolor": "white",
           "zerolinewidth": 2
          }
         }
        },
        "width": 800,
        "xaxis": {
         "anchor": "y",
         "domain": [
          0,
          1
         ],
         "title": {
          "text": "value"
         }
        },
        "yaxis": {
         "anchor": "x",
         "domain": [
          0,
          1
         ],
         "title": {
          "text": "State"
         }
        }
       }
      }
     },
     "metadata": {},
     "output_type": "display_data"
    }
   ],
   "source": [
    "chosen_cols2 = ['Sales', 'Profit']\n",
    "sales = df.groupby('State')[chosen_cols1].sum().reset_index().sort_values(by='State', ascending=False)\n",
    "sales\n",
    "\n",
    "fig = px.line(sales, x=chosen_cols2, y='State', width=800, height=500)\n",
    "\n",
    "# Plot Settings\n",
    "fig.write_image(\"line_plot.jpg\")\n",
    "fig.show()"
   ]
  },
  {
   "cell_type": "markdown",
   "metadata": {},
   "source": [
    "Investigate the relationship between Discount and Profit. Create a scatter plot to visualise this relationship. "
   ]
  },
  {
   "cell_type": "code",
   "execution_count": 40,
   "metadata": {},
   "outputs": [
    {
     "data": {
      "application/vnd.plotly.v1+json": {
       "config": {
        "plotlyServerURL": "https://plot.ly"
       },
       "data": [
        {
         "hovertemplate": "Discount=%{marker.color}<br>Profit=%{y}<extra></extra>",
         "legendgroup": "",
         "marker": {
          "color": {
           "bdata": "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",
           "dtype": "f8"
          },
          "coloraxis": "coloraxis",
          "symbol": "circle"
         },
         "mode": "markers",
         "name": "",
         "showlegend": false,
         "type": "scattergl",
         "x": {
          "bdata": "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",
          "dtype": "f8"
         },
         "xaxis": "x",
         "y": {
          "bdata": "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",
          "dtype": "f8"
         },
         "yaxis": "y"
        }
       ],
       "layout": {
        "coloraxis": {
         "colorbar": {
          "title": {
           "text": "Discount"
          }
         },
         "colorscale": [
          [
           0,
           "#440154"
          ],
          [
           0.1111111111111111,
           "#482878"
          ],
          [
           0.2222222222222222,
           "#3e4989"
          ],
          [
           0.3333333333333333,
           "#31688e"
          ],
          [
           0.4444444444444444,
           "#26828e"
          ],
          [
           0.5555555555555556,
           "#1f9e89"
          ],
          [
           0.6666666666666666,
           "#35b779"
          ],
          [
           0.7777777777777778,
           "#6ece58"
          ],
          [
           0.8888888888888888,
           "#b5de2b"
          ],
          [
           1,
           "#fde725"
          ]
         ]
        },
        "legend": {
         "tracegroupgap": 0
        },
        "template": {
         "data": {
          "bar": [
           {
            "error_x": {
             "color": "#2a3f5f"
            },
            "error_y": {
             "color": "#2a3f5f"
            },
            "marker": {
             "line": {
              "color": "#E5ECF6",
              "width": 0.5
             },
             "pattern": {
              "fillmode": "overlay",
              "size": 10,
              "solidity": 0.2
             }
            },
            "type": "bar"
           }
          ],
          "barpolar": [
           {
            "marker": {
             "line": {
              "color": "#E5ECF6",
              "width": 0.5
             },
             "pattern": {
              "fillmode": "overlay",
              "size": 10,
              "solidity": 0.2
             }
            },
            "type": "barpolar"
           }
          ],
          "carpet": [
           {
            "aaxis": {
             "endlinecolor": "#2a3f5f",
             "gridcolor": "white",
             "linecolor": "white",
             "minorgridcolor": "white",
             "startlinecolor": "#2a3f5f"
            },
            "baxis": {
             "endlinecolor": "#2a3f5f",
             "gridcolor": "white",
             "linecolor": "white",
             "minorgridcolor": "white",
             "startlinecolor": "#2a3f5f"
            },
            "type": "carpet"
           }
          ],
          "choropleth": [
           {
            "colorbar": {
             "outlinewidth": 0,
             "ticks": ""
            },
            "type": "choropleth"
           }
          ],
          "contour": [
           {
            "colorbar": {
             "outlinewidth": 0,
             "ticks": ""
            },
            "colorscale": [
             [
              0,
              "#0d0887"
             ],
             [
              0.1111111111111111,
              "#46039f"
             ],
             [
              0.2222222222222222,
              "#7201a8"
             ],
             [
              0.3333333333333333,
              "#9c179e"
             ],
             [
              0.4444444444444444,
              "#bd3786"
             ],
             [
              0.5555555555555556,
              "#d8576b"
             ],
             [
              0.6666666666666666,
              "#ed7953"
             ],
             [
              0.7777777777777778,
              "#fb9f3a"
             ],
             [
              0.8888888888888888,
              "#fdca26"
             ],
             [
              1,
              "#f0f921"
             ]
            ],
            "type": "contour"
           }
          ],
          "contourcarpet": [
           {
            "colorbar": {
             "outlinewidth": 0,
             "ticks": ""
            },
            "type": "contourcarpet"
           }
          ],
          "heatmap": [
           {
            "colorbar": {
             "outlinewidth": 0,
             "ticks": ""
            },
            "colorscale": [
             [
              0,
              "#0d0887"
             ],
             [
              0.1111111111111111,
              "#46039f"
             ],
             [
              0.2222222222222222,
              "#7201a8"
             ],
             [
              0.3333333333333333,
              "#9c179e"
             ],
             [
              0.4444444444444444,
              "#bd3786"
             ],
             [
              0.5555555555555556,
              "#d8576b"
             ],
             [
              0.6666666666666666,
              "#ed7953"
             ],
             [
              0.7777777777777778,
              "#fb9f3a"
             ],
             [
              0.8888888888888888,
              "#fdca26"
             ],
             [
              1,
              "#f0f921"
             ]
            ],
            "type": "heatmap"
           }
          ],
          "histogram": [
           {
            "marker": {
             "pattern": {
              "fillmode": "overlay",
              "size": 10,
              "solidity": 0.2
             }
            },
            "type": "histogram"
           }
          ],
          "histogram2d": [
           {
            "colorbar": {
             "outlinewidth": 0,
             "ticks": ""
            },
            "colorscale": [
             [
              0,
              "#0d0887"
             ],
             [
              0.1111111111111111,
              "#46039f"
             ],
             [
              0.2222222222222222,
              "#7201a8"
             ],
             [
              0.3333333333333333,
              "#9c179e"
             ],
             [
              0.4444444444444444,
              "#bd3786"
             ],
             [
              0.5555555555555556,
              "#d8576b"
             ],
             [
              0.6666666666666666,
              "#ed7953"
             ],
             [
              0.7777777777777778,
              "#fb9f3a"
             ],
             [
              0.8888888888888888,
              "#fdca26"
             ],
             [
              1,
              "#f0f921"
             ]
            ],
            "type": "histogram2d"
           }
          ],
          "histogram2dcontour": [
           {
            "colorbar": {
             "outlinewidth": 0,
             "ticks": ""
            },
            "colorscale": [
             [
              0,
              "#0d0887"
             ],
             [
              0.1111111111111111,
              "#46039f"
             ],
             [
              0.2222222222222222,
              "#7201a8"
             ],
             [
              0.3333333333333333,
              "#9c179e"
             ],
             [
              0.4444444444444444,
              "#bd3786"
             ],
             [
              0.5555555555555556,
              "#d8576b"
             ],
             [
              0.6666666666666666,
              "#ed7953"
             ],
             [
              0.7777777777777778,
              "#fb9f3a"
             ],
             [
              0.8888888888888888,
              "#fdca26"
             ],
             [
              1,
              "#f0f921"
             ]
            ],
            "type": "histogram2dcontour"
           }
          ],
          "mesh3d": [
           {
            "colorbar": {
             "outlinewidth": 0,
             "ticks": ""
            },
            "type": "mesh3d"
           }
          ],
          "parcoords": [
           {
            "line": {
             "colorbar": {
              "outlinewidth": 0,
              "ticks": ""
             }
            },
            "type": "parcoords"
           }
          ],
          "pie": [
           {
            "automargin": true,
            "type": "pie"
           }
          ],
          "scatter": [
           {
            "fillpattern": {
             "fillmode": "overlay",
             "size": 10,
             "solidity": 0.2
            },
            "type": "scatter"
           }
          ],
          "scatter3d": [
           {
            "line": {
             "colorbar": {
              "outlinewidth": 0,
              "ticks": ""
             }
            },
            "marker": {
             "colorbar": {
              "outlinewidth": 0,
              "ticks": ""
             }
            },
            "type": "scatter3d"
           }
          ],
          "scattercarpet": [
           {
            "marker": {
             "colorbar": {
              "outlinewidth": 0,
              "ticks": ""
             }
            },
            "type": "scattercarpet"
           }
          ],
          "scattergeo": [
           {
            "marker": {
             "colorbar": {
              "outlinewidth": 0,
              "ticks": ""
             }
            },
            "type": "scattergeo"
           }
          ],
          "scattergl": [
           {
            "marker": {
             "colorbar": {
              "outlinewidth": 0,
              "ticks": ""
             }
            },
            "type": "scattergl"
           }
          ],
          "scattermap": [
           {
            "marker": {
             "colorbar": {
              "outlinewidth": 0,
              "ticks": ""
             }
            },
            "type": "scattermap"
           }
          ],
          "scattermapbox": [
           {
            "marker": {
             "colorbar": {
              "outlinewidth": 0,
              "ticks": ""
             }
            },
            "type": "scattermapbox"
           }
          ],
          "scatterpolar": [
           {
            "marker": {
             "colorbar": {
              "outlinewidth": 0,
              "ticks": ""
             }
            },
            "type": "scatterpolar"
           }
          ],
          "scatterpolargl": [
           {
            "marker": {
             "colorbar": {
              "outlinewidth": 0,
              "ticks": ""
             }
            },
            "type": "scatterpolargl"
           }
          ],
          "scatterternary": [
           {
            "marker": {
             "colorbar": {
              "outlinewidth": 0,
              "ticks": ""
             }
            },
            "type": "scatterternary"
           }
          ],
          "surface": [
           {
            "colorbar": {
             "outlinewidth": 0,
             "ticks": ""
            },
            "colorscale": [
             [
              0,
              "#0d0887"
             ],
             [
              0.1111111111111111,
              "#46039f"
             ],
             [
              0.2222222222222222,
              "#7201a8"
             ],
             [
              0.3333333333333333,
              "#9c179e"
             ],
             [
              0.4444444444444444,
              "#bd3786"
             ],
             [
              0.5555555555555556,
              "#d8576b"
             ],
             [
              0.6666666666666666,
              "#ed7953"
             ],
             [
              0.7777777777777778,
              "#fb9f3a"
             ],
             [
              0.8888888888888888,
              "#fdca26"
             ],
             [
              1,
              "#f0f921"
             ]
            ],
            "type": "surface"
           }
          ],
          "table": [
           {
            "cells": {
             "fill": {
              "color": "#EBF0F8"
             },
             "line": {
              "color": "white"
             }
            },
            "header": {
             "fill": {
              "color": "#C8D4E3"
             },
             "line": {
              "color": "white"
             }
            },
            "type": "table"
           }
          ]
         },
         "layout": {
          "annotationdefaults": {
           "arrowcolor": "#2a3f5f",
           "arrowhead": 0,
           "arrowwidth": 1
          },
          "autotypenumbers": "strict",
          "coloraxis": {
           "colorbar": {
            "outlinewidth": 0,
            "ticks": ""
           }
          },
          "colorscale": {
           "diverging": [
            [
             0,
             "#8e0152"
            ],
            [
             0.1,
             "#c51b7d"
            ],
            [
             0.2,
             "#de77ae"
            ],
            [
             0.3,
             "#f1b6da"
            ],
            [
             0.4,
             "#fde0ef"
            ],
            [
             0.5,
             "#f7f7f7"
            ],
            [
             0.6,
             "#e6f5d0"
            ],
            [
             0.7,
             "#b8e186"
            ],
            [
             0.8,
             "#7fbc41"
            ],
            [
             0.9,
             "#4d9221"
            ],
            [
             1,
             "#276419"
            ]
           ],
           "sequential": [
            [
             0,
             "#0d0887"
            ],
            [
             0.1111111111111111,
             "#46039f"
            ],
            [
             0.2222222222222222,
             "#7201a8"
            ],
            [
             0.3333333333333333,
             "#9c179e"
            ],
            [
             0.4444444444444444,
             "#bd3786"
            ],
            [
             0.5555555555555556,
             "#d8576b"
            ],
            [
             0.6666666666666666,
             "#ed7953"
            ],
            [
             0.7777777777777778,
             "#fb9f3a"
            ],
            [
             0.8888888888888888,
             "#fdca26"
            ],
            [
             1,
             "#f0f921"
            ]
           ],
           "sequentialminus": [
            [
             0,
             "#0d0887"
            ],
            [
             0.1111111111111111,
             "#46039f"
            ],
            [
             0.2222222222222222,
             "#7201a8"
            ],
            [
             0.3333333333333333,
             "#9c179e"
            ],
            [
             0.4444444444444444,
             "#bd3786"
            ],
            [
             0.5555555555555556,
             "#d8576b"
            ],
            [
             0.6666666666666666,
             "#ed7953"
            ],
            [
             0.7777777777777778,
             "#fb9f3a"
            ],
            [
             0.8888888888888888,
             "#fdca26"
            ],
            [
             1,
             "#f0f921"
            ]
           ]
          },
          "colorway": [
           "#636efa",
           "#EF553B",
           "#00cc96",
           "#ab63fa",
           "#FFA15A",
           "#19d3f3",
           "#FF6692",
           "#B6E880",
           "#FF97FF",
           "#FECB52"
          ],
          "font": {
           "color": "#2a3f5f"
          },
          "geo": {
           "bgcolor": "white",
           "lakecolor": "white",
           "landcolor": "#E5ECF6",
           "showlakes": true,
           "showland": true,
           "subunitcolor": "white"
          },
          "hoverlabel": {
           "align": "left"
          },
          "hovermode": "closest",
          "mapbox": {
           "style": "light"
          },
          "paper_bgcolor": "white",
          "plot_bgcolor": "#E5ECF6",
          "polar": {
           "angularaxis": {
            "gridcolor": "white",
            "linecolor": "white",
            "ticks": ""
           },
           "bgcolor": "#E5ECF6",
           "radialaxis": {
            "gridcolor": "white",
            "linecolor": "white",
            "ticks": ""
           }
          },
          "scene": {
           "xaxis": {
            "backgroundcolor": "#E5ECF6",
            "gridcolor": "white",
            "gridwidth": 2,
            "linecolor": "white",
            "showbackground": true,
            "ticks": "",
            "zerolinecolor": "white"
           },
           "yaxis": {
            "backgroundcolor": "#E5ECF6",
            "gridcolor": "white",
            "gridwidth": 2,
            "linecolor": "white",
            "showbackground": true,
            "ticks": "",
            "zerolinecolor": "white"
           },
           "zaxis": {
            "backgroundcolor": "#E5ECF6",
            "gridcolor": "white",
            "gridwidth": 2,
            "linecolor": "white",
            "showbackground": true,
            "ticks": "",
            "zerolinecolor": "white"
           }
          },
          "shapedefaults": {
           "line": {
            "color": "#2a3f5f"
           }
          },
          "ternary": {
           "aaxis": {
            "gridcolor": "white",
            "linecolor": "white",
            "ticks": ""
           },
           "baxis": {
            "gridcolor": "white",
            "linecolor": "white",
            "ticks": ""
           },
           "bgcolor": "#E5ECF6",
           "caxis": {
            "gridcolor": "white",
            "linecolor": "white",
            "ticks": ""
           }
          },
          "title": {
           "x": 0.05
          },
          "xaxis": {
           "automargin": true,
           "gridcolor": "white",
           "linecolor": "white",
           "ticks": "",
           "title": {
            "standoff": 15
           },
           "zerolinecolor": "white",
           "zerolinewidth": 2
          },
          "yaxis": {
           "automargin": true,
           "gridcolor": "white",
           "linecolor": "white",
           "ticks": "",
           "title": {
            "standoff": 15
           },
           "zerolinecolor": "white",
           "zerolinewidth": 2
          }
         }
        },
        "title": {
         "text": "Discount vs Profit"
        },
        "xaxis": {
         "anchor": "y",
         "domain": [
          0,
          1
         ],
         "title": {
          "text": "Discount"
         }
        },
        "yaxis": {
         "anchor": "x",
         "domain": [
          0,
          1
         ],
         "title": {
          "text": "Profit"
         }
        }
       }
      }
     },
     "metadata": {},
     "output_type": "display_data"
    }
   ],
   "source": [
    "colors = px.colors.sequential.Viridis\n",
    "\n",
    "px.scatter(df, x='Discount', y='Profit', color='Discount',\n",
    "       color_continuous_scale=colors,\n",
    "       title='Discount vs Profit')\n"
   ]
  },
  {
   "cell_type": "markdown",
   "metadata": {},
   "source": [
    "Investigate the distribution of different ship modes."
   ]
  },
  {
   "cell_type": "code",
   "execution_count": null,
   "metadata": {},
   "outputs": [
    {
     "data": {
      "application/vnd.microsoft.datawrangler.viewer.v0+json": {
       "columns": [
        {
         "name": "index",
         "rawType": "int64",
         "type": "integer"
        },
        {
         "name": "Ship Mode",
         "rawType": "object",
         "type": "string"
        },
        {
         "name": "count",
         "rawType": "int64",
         "type": "integer"
        }
       ],
       "ref": "8d1712b0-9ed5-4aa7-8da5-c3edc0d4f1c2",
       "rows": [
        [
         "0",
         "Standard Class",
         "1181"
        ],
        [
         "1",
         "Second Class",
         "410"
        ],
        [
         "2",
         "First Class",
         "314"
        ],
        [
         "3",
         "Same Day",
         "110"
        ]
       ],
       "shape": {
        "columns": 2,
        "rows": 4
       }
      },
      "text/html": [
       "<div>\n",
       "<style scoped>\n",
       "    .dataframe tbody tr th:only-of-type {\n",
       "        vertical-align: middle;\n",
       "    }\n",
       "\n",
       "    .dataframe tbody tr th {\n",
       "        vertical-align: top;\n",
       "    }\n",
       "\n",
       "    .dataframe thead th {\n",
       "        text-align: right;\n",
       "    }\n",
       "</style>\n",
       "<table border=\"1\" class=\"dataframe\">\n",
       "  <thead>\n",
       "    <tr style=\"text-align: right;\">\n",
       "      <th></th>\n",
       "      <th>Ship Mode</th>\n",
       "      <th>count</th>\n",
       "    </tr>\n",
       "  </thead>\n",
       "  <tbody>\n",
       "    <tr>\n",
       "      <th>0</th>\n",
       "      <td>Standard Class</td>\n",
       "      <td>1181</td>\n",
       "    </tr>\n",
       "    <tr>\n",
       "      <th>1</th>\n",
       "      <td>Second Class</td>\n",
       "      <td>410</td>\n",
       "    </tr>\n",
       "    <tr>\n",
       "      <th>2</th>\n",
       "      <td>First Class</td>\n",
       "      <td>314</td>\n",
       "    </tr>\n",
       "    <tr>\n",
       "      <th>3</th>\n",
       "      <td>Same Day</td>\n",
       "      <td>110</td>\n",
       "    </tr>\n",
       "  </tbody>\n",
       "</table>\n",
       "</div>"
      ],
      "text/plain": [
       "        Ship Mode  count\n",
       "0  Standard Class   1181\n",
       "1    Second Class    410\n",
       "2     First Class    314\n",
       "3        Same Day    110"
      ]
     },
     "execution_count": 10,
     "metadata": {},
     "output_type": "execute_result"
    }
   ],
   "source": [
    "df['Ship Mode'].value_counts().sort_values(ascending=False).reset_index()"
   ]
  },
  {
   "cell_type": "markdown",
   "metadata": {},
   "source": [
    "Way 1"
   ]
  },
  {
   "cell_type": "code",
   "execution_count": null,
   "metadata": {},
   "outputs": [
    {
     "data": {
      "application/vnd.plotly.v1+json": {
       "config": {
        "plotlyServerURL": "https://plot.ly"
       },
       "data": [
        {
         "hovertemplate": "Ship Mode=%{x}<br>count=%{y}<extra></extra>",
         "legendgroup": "",
         "marker": {
          "color": "red",
          "pattern": {
           "shape": ""
          }
         },
         "name": "",
         "orientation": "v",
         "showlegend": false,
         "textposition": "auto",
         "type": "bar",
         "x": [
          "Second Class",
          "Second Class",
          "Standard Class",
          "Standard Class",
          "Standard Class",
          "Second Class",
          "Standard Class",
          "Standard Class",
          "Standard Class",
          "First Class",
          "Standard Class",
          "Standard Class",
          "Standard Class",
          "Standard Class",
          "First Class",
          "Standard Class",
          "Standard Class",
          "Standard Class",
          "Standard Class",
          "First Class",
          "Second Class",
          "Second Class",
          "Second Class",
          "Second Class",
          "Standard Class",
          "Standard Class",
          "Standard Class",
          "First Class",
          "Second Class",
          "Second Class",
          "Second Class",
          "Standard Class",
          "Second Class",
          "Standard Class",
          "Standard Class",
          "Second Class",
          "Standard Class",
          "Standard Class",
          "Second Class",
          "First Class",
          "First Class",
          "First Class",
          "Standard Class",
          "Standard Class",
          "First Class",
          "Standard Class",
          "Standard Class",
          "Standard Class",
          "Standard Class",
          "Standard Class",
          "Second Class",
          "Second Class",
          "Second Class",
          "Second Class",
          "Second Class",
          "Second Class",
          "Standard Class",
          "First Class",
          "Standard Class",
          "Second Class",
          "First Class",
          "First Class",
          "First Class",
          "Standard Class",
          "Standard Class",
          "Second Class",
          "Second Class",
          "Standard Class",
          "Standard Class",
          "Second Class",
          "First Class",
          "Standard Class",
          "Standard Class",
          "Standard Class",
          "Standard Class",
          "Same Day",
          "Standard Class",
          "Standard Class",
          "Standard Class",
          "Second Class",
          "Standard Class",
          "Standard Class",
          "Standard Class",
          "Standard Class",
          "Standard Class",
          "Standard Class",
          "Second Class",
          "Second Class",
          "Second Class",
          "Second Class",
          "Second Class",
          "Second Class",
          "Standard Class",
          "Standard Class",
          "Standard Class",
          "Standard Class",
          "Standard Class",
          "Standard Class",
          "Standard Class",
          "Second Class",
          "Standard Class",
          "First Class",
          "Second Class",
          "Standard Class",
          "Standard Class",
          "Standard Class",
          "First Class",
          "Standard Class",
          "Standard Class",
          "Second Class",
          "Standard Class",
          "Standard Class",
          "Standard Class",
          "Second Class",
          "First Class",
          "Standard Class",
          "Second Class",
          "Second Class",
          "Standard Class",
          "Standard Class",
          "Standard Class",
          "Standard Class",
          "Standard Class",
          "Second Class",
          "Second Class",
          "Second Class",
          "Standard Class",
          "Standard Class",
          "Second Class",
          "Standard Class",
          "Standard Class",
          "Second Class",
          "Same Day",
          "Standard Class",
          "First Class",
          "Standard Class",
          "Standard Class",
          "Standard Class",
          "Standard Class",
          "Second Class",
          "Standard Class",
          "Second Class",
          "Standard Class",
          "First Class",
          "First Class",
          "Standard Class",
          "Standard Class",
          "Standard Class",
          "Standard Class",
          "First Class",
          "First Class",
          "Standard Class",
          "Same Day",
          "Standard Class",
          "Standard Class",
          "Standard Class",
          "Standard Class",
          "Standard Class",
          "Standard Class",
          "First Class",
          "Second Class",
          "Standard Class",
          "Standard Class",
          "Standard Class",
          "First Class",
          "First Class",
          "First Class",
          "First Class",
          "Same Day",
          "Standard Class",
          "Second Class",
          "Standard Class",
          "Standard Class",
          "Standard Class",
          "Standard Class",
          "Standard Class",
          "Standard Class",
          "Second Class",
          "First Class",
          "Standard Class",
          "Standard Class",
          "Standard Class",
          "First Class",
          "Standard Class",
          "Standard Class",
          "Standard Class",
          "First Class",
          "Standard Class",
          "Standard Class",
          "Standard Class",
          "Standard Class",
          "Standard Class",
          "Same Day",
          "Standard Class",
          "Second Class",
          "Standard Class",
          "Second Class",
          "Standard Class",
          "Second Class",
          "Standard Class",
          "Standard Class",
          "Same Day",
          "First Class",
          "Second Class",
          "Second Class",
          "Standard Class",
          "Standard Class",
          "Standard Class",
          "Standard Class",
          "Standard Class",
          "Standard Class",
          "Second Class",
          "Standard Class",
          "Standard Class",
          "First Class",
          "First Class",
          "Standard Class",
          "Standard Class",
          "First Class",
          "Standard Class",
          "Standard Class",
          "Standard Class",
          "First Class",
          "First Class",
          "Standard Class",
          "Second Class",
          "Standard Class",
          "Standard Class",
          "Standard Class",
          "Standard Class",
          "First Class",
          "Second Class",
          "Standard Class",
          "Second Class",
          "Same Day",
          "Same Day",
          "Standard Class",
          "Standard Class",
          "Standard Class",
          "Second Class",
          "Standard Class",
          "Standard Class",
          "First Class",
          "Standard Class",
          "Same Day",
          "Same Day",
          "Standard Class",
          "Second Class",
          "Second Class",
          "Second Class",
          "Standard Class",
          "Standard Class",
          "Standard Class",
          "First Class",
          "Standard Class",
          "Standard Class",
          "Same Day",
          "Standard Class",
          "Second Class",
          "Second Class",
          "Second Class",
          "Standard Class",
          "First Class",
          "Standard Class",
          "Standard Class",
          "Standard Class",
          "Standard Class",
          "Standard Class",
          "Second Class",
          "Second Class",
          "Standard Class",
          "First Class",
          "Second Class",
          "First Class",
          "First Class",
          "Standard Class",
          "Standard Class",
          "Standard Class",
          "Same Day",
          "Standard Class",
          "Standard Class",
          "Standard Class",
          "First Class",
          "Standard Class",
          "Standard Class",
          "Standard Class",
          "First Class",
          "Second Class",
          "Same Day",
          "First Class",
          "Standard Class",
          "Same Day",
          "Standard Class",
          "Standard Class",
          "Standard Class",
          "Same Day",
          "Standard Class",
          "Standard Class",
          "Standard Class",
          "Standard Class",
          "Standard Class",
          "Standard Class",
          "Second Class",
          "Standard Class",
          "Standard Class",
          "Standard Class",
          "Second Class",
          "Second Class",
          "Second Class",
          "Second Class",
          "Same Day",
          "First Class",
          "First Class",
          "First Class",
          "First Class",
          "First Class",
          "First Class",
          "First Class",
          "Standard Class",
          "First Class",
          "Second Class",
          "Second Class",
          "Standard Class",
          "Standard Class",
          "Standard Class",
          "Second Class",
          "Standard Class",
          "First Class",
          "Standard Class",
          "Standard Class",
          "Standard Class",
          "Standard Class",
          "First Class",
          "Standard Class",
          "Standard Class",
          "Second Class",
          "Second Class",
          "Standard Class",
          "Second Class",
          "Standard Class",
          "Standard Class",
          "Standard Class",
          "Standard Class",
          "Second Class",
          "Standard Class",
          "Standard Class",
          "First Class",
          "Standard Class",
          "Standard Class",
          "Standard Class",
          "First Class",
          "Standard Class",
          "Second Class",
          "Standard Class",
          "Standard Class",
          "Standard Class",
          "Standard Class",
          "Standard Class",
          "Standard Class",
          "Standard Class",
          "Same Day",
          "Standard Class",
          "Standard Class",
          "Same Day",
          "First Class",
          "Standard Class",
          "Standard Class",
          "First Class",
          "Standard Class",
          "Standard Class",
          "Standard Class",
          "Standard Class",
          "Standard Class",
          "Same Day",
          "Second Class",
          "First Class",
          "Second Class",
          "First Class",
          "First Class",
          "Standard Class",
          "First Class",
          "Second Class",
          "Second Class",
          "Second Class",
          "Standard Class",
          "Standard Class",
          "Standard Class",
          "Standard Class",
          "Second Class",
          "Standard Class",
          "Second Class",
          "Second Class",
          "First Class",
          "Standard Class",
          "First Class",
          "First Class",
          "Standard Class",
          "Standard Class",
          "First Class",
          "First Class",
          "First Class",
          "Standard Class",
          "First Class",
          "First Class",
          "Standard Class",
          "Standard Class",
          "Standard Class",
          "Standard Class",
          "Standard Class",
          "Same Day",
          "Same Day",
          "Same Day",
          "Second Class",
          "First Class",
          "Second Class",
          "Standard Class",
          "Second Class",
          "Standard Class",
          "Standard Class",
          "Standard Class",
          "Standard Class",
          "Standard Class",
          "Same Day",
          "Standard Class",
          "Standard Class",
          "Standard Class",
          "Standard Class",
          "Standard Class",
          "Standard Class",
          "Standard Class",
          "Standard Class",
          "Standard Class",
          "First Class",
          "Same Day",
          "Second Class",
          "Standard Class",
          "Standard Class",
          "Standard Class",
          "First Class",
          "First Class",
          "Standard Class",
          "Second Class",
          "Second Class",
          "Standard Class",
          "First Class",
          "First Class",
          "First Class",
          "Standard Class",
          "Standard Class",
          "Standard Class",
          "First Class",
          "First Class",
          "Standard Class",
          "Second Class",
          "Standard Class",
          "First Class",
          "Standard Class",
          "First Class",
          "Standard Class",
          "Standard Class",
          "Standard Class",
          "Standard Class",
          "Second Class",
          "Standard Class",
          "Second Class",
          "Standard Class",
          "Standard Class",
          "First Class",
          "Standard Class",
          "Standard Class",
          "Standard Class",
          "Standard Class",
          "Standard Class",
          "Standard Class",
          "Standard Class",
          "Standard Class",
          "Second Class",
          "Standard Class",
          "Standard Class",
          "Standard Class",
          "Standard Class",
          "Standard Class",
          "First Class",
          "Second Class",
          "Standard Class",
          "Second Class",
          "Standard Class",
          "Second Class",
          "Standard Class",
          "Standard Class",
          "Second Class",
          "Same Day",
          "Same Day",
          "Standard Class",
          "Standard Class",
          "Standard Class",
          "Standard Class",
          "Standard Class",
          "Standard Class",
          "Second Class",
          "Standard Class",
          "Standard Class",
          "Standard Class",
          "Standard Class",
          "Standard Class",
          "Standard Class",
          "Same Day",
          "Same Day",
          "Standard Class",
          "Standard Class",
          "Standard Class",
          "Standard Class",
          "Standard Class",
          "Standard Class",
          "Standard Class",
          "Second Class",
          "Standard Class",
          "Second Class",
          "Second Class",
          "Second Class",
          "Standard Class",
          "Second Class",
          "Standard Class",
          "First Class",
          "Standard Class",
          "Second Class",
          "Standard Class",
          "Standard Class",
          "Standard Class",
          "Standard Class",
          "First Class",
          "Second Class",
          "Standard Class",
          "Standard Class",
          "Standard Class",
          "Standard Class",
          "Second Class",
          "Standard Class",
          "Standard Class",
          "Standard Class",
          "Standard Class",
          "First Class",
          "Second Class",
          "Standard Class",
          "First Class",
          "Standard Class",
          "Standard Class",
          "Standard Class",
          "Standard Class",
          "Second Class",
          "Second Class",
          "Second Class",
          "Second Class",
          "Second Class",
          "Standard Class",
          "Standard Class",
          "First Class",
          "Standard Class",
          "Standard Class",
          "Standard Class",
          "Standard Class",
          "Second Class",
          "Second Class",
          "First Class",
          "Second Class",
          "Standard Class",
          "Standard Class",
          "Standard Class",
          "Second Class",
          "Second Class",
          "Second Class",
          "Standard Class",
          "Second Class",
          "Standard Class",
          "Standard Class",
          "Standard Class",
          "Same Day",
          "First Class",
          "Second Class",
          "Standard Class",
          "Same Day",
          "Standard Class",
          "Standard Class",
          "Standard Class",
          "Standard Class",
          "First Class",
          "Standard Class",
          "Same Day",
          "Same Day",
          "Standard Class",
          "Second Class",
          "Second Class",
          "Second Class",
          "Standard Class",
          "Second Class",
          "Standard Class",
          "Same Day",
          "Second Class",
          "Standard Class",
          "Standard Class",
          "Second Class",
          "Standard Class",
          "Standard Class",
          "First Class",
          "Standard Class",
          "Standard Class",
          "Standard Class",
          "Standard Class",
          "Standard Class",
          "Standard Class",
          "Standard Class",
          "Standard Class",
          "Standard Class",
          "Standard Class",
          "Standard Class",
          "Same Day",
          "First Class",
          "Second Class",
          "Second Class",
          "Standard Class",
          "Standard Class",
          "Standard Class",
          "Standard Class",
          "Second Class",
          "Standard Class",
          "Standard Class",
          "Second Class",
          "Standard Class",
          "First Class",
          "First Class",
          "First Class",
          "First Class",
          "First Class",
          "Standard Class",
          "Standard Class",
          "Second Class",
          "First Class",
          "Standard Class",
          "First Class",
          "Standard Class",
          "Standard Class",
          "Standard Class",
          "Standard Class",
          "Second Class",
          "Standard Class",
          "Standard Class",
          "Second Class",
          "Same Day",
          "Standard Class",
          "Standard Class",
          "Standard Class",
          "Standard Class",
          "First Class",
          "Second Class",
          "Standard Class",
          "Standard Class",
          "Standard Class",
          "Standard Class",
          "Standard Class",
          "Standard Class",
          "Second Class",
          "Standard Class",
          "Standard Class",
          "Standard Class",
          "First Class",
          "First Class",
          "Second Class",
          "Standard Class",
          "Standard Class",
          "Second Class",
          "Second Class",
          "First Class",
          "Standard Class",
          "Standard Class",
          "Standard Class",
          "Standard Class",
          "First Class",
          "Second Class",
          "Standard Class",
          "First Class",
          "Standard Class",
          "Standard Class",
          "Standard Class",
          "Standard Class",
          "Standard Class",
          "Standard Class",
          "Second Class",
          "First Class",
          "First Class",
          "Same Day",
          "Same Day",
          "First Class",
          "Standard Class",
          "Standard Class",
          "Standard Class",
          "Standard Class",
          "Standard Class",
          "First Class",
          "First Class",
          "First Class",
          "Standard Class",
          "Standard Class",
          "Standard Class",
          "Standard Class",
          "First Class",
          "First Class",
          "First Class",
          "First Class",
          "Second Class",
          "Second Class",
          "Standard Class",
          "Standard Class",
          "Standard Class",
          "Second Class",
          "Standard Class",
          "Standard Class",
          "First Class",
          "Standard Class",
          "Second Class",
          "Standard Class",
          "Standard Class",
          "Standard Class",
          "Standard Class",
          "Standard Class",
          "Standard Class",
          "Second Class",
          "Second Class",
          "Standard Class",
          "Second Class",
          "Standard Class",
          "First Class",
          "First Class",
          "Second Class",
          "Standard Class",
          "Second Class",
          "Second Class",
          "Second Class",
          "Second Class",
          "First Class",
          "Standard Class",
          "Second Class",
          "Standard Class",
          "Second Class",
          "Standard Class",
          "Standard Class",
          "First Class",
          "Standard Class",
          "Standard Class",
          "Standard Class",
          "Standard Class",
          "Standard Class",
          "Standard Class",
          "Standard Class",
          "Standard Class",
          "Standard Class",
          "Standard Class",
          "Same Day",
          "Standard Class",
          "Standard Class",
          "Standard Class",
          "First Class",
          "Same Day",
          "Standard Class",
          "Standard Class",
          "Standard Class",
          "Second Class",
          "Second Class",
          "Second Class",
          "Standard Class",
          "Standard Class",
          "Standard Class",
          "Standard Class",
          "Standard Class",
          "Standard Class",
          "Standard Class",
          "Standard Class",
          "Standard Class",
          "Standard Class",
          "Standard Class",
          "First Class",
          "Standard Class",
          "Same Day",
          "Standard Class",
          "Standard Class",
          "Standard Class",
          "Standard Class",
          "Standard Class",
          "First Class",
          "Standard Class",
          "First Class",
          "Standard Class",
          "Standard Class",
          "Second Class",
          "Standard Class",
          "Standard Class",
          "Second Class",
          "Standard Class",
          "Standard Class",
          "Standard Class",
          "Standard Class",
          "Second Class",
          "Standard Class",
          "Standard Class",
          "Standard Class",
          "Standard Class",
          "Standard Class",
          "First Class",
          "Standard Class",
          "Standard Class",
          "Standard Class",
          "Standard Class",
          "Second Class",
          "Second Class",
          "Standard Class",
          "Standard Class",
          "Standard Class",
          "First Class",
          "Standard Class",
          "Standard Class",
          "Standard Class",
          "Same Day",
          "Same Day",
          "Standard Class",
          "Second Class",
          "First Class",
          "Standard Class",
          "Standard Class",
          "First Class",
          "First Class",
          "Standard Class",
          "Standard Class",
          "Second Class",
          "Second Class",
          "Second Class",
          "Second Class",
          "First Class",
          "Second Class",
          "Standard Class",
          "Standard Class",
          "Standard Class",
          "Standard Class",
          "Second Class",
          "Same Day",
          "First Class",
          "First Class",
          "Standard Class",
          "Standard Class",
          "Second Class",
          "Standard Class",
          "Second Class",
          "Standard Class",
          "Standard Class",
          "Second Class",
          "Second Class",
          "Standard Class",
          "Standard Class",
          "Second Class",
          "Second Class",
          "Standard Class",
          "Standard Class",
          "Standard Class",
          "Standard Class",
          "Standard Class",
          "Same Day",
          "Same Day",
          "Standard Class",
          "Standard Class",
          "Standard Class",
          "Standard Class",
          "Standard Class",
          "First Class",
          "Standard Class",
          "Standard Class",
          "Same Day",
          "Standard Class",
          "First Class",
          "Standard Class",
          "Second Class",
          "Second Class",
          "Standard Class",
          "First Class",
          "Standard Class",
          "First Class",
          "Standard Class",
          "Standard Class",
          "Same Day",
          "Same Day",
          "Same Day",
          "Standard Class",
          "Second Class",
          "Second Class",
          "Standard Class",
          "Standard Class",
          "Standard Class",
          "Standard Class",
          "Second Class",
          "Standard Class",
          "Standard Class",
          "Standard Class",
          "First Class",
          "Same Day",
          "Standard Class",
          "Standard Class",
          "Second Class",
          "Second Class",
          "Standard Class",
          "Standard Class",
          "First Class",
          "Second Class",
          "Standard Class",
          "Second Class",
          "Standard Class",
          "First Class",
          "Second Class",
          "Standard Class",
          "Standard Class",
          "Standard Class",
          "Standard Class",
          "Same Day",
          "Second Class",
          "Standard Class",
          "Second Class",
          "Standard Class",
          "Standard Class",
          "Standard Class",
          "Standard Class",
          "Standard Class",
          "Standard Class",
          "Second Class",
          "Standard Class",
          "First Class",
          "Same Day",
          "Same Day",
          "Same Day",
          "Same Day",
          "Standard Class",
          "First Class",
          "Standard Class",
          "Second Class",
          "Second Class",
          "Second Class",
          "Second Class",
          "Standard Class",
          "Standard Class",
          "Same Day",
          "Standard Class",
          "Standard Class",
          "First Class",
          "Standard Class",
          "Standard Class",
          "Standard Class",
          "Standard Class",
          "Standard Class",
          "Standard Class",
          "Standard Class",
          "Second Class",
          "Second Class",
          "Second Class",
          "Standard Class",
          "Standard Class",
          "Standard Class",
          "Second Class",
          "Second Class",
          "Standard Class",
          "Standard Class",
          "Second Class",
          "Second Class",
          "Second Class",
          "Second Class",
          "Standard Class",
          "Standard Class",
          "Standard Class",
          "Standard Class",
          "Standard Class",
          "Standard Class",
          "Standard Class",
          "Second Class",
          "First Class",
          "Second Class",
          "First Class",
          "First Class",
          "Standard Class",
          "Standard Class",
          "First Class",
          "Standard Class",
          "First Class",
          "Standard Class",
          "Standard Class",
          "Standard Class",
          "Second Class",
          "Standard Class",
          "First Class",
          "Second Class",
          "Second Class",
          "Standard Class",
          "Standard Class",
          "Standard Class",
          "Second Class",
          "Second Class",
          "Standard Class",
          "Standard Class",
          "Standard Class",
          "Same Day",
          "Same Day",
          "Standard Class",
          "Standard Class",
          "Standard Class",
          "Standard Class",
          "Standard Class",
          "Standard Class",
          "First Class",
          "Second Class",
          "Second Class",
          "Standard Class",
          "Second Class",
          "Standard Class",
          "Standard Class",
          "Second Class",
          "Standard Class",
          "Standard Class",
          "Standard Class",
          "Second Class",
          "Standard Class",
          "Same Day",
          "Standard Class",
          "Second Class",
          "Second Class",
          "Standard Class",
          "First Class",
          "Standard Class",
          "Standard Class",
          "Second Class",
          "Second Class",
          "First Class",
          "Same Day",
          "Same Day",
          "Same Day",
          "Second Class",
          "Standard Class",
          "First Class",
          "Standard Class",
          "Standard Class",
          "Standard Class",
          "Standard Class",
          "Standard Class",
          "First Class",
          "Standard Class",
          "First Class",
          "Standard Class",
          "Standard Class",
          "First Class",
          "First Class",
          "First Class",
          "First Class",
          "Standard Class",
          "Standard Class",
          "Standard Class",
          "Standard Class",
          "Standard Class",
          "Standard Class",
          "Standard Class",
          "Standard Class",
          "Standard Class",
          "Same Day",
          "Standard Class",
          "First Class",
          "Same Day",
          "First Class",
          "First Class",
          "First Class",
          "Standard Class",
          "Standard Class",
          "Second Class",
          "Standard Class",
          "First Class",
          "Standard Class",
          "First Class",
          "Standard Class",
          "Standard Class",
          "Standard Class",
          "Second Class",
          "Second Class",
          "Standard Class",
          "Standard Class",
          "Standard Class",
          "Standard Class",
          "Standard Class",
          "Standard Class",
          "First Class",
          "Standard Class",
          "Second Class",
          "Standard Class",
          "Same Day",
          "Second Class",
          "Standard Class",
          "Second Class",
          "Second Class",
          "Standard Class",
          "Standard Class",
          "Standard Class",
          "Standard Class",
          "Second Class",
          "Second Class",
          "Standard Class",
          "Second Class",
          "Standard Class",
          "Standard Class",
          "Standard Class",
          "Standard Class",
          "Second Class",
          "Standard Class",
          "Standard Class",
          "Second Class",
          "First Class",
          "Standard Class",
          "Second Class",
          "Standard Class",
          "Same Day",
          "Standard Class",
          "Second Class",
          "Standard Class",
          "Standard Class",
          "Standard Class",
          "Standard Class",
          "First Class",
          "First Class",
          "Standard Class",
          "First Class",
          "First Class",
          "Standard Class",
          "Standard Class",
          "Standard Class",
          "First Class",
          "First Class",
          "Standard Class",
          "Standard Class",
          "Standard Class",
          "Standard Class",
          "Second Class",
          "First Class",
          "First Class",
          "Second Class",
          "Second Class",
          "Standard Class",
          "Standard Class",
          "Standard Class",
          "Standard Class",
          "Second Class",
          "Second Class",
          "Standard Class",
          "Standard Class",
          "Standard Class",
          "Second Class",
          "Standard Class",
          "Standard Class",
          "Standard Class",
          "Standard Class",
          "Standard Class",
          "Second Class",
          "Standard Class",
          "Second Class",
          "Standard Class",
          "Same Day",
          "Standard Class",
          "Standard Class",
          "Standard Class",
          "Second Class",
          "Standard Class",
          "Standard Class",
          "Standard Class",
          "Standard Class",
          "Standard Class",
          "Standard Class",
          "Second Class",
          "Standard Class",
          "Standard Class",
          "First Class",
          "Same Day",
          "Standard Class",
          "Second Class",
          "Second Class",
          "Second Class",
          "Second Class",
          "First Class",
          "Standard Class",
          "Standard Class",
          "Standard Class",
          "Standard Class",
          "Standard Class",
          "Same Day",
          "Same Day",
          "Standard Class",
          "Standard Class",
          "Standard Class",
          "Standard Class",
          "First Class",
          "Standard Class",
          "Standard Class",
          "Same Day",
          "Standard Class",
          "Standard Class",
          "Standard Class",
          "Standard Class",
          "Second Class",
          "Standard Class",
          "Standard Class",
          "Second Class",
          "Standard Class",
          "Standard Class",
          "Same Day",
          "Standard Class",
          "Standard Class",
          "Standard Class",
          "Standard Class",
          "Standard Class",
          "First Class",
          "Standard Class",
          "Standard Class",
          "Standard Class",
          "Standard Class",
          "Standard Class",
          "Standard Class",
          "Standard Class",
          "First Class",
          "First Class",
          "First Class",
          "Second Class",
          "First Class",
          "First Class",
          "First Class",
          "First Class",
          "Standard Class",
          "First Class",
          "Standard Class",
          "Standard Class",
          "First Class",
          "Second Class",
          "Standard Class",
          "Standard Class",
          "Standard Class",
          "Standard Class",
          "Same Day",
          "Standard Class",
          "Second Class",
          "Standard Class",
          "Standard Class",
          "Standard Class",
          "Standard Class",
          "Second Class",
          "Second Class",
          "Standard Class",
          "Standard Class",
          "Standard Class",
          "Standard Class",
          "Second Class",
          "First Class",
          "First Class",
          "Second Class",
          "Second Class",
          "Standard Class",
          "Standard Class",
          "Standard Class",
          "Standard Class",
          "Standard Class",
          "Standard Class",
          "Standard Class",
          "Same Day",
          "Second Class",
          "Standard Class",
          "Standard Class",
          "Standard Class",
          "Standard Class",
          "First Class",
          "First Class",
          "Second Class",
          "First Class",
          "Standard Class",
          "First Class",
          "Standard Class",
          "Standard Class",
          "First Class",
          "Standard Class",
          "First Class",
          "Standard Class",
          "Second Class",
          "First Class",
          "Standard Class",
          "Standard Class",
          "First Class",
          "Standard Class",
          "Standard Class",
          "Standard Class",
          "Standard Class",
          "Standard Class",
          "Second Class",
          "Standard Class",
          "Standard Class",
          "Second Class",
          "Standard Class",
          "First Class",
          "Standard Class",
          "First Class",
          "Standard Class",
          "First Class",
          "Second Class",
          "Standard Class",
          "Standard Class",
          "Standard Class",
          "Standard Class",
          "Same Day",
          "Standard Class",
          "Standard Class",
          "Standard Class",
          "Standard Class",
          "Standard Class",
          "Standard Class",
          "First Class",
          "Second Class",
          "First Class",
          "Standard Class",
          "Standard Class",
          "Standard Class",
          "Second Class",
          "Standard Class",
          "First Class",
          "First Class",
          "Standard Class",
          "Standard Class",
          "Standard Class",
          "Second Class",
          "Standard Class",
          "Standard Class",
          "Standard Class",
          "Standard Class",
          "Standard Class",
          "Standard Class",
          "Standard Class",
          "Standard Class",
          "Same Day",
          "Same Day",
          "Standard Class",
          "Standard Class",
          "First Class",
          "Standard Class",
          "Standard Class",
          "Second Class",
          "Standard Class",
          "Standard Class",
          "Second Class",
          "Standard Class",
          "Second Class",
          "Second Class",
          "Second Class",
          "Standard Class",
          "Standard Class",
          "Standard Class",
          "Same Day",
          "Same Day",
          "Standard Class",
          "Standard Class",
          "Standard Class",
          "First Class",
          "First Class",
          "Standard Class",
          "Standard Class",
          "Standard Class",
          "Standard Class",
          "Standard Class",
          "Same Day",
          "Standard Class",
          "Standard Class",
          "Standard Class",
          "Standard Class",
          "Standard Class",
          "Standard Class",
          "Standard Class",
          "Standard Class",
          "Second Class",
          "Second Class",
          "Standard Class",
          "Second Class",
          "Standard Class",
          "Standard Class",
          "Standard Class",
          "Standard Class",
          "Standard Class",
          "First Class",
          "Standard Class",
          "Standard Class",
          "Same Day",
          "Standard Class",
          "Second Class",
          "Second Class",
          "Standard Class",
          "Second Class",
          "Standard Class",
          "Standard Class",
          "Standard Class",
          "Standard Class",
          "Second Class",
          "Standard Class",
          "Standard Class",
          "Standard Class",
          "Standard Class",
          "Standard Class",
          "Standard Class",
          "Same Day",
          "Standard Class",
          "Second Class",
          "Second Class",
          "Standard Class",
          "Standard Class",
          "Standard Class",
          "Standard Class",
          "Standard Class",
          "Standard Class",
          "Standard Class",
          "Same Day",
          "Standard Class",
          "Standard Class",
          "Standard Class",
          "Second Class",
          "Second Class",
          "Second Class",
          "Second Class",
          "Standard Class",
          "First Class",
          "Standard Class",
          "First Class",
          "Standard Class",
          "Standard Class",
          "Same Day",
          "Standard Class",
          "Standard Class",
          "Standard Class",
          "Standard Class",
          "Standard Class",
          "Second Class",
          "Second Class",
          "Second Class",
          "Standard Class",
          "Standard Class",
          "Second Class",
          "Standard Class",
          "Standard Class",
          "Standard Class",
          "Standard Class",
          "Standard Class",
          "Standard Class",
          "Standard Class",
          "First Class",
          "First Class",
          "First Class",
          "Standard Class",
          "Standard Class",
          "Second Class",
          "Standard Class",
          "Second Class",
          "First Class",
          "Standard Class",
          "First Class",
          "Standard Class",
          "Standard Class",
          "Standard Class",
          "Second Class",
          "Standard Class",
          "Standard Class",
          "Standard Class",
          "Standard Class",
          "Standard Class",
          "Second Class",
          "First Class",
          "Standard Class",
          "Standard Class",
          "Standard Class",
          "Standard Class",
          "Standard Class",
          "Standard Class",
          "Standard Class",
          "Standard Class",
          "Standard Class",
          "Standard Class",
          "Standard Class",
          "Standard Class",
          "Standard Class",
          "Standard Class",
          "Second Class",
          "Standard Class",
          "Second Class",
          "Second Class",
          "Second Class",
          "Standard Class",
          "Second Class",
          "First Class",
          "Second Class",
          "First Class",
          "First Class",
          "Second Class",
          "Standard Class",
          "Standard Class",
          "Second Class",
          "Second Class",
          "Standard Class",
          "Standard Class",
          "Standard Class",
          "Standard Class",
          "Standard Class",
          "Standard Class",
          "Same Day",
          "First Class",
          "First Class",
          "Standard Class",
          "Standard Class",
          "Standard Class",
          "Standard Class",
          "Standard Class",
          "Standard Class",
          "First Class",
          "Second Class",
          "Standard Class",
          "First Class",
          "Standard Class",
          "Second Class",
          "Second Class",
          "Standard Class",
          "First Class",
          "Standard Class",
          "Standard Class",
          "Standard Class",
          "Standard Class",
          "Standard Class",
          "Second Class",
          "First Class",
          "Standard Class",
          "Second Class",
          "First Class",
          "Second Class",
          "Second Class",
          "Second Class",
          "Standard Class",
          "Standard Class",
          "First Class",
          "Standard Class",
          "Second Class",
          "Same Day",
          "Standard Class",
          "Standard Class",
          "Second Class",
          "Second Class",
          "Second Class",
          "Standard Class",
          "Standard Class",
          "Standard Class",
          "First Class",
          "Same Day",
          "Standard Class",
          "Second Class",
          "Standard Class",
          "Standard Class",
          "First Class",
          "Second Class",
          "Same Day",
          "Second Class",
          "First Class",
          "First Class",
          "Second Class",
          "First Class",
          "First Class",
          "First Class",
          "Standard Class",
          "Standard Class",
          "Standard Class",
          "Second Class",
          "Standard Class",
          "Standard Class",
          "Standard Class",
          "Standard Class",
          "Second Class",
          "Second Class",
          "Standard Class",
          "Second Class",
          "Standard Class",
          "Second Class",
          "Second Class",
          "Second Class",
          "Standard Class",
          "Standard Class",
          "Standard Class",
          "Standard Class",
          "Standard Class",
          "Second Class",
          "Standard Class",
          "Second Class",
          "First Class",
          "Standard Class",
          "First Class",
          "Standard Class",
          "Standard Class",
          "Standard Class",
          "Standard Class",
          "Standard Class",
          "First Class",
          "First Class",
          "Standard Class",
          "First Class",
          "Second Class",
          "First Class",
          "First Class",
          "First Class",
          "Standard Class",
          "Same Day",
          "First Class",
          "Standard Class",
          "Second Class",
          "Standard Class",
          "Second Class",
          "Second Class",
          "Standard Class",
          "Standard Class",
          "Standard Class",
          "Standard Class",
          "Standard Class",
          "Standard Class",
          "Standard Class",
          "Second Class",
          "First Class",
          "Standard Class",
          "Standard Class",
          "Second Class",
          "Second Class",
          "Standard Class",
          "Standard Class",
          "Standard Class",
          "Standard Class",
          "Standard Class",
          "Standard Class",
          "Standard Class",
          "Standard Class",
          "Standard Class",
          "First Class",
          "Standard Class",
          "Standard Class",
          "Standard Class",
          "Standard Class",
          "Standard Class",
          "Standard Class",
          "Standard Class",
          "Standard Class",
          "Standard Class",
          "Standard Class",
          "Standard Class",
          "Second Class",
          "Standard Class",
          "First Class",
          "Same Day",
          "Same Day",
          "Standard Class",
          "Standard Class",
          "Standard Class",
          "Second Class",
          "Second Class",
          "Standard Class",
          "Same Day",
          "Standard Class",
          "Second Class",
          "Standard Class",
          "Standard Class",
          "Standard Class",
          "First Class",
          "Second Class",
          "Standard Class",
          "Standard Class",
          "Standard Class",
          "Standard Class",
          "Standard Class",
          "First Class",
          "Standard Class",
          "Standard Class",
          "Standard Class",
          "Standard Class",
          "Standard Class",
          "Standard Class",
          "Standard Class",
          "Standard Class",
          "Standard Class",
          "Second Class",
          "Standard Class",
          "Standard Class",
          "Standard Class",
          "Second Class",
          "Second Class",
          "Second Class",
          "Second Class",
          "Standard Class",
          "Standard Class",
          "Same Day",
          "Standard Class",
          "First Class",
          "Standard Class",
          "Standard Class",
          "Second Class",
          "Standard Class",
          "Second Class",
          "First Class",
          "First Class",
          "First Class",
          "First Class",
          "Standard Class",
          "Standard Class",
          "Second Class",
          "Standard Class",
          "Standard Class",
          "Standard Class",
          "Same Day",
          "Second Class",
          "Second Class",
          "Standard Class",
          "Standard Class",
          "Second Class",
          "Standard Class",
          "Standard Class",
          "Standard Class",
          "Same Day",
          "Standard Class",
          "Standard Class",
          "First Class",
          "Standard Class",
          "Standard Class",
          "First Class",
          "First Class",
          "Second Class",
          "Second Class",
          "Standard Class",
          "First Class",
          "Standard Class",
          "Second Class",
          "First Class",
          "Standard Class",
          "Standard Class",
          "Standard Class",
          "Standard Class",
          "Second Class",
          "Standard Class",
          "First Class",
          "Standard Class",
          "Standard Class",
          "Standard Class",
          "First Class",
          "Same Day",
          "Standard Class",
          "Standard Class",
          "Second Class",
          "Standard Class",
          "First Class",
          "Second Class",
          "Standard Class",
          "Standard Class",
          "Standard Class",
          "First Class",
          "Standard Class",
          "Standard Class",
          "Second Class",
          "Standard Class",
          "Second Class",
          "First Class",
          "Standard Class",
          "Standard Class",
          "Same Day",
          "First Class",
          "Standard Class",
          "First Class",
          "Standard Class",
          "First Class",
          "Standard Class",
          "Standard Class",
          "Standard Class",
          "First Class",
          "Standard Class",
          "First Class",
          "Standard Class",
          "Standard Class",
          "First Class",
          "Standard Class",
          "Standard Class",
          "Standard Class",
          "Standard Class",
          "Standard Class",
          "Standard Class",
          "Standard Class",
          "Standard Class",
          "Standard Class",
          "Standard Class",
          "Standard Class",
          "Standard Class",
          "Standard Class",
          "Second Class",
          "First Class",
          "Standard Class",
          "First Class",
          "First Class",
          "Standard Class",
          "Standard Class",
          "Second Class",
          "First Class",
          "Standard Class",
          "Standard Class",
          "Standard Class",
          "Standard Class",
          "Standard Class",
          "Same Day",
          "First Class",
          "Second Class",
          "First Class",
          "First Class",
          "Standard Class",
          "Standard Class",
          "Standard Class",
          "Same Day",
          "Standard Class",
          "Standard Class",
          "Standard Class",
          "First Class",
          "Standard Class",
          "Standard Class",
          "Standard Class",
          "Second Class",
          "First Class",
          "Standard Class",
          "Standard Class",
          "Second Class",
          "Standard Class",
          "Second Class",
          "Second Class",
          "Second Class",
          "Second Class",
          "Second Class",
          "Standard Class",
          "Second Class",
          "Standard Class",
          "Standard Class",
          "Same Day",
          "Standard Class",
          "Standard Class",
          "Standard Class",
          "First Class",
          "Standard Class",
          "Standard Class",
          "Standard Class",
          "First Class",
          "Standard Class",
          "Standard Class",
          "First Class",
          "Standard Class",
          "Second Class",
          "Second Class",
          "Same Day",
          "Standard Class",
          "First Class",
          "Same Day",
          "Standard Class",
          "Standard Class",
          "Standard Class",
          "Standard Class",
          "First Class",
          "Standard Class",
          "First Class",
          "Standard Class",
          "Second Class",
          "Standard Class",
          "Standard Class",
          "Standard Class",
          "Standard Class",
          "Standard Class",
          "First Class",
          "First Class",
          "First Class",
          "First Class",
          "First Class",
          "Standard Class",
          "Standard Class",
          "Standard Class",
          "First Class",
          "Second Class",
          "Standard Class",
          "Second Class",
          "First Class",
          "First Class",
          "Second Class",
          "Standard Class",
          "Same Day",
          "First Class",
          "First Class",
          "Standard Class",
          "Second Class",
          "Second Class",
          "First Class",
          "First Class",
          "Standard Class",
          "Second Class",
          "Standard Class",
          "Standard Class",
          "Standard Class",
          "Standard Class",
          "Second Class",
          "Standard Class",
          "Second Class",
          "Second Class",
          "Second Class",
          "Second Class",
          "Second Class",
          "Same Day",
          "Standard Class",
          "Standard Class",
          "Standard Class",
          "Second Class",
          "First Class",
          "Standard Class",
          "Second Class",
          "First Class",
          "Second Class",
          "Standard Class",
          "Standard Class",
          "Standard Class",
          "Second Class",
          "First Class",
          "Same Day",
          "Same Day",
          "Second Class",
          "Second Class",
          "First Class",
          "Second Class",
          "Standard Class",
          "Standard Class",
          "Standard Class",
          "Second Class",
          "First Class",
          "First Class",
          "First Class",
          "Standard Class",
          "Standard Class",
          "Second Class",
          "Standard Class",
          "Standard Class",
          "Standard Class",
          "Standard Class",
          "Standard Class",
          "Standard Class",
          "Standard Class",
          "Standard Class",
          "Standard Class",
          "Standard Class",
          "Standard Class",
          "Standard Class",
          "Standard Class",
          "Standard Class",
          "Standard Class",
          "Standard Class",
          "Standard Class",
          "Standard Class",
          "Same Day",
          "Same Day",
          "Standard Class",
          "Standard Class",
          "Second Class",
          "Standard Class",
          "Standard Class",
          "Standard Class",
          "Second Class",
          "Same Day",
          "Standard Class",
          "Standard Class",
          "Standard Class",
          "Second Class",
          "Standard Class",
          "Second Class",
          "Standard Class",
          "Standard Class",
          "Standard Class",
          "Second Class",
          "First Class",
          "Standard Class",
          "First Class",
          "Second Class",
          "Standard Class",
          "Standard Class",
          "Standard Class",
          "Standard Class",
          "Standard Class",
          "First Class",
          "Standard Class",
          "Second Class",
          "Second Class",
          "Standard Class",
          "Standard Class",
          "Standard Class",
          "Standard Class",
          "Standard Class",
          "First Class",
          "First Class",
          "First Class",
          "First Class",
          "First Class",
          "Second Class",
          "Standard Class",
          "Same Day",
          "Standard Class",
          "Second Class",
          "Standard Class",
          "Second Class",
          "Second Class",
          "First Class",
          "Second Class",
          "Second Class",
          "Second Class",
          "Standard Class"
         ],
         "xaxis": "x",
         "y": {
          "bdata": "AQEBAQEBAQEBAQEBAQEBAQEBAQEBAQEBAQEBAQEBAQEBAQEBAQEBAQEBAQEBAQEBAQEBAQEBAQEBAQEBAQEBAQEBAQEBAQEBAQEBAQEBAQEBAQEBAQEBAQEBAQEBAQEBAQEBAQEBAQEBAQEBAQEBAQEBAQEBAQEBAQEBAQEBAQEBAQEBAQEBAQEBAQEBAQEBAQEBAQEBAQEBAQEBAQEBAQEBAQEBAQEBAQEBAQEBAQEBAQEBAQEBAQEBAQEBAQEBAQEBAQEBAQEBAQEBAQEBAQEBAQEBAQEBAQEBAQEBAQEBAQEBAQEBAQEBAQEBAQEBAQEBAQEBAQEBAQEBAQEBAQEBAQEBAQEBAQEBAQEBAQEBAQEBAQEBAQEBAQEBAQEBAQEBAQEBAQEBAQEBAQEBAQEBAQEBAQEBAQEBAQEBAQEBAQEBAQEBAQEBAQEBAQEBAQEBAQEBAQEBAQEBAQEBAQEBAQEBAQEBAQEBAQEBAQEBAQEBAQEBAQEBAQEBAQEBAQEBAQEBAQEBAQEBAQEBAQEBAQEBAQEBAQEBAQEBAQEBAQEBAQEBAQEBAQEBAQEBAQEBAQEBAQEBAQEBAQEBAQEBAQEBAQEBAQEBAQEBAQEBAQEBAQEBAQEBAQEBAQEBAQEBAQEBAQEBAQEBAQEBAQEBAQEBAQEBAQEBAQEBAQEBAQEBAQEBAQEBAQEBAQEBAQEBAQEBAQEBAQEBAQEBAQEBAQEBAQEBAQEBAQEBAQEBAQEBAQEBAQEBAQEBAQEBAQEBAQEBAQEBAQEBAQEBAQEBAQEBAQEBAQEBAQEBAQEBAQEBAQEBAQEBAQEBAQEBAQEBAQEBAQEBAQEBAQEBAQEBAQEBAQEBAQEBAQEBAQEBAQEBAQEBAQEBAQEBAQEBAQEBAQEBAQEBAQEBAQEBAQEBAQEBAQEBAQEBAQEBAQEBAQEBAQEBAQEBAQEBAQEBAQEBAQEBAQEBAQEBAQEBAQEBAQEBAQEBAQEBAQEBAQEBAQEBAQEBAQEBAQEBAQEBAQEBAQEBAQEBAQEBAQEBAQEBAQEBAQEBAQEBAQEBAQEBAQEBAQEBAQEBAQEBAQEBAQEBAQEBAQEBAQEBAQEBAQEBAQEBAQEBAQEBAQEBAQEBAQEBAQEBAQEBAQEBAQEBAQEBAQEBAQEBAQEBAQEBAQEBAQEBAQEBAQEBAQEBAQEBAQEBAQEBAQEBAQEBAQEBAQEBAQEBAQEBAQEBAQEBAQEBAQEBAQEBAQEBAQEBAQEBAQEBAQEBAQEBAQEBAQEBAQEBAQEBAQEBAQEBAQEBAQEBAQEBAQEBAQEBAQEBAQEBAQEBAQEBAQEBAQEBAQEBAQEBAQEBAQEBAQEBAQEBAQEBAQEBAQEBAQEBAQEBAQEBAQEBAQEBAQEBAQEBAQEBAQEBAQEBAQEBAQEBAQEBAQEBAQEBAQEBAQEBAQEBAQEBAQEBAQEBAQEBAQEBAQEBAQEBAQEBAQEBAQEBAQEBAQEBAQEBAQEBAQEBAQEBAQEBAQEBAQEBAQEBAQEBAQEBAQEBAQEBAQEBAQEBAQEBAQEBAQEBAQEBAQEBAQEBAQEBAQEBAQEBAQEBAQEBAQEBAQEBAQEBAQEBAQEBAQEBAQEBAQEBAQEBAQEBAQEBAQEBAQEBAQEBAQEBAQEBAQEBAQEBAQEBAQEBAQEBAQEBAQEBAQEBAQEBAQEBAQEBAQEBAQEBAQEBAQEBAQEBAQEBAQEBAQEBAQEBAQEBAQEBAQEBAQEBAQEBAQEBAQEBAQEBAQEBAQEBAQEBAQEBAQEBAQEBAQEBAQEBAQEBAQEBAQEBAQEBAQEBAQEBAQEBAQEBAQEBAQEBAQEBAQEBAQEBAQEBAQEBAQEBAQEBAQEBAQEBAQEBAQEBAQEBAQEBAQEBAQEBAQEBAQEBAQEBAQEBAQEBAQEBAQEBAQEBAQEBAQEBAQEBAQEBAQEBAQEBAQEBAQEBAQEBAQEBAQEBAQEBAQEBAQEBAQEBAQEBAQEBAQEBAQEBAQEBAQEBAQEBAQEBAQEBAQEBAQEBAQEBAQEBAQEBAQEBAQEBAQEBAQEBAQEBAQEBAQEBAQEBAQEBAQEBAQEBAQEBAQEBAQEBAQEBAQEBAQEBAQEBAQEBAQEBAQEBAQEBAQEBAQEBAQEBAQEBAQEBAQEBAQEBAQEBAQEBAQEBAQEBAQEBAQEBAQEBAQEBAQEBAQEBAQEBAQEBAQEBAQEBAQEBAQEBAQEBAQEBAQEBAQEBAQEBAQEBAQEBAQEBAQEBAQEBAQEBAQEBAQEBAQEBAQEBAQEBAQEBAQEBAQEBAQEBAQEBAQEBAQEBAQEBAQEBAQEBAQEBAQEBAQEBAQEBAQEBAQEBAQEBAQEBAQEBAQEBAQEBAQEBAQEBAQEBAQEBAQEBAQEBAQEBAQEBAQEBAQEBAQEBAQEBAQEBAQEBAQEBAQEBAQEBAQEBAQEBAQEBAQEBAQEBAQEBAQEBAQEBAQEBAQEBAQEBAQEBAQEBAQEBAQEBAQEBAQEBAQEBAQEBAQEBAQEBAQEBAQEBAQEBAQEBAQEBAQEBAQEBAQEBAQEBAQEBAQEBAQEBAQEBAQEBAQEBAQEBAQEBAQEBAQEBAQEBAQEBAQEBAQEBAQEBAQEBAQEBAQEBAQEBAQEBAQEBAQEBAQEBAQEBAQEBAQEBAQEBAQEBAQEBAQE=",
          "dtype": "i1"
         },
         "yaxis": "y"
        }
       ],
       "layout": {
        "barmode": "relative",
        "legend": {
         "tracegroupgap": 0
        },
        "template": {
         "data": {
          "bar": [
           {
            "error_x": {
             "color": "#2a3f5f"
            },
            "error_y": {
             "color": "#2a3f5f"
            },
            "marker": {
             "line": {
              "color": "#E5ECF6",
              "width": 0.5
             },
             "pattern": {
              "fillmode": "overlay",
              "size": 10,
              "solidity": 0.2
             }
            },
            "type": "bar"
           }
          ],
          "barpolar": [
           {
            "marker": {
             "line": {
              "color": "#E5ECF6",
              "width": 0.5
             },
             "pattern": {
              "fillmode": "overlay",
              "size": 10,
              "solidity": 0.2
             }
            },
            "type": "barpolar"
           }
          ],
          "carpet": [
           {
            "aaxis": {
             "endlinecolor": "#2a3f5f",
             "gridcolor": "white",
             "linecolor": "white",
             "minorgridcolor": "white",
             "startlinecolor": "#2a3f5f"
            },
            "baxis": {
             "endlinecolor": "#2a3f5f",
             "gridcolor": "white",
             "linecolor": "white",
             "minorgridcolor": "white",
             "startlinecolor": "#2a3f5f"
            },
            "type": "carpet"
           }
          ],
          "choropleth": [
           {
            "colorbar": {
             "outlinewidth": 0,
             "ticks": ""
            },
            "type": "choropleth"
           }
          ],
          "contour": [
           {
            "colorbar": {
             "outlinewidth": 0,
             "ticks": ""
            },
            "colorscale": [
             [
              0,
              "#0d0887"
             ],
             [
              0.1111111111111111,
              "#46039f"
             ],
             [
              0.2222222222222222,
              "#7201a8"
             ],
             [
              0.3333333333333333,
              "#9c179e"
             ],
             [
              0.4444444444444444,
              "#bd3786"
             ],
             [
              0.5555555555555556,
              "#d8576b"
             ],
             [
              0.6666666666666666,
              "#ed7953"
             ],
             [
              0.7777777777777778,
              "#fb9f3a"
             ],
             [
              0.8888888888888888,
              "#fdca26"
             ],
             [
              1,
              "#f0f921"
             ]
            ],
            "type": "contour"
           }
          ],
          "contourcarpet": [
           {
            "colorbar": {
             "outlinewidth": 0,
             "ticks": ""
            },
            "type": "contourcarpet"
           }
          ],
          "heatmap": [
           {
            "colorbar": {
             "outlinewidth": 0,
             "ticks": ""
            },
            "colorscale": [
             [
              0,
              "#0d0887"
             ],
             [
              0.1111111111111111,
              "#46039f"
             ],
             [
              0.2222222222222222,
              "#7201a8"
             ],
             [
              0.3333333333333333,
              "#9c179e"
             ],
             [
              0.4444444444444444,
              "#bd3786"
             ],
             [
              0.5555555555555556,
              "#d8576b"
             ],
             [
              0.6666666666666666,
              "#ed7953"
             ],
             [
              0.7777777777777778,
              "#fb9f3a"
             ],
             [
              0.8888888888888888,
              "#fdca26"
             ],
             [
              1,
              "#f0f921"
             ]
            ],
            "type": "heatmap"
           }
          ],
          "histogram": [
           {
            "marker": {
             "pattern": {
              "fillmode": "overlay",
              "size": 10,
              "solidity": 0.2
             }
            },
            "type": "histogram"
           }
          ],
          "histogram2d": [
           {
            "colorbar": {
             "outlinewidth": 0,
             "ticks": ""
            },
            "colorscale": [
             [
              0,
              "#0d0887"
             ],
             [
              0.1111111111111111,
              "#46039f"
             ],
             [
              0.2222222222222222,
              "#7201a8"
             ],
             [
              0.3333333333333333,
              "#9c179e"
             ],
             [
              0.4444444444444444,
              "#bd3786"
             ],
             [
              0.5555555555555556,
              "#d8576b"
             ],
             [
              0.6666666666666666,
              "#ed7953"
             ],
             [
              0.7777777777777778,
              "#fb9f3a"
             ],
             [
              0.8888888888888888,
              "#fdca26"
             ],
             [
              1,
              "#f0f921"
             ]
            ],
            "type": "histogram2d"
           }
          ],
          "histogram2dcontour": [
           {
            "colorbar": {
             "outlinewidth": 0,
             "ticks": ""
            },
            "colorscale": [
             [
              0,
              "#0d0887"
             ],
             [
              0.1111111111111111,
              "#46039f"
             ],
             [
              0.2222222222222222,
              "#7201a8"
             ],
             [
              0.3333333333333333,
              "#9c179e"
             ],
             [
              0.4444444444444444,
              "#bd3786"
             ],
             [
              0.5555555555555556,
              "#d8576b"
             ],
             [
              0.6666666666666666,
              "#ed7953"
             ],
             [
              0.7777777777777778,
              "#fb9f3a"
             ],
             [
              0.8888888888888888,
              "#fdca26"
             ],
             [
              1,
              "#f0f921"
             ]
            ],
            "type": "histogram2dcontour"
           }
          ],
          "mesh3d": [
           {
            "colorbar": {
             "outlinewidth": 0,
             "ticks": ""
            },
            "type": "mesh3d"
           }
          ],
          "parcoords": [
           {
            "line": {
             "colorbar": {
              "outlinewidth": 0,
              "ticks": ""
             }
            },
            "type": "parcoords"
           }
          ],
          "pie": [
           {
            "automargin": true,
            "type": "pie"
           }
          ],
          "scatter": [
           {
            "fillpattern": {
             "fillmode": "overlay",
             "size": 10,
             "solidity": 0.2
            },
            "type": "scatter"
           }
          ],
          "scatter3d": [
           {
            "line": {
             "colorbar": {
              "outlinewidth": 0,
              "ticks": ""
             }
            },
            "marker": {
             "colorbar": {
              "outlinewidth": 0,
              "ticks": ""
             }
            },
            "type": "scatter3d"
           }
          ],
          "scattercarpet": [
           {
            "marker": {
             "colorbar": {
              "outlinewidth": 0,
              "ticks": ""
             }
            },
            "type": "scattercarpet"
           }
          ],
          "scattergeo": [
           {
            "marker": {
             "colorbar": {
              "outlinewidth": 0,
              "ticks": ""
             }
            },
            "type": "scattergeo"
           }
          ],
          "scattergl": [
           {
            "marker": {
             "colorbar": {
              "outlinewidth": 0,
              "ticks": ""
             }
            },
            "type": "scattergl"
           }
          ],
          "scattermap": [
           {
            "marker": {
             "colorbar": {
              "outlinewidth": 0,
              "ticks": ""
             }
            },
            "type": "scattermap"
           }
          ],
          "scattermapbox": [
           {
            "marker": {
             "colorbar": {
              "outlinewidth": 0,
              "ticks": ""
             }
            },
            "type": "scattermapbox"
           }
          ],
          "scatterpolar": [
           {
            "marker": {
             "colorbar": {
              "outlinewidth": 0,
              "ticks": ""
             }
            },
            "type": "scatterpolar"
           }
          ],
          "scatterpolargl": [
           {
            "marker": {
             "colorbar": {
              "outlinewidth": 0,
              "ticks": ""
             }
            },
            "type": "scatterpolargl"
           }
          ],
          "scatterternary": [
           {
            "marker": {
             "colorbar": {
              "outlinewidth": 0,
              "ticks": ""
             }
            },
            "type": "scatterternary"
           }
          ],
          "surface": [
           {
            "colorbar": {
             "outlinewidth": 0,
             "ticks": ""
            },
            "colorscale": [
             [
              0,
              "#0d0887"
             ],
             [
              0.1111111111111111,
              "#46039f"
             ],
             [
              0.2222222222222222,
              "#7201a8"
             ],
             [
              0.3333333333333333,
              "#9c179e"
             ],
             [
              0.4444444444444444,
              "#bd3786"
             ],
             [
              0.5555555555555556,
              "#d8576b"
             ],
             [
              0.6666666666666666,
              "#ed7953"
             ],
             [
              0.7777777777777778,
              "#fb9f3a"
             ],
             [
              0.8888888888888888,
              "#fdca26"
             ],
             [
              1,
              "#f0f921"
             ]
            ],
            "type": "surface"
           }
          ],
          "table": [
           {
            "cells": {
             "fill": {
              "color": "#EBF0F8"
             },
             "line": {
              "color": "white"
             }
            },
            "header": {
             "fill": {
              "color": "#C8D4E3"
             },
             "line": {
              "color": "white"
             }
            },
            "type": "table"
           }
          ]
         },
         "layout": {
          "annotationdefaults": {
           "arrowcolor": "#2a3f5f",
           "arrowhead": 0,
           "arrowwidth": 1
          },
          "autotypenumbers": "strict",
          "coloraxis": {
           "colorbar": {
            "outlinewidth": 0,
            "ticks": ""
           }
          },
          "colorscale": {
           "diverging": [
            [
             0,
             "#8e0152"
            ],
            [
             0.1,
             "#c51b7d"
            ],
            [
             0.2,
             "#de77ae"
            ],
            [
             0.3,
             "#f1b6da"
            ],
            [
             0.4,
             "#fde0ef"
            ],
            [
             0.5,
             "#f7f7f7"
            ],
            [
             0.6,
             "#e6f5d0"
            ],
            [
             0.7,
             "#b8e186"
            ],
            [
             0.8,
             "#7fbc41"
            ],
            [
             0.9,
             "#4d9221"
            ],
            [
             1,
             "#276419"
            ]
           ],
           "sequential": [
            [
             0,
             "#0d0887"
            ],
            [
             0.1111111111111111,
             "#46039f"
            ],
            [
             0.2222222222222222,
             "#7201a8"
            ],
            [
             0.3333333333333333,
             "#9c179e"
            ],
            [
             0.4444444444444444,
             "#bd3786"
            ],
            [
             0.5555555555555556,
             "#d8576b"
            ],
            [
             0.6666666666666666,
             "#ed7953"
            ],
            [
             0.7777777777777778,
             "#fb9f3a"
            ],
            [
             0.8888888888888888,
             "#fdca26"
            ],
            [
             1,
             "#f0f921"
            ]
           ],
           "sequentialminus": [
            [
             0,
             "#0d0887"
            ],
            [
             0.1111111111111111,
             "#46039f"
            ],
            [
             0.2222222222222222,
             "#7201a8"
            ],
            [
             0.3333333333333333,
             "#9c179e"
            ],
            [
             0.4444444444444444,
             "#bd3786"
            ],
            [
             0.5555555555555556,
             "#d8576b"
            ],
            [
             0.6666666666666666,
             "#ed7953"
            ],
            [
             0.7777777777777778,
             "#fb9f3a"
            ],
            [
             0.8888888888888888,
             "#fdca26"
            ],
            [
             1,
             "#f0f921"
            ]
           ]
          },
          "colorway": [
           "#636efa",
           "#EF553B",
           "#00cc96",
           "#ab63fa",
           "#FFA15A",
           "#19d3f3",
           "#FF6692",
           "#B6E880",
           "#FF97FF",
           "#FECB52"
          ],
          "font": {
           "color": "#2a3f5f"
          },
          "geo": {
           "bgcolor": "white",
           "lakecolor": "white",
           "landcolor": "#E5ECF6",
           "showlakes": true,
           "showland": true,
           "subunitcolor": "white"
          },
          "hoverlabel": {
           "align": "left"
          },
          "hovermode": "closest",
          "mapbox": {
           "style": "light"
          },
          "paper_bgcolor": "white",
          "plot_bgcolor": "#E5ECF6",
          "polar": {
           "angularaxis": {
            "gridcolor": "white",
            "linecolor": "white",
            "ticks": ""
           },
           "bgcolor": "#E5ECF6",
           "radialaxis": {
            "gridcolor": "white",
            "linecolor": "white",
            "ticks": ""
           }
          },
          "scene": {
           "xaxis": {
            "backgroundcolor": "#E5ECF6",
            "gridcolor": "white",
            "gridwidth": 2,
            "linecolor": "white",
            "showbackground": true,
            "ticks": "",
            "zerolinecolor": "white"
           },
           "yaxis": {
            "backgroundcolor": "#E5ECF6",
            "gridcolor": "white",
            "gridwidth": 2,
            "linecolor": "white",
            "showbackground": true,
            "ticks": "",
            "zerolinecolor": "white"
           },
           "zaxis": {
            "backgroundcolor": "#E5ECF6",
            "gridcolor": "white",
            "gridwidth": 2,
            "linecolor": "white",
            "showbackground": true,
            "ticks": "",
            "zerolinecolor": "white"
           }
          },
          "shapedefaults": {
           "line": {
            "color": "#2a3f5f"
           }
          },
          "ternary": {
           "aaxis": {
            "gridcolor": "white",
            "linecolor": "white",
            "ticks": ""
           },
           "baxis": {
            "gridcolor": "white",
            "linecolor": "white",
            "ticks": ""
           },
           "bgcolor": "#E5ECF6",
           "caxis": {
            "gridcolor": "white",
            "linecolor": "white",
            "ticks": ""
           }
          },
          "title": {
           "x": 0.05
          },
          "xaxis": {
           "automargin": true,
           "gridcolor": "white",
           "linecolor": "white",
           "ticks": "",
           "title": {
            "standoff": 15
           },
           "zerolinecolor": "white",
           "zerolinewidth": 2
          },
          "yaxis": {
           "automargin": true,
           "gridcolor": "white",
           "linecolor": "white",
           "ticks": "",
           "title": {
            "standoff": 15
           },
           "zerolinecolor": "white",
           "zerolinewidth": 2
          }
         }
        },
        "title": {
         "text": "Distribution of Ship Modes"
        },
        "xaxis": {
         "anchor": "y",
         "domain": [
          0,
          1
         ],
         "title": {
          "text": "Ship Mode"
         }
        },
        "yaxis": {
         "anchor": "x",
         "domain": [
          0,
          1
         ],
         "title": {
          "text": "count"
         }
        }
       }
      }
     },
     "metadata": {},
     "output_type": "display_data"
    }
   ],
   "source": [
    "fig = px.bar(df, \n",
    "             x='Ship Mode', \n",
    "             title='Distribution of Ship Modes',\n",
    "             color_discrete_sequence=colors\n",
    "             )\n",
    "fig.show()"
   ]
  },
  {
   "cell_type": "markdown",
   "metadata": {},
   "source": [
    "Way2"
   ]
  },
  {
   "cell_type": "code",
   "execution_count": null,
   "metadata": {},
   "outputs": [
    {
     "data": {
      "application/vnd.plotly.v1+json": {
       "config": {
        "plotlyServerURL": "https://plot.ly"
       },
       "data": [
        {
         "hovertemplate": "Ship Mode=%{x}<br>count=%{y}<extra></extra>",
         "legendgroup": "",
         "marker": {
          "color": "red",
          "pattern": {
           "shape": ""
          }
         },
         "name": "",
         "orientation": "v",
         "showlegend": false,
         "textposition": "auto",
         "type": "bar",
         "x": [
          "Standard Class",
          "Second Class",
          "First Class",
          "Same Day"
         ],
         "xaxis": "x",
         "y": {
          "bdata": "nQSaAToBbgA=",
          "dtype": "i2"
         },
         "yaxis": "y"
        }
       ],
       "layout": {
        "barmode": "relative",
        "legend": {
         "tracegroupgap": 0
        },
        "template": {
         "data": {
          "bar": [
           {
            "error_x": {
             "color": "#2a3f5f"
            },
            "error_y": {
             "color": "#2a3f5f"
            },
            "marker": {
             "line": {
              "color": "#E5ECF6",
              "width": 0.5
             },
             "pattern": {
              "fillmode": "overlay",
              "size": 10,
              "solidity": 0.2
             }
            },
            "type": "bar"
           }
          ],
          "barpolar": [
           {
            "marker": {
             "line": {
              "color": "#E5ECF6",
              "width": 0.5
             },
             "pattern": {
              "fillmode": "overlay",
              "size": 10,
              "solidity": 0.2
             }
            },
            "type": "barpolar"
           }
          ],
          "carpet": [
           {
            "aaxis": {
             "endlinecolor": "#2a3f5f",
             "gridcolor": "white",
             "linecolor": "white",
             "minorgridcolor": "white",
             "startlinecolor": "#2a3f5f"
            },
            "baxis": {
             "endlinecolor": "#2a3f5f",
             "gridcolor": "white",
             "linecolor": "white",
             "minorgridcolor": "white",
             "startlinecolor": "#2a3f5f"
            },
            "type": "carpet"
           }
          ],
          "choropleth": [
           {
            "colorbar": {
             "outlinewidth": 0,
             "ticks": ""
            },
            "type": "choropleth"
           }
          ],
          "contour": [
           {
            "colorbar": {
             "outlinewidth": 0,
             "ticks": ""
            },
            "colorscale": [
             [
              0,
              "#0d0887"
             ],
             [
              0.1111111111111111,
              "#46039f"
             ],
             [
              0.2222222222222222,
              "#7201a8"
             ],
             [
              0.3333333333333333,
              "#9c179e"
             ],
             [
              0.4444444444444444,
              "#bd3786"
             ],
             [
              0.5555555555555556,
              "#d8576b"
             ],
             [
              0.6666666666666666,
              "#ed7953"
             ],
             [
              0.7777777777777778,
              "#fb9f3a"
             ],
             [
              0.8888888888888888,
              "#fdca26"
             ],
             [
              1,
              "#f0f921"
             ]
            ],
            "type": "contour"
           }
          ],
          "contourcarpet": [
           {
            "colorbar": {
             "outlinewidth": 0,
             "ticks": ""
            },
            "type": "contourcarpet"
           }
          ],
          "heatmap": [
           {
            "colorbar": {
             "outlinewidth": 0,
             "ticks": ""
            },
            "colorscale": [
             [
              0,
              "#0d0887"
             ],
             [
              0.1111111111111111,
              "#46039f"
             ],
             [
              0.2222222222222222,
              "#7201a8"
             ],
             [
              0.3333333333333333,
              "#9c179e"
             ],
             [
              0.4444444444444444,
              "#bd3786"
             ],
             [
              0.5555555555555556,
              "#d8576b"
             ],
             [
              0.6666666666666666,
              "#ed7953"
             ],
             [
              0.7777777777777778,
              "#fb9f3a"
             ],
             [
              0.8888888888888888,
              "#fdca26"
             ],
             [
              1,
              "#f0f921"
             ]
            ],
            "type": "heatmap"
           }
          ],
          "histogram": [
           {
            "marker": {
             "pattern": {
              "fillmode": "overlay",
              "size": 10,
              "solidity": 0.2
             }
            },
            "type": "histogram"
           }
          ],
          "histogram2d": [
           {
            "colorbar": {
             "outlinewidth": 0,
             "ticks": ""
            },
            "colorscale": [
             [
              0,
              "#0d0887"
             ],
             [
              0.1111111111111111,
              "#46039f"
             ],
             [
              0.2222222222222222,
              "#7201a8"
             ],
             [
              0.3333333333333333,
              "#9c179e"
             ],
             [
              0.4444444444444444,
              "#bd3786"
             ],
             [
              0.5555555555555556,
              "#d8576b"
             ],
             [
              0.6666666666666666,
              "#ed7953"
             ],
             [
              0.7777777777777778,
              "#fb9f3a"
             ],
             [
              0.8888888888888888,
              "#fdca26"
             ],
             [
              1,
              "#f0f921"
             ]
            ],
            "type": "histogram2d"
           }
          ],
          "histogram2dcontour": [
           {
            "colorbar": {
             "outlinewidth": 0,
             "ticks": ""
            },
            "colorscale": [
             [
              0,
              "#0d0887"
             ],
             [
              0.1111111111111111,
              "#46039f"
             ],
             [
              0.2222222222222222,
              "#7201a8"
             ],
             [
              0.3333333333333333,
              "#9c179e"
             ],
             [
              0.4444444444444444,
              "#bd3786"
             ],
             [
              0.5555555555555556,
              "#d8576b"
             ],
             [
              0.6666666666666666,
              "#ed7953"
             ],
             [
              0.7777777777777778,
              "#fb9f3a"
             ],
             [
              0.8888888888888888,
              "#fdca26"
             ],
             [
              1,
              "#f0f921"
             ]
            ],
            "type": "histogram2dcontour"
           }
          ],
          "mesh3d": [
           {
            "colorbar": {
             "outlinewidth": 0,
             "ticks": ""
            },
            "type": "mesh3d"
           }
          ],
          "parcoords": [
           {
            "line": {
             "colorbar": {
              "outlinewidth": 0,
              "ticks": ""
             }
            },
            "type": "parcoords"
           }
          ],
          "pie": [
           {
            "automargin": true,
            "type": "pie"
           }
          ],
          "scatter": [
           {
            "fillpattern": {
             "fillmode": "overlay",
             "size": 10,
             "solidity": 0.2
            },
            "type": "scatter"
           }
          ],
          "scatter3d": [
           {
            "line": {
             "colorbar": {
              "outlinewidth": 0,
              "ticks": ""
             }
            },
            "marker": {
             "colorbar": {
              "outlinewidth": 0,
              "ticks": ""
             }
            },
            "type": "scatter3d"
           }
          ],
          "scattercarpet": [
           {
            "marker": {
             "colorbar": {
              "outlinewidth": 0,
              "ticks": ""
             }
            },
            "type": "scattercarpet"
           }
          ],
          "scattergeo": [
           {
            "marker": {
             "colorbar": {
              "outlinewidth": 0,
              "ticks": ""
             }
            },
            "type": "scattergeo"
           }
          ],
          "scattergl": [
           {
            "marker": {
             "colorbar": {
              "outlinewidth": 0,
              "ticks": ""
             }
            },
            "type": "scattergl"
           }
          ],
          "scattermap": [
           {
            "marker": {
             "colorbar": {
              "outlinewidth": 0,
              "ticks": ""
             }
            },
            "type": "scattermap"
           }
          ],
          "scattermapbox": [
           {
            "marker": {
             "colorbar": {
              "outlinewidth": 0,
              "ticks": ""
             }
            },
            "type": "scattermapbox"
           }
          ],
          "scatterpolar": [
           {
            "marker": {
             "colorbar": {
              "outlinewidth": 0,
              "ticks": ""
             }
            },
            "type": "scatterpolar"
           }
          ],
          "scatterpolargl": [
           {
            "marker": {
             "colorbar": {
              "outlinewidth": 0,
              "ticks": ""
             }
            },
            "type": "scatterpolargl"
           }
          ],
          "scatterternary": [
           {
            "marker": {
             "colorbar": {
              "outlinewidth": 0,
              "ticks": ""
             }
            },
            "type": "scatterternary"
           }
          ],
          "surface": [
           {
            "colorbar": {
             "outlinewidth": 0,
             "ticks": ""
            },
            "colorscale": [
             [
              0,
              "#0d0887"
             ],
             [
              0.1111111111111111,
              "#46039f"
             ],
             [
              0.2222222222222222,
              "#7201a8"
             ],
             [
              0.3333333333333333,
              "#9c179e"
             ],
             [
              0.4444444444444444,
              "#bd3786"
             ],
             [
              0.5555555555555556,
              "#d8576b"
             ],
             [
              0.6666666666666666,
              "#ed7953"
             ],
             [
              0.7777777777777778,
              "#fb9f3a"
             ],
             [
              0.8888888888888888,
              "#fdca26"
             ],
             [
              1,
              "#f0f921"
             ]
            ],
            "type": "surface"
           }
          ],
          "table": [
           {
            "cells": {
             "fill": {
              "color": "#EBF0F8"
             },
             "line": {
              "color": "white"
             }
            },
            "header": {
             "fill": {
              "color": "#C8D4E3"
             },
             "line": {
              "color": "white"
             }
            },
            "type": "table"
           }
          ]
         },
         "layout": {
          "annotationdefaults": {
           "arrowcolor": "#2a3f5f",
           "arrowhead": 0,
           "arrowwidth": 1
          },
          "autotypenumbers": "strict",
          "coloraxis": {
           "colorbar": {
            "outlinewidth": 0,
            "ticks": ""
           }
          },
          "colorscale": {
           "diverging": [
            [
             0,
             "#8e0152"
            ],
            [
             0.1,
             "#c51b7d"
            ],
            [
             0.2,
             "#de77ae"
            ],
            [
             0.3,
             "#f1b6da"
            ],
            [
             0.4,
             "#fde0ef"
            ],
            [
             0.5,
             "#f7f7f7"
            ],
            [
             0.6,
             "#e6f5d0"
            ],
            [
             0.7,
             "#b8e186"
            ],
            [
             0.8,
             "#7fbc41"
            ],
            [
             0.9,
             "#4d9221"
            ],
            [
             1,
             "#276419"
            ]
           ],
           "sequential": [
            [
             0,
             "#0d0887"
            ],
            [
             0.1111111111111111,
             "#46039f"
            ],
            [
             0.2222222222222222,
             "#7201a8"
            ],
            [
             0.3333333333333333,
             "#9c179e"
            ],
            [
             0.4444444444444444,
             "#bd3786"
            ],
            [
             0.5555555555555556,
             "#d8576b"
            ],
            [
             0.6666666666666666,
             "#ed7953"
            ],
            [
             0.7777777777777778,
             "#fb9f3a"
            ],
            [
             0.8888888888888888,
             "#fdca26"
            ],
            [
             1,
             "#f0f921"
            ]
           ],
           "sequentialminus": [
            [
             0,
             "#0d0887"
            ],
            [
             0.1111111111111111,
             "#46039f"
            ],
            [
             0.2222222222222222,
             "#7201a8"
            ],
            [
             0.3333333333333333,
             "#9c179e"
            ],
            [
             0.4444444444444444,
             "#bd3786"
            ],
            [
             0.5555555555555556,
             "#d8576b"
            ],
            [
             0.6666666666666666,
             "#ed7953"
            ],
            [
             0.7777777777777778,
             "#fb9f3a"
            ],
            [
             0.8888888888888888,
             "#fdca26"
            ],
            [
             1,
             "#f0f921"
            ]
           ]
          },
          "colorway": [
           "#636efa",
           "#EF553B",
           "#00cc96",
           "#ab63fa",
           "#FFA15A",
           "#19d3f3",
           "#FF6692",
           "#B6E880",
           "#FF97FF",
           "#FECB52"
          ],
          "font": {
           "color": "#2a3f5f"
          },
          "geo": {
           "bgcolor": "white",
           "lakecolor": "white",
           "landcolor": "#E5ECF6",
           "showlakes": true,
           "showland": true,
           "subunitcolor": "white"
          },
          "hoverlabel": {
           "align": "left"
          },
          "hovermode": "closest",
          "mapbox": {
           "style": "light"
          },
          "paper_bgcolor": "white",
          "plot_bgcolor": "#E5ECF6",
          "polar": {
           "angularaxis": {
            "gridcolor": "white",
            "linecolor": "white",
            "ticks": ""
           },
           "bgcolor": "#E5ECF6",
           "radialaxis": {
            "gridcolor": "white",
            "linecolor": "white",
            "ticks": ""
           }
          },
          "scene": {
           "xaxis": {
            "backgroundcolor": "#E5ECF6",
            "gridcolor": "white",
            "gridwidth": 2,
            "linecolor": "white",
            "showbackground": true,
            "ticks": "",
            "zerolinecolor": "white"
           },
           "yaxis": {
            "backgroundcolor": "#E5ECF6",
            "gridcolor": "white",
            "gridwidth": 2,
            "linecolor": "white",
            "showbackground": true,
            "ticks": "",
            "zerolinecolor": "white"
           },
           "zaxis": {
            "backgroundcolor": "#E5ECF6",
            "gridcolor": "white",
            "gridwidth": 2,
            "linecolor": "white",
            "showbackground": true,
            "ticks": "",
            "zerolinecolor": "white"
           }
          },
          "shapedefaults": {
           "line": {
            "color": "#2a3f5f"
           }
          },
          "ternary": {
           "aaxis": {
            "gridcolor": "white",
            "linecolor": "white",
            "ticks": ""
           },
           "baxis": {
            "gridcolor": "white",
            "linecolor": "white",
            "ticks": ""
           },
           "bgcolor": "#E5ECF6",
           "caxis": {
            "gridcolor": "white",
            "linecolor": "white",
            "ticks": ""
           }
          },
          "title": {
           "x": 0.05
          },
          "xaxis": {
           "automargin": true,
           "gridcolor": "white",
           "linecolor": "white",
           "ticks": "",
           "title": {
            "standoff": 15
           },
           "zerolinecolor": "white",
           "zerolinewidth": 2
          },
          "yaxis": {
           "automargin": true,
           "gridcolor": "white",
           "linecolor": "white",
           "ticks": "",
           "title": {
            "standoff": 15
           },
           "zerolinecolor": "white",
           "zerolinewidth": 2
          }
         }
        },
        "title": {
         "text": "Distribution of Ship Modes"
        },
        "xaxis": {
         "anchor": "y",
         "domain": [
          0,
          1
         ],
         "title": {
          "text": "Ship Mode"
         }
        },
        "yaxis": {
         "anchor": "x",
         "domain": [
          0,
          1
         ],
         "title": {
          "text": "count"
         }
        }
       }
      }
     },
     "metadata": {},
     "output_type": "display_data"
    }
   ],
   "source": [
    "df2 = pd.DataFrame(df['Ship Mode'].value_counts().sort_values(ascending=False).reset_index())\n",
    "\n",
    "fig = px.bar(df2, \n",
    "             x='Ship Mode', \n",
    "             y= 'count',\n",
    "             title='Distribution of Ship Modes',\n",
    "             color_discrete_sequence=colors\n",
    "             )\n",
    "fig.show()"
   ]
  },
  {
   "cell_type": "markdown",
   "metadata": {},
   "source": [
    "Identify the top 5 customers based on total sales. Create visualisations that compare these top customers in terms of sales, profit, and discount levels."
   ]
  },
  {
   "cell_type": "markdown",
   "metadata": {},
   "source": [
    "First to identify the top 5 Customers"
   ]
  },
  {
   "cell_type": "code",
   "execution_count": null,
   "metadata": {},
   "outputs": [
    {
     "data": {
      "application/vnd.microsoft.datawrangler.viewer.v0+json": {
       "columns": [
        {
         "name": "index",
         "rawType": "int64",
         "type": "integer"
        },
        {
         "name": "Customer Name",
         "rawType": "object",
         "type": "string"
        }
       ],
       "ref": "2ae83873-ce85-4734-8d07-833c0f76d1ef",
       "rows": [
        [
         "0",
         "Claire Gute"
        ],
        [
         "1",
         "Claire Gute"
        ],
        [
         "2",
         "Sean O'Donnell"
        ],
        [
         "3",
         "Brosina Hoffman"
        ],
        [
         "4",
         "Brosina Hoffman"
        ],
        [
         "5",
         "Sandra Flanagan"
        ],
        [
         "6",
         "Emily Burns"
        ],
        [
         "7",
         "Tracy Blumstein"
        ],
        [
         "8",
         "Tracy Blumstein"
        ],
        [
         "9",
         "Gene Hale"
        ],
        [
         "10",
         "Steve Nguyen"
        ],
        [
         "11",
         "Steve Nguyen"
        ],
        [
         "12",
         "Darren Powers"
        ],
        [
         "13",
         "Darren Powers"
        ],
        [
         "14",
         "Ted Butterfield"
        ],
        [
         "15",
         "Kunst Miller"
        ],
        [
         "16",
         "Paul Stevenson"
        ],
        [
         "17",
         "Joel Eaton"
        ],
        [
         "18",
         "Joel Eaton"
        ],
        [
         "19",
         "Ken Brennan"
        ],
        [
         "20",
         "Joel Eaton"
        ],
        [
         "21",
         "Patrick O'Donnell"
        ],
        [
         "22",
         "Karl Braun"
        ],
        [
         "23",
         "Parhena Norris"
        ],
        [
         "24",
         "Lena Cacioppo"
        ],
        [
         "25",
         "Cynthia Voltz"
        ],
        [
         "26",
         "Dave Kipp"
        ],
        [
         "27",
         "Steven Cartwright"
        ],
        [
         "28",
         "Alan Dominguez"
        ],
        [
         "30",
         "Lindsay Shagiari"
        ],
        [
         "31",
         "Lindsay Shagiari"
        ],
        [
         "32",
         "Lena Creighton"
        ],
        [
         "33",
         "Jonathan Doherty"
        ],
        [
         "34",
         "Maureen Gastineau"
        ],
        [
         "35",
         "Justin Ellison"
        ],
        [
         "36",
         "Dave Brooks"
        ],
        [
         "37",
         "Becky Martin"
        ],
        [
         "38",
         "Chad Sievert"
        ],
        [
         "39",
         "Joel Eaton"
        ],
        [
         "40",
         "Mark Packer"
        ],
        [
         "41",
         "Mark Packer"
        ],
        [
         "42",
         "Bruce Stewart"
        ],
        [
         "43",
         "Heather Kirkland"
        ],
        [
         "44",
         "Victoria Wilson"
        ],
        [
         "45",
         "Joni Blumstein"
        ],
        [
         "46",
         "David Smith"
        ],
        [
         "47",
         "Valerie Dominguez"
        ],
        [
         "48",
         "Valerie Dominguez"
        ],
        [
         "49",
         "Christopher Schild"
        ],
        [
         "50",
         "Christopher Schild"
        ]
       ],
       "shape": {
        "columns": 1,
        "rows": 2015
       }
      },
      "text/plain": [
       "0            Claire Gute\n",
       "1            Claire Gute\n",
       "2         Sean O'Donnell\n",
       "3        Brosina Hoffman\n",
       "4        Brosina Hoffman\n",
       "              ...       \n",
       "2116    Corinna Mitchell\n",
       "2117        Harold Engle\n",
       "2118         Shaun Weien\n",
       "2119    Tom Boeckenhauer\n",
       "2120         Dave Brooks\n",
       "Name: Customer Name, Length: 2015, dtype: object"
      ]
     },
     "execution_count": 13,
     "metadata": {},
     "output_type": "execute_result"
    }
   ],
   "source": [
    "df['Customer Name']"
   ]
  },
  {
   "cell_type": "code",
   "execution_count": 43,
   "metadata": {},
   "outputs": [
    {
     "data": {
      "application/vnd.plotly.v1+json": {
       "config": {
        "plotlyServerURL": "https://plot.ly"
       },
       "data": [
        {
         "hovertemplate": "Customer Name=%{x}<br>Sales=%{y}<extra></extra>",
         "legendgroup": "",
         "marker": {
          "color": "#636efa",
          "pattern": {
           "shape": ""
          }
         },
         "name": "",
         "orientation": "v",
         "showlegend": false,
         "textposition": "auto",
         "type": "bar",
         "x": [
          "Peter Fuller",
          "Greg Tran",
          "Seth Vernon",
          "Caroline Jumper",
          "Joe Elijah",
          "Seth Vernon",
          "Peter Fuller",
          "Joe Elijah",
          "Greg Tran",
          "Caroline Jumper",
          "Greg Tran",
          "Seth Vernon",
          "Joe Elijah",
          "Joe Elijah",
          "Caroline Jumper",
          "Joe Elijah",
          "Caroline Jumper",
          "Seth Vernon",
          "Peter Fuller",
          "Seth Vernon",
          "Caroline Jumper",
          "Peter Fuller",
          "Seth Vernon",
          "Seth Vernon",
          "Caroline Jumper",
          "Seth Vernon",
          "Seth Vernon",
          "Seth Vernon",
          "Caroline Jumper",
          "Greg Tran",
          "Peter Fuller",
          "Seth Vernon",
          "Caroline Jumper",
          "Seth Vernon",
          "Seth Vernon"
         ],
         "xaxis": "x",
         "y": {
          "bdata": "YhBYObSEsEBI4XoUrk+vQC/dJAZBkKZApHA9CtfnpUAnMQisHAakQLgehevRnKFASOF6FK5Pn0AAAAAAAE2bQIXrUbgezpNALbKd76f6j0A9CtejcBuMQM3MzMzMQIdAiUFg5dDShUDXo3A9CreEQFg5tMh2xIJAPzVeukmIfUBOYhBYOax7QD0K16NwGXlAJQaBlUPLdkB1kxgEVgpxQB1aZDvfZ2pAnMQgsHL4aEArhxbZztdoQGQ730+Nv2ZADAIrhxYZZkBI4XoUrjdiQI/C9ShcX2BAgZVDi2w/VEDXo3A9CtdPQHsUrkfhOkZAVOOlm8QgREDNzMzMzMwuQLKd76fGSydA4XoUrkfhI0CcxCCwcmgVQA==",
          "dtype": "f8"
         },
         "yaxis": "y"
        }
       ],
       "layout": {
        "barmode": "relative",
        "legend": {
         "tracegroupgap": 0
        },
        "template": {
         "data": {
          "bar": [
           {
            "error_x": {
             "color": "#2a3f5f"
            },
            "error_y": {
             "color": "#2a3f5f"
            },
            "marker": {
             "line": {
              "color": "#E5ECF6",
              "width": 0.5
             },
             "pattern": {
              "fillmode": "overlay",
              "size": 10,
              "solidity": 0.2
             }
            },
            "type": "bar"
           }
          ],
          "barpolar": [
           {
            "marker": {
             "line": {
              "color": "#E5ECF6",
              "width": 0.5
             },
             "pattern": {
              "fillmode": "overlay",
              "size": 10,
              "solidity": 0.2
             }
            },
            "type": "barpolar"
           }
          ],
          "carpet": [
           {
            "aaxis": {
             "endlinecolor": "#2a3f5f",
             "gridcolor": "white",
             "linecolor": "white",
             "minorgridcolor": "white",
             "startlinecolor": "#2a3f5f"
            },
            "baxis": {
             "endlinecolor": "#2a3f5f",
             "gridcolor": "white",
             "linecolor": "white",
             "minorgridcolor": "white",
             "startlinecolor": "#2a3f5f"
            },
            "type": "carpet"
           }
          ],
          "choropleth": [
           {
            "colorbar": {
             "outlinewidth": 0,
             "ticks": ""
            },
            "type": "choropleth"
           }
          ],
          "contour": [
           {
            "colorbar": {
             "outlinewidth": 0,
             "ticks": ""
            },
            "colorscale": [
             [
              0,
              "#0d0887"
             ],
             [
              0.1111111111111111,
              "#46039f"
             ],
             [
              0.2222222222222222,
              "#7201a8"
             ],
             [
              0.3333333333333333,
              "#9c179e"
             ],
             [
              0.4444444444444444,
              "#bd3786"
             ],
             [
              0.5555555555555556,
              "#d8576b"
             ],
             [
              0.6666666666666666,
              "#ed7953"
             ],
             [
              0.7777777777777778,
              "#fb9f3a"
             ],
             [
              0.8888888888888888,
              "#fdca26"
             ],
             [
              1,
              "#f0f921"
             ]
            ],
            "type": "contour"
           }
          ],
          "contourcarpet": [
           {
            "colorbar": {
             "outlinewidth": 0,
             "ticks": ""
            },
            "type": "contourcarpet"
           }
          ],
          "heatmap": [
           {
            "colorbar": {
             "outlinewidth": 0,
             "ticks": ""
            },
            "colorscale": [
             [
              0,
              "#0d0887"
             ],
             [
              0.1111111111111111,
              "#46039f"
             ],
             [
              0.2222222222222222,
              "#7201a8"
             ],
             [
              0.3333333333333333,
              "#9c179e"
             ],
             [
              0.4444444444444444,
              "#bd3786"
             ],
             [
              0.5555555555555556,
              "#d8576b"
             ],
             [
              0.6666666666666666,
              "#ed7953"
             ],
             [
              0.7777777777777778,
              "#fb9f3a"
             ],
             [
              0.8888888888888888,
              "#fdca26"
             ],
             [
              1,
              "#f0f921"
             ]
            ],
            "type": "heatmap"
           }
          ],
          "histogram": [
           {
            "marker": {
             "pattern": {
              "fillmode": "overlay",
              "size": 10,
              "solidity": 0.2
             }
            },
            "type": "histogram"
           }
          ],
          "histogram2d": [
           {
            "colorbar": {
             "outlinewidth": 0,
             "ticks": ""
            },
            "colorscale": [
             [
              0,
              "#0d0887"
             ],
             [
              0.1111111111111111,
              "#46039f"
             ],
             [
              0.2222222222222222,
              "#7201a8"
             ],
             [
              0.3333333333333333,
              "#9c179e"
             ],
             [
              0.4444444444444444,
              "#bd3786"
             ],
             [
              0.5555555555555556,
              "#d8576b"
             ],
             [
              0.6666666666666666,
              "#ed7953"
             ],
             [
              0.7777777777777778,
              "#fb9f3a"
             ],
             [
              0.8888888888888888,
              "#fdca26"
             ],
             [
              1,
              "#f0f921"
             ]
            ],
            "type": "histogram2d"
           }
          ],
          "histogram2dcontour": [
           {
            "colorbar": {
             "outlinewidth": 0,
             "ticks": ""
            },
            "colorscale": [
             [
              0,
              "#0d0887"
             ],
             [
              0.1111111111111111,
              "#46039f"
             ],
             [
              0.2222222222222222,
              "#7201a8"
             ],
             [
              0.3333333333333333,
              "#9c179e"
             ],
             [
              0.4444444444444444,
              "#bd3786"
             ],
             [
              0.5555555555555556,
              "#d8576b"
             ],
             [
              0.6666666666666666,
              "#ed7953"
             ],
             [
              0.7777777777777778,
              "#fb9f3a"
             ],
             [
              0.8888888888888888,
              "#fdca26"
             ],
             [
              1,
              "#f0f921"
             ]
            ],
            "type": "histogram2dcontour"
           }
          ],
          "mesh3d": [
           {
            "colorbar": {
             "outlinewidth": 0,
             "ticks": ""
            },
            "type": "mesh3d"
           }
          ],
          "parcoords": [
           {
            "line": {
             "colorbar": {
              "outlinewidth": 0,
              "ticks": ""
             }
            },
            "type": "parcoords"
           }
          ],
          "pie": [
           {
            "automargin": true,
            "type": "pie"
           }
          ],
          "scatter": [
           {
            "fillpattern": {
             "fillmode": "overlay",
             "size": 10,
             "solidity": 0.2
            },
            "type": "scatter"
           }
          ],
          "scatter3d": [
           {
            "line": {
             "colorbar": {
              "outlinewidth": 0,
              "ticks": ""
             }
            },
            "marker": {
             "colorbar": {
              "outlinewidth": 0,
              "ticks": ""
             }
            },
            "type": "scatter3d"
           }
          ],
          "scattercarpet": [
           {
            "marker": {
             "colorbar": {
              "outlinewidth": 0,
              "ticks": ""
             }
            },
            "type": "scattercarpet"
           }
          ],
          "scattergeo": [
           {
            "marker": {
             "colorbar": {
              "outlinewidth": 0,
              "ticks": ""
             }
            },
            "type": "scattergeo"
           }
          ],
          "scattergl": [
           {
            "marker": {
             "colorbar": {
              "outlinewidth": 0,
              "ticks": ""
             }
            },
            "type": "scattergl"
           }
          ],
          "scattermap": [
           {
            "marker": {
             "colorbar": {
              "outlinewidth": 0,
              "ticks": ""
             }
            },
            "type": "scattermap"
           }
          ],
          "scattermapbox": [
           {
            "marker": {
             "colorbar": {
              "outlinewidth": 0,
              "ticks": ""
             }
            },
            "type": "scattermapbox"
           }
          ],
          "scatterpolar": [
           {
            "marker": {
             "colorbar": {
              "outlinewidth": 0,
              "ticks": ""
             }
            },
            "type": "scatterpolar"
           }
          ],
          "scatterpolargl": [
           {
            "marker": {
             "colorbar": {
              "outlinewidth": 0,
              "ticks": ""
             }
            },
            "type": "scatterpolargl"
           }
          ],
          "scatterternary": [
           {
            "marker": {
             "colorbar": {
              "outlinewidth": 0,
              "ticks": ""
             }
            },
            "type": "scatterternary"
           }
          ],
          "surface": [
           {
            "colorbar": {
             "outlinewidth": 0,
             "ticks": ""
            },
            "colorscale": [
             [
              0,
              "#0d0887"
             ],
             [
              0.1111111111111111,
              "#46039f"
             ],
             [
              0.2222222222222222,
              "#7201a8"
             ],
             [
              0.3333333333333333,
              "#9c179e"
             ],
             [
              0.4444444444444444,
              "#bd3786"
             ],
             [
              0.5555555555555556,
              "#d8576b"
             ],
             [
              0.6666666666666666,
              "#ed7953"
             ],
             [
              0.7777777777777778,
              "#fb9f3a"
             ],
             [
              0.8888888888888888,
              "#fdca26"
             ],
             [
              1,
              "#f0f921"
             ]
            ],
            "type": "surface"
           }
          ],
          "table": [
           {
            "cells": {
             "fill": {
              "color": "#EBF0F8"
             },
             "line": {
              "color": "white"
             }
            },
            "header": {
             "fill": {
              "color": "#C8D4E3"
             },
             "line": {
              "color": "white"
             }
            },
            "type": "table"
           }
          ]
         },
         "layout": {
          "annotationdefaults": {
           "arrowcolor": "#2a3f5f",
           "arrowhead": 0,
           "arrowwidth": 1
          },
          "autotypenumbers": "strict",
          "coloraxis": {
           "colorbar": {
            "outlinewidth": 0,
            "ticks": ""
           }
          },
          "colorscale": {
           "diverging": [
            [
             0,
             "#8e0152"
            ],
            [
             0.1,
             "#c51b7d"
            ],
            [
             0.2,
             "#de77ae"
            ],
            [
             0.3,
             "#f1b6da"
            ],
            [
             0.4,
             "#fde0ef"
            ],
            [
             0.5,
             "#f7f7f7"
            ],
            [
             0.6,
             "#e6f5d0"
            ],
            [
             0.7,
             "#b8e186"
            ],
            [
             0.8,
             "#7fbc41"
            ],
            [
             0.9,
             "#4d9221"
            ],
            [
             1,
             "#276419"
            ]
           ],
           "sequential": [
            [
             0,
             "#0d0887"
            ],
            [
             0.1111111111111111,
             "#46039f"
            ],
            [
             0.2222222222222222,
             "#7201a8"
            ],
            [
             0.3333333333333333,
             "#9c179e"
            ],
            [
             0.4444444444444444,
             "#bd3786"
            ],
            [
             0.5555555555555556,
             "#d8576b"
            ],
            [
             0.6666666666666666,
             "#ed7953"
            ],
            [
             0.7777777777777778,
             "#fb9f3a"
            ],
            [
             0.8888888888888888,
             "#fdca26"
            ],
            [
             1,
             "#f0f921"
            ]
           ],
           "sequentialminus": [
            [
             0,
             "#0d0887"
            ],
            [
             0.1111111111111111,
             "#46039f"
            ],
            [
             0.2222222222222222,
             "#7201a8"
            ],
            [
             0.3333333333333333,
             "#9c179e"
            ],
            [
             0.4444444444444444,
             "#bd3786"
            ],
            [
             0.5555555555555556,
             "#d8576b"
            ],
            [
             0.6666666666666666,
             "#ed7953"
            ],
            [
             0.7777777777777778,
             "#fb9f3a"
            ],
            [
             0.8888888888888888,
             "#fdca26"
            ],
            [
             1,
             "#f0f921"
            ]
           ]
          },
          "colorway": [
           "#636efa",
           "#EF553B",
           "#00cc96",
           "#ab63fa",
           "#FFA15A",
           "#19d3f3",
           "#FF6692",
           "#B6E880",
           "#FF97FF",
           "#FECB52"
          ],
          "font": {
           "color": "#2a3f5f"
          },
          "geo": {
           "bgcolor": "white",
           "lakecolor": "white",
           "landcolor": "#E5ECF6",
           "showlakes": true,
           "showland": true,
           "subunitcolor": "white"
          },
          "hoverlabel": {
           "align": "left"
          },
          "hovermode": "closest",
          "mapbox": {
           "style": "light"
          },
          "paper_bgcolor": "white",
          "plot_bgcolor": "#E5ECF6",
          "polar": {
           "angularaxis": {
            "gridcolor": "white",
            "linecolor": "white",
            "ticks": ""
           },
           "bgcolor": "#E5ECF6",
           "radialaxis": {
            "gridcolor": "white",
            "linecolor": "white",
            "ticks": ""
           }
          },
          "scene": {
           "xaxis": {
            "backgroundcolor": "#E5ECF6",
            "gridcolor": "white",
            "gridwidth": 2,
            "linecolor": "white",
            "showbackground": true,
            "ticks": "",
            "zerolinecolor": "white"
           },
           "yaxis": {
            "backgroundcolor": "#E5ECF6",
            "gridcolor": "white",
            "gridwidth": 2,
            "linecolor": "white",
            "showbackground": true,
            "ticks": "",
            "zerolinecolor": "white"
           },
           "zaxis": {
            "backgroundcolor": "#E5ECF6",
            "gridcolor": "white",
            "gridwidth": 2,
            "linecolor": "white",
            "showbackground": true,
            "ticks": "",
            "zerolinecolor": "white"
           }
          },
          "shapedefaults": {
           "line": {
            "color": "#2a3f5f"
           }
          },
          "ternary": {
           "aaxis": {
            "gridcolor": "white",
            "linecolor": "white",
            "ticks": ""
           },
           "baxis": {
            "gridcolor": "white",
            "linecolor": "white",
            "ticks": ""
           },
           "bgcolor": "#E5ECF6",
           "caxis": {
            "gridcolor": "white",
            "linecolor": "white",
            "ticks": ""
           }
          },
          "title": {
           "x": 0.05
          },
          "xaxis": {
           "automargin": true,
           "gridcolor": "white",
           "linecolor": "white",
           "ticks": "",
           "title": {
            "standoff": 15
           },
           "zerolinecolor": "white",
           "zerolinewidth": 2
          },
          "yaxis": {
           "automargin": true,
           "gridcolor": "white",
           "linecolor": "white",
           "ticks": "",
           "title": {
            "standoff": 15
           },
           "zerolinecolor": "white",
           "zerolinewidth": 2
          }
         }
        },
        "title": {
         "text": "Sales by Customers comparison"
        },
        "xaxis": {
         "anchor": "y",
         "domain": [
          0,
          1
         ],
         "title": {
          "text": "Customer Name"
         }
        },
        "yaxis": {
         "anchor": "x",
         "domain": [
          0,
          1
         ],
         "title": {
          "text": "Sales"
         }
        }
       }
      }
     },
     "metadata": {},
     "output_type": "display_data"
    },
    {
     "data": {
      "application/vnd.plotly.v1+json": {
       "config": {
        "plotlyServerURL": "https://plot.ly"
       },
       "data": [
        {
         "hovertemplate": "Profit=%{x}<br>Customer Name=%{y}<extra></extra>",
         "legendgroup": "",
         "marker": {
          "color": "#636efa",
          "pattern": {
           "shape": ""
          }
         },
         "name": "",
         "orientation": "h",
         "showlegend": false,
         "textposition": "auto",
         "type": "bar",
         "x": {
          "bdata": "Q61p3nHSY0AGgZVDiwxJwPrt68C5DYNAAAAAAAAAAACHp1fKMpRzQPYoXI/Ce3dABoGVQ4sMOcCuR+F6FKiDQIXrUbgeznNADAIrhxYZPsCmm8QgsLIpwHsUrkfh6lfAcRsN4C0wSkDb+X5qvKRSQNSa5h2nKCHAyjLEsS60YsDcaABvgYRNQN9PjZdufmDA6gQ0ETY8QsCwA+eMKC0yQEVHcvkPmVDA4JwRpb3BIUAxCKwcWmQswHh6pSxDTEvADAIrhxYZNsDhC5OpglE3QBUdyeU/RFbANBE2PL0yIEBNFYxK6gQ8QNXnaiv2Vy1A3EYDeAskJkDFILByaJEdQCfChqdXygpAuycPC7WmCEBUUiegibD5Pw==",
          "dtype": "f8"
         },
         "xaxis": "x",
         "y": [
          "Peter Fuller",
          "Greg Tran",
          "Seth Vernon",
          "Caroline Jumper",
          "Joe Elijah",
          "Seth Vernon",
          "Peter Fuller",
          "Joe Elijah",
          "Greg Tran",
          "Caroline Jumper",
          "Greg Tran",
          "Seth Vernon",
          "Joe Elijah",
          "Joe Elijah",
          "Caroline Jumper",
          "Joe Elijah",
          "Caroline Jumper",
          "Seth Vernon",
          "Peter Fuller",
          "Seth Vernon",
          "Caroline Jumper",
          "Peter Fuller",
          "Seth Vernon",
          "Seth Vernon",
          "Caroline Jumper",
          "Seth Vernon",
          "Seth Vernon",
          "Seth Vernon",
          "Caroline Jumper",
          "Greg Tran",
          "Peter Fuller",
          "Seth Vernon",
          "Caroline Jumper",
          "Seth Vernon",
          "Seth Vernon"
         ],
         "yaxis": "y"
        }
       ],
       "layout": {
        "barmode": "relative",
        "legend": {
         "tracegroupgap": 0
        },
        "template": {
         "data": {
          "bar": [
           {
            "error_x": {
             "color": "#2a3f5f"
            },
            "error_y": {
             "color": "#2a3f5f"
            },
            "marker": {
             "line": {
              "color": "#E5ECF6",
              "width": 0.5
             },
             "pattern": {
              "fillmode": "overlay",
              "size": 10,
              "solidity": 0.2
             }
            },
            "type": "bar"
           }
          ],
          "barpolar": [
           {
            "marker": {
             "line": {
              "color": "#E5ECF6",
              "width": 0.5
             },
             "pattern": {
              "fillmode": "overlay",
              "size": 10,
              "solidity": 0.2
             }
            },
            "type": "barpolar"
           }
          ],
          "carpet": [
           {
            "aaxis": {
             "endlinecolor": "#2a3f5f",
             "gridcolor": "white",
             "linecolor": "white",
             "minorgridcolor": "white",
             "startlinecolor": "#2a3f5f"
            },
            "baxis": {
             "endlinecolor": "#2a3f5f",
             "gridcolor": "white",
             "linecolor": "white",
             "minorgridcolor": "white",
             "startlinecolor": "#2a3f5f"
            },
            "type": "carpet"
           }
          ],
          "choropleth": [
           {
            "colorbar": {
             "outlinewidth": 0,
             "ticks": ""
            },
            "type": "choropleth"
           }
          ],
          "contour": [
           {
            "colorbar": {
             "outlinewidth": 0,
             "ticks": ""
            },
            "colorscale": [
             [
              0,
              "#0d0887"
             ],
             [
              0.1111111111111111,
              "#46039f"
             ],
             [
              0.2222222222222222,
              "#7201a8"
             ],
             [
              0.3333333333333333,
              "#9c179e"
             ],
             [
              0.4444444444444444,
              "#bd3786"
             ],
             [
              0.5555555555555556,
              "#d8576b"
             ],
             [
              0.6666666666666666,
              "#ed7953"
             ],
             [
              0.7777777777777778,
              "#fb9f3a"
             ],
             [
              0.8888888888888888,
              "#fdca26"
             ],
             [
              1,
              "#f0f921"
             ]
            ],
            "type": "contour"
           }
          ],
          "contourcarpet": [
           {
            "colorbar": {
             "outlinewidth": 0,
             "ticks": ""
            },
            "type": "contourcarpet"
           }
          ],
          "heatmap": [
           {
            "colorbar": {
             "outlinewidth": 0,
             "ticks": ""
            },
            "colorscale": [
             [
              0,
              "#0d0887"
             ],
             [
              0.1111111111111111,
              "#46039f"
             ],
             [
              0.2222222222222222,
              "#7201a8"
             ],
             [
              0.3333333333333333,
              "#9c179e"
             ],
             [
              0.4444444444444444,
              "#bd3786"
             ],
             [
              0.5555555555555556,
              "#d8576b"
             ],
             [
              0.6666666666666666,
              "#ed7953"
             ],
             [
              0.7777777777777778,
              "#fb9f3a"
             ],
             [
              0.8888888888888888,
              "#fdca26"
             ],
             [
              1,
              "#f0f921"
             ]
            ],
            "type": "heatmap"
           }
          ],
          "histogram": [
           {
            "marker": {
             "pattern": {
              "fillmode": "overlay",
              "size": 10,
              "solidity": 0.2
             }
            },
            "type": "histogram"
           }
          ],
          "histogram2d": [
           {
            "colorbar": {
             "outlinewidth": 0,
             "ticks": ""
            },
            "colorscale": [
             [
              0,
              "#0d0887"
             ],
             [
              0.1111111111111111,
              "#46039f"
             ],
             [
              0.2222222222222222,
              "#7201a8"
             ],
             [
              0.3333333333333333,
              "#9c179e"
             ],
             [
              0.4444444444444444,
              "#bd3786"
             ],
             [
              0.5555555555555556,
              "#d8576b"
             ],
             [
              0.6666666666666666,
              "#ed7953"
             ],
             [
              0.7777777777777778,
              "#fb9f3a"
             ],
             [
              0.8888888888888888,
              "#fdca26"
             ],
             [
              1,
              "#f0f921"
             ]
            ],
            "type": "histogram2d"
           }
          ],
          "histogram2dcontour": [
           {
            "colorbar": {
             "outlinewidth": 0,
             "ticks": ""
            },
            "colorscale": [
             [
              0,
              "#0d0887"
             ],
             [
              0.1111111111111111,
              "#46039f"
             ],
             [
              0.2222222222222222,
              "#7201a8"
             ],
             [
              0.3333333333333333,
              "#9c179e"
             ],
             [
              0.4444444444444444,
              "#bd3786"
             ],
             [
              0.5555555555555556,
              "#d8576b"
             ],
             [
              0.6666666666666666,
              "#ed7953"
             ],
             [
              0.7777777777777778,
              "#fb9f3a"
             ],
             [
              0.8888888888888888,
              "#fdca26"
             ],
             [
              1,
              "#f0f921"
             ]
            ],
            "type": "histogram2dcontour"
           }
          ],
          "mesh3d": [
           {
            "colorbar": {
             "outlinewidth": 0,
             "ticks": ""
            },
            "type": "mesh3d"
           }
          ],
          "parcoords": [
           {
            "line": {
             "colorbar": {
              "outlinewidth": 0,
              "ticks": ""
             }
            },
            "type": "parcoords"
           }
          ],
          "pie": [
           {
            "automargin": true,
            "type": "pie"
           }
          ],
          "scatter": [
           {
            "fillpattern": {
             "fillmode": "overlay",
             "size": 10,
             "solidity": 0.2
            },
            "type": "scatter"
           }
          ],
          "scatter3d": [
           {
            "line": {
             "colorbar": {
              "outlinewidth": 0,
              "ticks": ""
             }
            },
            "marker": {
             "colorbar": {
              "outlinewidth": 0,
              "ticks": ""
             }
            },
            "type": "scatter3d"
           }
          ],
          "scattercarpet": [
           {
            "marker": {
             "colorbar": {
              "outlinewidth": 0,
              "ticks": ""
             }
            },
            "type": "scattercarpet"
           }
          ],
          "scattergeo": [
           {
            "marker": {
             "colorbar": {
              "outlinewidth": 0,
              "ticks": ""
             }
            },
            "type": "scattergeo"
           }
          ],
          "scattergl": [
           {
            "marker": {
             "colorbar": {
              "outlinewidth": 0,
              "ticks": ""
             }
            },
            "type": "scattergl"
           }
          ],
          "scattermap": [
           {
            "marker": {
             "colorbar": {
              "outlinewidth": 0,
              "ticks": ""
             }
            },
            "type": "scattermap"
           }
          ],
          "scattermapbox": [
           {
            "marker": {
             "colorbar": {
              "outlinewidth": 0,
              "ticks": ""
             }
            },
            "type": "scattermapbox"
           }
          ],
          "scatterpolar": [
           {
            "marker": {
             "colorbar": {
              "outlinewidth": 0,
              "ticks": ""
             }
            },
            "type": "scatterpolar"
           }
          ],
          "scatterpolargl": [
           {
            "marker": {
             "colorbar": {
              "outlinewidth": 0,
              "ticks": ""
             }
            },
            "type": "scatterpolargl"
           }
          ],
          "scatterternary": [
           {
            "marker": {
             "colorbar": {
              "outlinewidth": 0,
              "ticks": ""
             }
            },
            "type": "scatterternary"
           }
          ],
          "surface": [
           {
            "colorbar": {
             "outlinewidth": 0,
             "ticks": ""
            },
            "colorscale": [
             [
              0,
              "#0d0887"
             ],
             [
              0.1111111111111111,
              "#46039f"
             ],
             [
              0.2222222222222222,
              "#7201a8"
             ],
             [
              0.3333333333333333,
              "#9c179e"
             ],
             [
              0.4444444444444444,
              "#bd3786"
             ],
             [
              0.5555555555555556,
              "#d8576b"
             ],
             [
              0.6666666666666666,
              "#ed7953"
             ],
             [
              0.7777777777777778,
              "#fb9f3a"
             ],
             [
              0.8888888888888888,
              "#fdca26"
             ],
             [
              1,
              "#f0f921"
             ]
            ],
            "type": "surface"
           }
          ],
          "table": [
           {
            "cells": {
             "fill": {
              "color": "#EBF0F8"
             },
             "line": {
              "color": "white"
             }
            },
            "header": {
             "fill": {
              "color": "#C8D4E3"
             },
             "line": {
              "color": "white"
             }
            },
            "type": "table"
           }
          ]
         },
         "layout": {
          "annotationdefaults": {
           "arrowcolor": "#2a3f5f",
           "arrowhead": 0,
           "arrowwidth": 1
          },
          "autotypenumbers": "strict",
          "coloraxis": {
           "colorbar": {
            "outlinewidth": 0,
            "ticks": ""
           }
          },
          "colorscale": {
           "diverging": [
            [
             0,
             "#8e0152"
            ],
            [
             0.1,
             "#c51b7d"
            ],
            [
             0.2,
             "#de77ae"
            ],
            [
             0.3,
             "#f1b6da"
            ],
            [
             0.4,
             "#fde0ef"
            ],
            [
             0.5,
             "#f7f7f7"
            ],
            [
             0.6,
             "#e6f5d0"
            ],
            [
             0.7,
             "#b8e186"
            ],
            [
             0.8,
             "#7fbc41"
            ],
            [
             0.9,
             "#4d9221"
            ],
            [
             1,
             "#276419"
            ]
           ],
           "sequential": [
            [
             0,
             "#0d0887"
            ],
            [
             0.1111111111111111,
             "#46039f"
            ],
            [
             0.2222222222222222,
             "#7201a8"
            ],
            [
             0.3333333333333333,
             "#9c179e"
            ],
            [
             0.4444444444444444,
             "#bd3786"
            ],
            [
             0.5555555555555556,
             "#d8576b"
            ],
            [
             0.6666666666666666,
             "#ed7953"
            ],
            [
             0.7777777777777778,
             "#fb9f3a"
            ],
            [
             0.8888888888888888,
             "#fdca26"
            ],
            [
             1,
             "#f0f921"
            ]
           ],
           "sequentialminus": [
            [
             0,
             "#0d0887"
            ],
            [
             0.1111111111111111,
             "#46039f"
            ],
            [
             0.2222222222222222,
             "#7201a8"
            ],
            [
             0.3333333333333333,
             "#9c179e"
            ],
            [
             0.4444444444444444,
             "#bd3786"
            ],
            [
             0.5555555555555556,
             "#d8576b"
            ],
            [
             0.6666666666666666,
             "#ed7953"
            ],
            [
             0.7777777777777778,
             "#fb9f3a"
            ],
            [
             0.8888888888888888,
             "#fdca26"
            ],
            [
             1,
             "#f0f921"
            ]
           ]
          },
          "colorway": [
           "#636efa",
           "#EF553B",
           "#00cc96",
           "#ab63fa",
           "#FFA15A",
           "#19d3f3",
           "#FF6692",
           "#B6E880",
           "#FF97FF",
           "#FECB52"
          ],
          "font": {
           "color": "#2a3f5f"
          },
          "geo": {
           "bgcolor": "white",
           "lakecolor": "white",
           "landcolor": "#E5ECF6",
           "showlakes": true,
           "showland": true,
           "subunitcolor": "white"
          },
          "hoverlabel": {
           "align": "left"
          },
          "hovermode": "closest",
          "mapbox": {
           "style": "light"
          },
          "paper_bgcolor": "white",
          "plot_bgcolor": "#E5ECF6",
          "polar": {
           "angularaxis": {
            "gridcolor": "white",
            "linecolor": "white",
            "ticks": ""
           },
           "bgcolor": "#E5ECF6",
           "radialaxis": {
            "gridcolor": "white",
            "linecolor": "white",
            "ticks": ""
           }
          },
          "scene": {
           "xaxis": {
            "backgroundcolor": "#E5ECF6",
            "gridcolor": "white",
            "gridwidth": 2,
            "linecolor": "white",
            "showbackground": true,
            "ticks": "",
            "zerolinecolor": "white"
           },
           "yaxis": {
            "backgroundcolor": "#E5ECF6",
            "gridcolor": "white",
            "gridwidth": 2,
            "linecolor": "white",
            "showbackground": true,
            "ticks": "",
            "zerolinecolor": "white"
           },
           "zaxis": {
            "backgroundcolor": "#E5ECF6",
            "gridcolor": "white",
            "gridwidth": 2,
            "linecolor": "white",
            "showbackground": true,
            "ticks": "",
            "zerolinecolor": "white"
           }
          },
          "shapedefaults": {
           "line": {
            "color": "#2a3f5f"
           }
          },
          "ternary": {
           "aaxis": {
            "gridcolor": "white",
            "linecolor": "white",
            "ticks": ""
           },
           "baxis": {
            "gridcolor": "white",
            "linecolor": "white",
            "ticks": ""
           },
           "bgcolor": "#E5ECF6",
           "caxis": {
            "gridcolor": "white",
            "linecolor": "white",
            "ticks": ""
           }
          },
          "title": {
           "x": 0.05
          },
          "xaxis": {
           "automargin": true,
           "gridcolor": "white",
           "linecolor": "white",
           "ticks": "",
           "title": {
            "standoff": 15
           },
           "zerolinecolor": "white",
           "zerolinewidth": 2
          },
          "yaxis": {
           "automargin": true,
           "gridcolor": "white",
           "linecolor": "white",
           "ticks": "",
           "title": {
            "standoff": 15
           },
           "zerolinecolor": "white",
           "zerolinewidth": 2
          }
         }
        },
        "title": {
         "text": "Profit by Customerscomparison"
        },
        "xaxis": {
         "anchor": "y",
         "domain": [
          0,
          1
         ],
         "title": {
          "text": "Profit"
         }
        },
        "yaxis": {
         "anchor": "x",
         "domain": [
          0,
          1
         ],
         "title": {
          "text": "Customer Name"
         }
        }
       }
      }
     },
     "metadata": {},
     "output_type": "display_data"
    },
    {
     "data": {
      "application/vnd.plotly.v1+json": {
       "config": {
        "plotlyServerURL": "https://plot.ly"
       },
       "data": [
        {
         "hovertemplate": "Discount=%{x}<br>Customer Name=%{y}<extra></extra>",
         "legendgroup": "",
         "marker": {
          "color": "#636efa",
          "pattern": {
           "shape": ""
          }
         },
         "name": "",
         "orientation": "h",
         "showlegend": false,
         "textposition": "auto",
         "type": "bar",
         "x": {
          "bdata": "mpmZmZmZyT+amZmZmZnJP5qZmZmZmbk/mpmZmZmZyT+amZmZmZm5P5qZmZmZmbk/mpmZmZmZyT8AAAAAAAAAAAAAAAAAAAAAexSuR+F61D8zMzMzMzPTPzMzMzMzM9M/mpmZmZmZyT+amZmZmZnJPzMzMzMzM9M/mpmZmZmZ2T+amZmZmZm5PzMzMzMzM9M/mpmZmZmZyT+amZmZmZm5PzMzMzMzM9M/mpmZmZmZuT8zMzMzMzPTPzMzMzMzM9M/mpmZmZmZyT8AAAAAAAAAAAAAAAAAAOA/mpmZmZmZuT8AAAAAAAAAAAAAAAAAAAAAmpmZmZmZyT8AAAAAAAAAAJqZmZmZmck/AAAAAAAAAACamZmZmZnJPw==",
          "dtype": "f8"
         },
         "xaxis": "x",
         "y": [
          "Peter Fuller",
          "Greg Tran",
          "Seth Vernon",
          "Caroline Jumper",
          "Joe Elijah",
          "Seth Vernon",
          "Peter Fuller",
          "Joe Elijah",
          "Greg Tran",
          "Caroline Jumper",
          "Greg Tran",
          "Seth Vernon",
          "Joe Elijah",
          "Joe Elijah",
          "Caroline Jumper",
          "Joe Elijah",
          "Caroline Jumper",
          "Seth Vernon",
          "Peter Fuller",
          "Seth Vernon",
          "Caroline Jumper",
          "Peter Fuller",
          "Seth Vernon",
          "Seth Vernon",
          "Caroline Jumper",
          "Seth Vernon",
          "Seth Vernon",
          "Seth Vernon",
          "Caroline Jumper",
          "Greg Tran",
          "Peter Fuller",
          "Seth Vernon",
          "Caroline Jumper",
          "Seth Vernon",
          "Seth Vernon"
         ],
         "yaxis": "y"
        }
       ],
       "layout": {
        "barmode": "relative",
        "legend": {
         "tracegroupgap": 0
        },
        "template": {
         "data": {
          "bar": [
           {
            "error_x": {
             "color": "#2a3f5f"
            },
            "error_y": {
             "color": "#2a3f5f"
            },
            "marker": {
             "line": {
              "color": "#E5ECF6",
              "width": 0.5
             },
             "pattern": {
              "fillmode": "overlay",
              "size": 10,
              "solidity": 0.2
             }
            },
            "type": "bar"
           }
          ],
          "barpolar": [
           {
            "marker": {
             "line": {
              "color": "#E5ECF6",
              "width": 0.5
             },
             "pattern": {
              "fillmode": "overlay",
              "size": 10,
              "solidity": 0.2
             }
            },
            "type": "barpolar"
           }
          ],
          "carpet": [
           {
            "aaxis": {
             "endlinecolor": "#2a3f5f",
             "gridcolor": "white",
             "linecolor": "white",
             "minorgridcolor": "white",
             "startlinecolor": "#2a3f5f"
            },
            "baxis": {
             "endlinecolor": "#2a3f5f",
             "gridcolor": "white",
             "linecolor": "white",
             "minorgridcolor": "white",
             "startlinecolor": "#2a3f5f"
            },
            "type": "carpet"
           }
          ],
          "choropleth": [
           {
            "colorbar": {
             "outlinewidth": 0,
             "ticks": ""
            },
            "type": "choropleth"
           }
          ],
          "contour": [
           {
            "colorbar": {
             "outlinewidth": 0,
             "ticks": ""
            },
            "colorscale": [
             [
              0,
              "#0d0887"
             ],
             [
              0.1111111111111111,
              "#46039f"
             ],
             [
              0.2222222222222222,
              "#7201a8"
             ],
             [
              0.3333333333333333,
              "#9c179e"
             ],
             [
              0.4444444444444444,
              "#bd3786"
             ],
             [
              0.5555555555555556,
              "#d8576b"
             ],
             [
              0.6666666666666666,
              "#ed7953"
             ],
             [
              0.7777777777777778,
              "#fb9f3a"
             ],
             [
              0.8888888888888888,
              "#fdca26"
             ],
             [
              1,
              "#f0f921"
             ]
            ],
            "type": "contour"
           }
          ],
          "contourcarpet": [
           {
            "colorbar": {
             "outlinewidth": 0,
             "ticks": ""
            },
            "type": "contourcarpet"
           }
          ],
          "heatmap": [
           {
            "colorbar": {
             "outlinewidth": 0,
             "ticks": ""
            },
            "colorscale": [
             [
              0,
              "#0d0887"
             ],
             [
              0.1111111111111111,
              "#46039f"
             ],
             [
              0.2222222222222222,
              "#7201a8"
             ],
             [
              0.3333333333333333,
              "#9c179e"
             ],
             [
              0.4444444444444444,
              "#bd3786"
             ],
             [
              0.5555555555555556,
              "#d8576b"
             ],
             [
              0.6666666666666666,
              "#ed7953"
             ],
             [
              0.7777777777777778,
              "#fb9f3a"
             ],
             [
              0.8888888888888888,
              "#fdca26"
             ],
             [
              1,
              "#f0f921"
             ]
            ],
            "type": "heatmap"
           }
          ],
          "histogram": [
           {
            "marker": {
             "pattern": {
              "fillmode": "overlay",
              "size": 10,
              "solidity": 0.2
             }
            },
            "type": "histogram"
           }
          ],
          "histogram2d": [
           {
            "colorbar": {
             "outlinewidth": 0,
             "ticks": ""
            },
            "colorscale": [
             [
              0,
              "#0d0887"
             ],
             [
              0.1111111111111111,
              "#46039f"
             ],
             [
              0.2222222222222222,
              "#7201a8"
             ],
             [
              0.3333333333333333,
              "#9c179e"
             ],
             [
              0.4444444444444444,
              "#bd3786"
             ],
             [
              0.5555555555555556,
              "#d8576b"
             ],
             [
              0.6666666666666666,
              "#ed7953"
             ],
             [
              0.7777777777777778,
              "#fb9f3a"
             ],
             [
              0.8888888888888888,
              "#fdca26"
             ],
             [
              1,
              "#f0f921"
             ]
            ],
            "type": "histogram2d"
           }
          ],
          "histogram2dcontour": [
           {
            "colorbar": {
             "outlinewidth": 0,
             "ticks": ""
            },
            "colorscale": [
             [
              0,
              "#0d0887"
             ],
             [
              0.1111111111111111,
              "#46039f"
             ],
             [
              0.2222222222222222,
              "#7201a8"
             ],
             [
              0.3333333333333333,
              "#9c179e"
             ],
             [
              0.4444444444444444,
              "#bd3786"
             ],
             [
              0.5555555555555556,
              "#d8576b"
             ],
             [
              0.6666666666666666,
              "#ed7953"
             ],
             [
              0.7777777777777778,
              "#fb9f3a"
             ],
             [
              0.8888888888888888,
              "#fdca26"
             ],
             [
              1,
              "#f0f921"
             ]
            ],
            "type": "histogram2dcontour"
           }
          ],
          "mesh3d": [
           {
            "colorbar": {
             "outlinewidth": 0,
             "ticks": ""
            },
            "type": "mesh3d"
           }
          ],
          "parcoords": [
           {
            "line": {
             "colorbar": {
              "outlinewidth": 0,
              "ticks": ""
             }
            },
            "type": "parcoords"
           }
          ],
          "pie": [
           {
            "automargin": true,
            "type": "pie"
           }
          ],
          "scatter": [
           {
            "fillpattern": {
             "fillmode": "overlay",
             "size": 10,
             "solidity": 0.2
            },
            "type": "scatter"
           }
          ],
          "scatter3d": [
           {
            "line": {
             "colorbar": {
              "outlinewidth": 0,
              "ticks": ""
             }
            },
            "marker": {
             "colorbar": {
              "outlinewidth": 0,
              "ticks": ""
             }
            },
            "type": "scatter3d"
           }
          ],
          "scattercarpet": [
           {
            "marker": {
             "colorbar": {
              "outlinewidth": 0,
              "ticks": ""
             }
            },
            "type": "scattercarpet"
           }
          ],
          "scattergeo": [
           {
            "marker": {
             "colorbar": {
              "outlinewidth": 0,
              "ticks": ""
             }
            },
            "type": "scattergeo"
           }
          ],
          "scattergl": [
           {
            "marker": {
             "colorbar": {
              "outlinewidth": 0,
              "ticks": ""
             }
            },
            "type": "scattergl"
           }
          ],
          "scattermap": [
           {
            "marker": {
             "colorbar": {
              "outlinewidth": 0,
              "ticks": ""
             }
            },
            "type": "scattermap"
           }
          ],
          "scattermapbox": [
           {
            "marker": {
             "colorbar": {
              "outlinewidth": 0,
              "ticks": ""
             }
            },
            "type": "scattermapbox"
           }
          ],
          "scatterpolar": [
           {
            "marker": {
             "colorbar": {
              "outlinewidth": 0,
              "ticks": ""
             }
            },
            "type": "scatterpolar"
           }
          ],
          "scatterpolargl": [
           {
            "marker": {
             "colorbar": {
              "outlinewidth": 0,
              "ticks": ""
             }
            },
            "type": "scatterpolargl"
           }
          ],
          "scatterternary": [
           {
            "marker": {
             "colorbar": {
              "outlinewidth": 0,
              "ticks": ""
             }
            },
            "type": "scatterternary"
           }
          ],
          "surface": [
           {
            "colorbar": {
             "outlinewidth": 0,
             "ticks": ""
            },
            "colorscale": [
             [
              0,
              "#0d0887"
             ],
             [
              0.1111111111111111,
              "#46039f"
             ],
             [
              0.2222222222222222,
              "#7201a8"
             ],
             [
              0.3333333333333333,
              "#9c179e"
             ],
             [
              0.4444444444444444,
              "#bd3786"
             ],
             [
              0.5555555555555556,
              "#d8576b"
             ],
             [
              0.6666666666666666,
              "#ed7953"
             ],
             [
              0.7777777777777778,
              "#fb9f3a"
             ],
             [
              0.8888888888888888,
              "#fdca26"
             ],
             [
              1,
              "#f0f921"
             ]
            ],
            "type": "surface"
           }
          ],
          "table": [
           {
            "cells": {
             "fill": {
              "color": "#EBF0F8"
             },
             "line": {
              "color": "white"
             }
            },
            "header": {
             "fill": {
              "color": "#C8D4E3"
             },
             "line": {
              "color": "white"
             }
            },
            "type": "table"
           }
          ]
         },
         "layout": {
          "annotationdefaults": {
           "arrowcolor": "#2a3f5f",
           "arrowhead": 0,
           "arrowwidth": 1
          },
          "autotypenumbers": "strict",
          "coloraxis": {
           "colorbar": {
            "outlinewidth": 0,
            "ticks": ""
           }
          },
          "colorscale": {
           "diverging": [
            [
             0,
             "#8e0152"
            ],
            [
             0.1,
             "#c51b7d"
            ],
            [
             0.2,
             "#de77ae"
            ],
            [
             0.3,
             "#f1b6da"
            ],
            [
             0.4,
             "#fde0ef"
            ],
            [
             0.5,
             "#f7f7f7"
            ],
            [
             0.6,
             "#e6f5d0"
            ],
            [
             0.7,
             "#b8e186"
            ],
            [
             0.8,
             "#7fbc41"
            ],
            [
             0.9,
             "#4d9221"
            ],
            [
             1,
             "#276419"
            ]
           ],
           "sequential": [
            [
             0,
             "#0d0887"
            ],
            [
             0.1111111111111111,
             "#46039f"
            ],
            [
             0.2222222222222222,
             "#7201a8"
            ],
            [
             0.3333333333333333,
             "#9c179e"
            ],
            [
             0.4444444444444444,
             "#bd3786"
            ],
            [
             0.5555555555555556,
             "#d8576b"
            ],
            [
             0.6666666666666666,
             "#ed7953"
            ],
            [
             0.7777777777777778,
             "#fb9f3a"
            ],
            [
             0.8888888888888888,
             "#fdca26"
            ],
            [
             1,
             "#f0f921"
            ]
           ],
           "sequentialminus": [
            [
             0,
             "#0d0887"
            ],
            [
             0.1111111111111111,
             "#46039f"
            ],
            [
             0.2222222222222222,
             "#7201a8"
            ],
            [
             0.3333333333333333,
             "#9c179e"
            ],
            [
             0.4444444444444444,
             "#bd3786"
            ],
            [
             0.5555555555555556,
             "#d8576b"
            ],
            [
             0.6666666666666666,
             "#ed7953"
            ],
            [
             0.7777777777777778,
             "#fb9f3a"
            ],
            [
             0.8888888888888888,
             "#fdca26"
            ],
            [
             1,
             "#f0f921"
            ]
           ]
          },
          "colorway": [
           "#636efa",
           "#EF553B",
           "#00cc96",
           "#ab63fa",
           "#FFA15A",
           "#19d3f3",
           "#FF6692",
           "#B6E880",
           "#FF97FF",
           "#FECB52"
          ],
          "font": {
           "color": "#2a3f5f"
          },
          "geo": {
           "bgcolor": "white",
           "lakecolor": "white",
           "landcolor": "#E5ECF6",
           "showlakes": true,
           "showland": true,
           "subunitcolor": "white"
          },
          "hoverlabel": {
           "align": "left"
          },
          "hovermode": "closest",
          "mapbox": {
           "style": "light"
          },
          "paper_bgcolor": "white",
          "plot_bgcolor": "#E5ECF6",
          "polar": {
           "angularaxis": {
            "gridcolor": "white",
            "linecolor": "white",
            "ticks": ""
           },
           "bgcolor": "#E5ECF6",
           "radialaxis": {
            "gridcolor": "white",
            "linecolor": "white",
            "ticks": ""
           }
          },
          "scene": {
           "xaxis": {
            "backgroundcolor": "#E5ECF6",
            "gridcolor": "white",
            "gridwidth": 2,
            "linecolor": "white",
            "showbackground": true,
            "ticks": "",
            "zerolinecolor": "white"
           },
           "yaxis": {
            "backgroundcolor": "#E5ECF6",
            "gridcolor": "white",
            "gridwidth": 2,
            "linecolor": "white",
            "showbackground": true,
            "ticks": "",
            "zerolinecolor": "white"
           },
           "zaxis": {
            "backgroundcolor": "#E5ECF6",
            "gridcolor": "white",
            "gridwidth": 2,
            "linecolor": "white",
            "showbackground": true,
            "ticks": "",
            "zerolinecolor": "white"
           }
          },
          "shapedefaults": {
           "line": {
            "color": "#2a3f5f"
           }
          },
          "ternary": {
           "aaxis": {
            "gridcolor": "white",
            "linecolor": "white",
            "ticks": ""
           },
           "baxis": {
            "gridcolor": "white",
            "linecolor": "white",
            "ticks": ""
           },
           "bgcolor": "#E5ECF6",
           "caxis": {
            "gridcolor": "white",
            "linecolor": "white",
            "ticks": ""
           }
          },
          "title": {
           "x": 0.05
          },
          "xaxis": {
           "automargin": true,
           "gridcolor": "white",
           "linecolor": "white",
           "ticks": "",
           "title": {
            "standoff": 15
           },
           "zerolinecolor": "white",
           "zerolinewidth": 2
          },
          "yaxis": {
           "automargin": true,
           "gridcolor": "white",
           "linecolor": "white",
           "ticks": "",
           "title": {
            "standoff": 15
           },
           "zerolinecolor": "white",
           "zerolinewidth": 2
          }
         }
        },
        "title": {
         "text": "Discount by customers comparison"
        },
        "xaxis": {
         "anchor": "y",
         "domain": [
          0,
          1
         ],
         "title": {
          "text": "Discount"
         }
        },
        "yaxis": {
         "anchor": "x",
         "domain": [
          0,
          1
         ],
         "title": {
          "text": "Customer Name"
         }
        }
       }
      }
     },
     "metadata": {},
     "output_type": "display_data"
    }
   ],
   "source": [
    "chosen_cols3 = ['Sales',\n",
    "                # 'Profit',\n",
    "                # 'Discount'\n",
    "                ]\n",
    "\n",
    "customer_totals = df.groupby(\"Customer Name\")[chosen_cols3].sum()\n",
    "\n",
    "top_customers = pd.DataFrame(customer_totals.sort_values(by ='Sales',ascending=False).head(5))\n",
    "\n",
    "top_data = df[df[\"Customer Name\"].isin(top_customers.index)].sort_values(by='Sales', ascending=False)\n",
    "\n",
    "fig1 = px.bar(top_data, y='Sales', x='Customer Name', title= 'Sales by Customers comparison')\n",
    "fig2= px.bar(top_data, 'Profit', 'Customer Name', title='Profit by Customerscomparison')\n",
    "fig3= px.bar(top_data,  'Discount', 'Customer Name', title='Discount by customers comparison')\n",
    "\n",
    "\n",
    "fig1.show()\n",
    "fig2.show()\n",
    "fig3.show()"
   ]
  },
  {
   "cell_type": "code",
   "execution_count": null,
   "metadata": {},
   "outputs": [
    {
     "data": {
      "application/vnd.plotly.v1+json": {
       "config": {
        "plotlyServerURL": "https://plot.ly"
       },
       "data": [
        {
         "hovertemplate": "variable=Sales<br>value=%{x}<br>Customer Name=%{y}<extra></extra>",
         "legendgroup": "Sales",
         "marker": {
          "color": "#636efa",
          "pattern": {
           "shape": ""
          }
         },
         "name": "Sales",
         "orientation": "h",
         "showlegend": true,
         "textposition": "auto",
         "type": "bar",
         "x": {
          "bdata": "SOF6FK5Pr0DhehSuR+EjQPYoXI/C5pFAhetRuB7Ok0CQwvUoXE95QGQ730+Nv2ZAYhBYOTQbo0A/NV66SYh9QNejcD0Kt4RAsp3vp8ZLJ0B7FK5H4TpGQMl2vp8ap39AnMQgsHJoFUAnMQisHAakQIGVQ4sseLVApHA9CtfnpUAGgZVDi6ycQI/C9ShcX2BAFa5H4XokZEA9CtejcBuMQNnO91NjILlADAIrhxYZZkArhxbZztdoQA==",
          "dtype": "f8"
         },
         "xaxis": "x",
         "y": [
          "Greg Tran",
          "Seth Vernon",
          "Seth VernonSeth Vernon",
          "Greg Tran",
          "Peter FullerPeter Fuller",
          "Seth Vernon",
          "Joe ElijahJoe Elijah",
          "Joe Elijah",
          "Joe Elijah",
          "Caroline Jumper",
          "Greg Tran",
          "Caroline JumperCaroline Jumper",
          "Seth Vernon",
          "Joe Elijah",
          "Seth VernonSeth VernonSeth VernonSeth Vernon",
          "Caroline Jumper",
          "Caroline JumperCaroline JumperCaroline Jumper",
          "Seth Vernon",
          "Seth VernonSeth Vernon",
          "Greg Tran",
          "Peter FullerPeter FullerPeter Fuller",
          "Caroline Jumper",
          "Seth Vernon"
         ],
         "yaxis": "y"
        },
        {
         "hovertemplate": "variable=Profit<br>value=%{x}<br>Customer Name=%{y}<extra></extra>",
         "legendgroup": "Profit",
         "marker": {
          "color": "#EF553B",
          "pattern": {
           "shape": ""
          }
         },
         "name": "Profit",
         "orientation": "h",
         "showlegend": true,
         "textposition": "auto",
         "type": "bar",
         "x": {
          "bdata": "BoGVQ4sMScC7Jw8LtaYIQBxaZDvfc2zAhetRuB7Oc0BmZmZmZmY5wHh6pSxDTEvAZRniWBdLhUDKMsSxLrRiwNv5fmq8pFJAJ8KGp1fKCkDV52or9lctQME5I0p7w1VAVFInoImw+T+Hp1fKMpRzQNcS8kHPnY9AAAAAAAAAAAAi2/l+akRawBUdyeU/RFbAEhQ/xty1PkCmm8QgsLIpwPAWSFD8zGFADAIrhxYZNsAxCKwcWmQswA==",
          "dtype": "f8"
         },
         "xaxis": "x",
         "y": [
          "Greg Tran",
          "Seth Vernon",
          "Seth VernonSeth Vernon",
          "Greg Tran",
          "Peter FullerPeter Fuller",
          "Seth Vernon",
          "Joe ElijahJoe Elijah",
          "Joe Elijah",
          "Joe Elijah",
          "Caroline Jumper",
          "Greg Tran",
          "Caroline JumperCaroline Jumper",
          "Seth Vernon",
          "Joe Elijah",
          "Seth VernonSeth VernonSeth VernonSeth Vernon",
          "Caroline Jumper",
          "Caroline JumperCaroline JumperCaroline Jumper",
          "Seth Vernon",
          "Seth VernonSeth Vernon",
          "Greg Tran",
          "Peter FullerPeter FullerPeter Fuller",
          "Caroline Jumper",
          "Seth Vernon"
         ],
         "yaxis": "y"
        },
        {
         "hovertemplate": "variable=Discount<br>value=%{x}<br>Customer Name=%{y}<extra></extra>",
         "legendgroup": "Discount",
         "marker": {
          "color": "#00cc96",
          "pattern": {
           "shape": ""
          }
         },
         "name": "Discount",
         "orientation": "h",
         "showlegend": true,
         "textposition": "auto",
         "type": "bar",
         "x": {
          "bdata": "mpmZmZmZyT8AAAAAAAAAADMzMzMzM+M/AAAAAAAAAACamZmZmZnZPzMzMzMzM9M/mpmZmZmZyT+amZmZmZnZP5qZmZmZmck/mpmZmZmZyT8AAAAAAAAAAJqZmZmZmbk/mpmZmZmZyT+amZmZmZm5P5qZmZmZmdk/mpmZmZmZyT9wPQrXo3DtPwAAAAAAAOA/AAAAAAAAAAAzMzMzMzPTPwAAAAAAAOA/mpmZmZmZyT8zMzMzMzPTPw==",
          "dtype": "f8"
         },
         "xaxis": "x",
         "y": [
          "Greg Tran",
          "Seth Vernon",
          "Seth VernonSeth Vernon",
          "Greg Tran",
          "Peter FullerPeter Fuller",
          "Seth Vernon",
          "Joe ElijahJoe Elijah",
          "Joe Elijah",
          "Joe Elijah",
          "Caroline Jumper",
          "Greg Tran",
          "Caroline JumperCaroline Jumper",
          "Seth Vernon",
          "Joe Elijah",
          "Seth VernonSeth VernonSeth VernonSeth Vernon",
          "Caroline Jumper",
          "Caroline JumperCaroline JumperCaroline Jumper",
          "Seth Vernon",
          "Seth VernonSeth Vernon",
          "Greg Tran",
          "Peter FullerPeter FullerPeter Fuller",
          "Caroline Jumper",
          "Seth Vernon"
         ],
         "yaxis": "y"
        }
       ],
       "layout": {
        "barmode": "relative",
        "legend": {
         "title": {
          "text": "variable"
         },
         "tracegroupgap": 0
        },
        "template": {
         "data": {
          "bar": [
           {
            "error_x": {
             "color": "#2a3f5f"
            },
            "error_y": {
             "color": "#2a3f5f"
            },
            "marker": {
             "line": {
              "color": "#E5ECF6",
              "width": 0.5
             },
             "pattern": {
              "fillmode": "overlay",
              "size": 10,
              "solidity": 0.2
             }
            },
            "type": "bar"
           }
          ],
          "barpolar": [
           {
            "marker": {
             "line": {
              "color": "#E5ECF6",
              "width": 0.5
             },
             "pattern": {
              "fillmode": "overlay",
              "size": 10,
              "solidity": 0.2
             }
            },
            "type": "barpolar"
           }
          ],
          "carpet": [
           {
            "aaxis": {
             "endlinecolor": "#2a3f5f",
             "gridcolor": "white",
             "linecolor": "white",
             "minorgridcolor": "white",
             "startlinecolor": "#2a3f5f"
            },
            "baxis": {
             "endlinecolor": "#2a3f5f",
             "gridcolor": "white",
             "linecolor": "white",
             "minorgridcolor": "white",
             "startlinecolor": "#2a3f5f"
            },
            "type": "carpet"
           }
          ],
          "choropleth": [
           {
            "colorbar": {
             "outlinewidth": 0,
             "ticks": ""
            },
            "type": "choropleth"
           }
          ],
          "contour": [
           {
            "colorbar": {
             "outlinewidth": 0,
             "ticks": ""
            },
            "colorscale": [
             [
              0,
              "#0d0887"
             ],
             [
              0.1111111111111111,
              "#46039f"
             ],
             [
              0.2222222222222222,
              "#7201a8"
             ],
             [
              0.3333333333333333,
              "#9c179e"
             ],
             [
              0.4444444444444444,
              "#bd3786"
             ],
             [
              0.5555555555555556,
              "#d8576b"
             ],
             [
              0.6666666666666666,
              "#ed7953"
             ],
             [
              0.7777777777777778,
              "#fb9f3a"
             ],
             [
              0.8888888888888888,
              "#fdca26"
             ],
             [
              1,
              "#f0f921"
             ]
            ],
            "type": "contour"
           }
          ],
          "contourcarpet": [
           {
            "colorbar": {
             "outlinewidth": 0,
             "ticks": ""
            },
            "type": "contourcarpet"
           }
          ],
          "heatmap": [
           {
            "colorbar": {
             "outlinewidth": 0,
             "ticks": ""
            },
            "colorscale": [
             [
              0,
              "#0d0887"
             ],
             [
              0.1111111111111111,
              "#46039f"
             ],
             [
              0.2222222222222222,
              "#7201a8"
             ],
             [
              0.3333333333333333,
              "#9c179e"
             ],
             [
              0.4444444444444444,
              "#bd3786"
             ],
             [
              0.5555555555555556,
              "#d8576b"
             ],
             [
              0.6666666666666666,
              "#ed7953"
             ],
             [
              0.7777777777777778,
              "#fb9f3a"
             ],
             [
              0.8888888888888888,
              "#fdca26"
             ],
             [
              1,
              "#f0f921"
             ]
            ],
            "type": "heatmap"
           }
          ],
          "histogram": [
           {
            "marker": {
             "pattern": {
              "fillmode": "overlay",
              "size": 10,
              "solidity": 0.2
             }
            },
            "type": "histogram"
           }
          ],
          "histogram2d": [
           {
            "colorbar": {
             "outlinewidth": 0,
             "ticks": ""
            },
            "colorscale": [
             [
              0,
              "#0d0887"
             ],
             [
              0.1111111111111111,
              "#46039f"
             ],
             [
              0.2222222222222222,
              "#7201a8"
             ],
             [
              0.3333333333333333,
              "#9c179e"
             ],
             [
              0.4444444444444444,
              "#bd3786"
             ],
             [
              0.5555555555555556,
              "#d8576b"
             ],
             [
              0.6666666666666666,
              "#ed7953"
             ],
             [
              0.7777777777777778,
              "#fb9f3a"
             ],
             [
              0.8888888888888888,
              "#fdca26"
             ],
             [
              1,
              "#f0f921"
             ]
            ],
            "type": "histogram2d"
           }
          ],
          "histogram2dcontour": [
           {
            "colorbar": {
             "outlinewidth": 0,
             "ticks": ""
            },
            "colorscale": [
             [
              0,
              "#0d0887"
             ],
             [
              0.1111111111111111,
              "#46039f"
             ],
             [
              0.2222222222222222,
              "#7201a8"
             ],
             [
              0.3333333333333333,
              "#9c179e"
             ],
             [
              0.4444444444444444,
              "#bd3786"
             ],
             [
              0.5555555555555556,
              "#d8576b"
             ],
             [
              0.6666666666666666,
              "#ed7953"
             ],
             [
              0.7777777777777778,
              "#fb9f3a"
             ],
             [
              0.8888888888888888,
              "#fdca26"
             ],
             [
              1,
              "#f0f921"
             ]
            ],
            "type": "histogram2dcontour"
           }
          ],
          "mesh3d": [
           {
            "colorbar": {
             "outlinewidth": 0,
             "ticks": ""
            },
            "type": "mesh3d"
           }
          ],
          "parcoords": [
           {
            "line": {
             "colorbar": {
              "outlinewidth": 0,
              "ticks": ""
             }
            },
            "type": "parcoords"
           }
          ],
          "pie": [
           {
            "automargin": true,
            "type": "pie"
           }
          ],
          "scatter": [
           {
            "fillpattern": {
             "fillmode": "overlay",
             "size": 10,
             "solidity": 0.2
            },
            "type": "scatter"
           }
          ],
          "scatter3d": [
           {
            "line": {
             "colorbar": {
              "outlinewidth": 0,
              "ticks": ""
             }
            },
            "marker": {
             "colorbar": {
              "outlinewidth": 0,
              "ticks": ""
             }
            },
            "type": "scatter3d"
           }
          ],
          "scattercarpet": [
           {
            "marker": {
             "colorbar": {
              "outlinewidth": 0,
              "ticks": ""
             }
            },
            "type": "scattercarpet"
           }
          ],
          "scattergeo": [
           {
            "marker": {
             "colorbar": {
              "outlinewidth": 0,
              "ticks": ""
             }
            },
            "type": "scattergeo"
           }
          ],
          "scattergl": [
           {
            "marker": {
             "colorbar": {
              "outlinewidth": 0,
              "ticks": ""
             }
            },
            "type": "scattergl"
           }
          ],
          "scattermap": [
           {
            "marker": {
             "colorbar": {
              "outlinewidth": 0,
              "ticks": ""
             }
            },
            "type": "scattermap"
           }
          ],
          "scattermapbox": [
           {
            "marker": {
             "colorbar": {
              "outlinewidth": 0,
              "ticks": ""
             }
            },
            "type": "scattermapbox"
           }
          ],
          "scatterpolar": [
           {
            "marker": {
             "colorbar": {
              "outlinewidth": 0,
              "ticks": ""
             }
            },
            "type": "scatterpolar"
           }
          ],
          "scatterpolargl": [
           {
            "marker": {
             "colorbar": {
              "outlinewidth": 0,
              "ticks": ""
             }
            },
            "type": "scatterpolargl"
           }
          ],
          "scatterternary": [
           {
            "marker": {
             "colorbar": {
              "outlinewidth": 0,
              "ticks": ""
             }
            },
            "type": "scatterternary"
           }
          ],
          "surface": [
           {
            "colorbar": {
             "outlinewidth": 0,
             "ticks": ""
            },
            "colorscale": [
             [
              0,
              "#0d0887"
             ],
             [
              0.1111111111111111,
              "#46039f"
             ],
             [
              0.2222222222222222,
              "#7201a8"
             ],
             [
              0.3333333333333333,
              "#9c179e"
             ],
             [
              0.4444444444444444,
              "#bd3786"
             ],
             [
              0.5555555555555556,
              "#d8576b"
             ],
             [
              0.6666666666666666,
              "#ed7953"
             ],
             [
              0.7777777777777778,
              "#fb9f3a"
             ],
             [
              0.8888888888888888,
              "#fdca26"
             ],
             [
              1,
              "#f0f921"
             ]
            ],
            "type": "surface"
           }
          ],
          "table": [
           {
            "cells": {
             "fill": {
              "color": "#EBF0F8"
             },
             "line": {
              "color": "white"
             }
            },
            "header": {
             "fill": {
              "color": "#C8D4E3"
             },
             "line": {
              "color": "white"
             }
            },
            "type": "table"
           }
          ]
         },
         "layout": {
          "annotationdefaults": {
           "arrowcolor": "#2a3f5f",
           "arrowhead": 0,
           "arrowwidth": 1
          },
          "autotypenumbers": "strict",
          "coloraxis": {
           "colorbar": {
            "outlinewidth": 0,
            "ticks": ""
           }
          },
          "colorscale": {
           "diverging": [
            [
             0,
             "#8e0152"
            ],
            [
             0.1,
             "#c51b7d"
            ],
            [
             0.2,
             "#de77ae"
            ],
            [
             0.3,
             "#f1b6da"
            ],
            [
             0.4,
             "#fde0ef"
            ],
            [
             0.5,
             "#f7f7f7"
            ],
            [
             0.6,
             "#e6f5d0"
            ],
            [
             0.7,
             "#b8e186"
            ],
            [
             0.8,
             "#7fbc41"
            ],
            [
             0.9,
             "#4d9221"
            ],
            [
             1,
             "#276419"
            ]
           ],
           "sequential": [
            [
             0,
             "#0d0887"
            ],
            [
             0.1111111111111111,
             "#46039f"
            ],
            [
             0.2222222222222222,
             "#7201a8"
            ],
            [
             0.3333333333333333,
             "#9c179e"
            ],
            [
             0.4444444444444444,
             "#bd3786"
            ],
            [
             0.5555555555555556,
             "#d8576b"
            ],
            [
             0.6666666666666666,
             "#ed7953"
            ],
            [
             0.7777777777777778,
             "#fb9f3a"
            ],
            [
             0.8888888888888888,
             "#fdca26"
            ],
            [
             1,
             "#f0f921"
            ]
           ],
           "sequentialminus": [
            [
             0,
             "#0d0887"
            ],
            [
             0.1111111111111111,
             "#46039f"
            ],
            [
             0.2222222222222222,
             "#7201a8"
            ],
            [
             0.3333333333333333,
             "#9c179e"
            ],
            [
             0.4444444444444444,
             "#bd3786"
            ],
            [
             0.5555555555555556,
             "#d8576b"
            ],
            [
             0.6666666666666666,
             "#ed7953"
            ],
            [
             0.7777777777777778,
             "#fb9f3a"
            ],
            [
             0.8888888888888888,
             "#fdca26"
            ],
            [
             1,
             "#f0f921"
            ]
           ]
          },
          "colorway": [
           "#636efa",
           "#EF553B",
           "#00cc96",
           "#ab63fa",
           "#FFA15A",
           "#19d3f3",
           "#FF6692",
           "#B6E880",
           "#FF97FF",
           "#FECB52"
          ],
          "font": {
           "color": "#2a3f5f"
          },
          "geo": {
           "bgcolor": "white",
           "lakecolor": "white",
           "landcolor": "#E5ECF6",
           "showlakes": true,
           "showland": true,
           "subunitcolor": "white"
          },
          "hoverlabel": {
           "align": "left"
          },
          "hovermode": "closest",
          "mapbox": {
           "style": "light"
          },
          "paper_bgcolor": "white",
          "plot_bgcolor": "#E5ECF6",
          "polar": {
           "angularaxis": {
            "gridcolor": "white",
            "linecolor": "white",
            "ticks": ""
           },
           "bgcolor": "#E5ECF6",
           "radialaxis": {
            "gridcolor": "white",
            "linecolor": "white",
            "ticks": ""
           }
          },
          "scene": {
           "xaxis": {
            "backgroundcolor": "#E5ECF6",
            "gridcolor": "white",
            "gridwidth": 2,
            "linecolor": "white",
            "showbackground": true,
            "ticks": "",
            "zerolinecolor": "white"
           },
           "yaxis": {
            "backgroundcolor": "#E5ECF6",
            "gridcolor": "white",
            "gridwidth": 2,
            "linecolor": "white",
            "showbackground": true,
            "ticks": "",
            "zerolinecolor": "white"
           },
           "zaxis": {
            "backgroundcolor": "#E5ECF6",
            "gridcolor": "white",
            "gridwidth": 2,
            "linecolor": "white",
            "showbackground": true,
            "ticks": "",
            "zerolinecolor": "white"
           }
          },
          "shapedefaults": {
           "line": {
            "color": "#2a3f5f"
           }
          },
          "ternary": {
           "aaxis": {
            "gridcolor": "white",
            "linecolor": "white",
            "ticks": ""
           },
           "baxis": {
            "gridcolor": "white",
            "linecolor": "white",
            "ticks": ""
           },
           "bgcolor": "#E5ECF6",
           "caxis": {
            "gridcolor": "white",
            "linecolor": "white",
            "ticks": ""
           }
          },
          "title": {
           "x": 0.05
          },
          "xaxis": {
           "automargin": true,
           "gridcolor": "white",
           "linecolor": "white",
           "ticks": "",
           "title": {
            "standoff": 15
           },
           "zerolinecolor": "white",
           "zerolinewidth": 2
          },
          "yaxis": {
           "automargin": true,
           "gridcolor": "white",
           "linecolor": "white",
           "ticks": "",
           "title": {
            "standoff": 15
           },
           "zerolinecolor": "white",
           "zerolinewidth": 2
          }
         }
        },
        "title": {
         "text": "Overview comparison"
        },
        "xaxis": {
         "anchor": "y",
         "domain": [
          0,
          1
         ],
         "title": {
          "text": "value"
         }
        },
        "yaxis": {
         "anchor": "x",
         "domain": [
          0,
          1
         ],
         "title": {
          "text": "Customer Name"
         }
        }
       }
      }
     },
     "metadata": {},
     "output_type": "display_data"
    }
   ],
   "source": [
    "chosen_cols4 =['Sales', 'Profit', 'Discount']\n",
    "df3 = top_data.groupby('Order ID')[['Customer Name','Sales', 'Profit', 'Discount']].sum()\n",
    "\n",
    "\n",
    "fig = px.bar(df3, \n",
    "             y='Customer Name',\n",
    "            x=chosen_cols4, \n",
    "              title= 'Overview comparison')\n",
    "fig.show()"
   ]
  },
  {
   "cell_type": "markdown",
   "metadata": {},
   "source": [
    "### Lets try a New dataset"
   ]
  },
  {
   "cell_type": "markdown",
   "metadata": {},
   "source": [
    "lets try a bar grph "
   ]
  },
  {
   "cell_type": "code",
   "execution_count": null,
   "metadata": {},
   "outputs": [
    {
     "name": "stdout",
     "output_type": "stream",
     "text": [
      "Requirement already satisfied: openpyxl in ./.venv/lib/python3.12/site-packages (3.1.5)\n",
      "Requirement already satisfied: et-xmlfile in ./.venv/lib/python3.12/site-packages (from openpyxl) (2.0.0)\n",
      "Note: you may need to restart the kernel to use updated packages.\n"
     ]
    },
    {
     "data": {
      "application/vnd.microsoft.datawrangler.viewer.v0+json": {
       "columns": [
        {
         "name": "index",
         "rawType": "int64",
         "type": "integer"
        },
        {
         "name": "Retailer",
         "rawType": "object",
         "type": "string"
        },
        {
         "name": "RetailerID",
         "rawType": "int64",
         "type": "integer"
        },
        {
         "name": "InvoiceDate",
         "rawType": "datetime64[ns]",
         "type": "datetime"
        },
        {
         "name": "Region",
         "rawType": "object",
         "type": "string"
        },
        {
         "name": "State",
         "rawType": "object",
         "type": "string"
        },
        {
         "name": "City",
         "rawType": "object",
         "type": "string"
        },
        {
         "name": "Product",
         "rawType": "object",
         "type": "string"
        },
        {
         "name": "PriceperUnit",
         "rawType": "float64",
         "type": "float"
        },
        {
         "name": "UnitsSold",
         "rawType": "int64",
         "type": "integer"
        },
        {
         "name": "TotalSales",
         "rawType": "float64",
         "type": "float"
        },
        {
         "name": "OperatingProfit",
         "rawType": "float64",
         "type": "float"
        },
        {
         "name": "OperatingMargin",
         "rawType": "float64",
         "type": "float"
        },
        {
         "name": "SalesMethod",
         "rawType": "object",
         "type": "string"
        }
       ],
       "ref": "22eae5d1-095d-49e1-8a2d-8440c19c9b9a",
       "rows": [
        [
         "0",
         "Foot Locker",
         "1185732",
         "2020-02-03 00:00:00",
         "Northeast",
         "New York",
         "New York",
         "Women's Athletic Footwear",
         "45.0",
         "825",
         "371250.0",
         "129937.49999999999",
         "0.35",
         "Outlet"
        ],
        [
         "1",
         "Foot Locker",
         "1185732",
         "2020-02-04 00:00:00",
         "Northeast",
         "New York",
         "New York",
         "Men's Apparel",
         "60.0",
         "825",
         "495000.0",
         "148500.0",
         "0.3",
         "Outlet"
        ],
        [
         "2",
         "Foot Locker",
         "1185732",
         "2020-02-05 00:00:00",
         "Northeast",
         "New York",
         "New York",
         "Women's Apparel",
         "50.0",
         "950",
         "475000.0",
         "118750.0",
         "0.25",
         "Outlet"
        ],
        [
         "3",
         "Foot Locker",
         "1185732",
         "2020-02-06 00:00:00",
         "Northeast",
         "New York",
         "New York",
         "Men's Street Footwear",
         "60.0",
         "1220",
         "732000.0",
         "366000.0",
         "0.5",
         "Outlet"
        ],
        [
         "4",
         "Foot Locker",
         "1185732",
         "2020-02-07 00:00:00",
         "Northeast",
         "New York",
         "New York",
         "Men's Athletic Footwear",
         "55.00000000000001",
         "925",
         "508750.00000000006",
         "152625.0",
         "0.3",
         "Outlet"
        ],
        [
         "5",
         "Foot Locker",
         "1185732",
         "2020-02-08 00:00:00",
         "Northeast",
         "New York",
         "New York",
         "Women's Street Footwear",
         "50.0",
         "900",
         "450000.0",
         "157500.0",
         "0.35",
         "Outlet"
        ],
        [
         "6",
         "Foot Locker",
         "1185732",
         "2020-01-01 00:00:00",
         "Northeast",
         "New York",
         "New York",
         "Men's Street Footwear",
         "50.0",
         "1200",
         "382500.0",
         "133800.0",
         "0.5",
         "In-store"
        ],
        [
         "7",
         "Foot Locker",
         "1185732",
         "2020-01-02 00:00:00",
         "Northeast",
         "New York",
         "New York",
         "Men's Athletic Footwear",
         "50.0",
         "1000",
         "500000.0",
         "150000.0",
         "0.3",
         "In-store"
        ],
        [
         "8",
         "Foot Locker",
         "1185732",
         "2020-01-03 00:00:00",
         "Northeast",
         "New York",
         "New York",
         "Women's Street Footwear",
         "40.0",
         "1000",
         "400000.0",
         "140000.0",
         "0.35",
         "In-store"
        ],
        [
         "9",
         "Foot Locker",
         "1185732",
         "2020-01-04 00:00:00",
         "Northeast",
         "New York",
         "New York",
         "Women's Athletic Footwear",
         "45.0",
         "850",
         "382500.0",
         "133875.0",
         "0.35",
         "In-store"
        ],
        [
         "10",
         "Foot Locker",
         "1185732",
         "2020-01-05 00:00:00",
         "Northeast",
         "New York",
         "New York",
         "Men's Apparel",
         "60.0",
         "900",
         "540000.0",
         "162000.0",
         "0.3",
         "In-store"
        ],
        [
         "11",
         "Foot Locker",
         "1185732",
         "2020-01-06 00:00:00",
         "Northeast",
         "New York",
         "New York",
         "Women's Apparel",
         "50.0",
         "1000",
         "500000.0",
         "125000.0",
         "0.25",
         "In-store"
        ],
        [
         "12",
         "Foot Locker",
         "1185732",
         "2020-01-07 00:00:00",
         "Northeast",
         "New York",
         "New York",
         "Men's Street Footwear",
         "50.0",
         "1250",
         "625000.0",
         "312500.0",
         "0.5",
         "In-store"
        ],
        [
         "13",
         "Foot Locker",
         "1185732",
         "2020-01-08 00:00:00",
         "Northeast",
         "New York",
         "New York",
         "Men's Athletic Footwear",
         "50.0",
         "900",
         "450000.0",
         "135000.0",
         "0.3",
         "Outlet"
        ],
        [
         "14",
         "Foot Locker",
         "1185732",
         "2020-01-21 00:00:00",
         "Northeast",
         "New York",
         "New York",
         "Women's Street Footwear",
         "40.0",
         "950",
         "380000.0",
         "133000.0",
         "0.35",
         "Outlet"
        ],
        [
         "15",
         "Foot Locker",
         "1185732",
         "2020-01-22 00:00:00",
         "Northeast",
         "New York",
         "New York",
         "Women's Athletic Footwear",
         "45.0",
         "825",
         "371250.0",
         "129937.49999999999",
         "0.35",
         "Outlet"
        ],
        [
         "16",
         "Foot Locker",
         "1185732",
         "2020-01-23 00:00:00",
         "Northeast",
         "New York",
         "New York",
         "Men's Apparel",
         "60.0",
         "900",
         "540000.0",
         "162000.0",
         "0.3",
         "Outlet"
        ],
        [
         "17",
         "Foot Locker",
         "1185732",
         "2020-01-24 00:00:00",
         "Northeast",
         "New York",
         "New York",
         "Women's Apparel",
         "50.0",
         "1000",
         "500000.0",
         "125000.0",
         "0.25",
         "Outlet"
        ],
        [
         "18",
         "Foot Locker",
         "1185732",
         "2020-01-25 00:00:00",
         "Northeast",
         "New York",
         "New York",
         "Men's Street Footwear",
         "50.0",
         "1220",
         "610000.0",
         "305000.0",
         "0.5",
         "Outlet"
        ],
        [
         "19",
         "Foot Locker",
         "1185732",
         "2020-01-26 00:00:00",
         "Northeast",
         "New York",
         "New York",
         "Men's Athletic Footwear",
         "50.0",
         "925",
         "462500.0",
         "138750.0",
         "0.3",
         "Outlet"
        ],
        [
         "20",
         "Foot Locker",
         "1185732",
         "2020-01-27 00:00:00",
         "Northeast",
         "New York",
         "New York",
         "Women's Street Footwear",
         "40.0",
         "950",
         "380000.0",
         "133000.0",
         "0.35",
         "Outlet"
        ],
        [
         "21",
         "Foot Locker",
         "1185732",
         "2020-01-28 00:00:00",
         "Northeast",
         "New York",
         "New York",
         "Women's Athletic Footwear",
         "45.0",
         "800",
         "360000.0",
         "125999.99999999999",
         "0.35",
         "Outlet"
        ],
        [
         "22",
         "Foot Locker",
         "1185732",
         "2020-01-29 00:00:00",
         "Northeast",
         "New York",
         "New York",
         "Men's Apparel",
         "60.0",
         "850",
         "510000.0",
         "153000.0",
         "0.3",
         "Outlet"
        ],
        [
         "23",
         "Foot Locker",
         "1185732",
         "2020-01-30 00:00:00",
         "Northeast",
         "New York",
         "New York",
         "Women's Apparel",
         "50.0",
         "950",
         "475000.0",
         "118750.0",
         "0.25",
         "Outlet"
        ],
        [
         "24",
         "Foot Locker",
         "1185732",
         "2020-01-31 00:00:00",
         "Northeast",
         "New York",
         "New York",
         "Men's Street Footwear",
         "50.0",
         "1200",
         "600000.0",
         "300000.0",
         "0.5",
         "Outlet"
        ],
        [
         "25",
         "Foot Locker",
         "1185732",
         "2020-02-01 00:00:00",
         "Northeast",
         "New York",
         "New York",
         "Men's Athletic Footwear",
         "50.0",
         "900",
         "450000.0",
         "135000.0",
         "0.3",
         "Outlet"
        ],
        [
         "26",
         "Foot Locker",
         "1185732",
         "2020-02-02 00:00:00",
         "Northeast",
         "New York",
         "New York",
         "Women's Street Footwear",
         "40.0",
         "900",
         "360000.0",
         "125999.99999999999",
         "0.35",
         "Outlet"
        ],
        [
         "27",
         "Foot Locker",
         "1185732",
         "2020-02-09 00:00:00",
         "Northeast",
         "New York",
         "New York",
         "Women's Athletic Footwear",
         "50.0",
         "850",
         "425000.0",
         "148750.0",
         "0.35",
         "Outlet"
        ],
        [
         "28",
         "Foot Locker",
         "1185732",
         "2020-02-10 00:00:00",
         "Northeast",
         "New York",
         "New York",
         "Men's Apparel",
         "60.0",
         "875",
         "525000.0",
         "157500.0",
         "0.3",
         "Outlet"
        ],
        [
         "29",
         "Foot Locker",
         "1185732",
         "2020-03-03 00:00:00",
         "Northeast",
         "New York",
         "New York",
         "Women's Apparel",
         "65.0",
         "1000",
         "650000.0",
         "162500.0",
         "0.25",
         "Outlet"
        ],
        [
         "30",
         "Foot Locker",
         "1185732",
         "2020-03-04 00:00:00",
         "Northeast",
         "New York",
         "New York",
         "Men's Street Footwear",
         "60.0",
         "1250",
         "750000.0",
         "375000.0",
         "0.5",
         "Outlet"
        ],
        [
         "31",
         "Foot Locker",
         "1185732",
         "2020-03-05 00:00:00",
         "Northeast",
         "New York",
         "New York",
         "Men's Athletic Footwear",
         "55.00000000000001",
         "1000",
         "550000.0000000001",
         "165000.00000000003",
         "0.3",
         "Outlet"
        ],
        [
         "32",
         "Foot Locker",
         "1185732",
         "2020-03-06 00:00:00",
         "Northeast",
         "New York",
         "New York",
         "Women's Street Footwear",
         "50.0",
         "925",
         "462500.0",
         "161875.0",
         "0.35",
         "Outlet"
        ],
        [
         "33",
         "Foot Locker",
         "1185732",
         "2020-03-07 00:00:00",
         "Northeast",
         "New York",
         "New York",
         "Women's Athletic Footwear",
         "50.0",
         "900",
         "450000.0",
         "157500.0",
         "0.35",
         "Outlet"
        ],
        [
         "34",
         "Foot Locker",
         "1185732",
         "2020-03-08 00:00:00",
         "Northeast",
         "New York",
         "New York",
         "Men's Apparel",
         "60.0",
         "900",
         "540000.0",
         "162000.0",
         "0.3",
         "Outlet"
        ],
        [
         "35",
         "Foot Locker",
         "1185732",
         "2020-03-09 00:00:00",
         "Northeast",
         "New York",
         "New York",
         "Women's Apparel",
         "65.0",
         "1050",
         "682500.0",
         "170625.0",
         "0.25",
         "Outlet"
        ],
        [
         "36",
         "Foot Locker",
         "1185732",
         "2020-03-10 00:00:00",
         "Northeast",
         "New York",
         "New York",
         "Men's Street Footwear",
         "60.0",
         "1275",
         "765000.0",
         "382500.0",
         "0.5",
         "Outlet"
        ],
        [
         "37",
         "Foot Locker",
         "1185732",
         "2020-03-11 00:00:00",
         "Northeast",
         "New York",
         "New York",
         "Men's Athletic Footwear",
         "55.00000000000001",
         "1025",
         "563750.0000000001",
         "169125.00000000003",
         "0.3",
         "Outlet"
        ],
        [
         "38",
         "Foot Locker",
         "1185732",
         "2020-03-12 00:00:00",
         "Northeast",
         "New York",
         "New York",
         "Women's Street Footwear",
         "50.0",
         "950",
         "475000.0",
         "166250.0",
         "0.35",
         "Outlet"
        ],
        [
         "39",
         "Foot Locker",
         "1185732",
         "2020-03-13 00:00:00",
         "Northeast",
         "New York",
         "New York",
         "Women's Athletic Footwear",
         "50.0",
         "900",
         "450000.0",
         "157500.0",
         "0.35",
         "Outlet"
        ],
        [
         "40",
         "Foot Locker",
         "1185732",
         "2020-03-14 00:00:00",
         "Northeast",
         "New York",
         "New York",
         "Men's Apparel",
         "60.0",
         "925",
         "555000.0",
         "166500.0",
         "0.3",
         "Outlet"
        ],
        [
         "41",
         "Foot Locker",
         "1185732",
         "2020-03-15 00:00:00",
         "Northeast",
         "New York",
         "New York",
         "Women's Apparel",
         "65.0",
         "1100",
         "715000.0",
         "178750.0",
         "0.25",
         "Outlet"
        ],
        [
         "42",
         "Foot Locker",
         "1185732",
         "2020-03-16 00:00:00",
         "Northeast",
         "New York",
         "New York",
         "Men's Street Footwear",
         "60.0",
         "1250",
         "750000.0",
         "375000.0",
         "0.5",
         "Outlet"
        ],
        [
         "43",
         "Foot Locker",
         "1185732",
         "2020-03-17 00:00:00",
         "Northeast",
         "New York",
         "New York",
         "Men's Athletic Footwear",
         "55.00000000000001",
         "1025",
         "563750.0000000001",
         "169125.00000000003",
         "0.3",
         "Outlet"
        ],
        [
         "44",
         "Foot Locker",
         "1185732",
         "2020-03-18 00:00:00",
         "Northeast",
         "New York",
         "New York",
         "Women's Street Footwear",
         "50.0",
         "950",
         "475000.0",
         "166250.0",
         "0.35",
         "Outlet"
        ],
        [
         "45",
         "Foot Locker",
         "1185732",
         "2020-03-31 00:00:00",
         "Northeast",
         "New York",
         "New York",
         "Women's Athletic Footwear",
         "50.0",
         "925",
         "462500.0",
         "161875.0",
         "0.35",
         "Outlet"
        ],
        [
         "46",
         "Walmart",
         "1185732",
         "2020-04-17 00:00:00",
         "Northeast",
         "New York",
         "New York",
         "Men's Apparel",
         "60.0",
         "900",
         "540000.0",
         "162000.0",
         "0.3",
         "Outlet"
        ],
        [
         "47",
         "Walmart",
         "1185732",
         "2020-04-18 00:00:00",
         "Northeast",
         "New York",
         "New York",
         "Women's Apparel",
         "65.0",
         "1075",
         "698750.0",
         "174687.5",
         "0.25",
         "Outlet"
        ],
        [
         "48",
         "Walmart",
         "1185732",
         "2020-04-19 00:00:00",
         "Northeast",
         "New York",
         "New York",
         "Men's Street Footwear",
         "60.0",
         "1200",
         "720000.0",
         "360000.0",
         "0.5",
         "Outlet"
        ],
        [
         "49",
         "Walmart",
         "1185732",
         "2020-04-20 00:00:00",
         "Northeast",
         "New York",
         "New York",
         "Men's Athletic Footwear",
         "55.00000000000001",
         "1000",
         "550000.0000000001",
         "165000.00000000003",
         "0.3",
         "Outlet"
        ]
       ],
       "shape": {
        "columns": 13,
        "rows": 9648
       }
      },
      "text/html": [
       "<div>\n",
       "<style scoped>\n",
       "    .dataframe tbody tr th:only-of-type {\n",
       "        vertical-align: middle;\n",
       "    }\n",
       "\n",
       "    .dataframe tbody tr th {\n",
       "        vertical-align: top;\n",
       "    }\n",
       "\n",
       "    .dataframe thead th {\n",
       "        text-align: right;\n",
       "    }\n",
       "</style>\n",
       "<table border=\"1\" class=\"dataframe\">\n",
       "  <thead>\n",
       "    <tr style=\"text-align: right;\">\n",
       "      <th></th>\n",
       "      <th>Retailer</th>\n",
       "      <th>RetailerID</th>\n",
       "      <th>InvoiceDate</th>\n",
       "      <th>Region</th>\n",
       "      <th>State</th>\n",
       "      <th>City</th>\n",
       "      <th>Product</th>\n",
       "      <th>PriceperUnit</th>\n",
       "      <th>UnitsSold</th>\n",
       "      <th>TotalSales</th>\n",
       "      <th>OperatingProfit</th>\n",
       "      <th>OperatingMargin</th>\n",
       "      <th>SalesMethod</th>\n",
       "    </tr>\n",
       "  </thead>\n",
       "  <tbody>\n",
       "    <tr>\n",
       "      <th>0</th>\n",
       "      <td>Foot Locker</td>\n",
       "      <td>1185732</td>\n",
       "      <td>2020-02-03</td>\n",
       "      <td>Northeast</td>\n",
       "      <td>New York</td>\n",
       "      <td>New York</td>\n",
       "      <td>Women's Athletic Footwear</td>\n",
       "      <td>45.0</td>\n",
       "      <td>825</td>\n",
       "      <td>371250.0</td>\n",
       "      <td>129937.50</td>\n",
       "      <td>0.35</td>\n",
       "      <td>Outlet</td>\n",
       "    </tr>\n",
       "    <tr>\n",
       "      <th>1</th>\n",
       "      <td>Foot Locker</td>\n",
       "      <td>1185732</td>\n",
       "      <td>2020-02-04</td>\n",
       "      <td>Northeast</td>\n",
       "      <td>New York</td>\n",
       "      <td>New York</td>\n",
       "      <td>Men's Apparel</td>\n",
       "      <td>60.0</td>\n",
       "      <td>825</td>\n",
       "      <td>495000.0</td>\n",
       "      <td>148500.00</td>\n",
       "      <td>0.30</td>\n",
       "      <td>Outlet</td>\n",
       "    </tr>\n",
       "    <tr>\n",
       "      <th>2</th>\n",
       "      <td>Foot Locker</td>\n",
       "      <td>1185732</td>\n",
       "      <td>2020-02-05</td>\n",
       "      <td>Northeast</td>\n",
       "      <td>New York</td>\n",
       "      <td>New York</td>\n",
       "      <td>Women's Apparel</td>\n",
       "      <td>50.0</td>\n",
       "      <td>950</td>\n",
       "      <td>475000.0</td>\n",
       "      <td>118750.00</td>\n",
       "      <td>0.25</td>\n",
       "      <td>Outlet</td>\n",
       "    </tr>\n",
       "    <tr>\n",
       "      <th>3</th>\n",
       "      <td>Foot Locker</td>\n",
       "      <td>1185732</td>\n",
       "      <td>2020-02-06</td>\n",
       "      <td>Northeast</td>\n",
       "      <td>New York</td>\n",
       "      <td>New York</td>\n",
       "      <td>Men's Street Footwear</td>\n",
       "      <td>60.0</td>\n",
       "      <td>1220</td>\n",
       "      <td>732000.0</td>\n",
       "      <td>366000.00</td>\n",
       "      <td>0.50</td>\n",
       "      <td>Outlet</td>\n",
       "    </tr>\n",
       "    <tr>\n",
       "      <th>4</th>\n",
       "      <td>Foot Locker</td>\n",
       "      <td>1185732</td>\n",
       "      <td>2020-02-07</td>\n",
       "      <td>Northeast</td>\n",
       "      <td>New York</td>\n",
       "      <td>New York</td>\n",
       "      <td>Men's Athletic Footwear</td>\n",
       "      <td>55.0</td>\n",
       "      <td>925</td>\n",
       "      <td>508750.0</td>\n",
       "      <td>152625.00</td>\n",
       "      <td>0.30</td>\n",
       "      <td>Outlet</td>\n",
       "    </tr>\n",
       "    <tr>\n",
       "      <th>...</th>\n",
       "      <td>...</td>\n",
       "      <td>...</td>\n",
       "      <td>...</td>\n",
       "      <td>...</td>\n",
       "      <td>...</td>\n",
       "      <td>...</td>\n",
       "      <td>...</td>\n",
       "      <td>...</td>\n",
       "      <td>...</td>\n",
       "      <td>...</td>\n",
       "      <td>...</td>\n",
       "      <td>...</td>\n",
       "      <td>...</td>\n",
       "    </tr>\n",
       "    <tr>\n",
       "      <th>9643</th>\n",
       "      <td>Foot Locker</td>\n",
       "      <td>1185732</td>\n",
       "      <td>2021-01-24</td>\n",
       "      <td>Northeast</td>\n",
       "      <td>New Hampshire</td>\n",
       "      <td>Manchester</td>\n",
       "      <td>Men's Apparel</td>\n",
       "      <td>50.0</td>\n",
       "      <td>64</td>\n",
       "      <td>3200.0</td>\n",
       "      <td>896.00</td>\n",
       "      <td>0.28</td>\n",
       "      <td>Outlet</td>\n",
       "    </tr>\n",
       "    <tr>\n",
       "      <th>9644</th>\n",
       "      <td>Foot Locker</td>\n",
       "      <td>1185732</td>\n",
       "      <td>2021-01-24</td>\n",
       "      <td>Northeast</td>\n",
       "      <td>New Hampshire</td>\n",
       "      <td>Manchester</td>\n",
       "      <td>Women's Apparel</td>\n",
       "      <td>41.0</td>\n",
       "      <td>105</td>\n",
       "      <td>4305.0</td>\n",
       "      <td>1377.60</td>\n",
       "      <td>0.32</td>\n",
       "      <td>Outlet</td>\n",
       "    </tr>\n",
       "    <tr>\n",
       "      <th>9645</th>\n",
       "      <td>Foot Locker</td>\n",
       "      <td>1185732</td>\n",
       "      <td>2021-02-22</td>\n",
       "      <td>Northeast</td>\n",
       "      <td>New Hampshire</td>\n",
       "      <td>Manchester</td>\n",
       "      <td>Men's Street Footwear</td>\n",
       "      <td>41.0</td>\n",
       "      <td>184</td>\n",
       "      <td>7544.0</td>\n",
       "      <td>2791.28</td>\n",
       "      <td>0.37</td>\n",
       "      <td>Outlet</td>\n",
       "    </tr>\n",
       "    <tr>\n",
       "      <th>9646</th>\n",
       "      <td>Foot Locker</td>\n",
       "      <td>1185732</td>\n",
       "      <td>2021-02-22</td>\n",
       "      <td>Northeast</td>\n",
       "      <td>New Hampshire</td>\n",
       "      <td>Manchester</td>\n",
       "      <td>Men's Athletic Footwear</td>\n",
       "      <td>42.0</td>\n",
       "      <td>70</td>\n",
       "      <td>2940.0</td>\n",
       "      <td>1234.80</td>\n",
       "      <td>0.42</td>\n",
       "      <td>Outlet</td>\n",
       "    </tr>\n",
       "    <tr>\n",
       "      <th>9647</th>\n",
       "      <td>Foot Locker</td>\n",
       "      <td>1185732</td>\n",
       "      <td>2021-02-22</td>\n",
       "      <td>Northeast</td>\n",
       "      <td>New Hampshire</td>\n",
       "      <td>Manchester</td>\n",
       "      <td>Women's Street Footwear</td>\n",
       "      <td>29.0</td>\n",
       "      <td>83</td>\n",
       "      <td>2407.0</td>\n",
       "      <td>649.89</td>\n",
       "      <td>0.27</td>\n",
       "      <td>Outlet</td>\n",
       "    </tr>\n",
       "  </tbody>\n",
       "</table>\n",
       "<p>9648 rows × 13 columns</p>\n",
       "</div>"
      ],
      "text/plain": [
       "         Retailer  RetailerID InvoiceDate     Region          State  \\\n",
       "0     Foot Locker     1185732  2020-02-03  Northeast       New York   \n",
       "1     Foot Locker     1185732  2020-02-04  Northeast       New York   \n",
       "2     Foot Locker     1185732  2020-02-05  Northeast       New York   \n",
       "3     Foot Locker     1185732  2020-02-06  Northeast       New York   \n",
       "4     Foot Locker     1185732  2020-02-07  Northeast       New York   \n",
       "...           ...         ...         ...        ...            ...   \n",
       "9643  Foot Locker     1185732  2021-01-24  Northeast  New Hampshire   \n",
       "9644  Foot Locker     1185732  2021-01-24  Northeast  New Hampshire   \n",
       "9645  Foot Locker     1185732  2021-02-22  Northeast  New Hampshire   \n",
       "9646  Foot Locker     1185732  2021-02-22  Northeast  New Hampshire   \n",
       "9647  Foot Locker     1185732  2021-02-22  Northeast  New Hampshire   \n",
       "\n",
       "            City                    Product  PriceperUnit  UnitsSold  \\\n",
       "0       New York  Women's Athletic Footwear          45.0        825   \n",
       "1       New York              Men's Apparel          60.0        825   \n",
       "2       New York            Women's Apparel          50.0        950   \n",
       "3       New York      Men's Street Footwear          60.0       1220   \n",
       "4       New York    Men's Athletic Footwear          55.0        925   \n",
       "...          ...                        ...           ...        ...   \n",
       "9643  Manchester              Men's Apparel          50.0         64   \n",
       "9644  Manchester            Women's Apparel          41.0        105   \n",
       "9645  Manchester      Men's Street Footwear          41.0        184   \n",
       "9646  Manchester    Men's Athletic Footwear          42.0         70   \n",
       "9647  Manchester    Women's Street Footwear          29.0         83   \n",
       "\n",
       "      TotalSales  OperatingProfit  OperatingMargin SalesMethod  \n",
       "0       371250.0        129937.50             0.35      Outlet  \n",
       "1       495000.0        148500.00             0.30      Outlet  \n",
       "2       475000.0        118750.00             0.25      Outlet  \n",
       "3       732000.0        366000.00             0.50      Outlet  \n",
       "4       508750.0        152625.00             0.30      Outlet  \n",
       "...          ...              ...              ...         ...  \n",
       "9643      3200.0           896.00             0.28      Outlet  \n",
       "9644      4305.0          1377.60             0.32      Outlet  \n",
       "9645      7544.0          2791.28             0.37      Outlet  \n",
       "9646      2940.0          1234.80             0.42      Outlet  \n",
       "9647      2407.0           649.89             0.27      Outlet  \n",
       "\n",
       "[9648 rows x 13 columns]"
      ]
     },
     "execution_count": 16,
     "metadata": {},
     "output_type": "execute_result"
    }
   ],
   "source": [
    "%pip install openpyxl\n",
    "\n",
    "dataframe = pd.read_excel('data/Adidas.xlsx')\n",
    "dataframe"
   ]
  },
  {
   "cell_type": "markdown",
   "metadata": {},
   "source": []
  },
  {
   "cell_type": "code",
   "execution_count": null,
   "metadata": {},
   "outputs": [
    {
     "data": {
      "application/vnd.plotly.v1+json": {
       "config": {
        "plotlyServerURL": "https://plot.ly"
       },
       "data": [
        {
         "hovertemplate": "InvoiceDate=%{x}<br>TotalSales=%{y}<extra></extra>",
         "legendgroup": "",
         "line": {
          "color": "#636efa",
          "dash": "solid"
         },
         "marker": {
          "symbol": "circle"
         },
         "mode": "lines",
         "name": "",
         "orientation": "v",
         "showlegend": false,
         "type": "scatter",
         "x": [
          "2020-01",
          "2020-02",
          "2020-03",
          "2020-04",
          "2020-05",
          "2020-06",
          "2020-07",
          "2020-08",
          "2020-09",
          "2020-10",
          "2020-11",
          "2020-12",
          "2021-01",
          "2021-02",
          "2021-03",
          "2021-04",
          "2021-05",
          "2021-06",
          "2021-07",
          "2021-08",
          "2021-09",
          "2021-10",
          "2021-11",
          "2021-12"
         ],
         "xaxis": "x",
         "y": {
          "bdata": "AAAAwDKWbkEAAACAPJtsQQAAABCq13BBAAAA4JF3d0EAAADgXyJwQQAAAGBv12BBAAAA0AlacEEAAADABfVyQQAAAEDbdHFBAQAAoCWrZEEAAACAG3JgQQAAAMBnnl5BAAAAoGFVikEAAACotPuFQQAAAKDfqoJBAAAAIMfChkEAAACIaVKOQQAAAIiTbo9BAAAAZCutkkEAAAB0HzyRQQEAAPi6TYxBAQAAYNpOiUEBAAAA1z6MQQAAABh6jZJB",
          "dtype": "f8"
         },
         "yaxis": "y"
        }
       ],
       "layout": {
        "legend": {
         "tracegroupgap": 0
        },
        "template": {
         "data": {
          "bar": [
           {
            "error_x": {
             "color": "#2a3f5f"
            },
            "error_y": {
             "color": "#2a3f5f"
            },
            "marker": {
             "line": {
              "color": "#E5ECF6",
              "width": 0.5
             },
             "pattern": {
              "fillmode": "overlay",
              "size": 10,
              "solidity": 0.2
             }
            },
            "type": "bar"
           }
          ],
          "barpolar": [
           {
            "marker": {
             "line": {
              "color": "#E5ECF6",
              "width": 0.5
             },
             "pattern": {
              "fillmode": "overlay",
              "size": 10,
              "solidity": 0.2
             }
            },
            "type": "barpolar"
           }
          ],
          "carpet": [
           {
            "aaxis": {
             "endlinecolor": "#2a3f5f",
             "gridcolor": "white",
             "linecolor": "white",
             "minorgridcolor": "white",
             "startlinecolor": "#2a3f5f"
            },
            "baxis": {
             "endlinecolor": "#2a3f5f",
             "gridcolor": "white",
             "linecolor": "white",
             "minorgridcolor": "white",
             "startlinecolor": "#2a3f5f"
            },
            "type": "carpet"
           }
          ],
          "choropleth": [
           {
            "colorbar": {
             "outlinewidth": 0,
             "ticks": ""
            },
            "type": "choropleth"
           }
          ],
          "contour": [
           {
            "colorbar": {
             "outlinewidth": 0,
             "ticks": ""
            },
            "colorscale": [
             [
              0,
              "#0d0887"
             ],
             [
              0.1111111111111111,
              "#46039f"
             ],
             [
              0.2222222222222222,
              "#7201a8"
             ],
             [
              0.3333333333333333,
              "#9c179e"
             ],
             [
              0.4444444444444444,
              "#bd3786"
             ],
             [
              0.5555555555555556,
              "#d8576b"
             ],
             [
              0.6666666666666666,
              "#ed7953"
             ],
             [
              0.7777777777777778,
              "#fb9f3a"
             ],
             [
              0.8888888888888888,
              "#fdca26"
             ],
             [
              1,
              "#f0f921"
             ]
            ],
            "type": "contour"
           }
          ],
          "contourcarpet": [
           {
            "colorbar": {
             "outlinewidth": 0,
             "ticks": ""
            },
            "type": "contourcarpet"
           }
          ],
          "heatmap": [
           {
            "colorbar": {
             "outlinewidth": 0,
             "ticks": ""
            },
            "colorscale": [
             [
              0,
              "#0d0887"
             ],
             [
              0.1111111111111111,
              "#46039f"
             ],
             [
              0.2222222222222222,
              "#7201a8"
             ],
             [
              0.3333333333333333,
              "#9c179e"
             ],
             [
              0.4444444444444444,
              "#bd3786"
             ],
             [
              0.5555555555555556,
              "#d8576b"
             ],
             [
              0.6666666666666666,
              "#ed7953"
             ],
             [
              0.7777777777777778,
              "#fb9f3a"
             ],
             [
              0.8888888888888888,
              "#fdca26"
             ],
             [
              1,
              "#f0f921"
             ]
            ],
            "type": "heatmap"
           }
          ],
          "histogram": [
           {
            "marker": {
             "pattern": {
              "fillmode": "overlay",
              "size": 10,
              "solidity": 0.2
             }
            },
            "type": "histogram"
           }
          ],
          "histogram2d": [
           {
            "colorbar": {
             "outlinewidth": 0,
             "ticks": ""
            },
            "colorscale": [
             [
              0,
              "#0d0887"
             ],
             [
              0.1111111111111111,
              "#46039f"
             ],
             [
              0.2222222222222222,
              "#7201a8"
             ],
             [
              0.3333333333333333,
              "#9c179e"
             ],
             [
              0.4444444444444444,
              "#bd3786"
             ],
             [
              0.5555555555555556,
              "#d8576b"
             ],
             [
              0.6666666666666666,
              "#ed7953"
             ],
             [
              0.7777777777777778,
              "#fb9f3a"
             ],
             [
              0.8888888888888888,
              "#fdca26"
             ],
             [
              1,
              "#f0f921"
             ]
            ],
            "type": "histogram2d"
           }
          ],
          "histogram2dcontour": [
           {
            "colorbar": {
             "outlinewidth": 0,
             "ticks": ""
            },
            "colorscale": [
             [
              0,
              "#0d0887"
             ],
             [
              0.1111111111111111,
              "#46039f"
             ],
             [
              0.2222222222222222,
              "#7201a8"
             ],
             [
              0.3333333333333333,
              "#9c179e"
             ],
             [
              0.4444444444444444,
              "#bd3786"
             ],
             [
              0.5555555555555556,
              "#d8576b"
             ],
             [
              0.6666666666666666,
              "#ed7953"
             ],
             [
              0.7777777777777778,
              "#fb9f3a"
             ],
             [
              0.8888888888888888,
              "#fdca26"
             ],
             [
              1,
              "#f0f921"
             ]
            ],
            "type": "histogram2dcontour"
           }
          ],
          "mesh3d": [
           {
            "colorbar": {
             "outlinewidth": 0,
             "ticks": ""
            },
            "type": "mesh3d"
           }
          ],
          "parcoords": [
           {
            "line": {
             "colorbar": {
              "outlinewidth": 0,
              "ticks": ""
             }
            },
            "type": "parcoords"
           }
          ],
          "pie": [
           {
            "automargin": true,
            "type": "pie"
           }
          ],
          "scatter": [
           {
            "fillpattern": {
             "fillmode": "overlay",
             "size": 10,
             "solidity": 0.2
            },
            "type": "scatter"
           }
          ],
          "scatter3d": [
           {
            "line": {
             "colorbar": {
              "outlinewidth": 0,
              "ticks": ""
             }
            },
            "marker": {
             "colorbar": {
              "outlinewidth": 0,
              "ticks": ""
             }
            },
            "type": "scatter3d"
           }
          ],
          "scattercarpet": [
           {
            "marker": {
             "colorbar": {
              "outlinewidth": 0,
              "ticks": ""
             }
            },
            "type": "scattercarpet"
           }
          ],
          "scattergeo": [
           {
            "marker": {
             "colorbar": {
              "outlinewidth": 0,
              "ticks": ""
             }
            },
            "type": "scattergeo"
           }
          ],
          "scattergl": [
           {
            "marker": {
             "colorbar": {
              "outlinewidth": 0,
              "ticks": ""
             }
            },
            "type": "scattergl"
           }
          ],
          "scattermap": [
           {
            "marker": {
             "colorbar": {
              "outlinewidth": 0,
              "ticks": ""
             }
            },
            "type": "scattermap"
           }
          ],
          "scattermapbox": [
           {
            "marker": {
             "colorbar": {
              "outlinewidth": 0,
              "ticks": ""
             }
            },
            "type": "scattermapbox"
           }
          ],
          "scatterpolar": [
           {
            "marker": {
             "colorbar": {
              "outlinewidth": 0,
              "ticks": ""
             }
            },
            "type": "scatterpolar"
           }
          ],
          "scatterpolargl": [
           {
            "marker": {
             "colorbar": {
              "outlinewidth": 0,
              "ticks": ""
             }
            },
            "type": "scatterpolargl"
           }
          ],
          "scatterternary": [
           {
            "marker": {
             "colorbar": {
              "outlinewidth": 0,
              "ticks": ""
             }
            },
            "type": "scatterternary"
           }
          ],
          "surface": [
           {
            "colorbar": {
             "outlinewidth": 0,
             "ticks": ""
            },
            "colorscale": [
             [
              0,
              "#0d0887"
             ],
             [
              0.1111111111111111,
              "#46039f"
             ],
             [
              0.2222222222222222,
              "#7201a8"
             ],
             [
              0.3333333333333333,
              "#9c179e"
             ],
             [
              0.4444444444444444,
              "#bd3786"
             ],
             [
              0.5555555555555556,
              "#d8576b"
             ],
             [
              0.6666666666666666,
              "#ed7953"
             ],
             [
              0.7777777777777778,
              "#fb9f3a"
             ],
             [
              0.8888888888888888,
              "#fdca26"
             ],
             [
              1,
              "#f0f921"
             ]
            ],
            "type": "surface"
           }
          ],
          "table": [
           {
            "cells": {
             "fill": {
              "color": "#EBF0F8"
             },
             "line": {
              "color": "white"
             }
            },
            "header": {
             "fill": {
              "color": "#C8D4E3"
             },
             "line": {
              "color": "white"
             }
            },
            "type": "table"
           }
          ]
         },
         "layout": {
          "annotationdefaults": {
           "arrowcolor": "#2a3f5f",
           "arrowhead": 0,
           "arrowwidth": 1
          },
          "autotypenumbers": "strict",
          "coloraxis": {
           "colorbar": {
            "outlinewidth": 0,
            "ticks": ""
           }
          },
          "colorscale": {
           "diverging": [
            [
             0,
             "#8e0152"
            ],
            [
             0.1,
             "#c51b7d"
            ],
            [
             0.2,
             "#de77ae"
            ],
            [
             0.3,
             "#f1b6da"
            ],
            [
             0.4,
             "#fde0ef"
            ],
            [
             0.5,
             "#f7f7f7"
            ],
            [
             0.6,
             "#e6f5d0"
            ],
            [
             0.7,
             "#b8e186"
            ],
            [
             0.8,
             "#7fbc41"
            ],
            [
             0.9,
             "#4d9221"
            ],
            [
             1,
             "#276419"
            ]
           ],
           "sequential": [
            [
             0,
             "#0d0887"
            ],
            [
             0.1111111111111111,
             "#46039f"
            ],
            [
             0.2222222222222222,
             "#7201a8"
            ],
            [
             0.3333333333333333,
             "#9c179e"
            ],
            [
             0.4444444444444444,
             "#bd3786"
            ],
            [
             0.5555555555555556,
             "#d8576b"
            ],
            [
             0.6666666666666666,
             "#ed7953"
            ],
            [
             0.7777777777777778,
             "#fb9f3a"
            ],
            [
             0.8888888888888888,
             "#fdca26"
            ],
            [
             1,
             "#f0f921"
            ]
           ],
           "sequentialminus": [
            [
             0,
             "#0d0887"
            ],
            [
             0.1111111111111111,
             "#46039f"
            ],
            [
             0.2222222222222222,
             "#7201a8"
            ],
            [
             0.3333333333333333,
             "#9c179e"
            ],
            [
             0.4444444444444444,
             "#bd3786"
            ],
            [
             0.5555555555555556,
             "#d8576b"
            ],
            [
             0.6666666666666666,
             "#ed7953"
            ],
            [
             0.7777777777777778,
             "#fb9f3a"
            ],
            [
             0.8888888888888888,
             "#fdca26"
            ],
            [
             1,
             "#f0f921"
            ]
           ]
          },
          "colorway": [
           "#636efa",
           "#EF553B",
           "#00cc96",
           "#ab63fa",
           "#FFA15A",
           "#19d3f3",
           "#FF6692",
           "#B6E880",
           "#FF97FF",
           "#FECB52"
          ],
          "font": {
           "color": "#2a3f5f"
          },
          "geo": {
           "bgcolor": "white",
           "lakecolor": "white",
           "landcolor": "#E5ECF6",
           "showlakes": true,
           "showland": true,
           "subunitcolor": "white"
          },
          "hoverlabel": {
           "align": "left"
          },
          "hovermode": "closest",
          "mapbox": {
           "style": "light"
          },
          "paper_bgcolor": "white",
          "plot_bgcolor": "#E5ECF6",
          "polar": {
           "angularaxis": {
            "gridcolor": "white",
            "linecolor": "white",
            "ticks": ""
           },
           "bgcolor": "#E5ECF6",
           "radialaxis": {
            "gridcolor": "white",
            "linecolor": "white",
            "ticks": ""
           }
          },
          "scene": {
           "xaxis": {
            "backgroundcolor": "#E5ECF6",
            "gridcolor": "white",
            "gridwidth": 2,
            "linecolor": "white",
            "showbackground": true,
            "ticks": "",
            "zerolinecolor": "white"
           },
           "yaxis": {
            "backgroundcolor": "#E5ECF6",
            "gridcolor": "white",
            "gridwidth": 2,
            "linecolor": "white",
            "showbackground": true,
            "ticks": "",
            "zerolinecolor": "white"
           },
           "zaxis": {
            "backgroundcolor": "#E5ECF6",
            "gridcolor": "white",
            "gridwidth": 2,
            "linecolor": "white",
            "showbackground": true,
            "ticks": "",
            "zerolinecolor": "white"
           }
          },
          "shapedefaults": {
           "line": {
            "color": "#2a3f5f"
           }
          },
          "ternary": {
           "aaxis": {
            "gridcolor": "white",
            "linecolor": "white",
            "ticks": ""
           },
           "baxis": {
            "gridcolor": "white",
            "linecolor": "white",
            "ticks": ""
           },
           "bgcolor": "#E5ECF6",
           "caxis": {
            "gridcolor": "white",
            "linecolor": "white",
            "ticks": ""
           }
          },
          "title": {
           "x": 0.05
          },
          "xaxis": {
           "automargin": true,
           "gridcolor": "white",
           "linecolor": "white",
           "ticks": "",
           "title": {
            "standoff": 15
           },
           "zerolinecolor": "white",
           "zerolinewidth": 2
          },
          "yaxis": {
           "automargin": true,
           "gridcolor": "white",
           "linecolor": "white",
           "ticks": "",
           "title": {
            "standoff": 15
           },
           "zerolinecolor": "white",
           "zerolinewidth": 2
          }
         }
        },
        "title": {
         "text": "Total Sales over Time"
        },
        "xaxis": {
         "anchor": "y",
         "domain": [
          0,
          1
         ],
         "tickformat": "%Y-%m",
         "title": {
          "text": "Year"
         }
        },
        "yaxis": {
         "anchor": "x",
         "domain": [
          0,
          1
         ],
         "title": {
          "text": "Total Sales"
         }
        }
       }
      }
     },
     "metadata": {},
     "output_type": "display_data"
    }
   ],
   "source": [
    "# graph2\n",
    "# Convert 'InvoiceDate' to datetime format \n",
    "dataframe['InvoiceDate'] = pd.to_datetime(dataframe['InvoiceDate'])\n",
    "dataframe['InvoiceDate'] = dataframe['InvoiceDate'].dt.strftime('%Y-%m')\n",
    "\n",
    "\n",
    "# 2. Group data by year, month, etc. (choose your desired time granularity)\n",
    "total_sales_over_time = dataframe.groupby([dataframe['InvoiceDate']])['TotalSales'].sum().reset_index()\n",
    "\n",
    "# Create the plot\n",
    "fig2= px.line(\n",
    "    data_frame=total_sales_over_time,\n",
    "    x='InvoiceDate',  # Replace with your time column name if different\n",
    "    y='TotalSales',\n",
    "    title='Total Sales Over Time'\n",
    ")\n",
    "\n",
    "# Customize the plot \n",
    "fig2.update_layout(\n",
    "    title='Total Sales over Time',\n",
    "    xaxis_title='Year',  # Adjust title based on your time granularity\n",
    "    yaxis_title='Total Sales',\n",
    "    xaxis_tickformat=\"%Y-%m\"\n",
    ")"
   ]
  },
  {
   "cell_type": "markdown",
   "metadata": {},
   "source": [
    "Lets try a combination of graphs "
   ]
  },
  {
   "cell_type": "code",
   "execution_count": null,
   "metadata": {},
   "outputs": [
    {
     "data": {
      "application/vnd.plotly.v1+json": {
       "config": {
        "plotlyServerURL": "https://plot.ly"
       },
       "data": [
        {
         "marker": {
          "color": "royalblue"
         },
         "name": "Total Sales",
         "type": "bar",
         "x": [
          "Alabama",
          "Alaska",
          "Arizona",
          "Arkansas",
          "California",
          "Colorado",
          "Connecticut",
          "Delaware",
          "Florida",
          "Georgia",
          "Hawaii",
          "Idaho",
          "Illinois",
          "Indiana",
          "Iowa",
          "Kansas",
          "Kentucky",
          "Louisiana",
          "Maine",
          "Maryland",
          "Massachusetts",
          "Michigan",
          "Minnesota",
          "Mississippi",
          "Missouri",
          "Montana",
          "Nebraska",
          "Nevada",
          "New Hampshire",
          "New Jersey",
          "New Mexico",
          "New York",
          "North Carolina",
          "North Dakota",
          "Ohio",
          "Oklahoma",
          "Oregon",
          "Pennsylvania",
          "Rhode Island",
          "South Carolina",
          "South Dakota",
          "Tennessee",
          "Texas",
          "Utah",
          "Vermont",
          "Virginia",
          "Washington",
          "West Virginia",
          "Wisconsin",
          "Wyoming"
         ],
         "y": {
          "bdata": "AAAAAAnRcEEBAADgqSNsQQEAAKApGm5BAAAAYI4baEEAAACoebGMQQAAAIAbBnRBAAAAABkTZkEAAACAFXVnQQEAABDIRIxBAAAAoA0eckEAAACQDUB1QQAAAOBEYnJBAAAAAO6vYkEAAADAjNpgQQAAAMACUlxBAAAAAJAFY0EAAAAAYjZjQQEAANCHpnZBAAAAQDmKYUEAAADAOphdQQAAAECZIGVBAAAAkDnDcUEAAAAAJSVcQQEAAKAjvW1BAAAAICh4YkEAAADAVPdtQQAAAIATnlZBAAAA0Gjkc0EBAABggk1vQQAAAMC08mJBAQAAgNvxckEAAACY6IWOQQAAADDD2HZBAAAAAEeCXUEAAABw1qBxQQAAAMDnQWRBAAAAoFJcdEEAAADgYcFjQQAAAMBqHGBBAAAAUNDte0EAAAAAOzRgQQAAAAD/OnFBAAAAECYbhkEAAACAlH5iQQAAAGBDYGtBAAAAAFiTdEEBAADgZRx5QQAAAABRY2RBAAAAQFt6XUEAAADQhrdxQQ==",
          "dtype": "f8"
         }
        },
        {
         "line": {
          "color": "orange"
         },
         "marker": {
          "opacity": 0
         },
         "name": "Units Sold",
         "type": "scatter",
         "x": [
          "Alabama",
          "Alaska",
          "Arizona",
          "Arkansas",
          "California",
          "Colorado",
          "Connecticut",
          "Delaware",
          "Florida",
          "Georgia",
          "Hawaii",
          "Idaho",
          "Illinois",
          "Indiana",
          "Iowa",
          "Kansas",
          "Kentucky",
          "Louisiana",
          "Maine",
          "Maryland",
          "Massachusetts",
          "Michigan",
          "Minnesota",
          "Mississippi",
          "Missouri",
          "Montana",
          "Nebraska",
          "Nevada",
          "New Hampshire",
          "New Jersey",
          "New Mexico",
          "New York",
          "North Carolina",
          "North Dakota",
          "Ohio",
          "Oklahoma",
          "Oregon",
          "Pennsylvania",
          "Rhode Island",
          "South Carolina",
          "South Dakota",
          "Tennessee",
          "Texas",
          "Utah",
          "Vermont",
          "Virginia",
          "Washington",
          "West Virginia",
          "Wisconsin",
          "Wyoming"
         ],
         "y": {
          "bdata": "X/cAAF94AABHtwAAVL0AANR9AgCioQAAiIcAAEN2AAA2CQIAR9wAALedAABT+QAAP2MAANxmAACWWwAAF3MAAPhvAAAP4QAAilcAAFJRAAB/gAAAr8MAAGZRAADu3QAANI4AANmmAADSSgAAd8oAAGyfAACsZwAAmc0AALSUAgDY9QAA/VgAAKW6AAALngAAaMUAAA5sAABRawAAohsBAL1ZAAAdAgEADG8CAKS9AAAdlwAA6c4AABO2AACxdAAAjl0AADTEAAA=",
          "dtype": "i4"
         },
         "yaxis": "y2"
        }
       ],
       "layout": {
        "template": {
         "data": {
          "bar": [
           {
            "error_x": {
             "color": "#2a3f5f"
            },
            "error_y": {
             "color": "#2a3f5f"
            },
            "marker": {
             "line": {
              "color": "#E5ECF6",
              "width": 0.5
             },
             "pattern": {
              "fillmode": "overlay",
              "size": 10,
              "solidity": 0.2
             }
            },
            "type": "bar"
           }
          ],
          "barpolar": [
           {
            "marker": {
             "line": {
              "color": "#E5ECF6",
              "width": 0.5
             },
             "pattern": {
              "fillmode": "overlay",
              "size": 10,
              "solidity": 0.2
             }
            },
            "type": "barpolar"
           }
          ],
          "carpet": [
           {
            "aaxis": {
             "endlinecolor": "#2a3f5f",
             "gridcolor": "white",
             "linecolor": "white",
             "minorgridcolor": "white",
             "startlinecolor": "#2a3f5f"
            },
            "baxis": {
             "endlinecolor": "#2a3f5f",
             "gridcolor": "white",
             "linecolor": "white",
             "minorgridcolor": "white",
             "startlinecolor": "#2a3f5f"
            },
            "type": "carpet"
           }
          ],
          "choropleth": [
           {
            "colorbar": {
             "outlinewidth": 0,
             "ticks": ""
            },
            "type": "choropleth"
           }
          ],
          "contour": [
           {
            "colorbar": {
             "outlinewidth": 0,
             "ticks": ""
            },
            "colorscale": [
             [
              0,
              "#0d0887"
             ],
             [
              0.1111111111111111,
              "#46039f"
             ],
             [
              0.2222222222222222,
              "#7201a8"
             ],
             [
              0.3333333333333333,
              "#9c179e"
             ],
             [
              0.4444444444444444,
              "#bd3786"
             ],
             [
              0.5555555555555556,
              "#d8576b"
             ],
             [
              0.6666666666666666,
              "#ed7953"
             ],
             [
              0.7777777777777778,
              "#fb9f3a"
             ],
             [
              0.8888888888888888,
              "#fdca26"
             ],
             [
              1,
              "#f0f921"
             ]
            ],
            "type": "contour"
           }
          ],
          "contourcarpet": [
           {
            "colorbar": {
             "outlinewidth": 0,
             "ticks": ""
            },
            "type": "contourcarpet"
           }
          ],
          "heatmap": [
           {
            "colorbar": {
             "outlinewidth": 0,
             "ticks": ""
            },
            "colorscale": [
             [
              0,
              "#0d0887"
             ],
             [
              0.1111111111111111,
              "#46039f"
             ],
             [
              0.2222222222222222,
              "#7201a8"
             ],
             [
              0.3333333333333333,
              "#9c179e"
             ],
             [
              0.4444444444444444,
              "#bd3786"
             ],
             [
              0.5555555555555556,
              "#d8576b"
             ],
             [
              0.6666666666666666,
              "#ed7953"
             ],
             [
              0.7777777777777778,
              "#fb9f3a"
             ],
             [
              0.8888888888888888,
              "#fdca26"
             ],
             [
              1,
              "#f0f921"
             ]
            ],
            "type": "heatmap"
           }
          ],
          "histogram": [
           {
            "marker": {
             "pattern": {
              "fillmode": "overlay",
              "size": 10,
              "solidity": 0.2
             }
            },
            "type": "histogram"
           }
          ],
          "histogram2d": [
           {
            "colorbar": {
             "outlinewidth": 0,
             "ticks": ""
            },
            "colorscale": [
             [
              0,
              "#0d0887"
             ],
             [
              0.1111111111111111,
              "#46039f"
             ],
             [
              0.2222222222222222,
              "#7201a8"
             ],
             [
              0.3333333333333333,
              "#9c179e"
             ],
             [
              0.4444444444444444,
              "#bd3786"
             ],
             [
              0.5555555555555556,
              "#d8576b"
             ],
             [
              0.6666666666666666,
              "#ed7953"
             ],
             [
              0.7777777777777778,
              "#fb9f3a"
             ],
             [
              0.8888888888888888,
              "#fdca26"
             ],
             [
              1,
              "#f0f921"
             ]
            ],
            "type": "histogram2d"
           }
          ],
          "histogram2dcontour": [
           {
            "colorbar": {
             "outlinewidth": 0,
             "ticks": ""
            },
            "colorscale": [
             [
              0,
              "#0d0887"
             ],
             [
              0.1111111111111111,
              "#46039f"
             ],
             [
              0.2222222222222222,
              "#7201a8"
             ],
             [
              0.3333333333333333,
              "#9c179e"
             ],
             [
              0.4444444444444444,
              "#bd3786"
             ],
             [
              0.5555555555555556,
              "#d8576b"
             ],
             [
              0.6666666666666666,
              "#ed7953"
             ],
             [
              0.7777777777777778,
              "#fb9f3a"
             ],
             [
              0.8888888888888888,
              "#fdca26"
             ],
             [
              1,
              "#f0f921"
             ]
            ],
            "type": "histogram2dcontour"
           }
          ],
          "mesh3d": [
           {
            "colorbar": {
             "outlinewidth": 0,
             "ticks": ""
            },
            "type": "mesh3d"
           }
          ],
          "parcoords": [
           {
            "line": {
             "colorbar": {
              "outlinewidth": 0,
              "ticks": ""
             }
            },
            "type": "parcoords"
           }
          ],
          "pie": [
           {
            "automargin": true,
            "type": "pie"
           }
          ],
          "scatter": [
           {
            "fillpattern": {
             "fillmode": "overlay",
             "size": 10,
             "solidity": 0.2
            },
            "type": "scatter"
           }
          ],
          "scatter3d": [
           {
            "line": {
             "colorbar": {
              "outlinewidth": 0,
              "ticks": ""
             }
            },
            "marker": {
             "colorbar": {
              "outlinewidth": 0,
              "ticks": ""
             }
            },
            "type": "scatter3d"
           }
          ],
          "scattercarpet": [
           {
            "marker": {
             "colorbar": {
              "outlinewidth": 0,
              "ticks": ""
             }
            },
            "type": "scattercarpet"
           }
          ],
          "scattergeo": [
           {
            "marker": {
             "colorbar": {
              "outlinewidth": 0,
              "ticks": ""
             }
            },
            "type": "scattergeo"
           }
          ],
          "scattergl": [
           {
            "marker": {
             "colorbar": {
              "outlinewidth": 0,
              "ticks": ""
             }
            },
            "type": "scattergl"
           }
          ],
          "scattermap": [
           {
            "marker": {
             "colorbar": {
              "outlinewidth": 0,
              "ticks": ""
             }
            },
            "type": "scattermap"
           }
          ],
          "scattermapbox": [
           {
            "marker": {
             "colorbar": {
              "outlinewidth": 0,
              "ticks": ""
             }
            },
            "type": "scattermapbox"
           }
          ],
          "scatterpolar": [
           {
            "marker": {
             "colorbar": {
              "outlinewidth": 0,
              "ticks": ""
             }
            },
            "type": "scatterpolar"
           }
          ],
          "scatterpolargl": [
           {
            "marker": {
             "colorbar": {
              "outlinewidth": 0,
              "ticks": ""
             }
            },
            "type": "scatterpolargl"
           }
          ],
          "scatterternary": [
           {
            "marker": {
             "colorbar": {
              "outlinewidth": 0,
              "ticks": ""
             }
            },
            "type": "scatterternary"
           }
          ],
          "surface": [
           {
            "colorbar": {
             "outlinewidth": 0,
             "ticks": ""
            },
            "colorscale": [
             [
              0,
              "#0d0887"
             ],
             [
              0.1111111111111111,
              "#46039f"
             ],
             [
              0.2222222222222222,
              "#7201a8"
             ],
             [
              0.3333333333333333,
              "#9c179e"
             ],
             [
              0.4444444444444444,
              "#bd3786"
             ],
             [
              0.5555555555555556,
              "#d8576b"
             ],
             [
              0.6666666666666666,
              "#ed7953"
             ],
             [
              0.7777777777777778,
              "#fb9f3a"
             ],
             [
              0.8888888888888888,
              "#fdca26"
             ],
             [
              1,
              "#f0f921"
             ]
            ],
            "type": "surface"
           }
          ],
          "table": [
           {
            "cells": {
             "fill": {
              "color": "#EBF0F8"
             },
             "line": {
              "color": "white"
             }
            },
            "header": {
             "fill": {
              "color": "#C8D4E3"
             },
             "line": {
              "color": "white"
             }
            },
            "type": "table"
           }
          ]
         },
         "layout": {
          "annotationdefaults": {
           "arrowcolor": "#2a3f5f",
           "arrowhead": 0,
           "arrowwidth": 1
          },
          "autotypenumbers": "strict",
          "coloraxis": {
           "colorbar": {
            "outlinewidth": 0,
            "ticks": ""
           }
          },
          "colorscale": {
           "diverging": [
            [
             0,
             "#8e0152"
            ],
            [
             0.1,
             "#c51b7d"
            ],
            [
             0.2,
             "#de77ae"
            ],
            [
             0.3,
             "#f1b6da"
            ],
            [
             0.4,
             "#fde0ef"
            ],
            [
             0.5,
             "#f7f7f7"
            ],
            [
             0.6,
             "#e6f5d0"
            ],
            [
             0.7,
             "#b8e186"
            ],
            [
             0.8,
             "#7fbc41"
            ],
            [
             0.9,
             "#4d9221"
            ],
            [
             1,
             "#276419"
            ]
           ],
           "sequential": [
            [
             0,
             "#0d0887"
            ],
            [
             0.1111111111111111,
             "#46039f"
            ],
            [
             0.2222222222222222,
             "#7201a8"
            ],
            [
             0.3333333333333333,
             "#9c179e"
            ],
            [
             0.4444444444444444,
             "#bd3786"
            ],
            [
             0.5555555555555556,
             "#d8576b"
            ],
            [
             0.6666666666666666,
             "#ed7953"
            ],
            [
             0.7777777777777778,
             "#fb9f3a"
            ],
            [
             0.8888888888888888,
             "#fdca26"
            ],
            [
             1,
             "#f0f921"
            ]
           ],
           "sequentialminus": [
            [
             0,
             "#0d0887"
            ],
            [
             0.1111111111111111,
             "#46039f"
            ],
            [
             0.2222222222222222,
             "#7201a8"
            ],
            [
             0.3333333333333333,
             "#9c179e"
            ],
            [
             0.4444444444444444,
             "#bd3786"
            ],
            [
             0.5555555555555556,
             "#d8576b"
            ],
            [
             0.6666666666666666,
             "#ed7953"
            ],
            [
             0.7777777777777778,
             "#fb9f3a"
            ],
            [
             0.8888888888888888,
             "#fdca26"
            ],
            [
             1,
             "#f0f921"
            ]
           ]
          },
          "colorway": [
           "#636efa",
           "#EF553B",
           "#00cc96",
           "#ab63fa",
           "#FFA15A",
           "#19d3f3",
           "#FF6692",
           "#B6E880",
           "#FF97FF",
           "#FECB52"
          ],
          "font": {
           "color": "#2a3f5f"
          },
          "geo": {
           "bgcolor": "white",
           "lakecolor": "white",
           "landcolor": "#E5ECF6",
           "showlakes": true,
           "showland": true,
           "subunitcolor": "white"
          },
          "hoverlabel": {
           "align": "left"
          },
          "hovermode": "closest",
          "mapbox": {
           "style": "light"
          },
          "paper_bgcolor": "white",
          "plot_bgcolor": "#E5ECF6",
          "polar": {
           "angularaxis": {
            "gridcolor": "white",
            "linecolor": "white",
            "ticks": ""
           },
           "bgcolor": "#E5ECF6",
           "radialaxis": {
            "gridcolor": "white",
            "linecolor": "white",
            "ticks": ""
           }
          },
          "scene": {
           "xaxis": {
            "backgroundcolor": "#E5ECF6",
            "gridcolor": "white",
            "gridwidth": 2,
            "linecolor": "white",
            "showbackground": true,
            "ticks": "",
            "zerolinecolor": "white"
           },
           "yaxis": {
            "backgroundcolor": "#E5ECF6",
            "gridcolor": "white",
            "gridwidth": 2,
            "linecolor": "white",
            "showbackground": true,
            "ticks": "",
            "zerolinecolor": "white"
           },
           "zaxis": {
            "backgroundcolor": "#E5ECF6",
            "gridcolor": "white",
            "gridwidth": 2,
            "linecolor": "white",
            "showbackground": true,
            "ticks": "",
            "zerolinecolor": "white"
           }
          },
          "shapedefaults": {
           "line": {
            "color": "#2a3f5f"
           }
          },
          "ternary": {
           "aaxis": {
            "gridcolor": "white",
            "linecolor": "white",
            "ticks": ""
           },
           "baxis": {
            "gridcolor": "white",
            "linecolor": "white",
            "ticks": ""
           },
           "bgcolor": "#E5ECF6",
           "caxis": {
            "gridcolor": "white",
            "linecolor": "white",
            "ticks": ""
           }
          },
          "title": {
           "x": 0.05
          },
          "xaxis": {
           "automargin": true,
           "gridcolor": "white",
           "linecolor": "white",
           "ticks": "",
           "title": {
            "standoff": 15
           },
           "zerolinecolor": "white",
           "zerolinewidth": 2
          },
          "yaxis": {
           "automargin": true,
           "gridcolor": "white",
           "linecolor": "white",
           "ticks": "",
           "title": {
            "standoff": 15
           },
           "zerolinecolor": "white",
           "zerolinewidth": 2
          }
         }
        },
        "title": {
         "text": "Total Sales and Units Sold by State"
        },
        "xaxis": {
         "tickangle": -45,
         "title": {
          "text": "State"
         }
        },
        "yaxis": {
         "title": {
          "text": "Total Sales (Millions)"
         }
        },
        "yaxis2": {
         "overlaying": "y",
         "side": "right",
         "title": {
          "text": "Units Sold (Thousands)"
         }
        }
       }
      }
     },
     "metadata": {},
     "output_type": "display_data"
    },
    {
     "data": {
      "text/plain": [
       "<Figure size 1100x1500 with 0 Axes>"
      ]
     },
     "metadata": {},
     "output_type": "display_data"
    }
   ],
   "source": [
    "# Graph3\n",
    "units_sold_bystate = dataframe.groupby('State')['UnitsSold'].sum().sort_index()\n",
    "unitTotal = units_sold_bystate.to_frame(name='State')\n",
    "grand_df= dataframe.groupby('State')[['TotalSales','UnitsSold']].sum().sort_index()\n",
    "\n",
    "plt.figure(figsize=(11,15))\n",
    "\n",
    "# Create traces for fig3\n",
    "trace1 = go.Bar(\n",
    "    x=grand_df.index,\n",
    "    y=grand_df['TotalSales'],\n",
    "    name='Total Sales',\n",
    "    marker_color='royalblue'\n",
    ")\n",
    "\n",
    "trace3 = go.Scatter(\n",
    "    # x=grand_df.index,\n",
    "    # y=grand_df['UnitsSold'],\n",
    "    x=unitTotal.index,\n",
    "    y=unitTotal['State'],\n",
    "    name='Units Sold',\n",
    "    line_color='orange',\n",
    "    marker_opacity=0,\n",
    "    yaxis='y2'\n",
    "    # Hide markers for cleaner line\n",
    ")\n",
    "\n",
    "# Combine traces into fig3\n",
    "fig3 = go.Figure(data=[trace1, trace3])\n",
    "\n",
    "fig3.update_layout(\n",
    "    title='Total Sales and Units Sold by State',\n",
    "        xaxis_title='State',\n",
    "    xaxis_tickangle=-45,\n",
    "    yaxis_title='Total Sales (Millions)',  # Label for primary y-axis\n",
    "    yaxis2=dict(\n",
    "        title='Units Sold (Thousands)',  # Label for secondary y-axis\n",
    "        overlaying='y',\n",
    "        side='right'\n",
    "    )   \n",
    ")\n",
    "\n"
   ]
  },
  {
   "cell_type": "markdown",
   "metadata": {},
   "source": [
    "Lets try a Treemap"
   ]
  },
  {
   "cell_type": "code",
   "execution_count": null,
   "metadata": {},
   "outputs": [
    {
     "data": {
      "application/vnd.plotly.v1+json": {
       "config": {
        "plotlyServerURL": "https://plot.ly"
       },
       "data": [
        {
         "branchvalues": "total",
         "customdata": [
          [
           163171236,
           "(?)"
          ],
          [
           135800459,
           "(?)"
          ],
          [
           269943182,
           "(?)"
          ],
          [
           186106567,
           "(?)"
          ],
          [
           144663181,
           "(?)"
          ],
          [
           24427804.000000004,
           "Albany"
          ],
          [
           19865016.000000004,
           "Albuquerque"
          ],
          [
           14753103.000000002,
           "Anchorage"
          ],
          [
           18997466,
           "Atlanta"
          ],
          [
           7758059,
           "Baltimore"
          ],
          [
           15710886,
           "Billings"
          ],
          [
           17633424,
           "Birmingham"
          ],
          [
           19276878,
           "Boise"
          ],
          [
           11076810,
           "Boston"
          ],
          [
           14352923,
           "Burlington"
          ],
          [
           29285637,
           "Charleston"
          ],
          [
           10689160,
           "Charleston"
          ],
          [
           23956531,
           "Charlotte"
          ],
          [
           18577517,
           "Cheyenne"
          ],
          [
           9797488,
           "Chicago"
          ],
          [
           18484583,
           "Columbus"
          ],
          [
           20902864,
           "Dallas"
          ],
          [
           20996536,
           "Denver"
          ],
          [
           7424011,
           "Des Moines"
          ],
          [
           18625433,
           "Detroit"
          ],
          [
           7735580,
           "Fargo"
          ],
          [
           11573448,
           "Hartford"
          ],
          [
           22282457,
           "Honolulu"
          ],
          [
           25456882,
           "Houston"
          ],
          [
           8836198,
           "Indianapolis"
          ],
          [
           15591709.000000002,
           "Jackson"
          ],
          [
           18067440,
           "Knoxville"
          ],
          [
           20858509,
           "Las Vegas"
          ],
          [
           12639347,
           "Little Rock"
          ],
          [
           25634913,
           "Los Angeles"
          ],
          [
           10072848,
           "Louisville"
          ],
          [
           16411667.000000002,
           "Manchester"
          ],
          [
           31600863.000000004,
           "Miami"
          ],
          [
           7727469,
           "Milwaukee"
          ],
          [
           7378068,
           "Minneapolis"
          ],
          [
           23750781.000000004,
           "New Orleans"
          ],
          [
           39583735,
           "New York"
          ],
          [
           9934246,
           "Newark"
          ],
          [
           10620734,
           "Oklahoma City"
          ],
          [
           5929038,
           "Omaha"
          ],
          [
           27682851,
           "Orlando"
          ],
          [
           10357519,
           "Philadelphia"
          ],
          [
           15782221.000000002,
           "Phoenix"
          ],
          [
           21349674,
           "Portland"
          ],
          [
           9195978,
           "Portland"
          ],
          [
           8446806,
           "Providence"
          ],
          [
           21575040,
           "Richmond"
          ],
          [
           9696420,
           "Salt Lake City"
          ],
          [
           34539220,
           "San Francisco"
          ],
          [
           26330718.000000004,
           "Seattle"
          ],
          [
           8495576,
           "Sioux Falls"
          ],
          [
           9683265,
           "St. Louis"
          ],
          [
           9972864,
           "Wichita"
          ],
          [
           12298412,
           "Wilmington"
          ]
         ],
         "domain": {
          "x": [
           0,
           1
          ],
          "y": [
           0,
           1
          ]
         },
         "hovertemplate": "<b>%{hovertext}</b><br><br>labels=%{label}<br>TotalSales=%{customdata[0]}<br>parent=%{parent}<br>id=%{id}<br>City=%{customdata[1]}<extra></extra>",
         "hovertext": {
          "bdata": "AAAASJdzo0EAAAAWTTCgQQAAAI4BF7BBAAAAjoUvpkEAAAAaxT6hQQEAAMDRS3dBAQAAgNvxckEBAADgqSNsQQAAAKANHnJBAAAAwDqYXUEAAADAVPdtQQAAAAAJ0XBBAAAA4ERickEAAABAmSBlQQAAAGBDYGtBAAAAUNDte0EAAAAAUWNkQQAAADDD2HZBAAAA0Ia3cUEAAAAA7q9iQQAAAHDWoHFBAAAAAD3vc0EAAACAGwZ0QQAAAMACUlxBAAAAkDnDcUEAAAAAR4JdQQAAAAAZE2ZBAAAAkA1AdUEAAAAgD0d4QQAAAMCM2mBBAQAAoCO9bUEAAAAA/zpxQQAAANBo5HNBAAAAYI4baEEAAAAQhnJ4QQAAAABiNmNBAQAAYIJNb0EBAADwDSN+QQAAAEBbel1BAAAAACUlXEEBAADQh6Z2QQAAALj/34JBAAAAwLTyYkEAAADA50FkQQAAAIATnlZBAAAAMIJmekEAAADgYcFjQQEAAKApGm5BAAAAoFJcdEEAAABAOYphQQAAAMBqHGBBAAAAAFiTdEEAAACAlH5iQQAAAKA2eIBBAQAA4GUceUEAAAAAOzRgQQAAACAoeGJBAAAAAJAFY0EAAACAFXVnQQ==",
          "dtype": "f8"
         },
         "ids": [
          "Southeast",
          "Midwest",
          "West",
          "Northeast",
          "South",
          "Northeast/Albany",
          "West/Albuquerque",
          "West/Anchorage",
          "Southeast/Atlanta",
          "Northeast/Baltimore",
          "Midwest/Billings",
          "South/Birmingham",
          "West/Boise",
          "Northeast/Boston",
          "Northeast/Burlington",
          "Southeast/Charleston",
          "Northeast/Charleston",
          "Southeast/Charlotte",
          "West/Cheyenne",
          "Midwest/Chicago",
          "Midwest/Columbus",
          "South/Dallas",
          "West/Denver",
          "Midwest/Des Moines",
          "Midwest/Detroit",
          "Midwest/Fargo",
          "Northeast/Hartford",
          "West/Honolulu",
          "South/Houston",
          "Midwest/Indianapolis",
          "South/Jackson",
          "South/Knoxville",
          "West/Las Vegas",
          "South/Little Rock",
          "West/Los Angeles",
          "Southeast/Louisville",
          "Northeast/Manchester",
          "Southeast/Miami",
          "Midwest/Milwaukee",
          "Midwest/Minneapolis",
          "South/New Orleans",
          "Northeast/New York",
          "Northeast/Newark",
          "South/Oklahoma City",
          "Midwest/Omaha",
          "Southeast/Orlando",
          "Northeast/Philadelphia",
          "West/Phoenix",
          "West/Portland",
          "Northeast/Portland",
          "Northeast/Providence",
          "Southeast/Richmond",
          "West/Salt Lake City",
          "West/San Francisco",
          "West/Seattle",
          "Midwest/Sioux Falls",
          "Midwest/St. Louis",
          "Midwest/Wichita",
          "Northeast/Wilmington"
         ],
         "labels": [
          "Southeast",
          "Midwest",
          "West",
          "Northeast",
          "South",
          "Albany",
          "Albuquerque",
          "Anchorage",
          "Atlanta",
          "Baltimore",
          "Billings",
          "Birmingham",
          "Boise",
          "Boston",
          "Burlington",
          "Charleston",
          "Charleston",
          "Charlotte",
          "Cheyenne",
          "Chicago",
          "Columbus",
          "Dallas",
          "Denver",
          "Des Moines",
          "Detroit",
          "Fargo",
          "Hartford",
          "Honolulu",
          "Houston",
          "Indianapolis",
          "Jackson",
          "Knoxville",
          "Las Vegas",
          "Little Rock",
          "Los Angeles",
          "Louisville",
          "Manchester",
          "Miami",
          "Milwaukee",
          "Minneapolis",
          "New Orleans",
          "New York",
          "Newark",
          "Oklahoma City",
          "Omaha",
          "Orlando",
          "Philadelphia",
          "Phoenix",
          "Portland",
          "Portland",
          "Providence",
          "Richmond",
          "Salt Lake City",
          "San Francisco",
          "Seattle",
          "Sioux Falls",
          "St. Louis",
          "Wichita",
          "Wilmington"
         ],
         "marker": {
          "colors": [
           "pink",
           "pink",
           "pink",
           "pink",
           "pink",
           "red",
           "green",
           "orange",
           "blue",
           "purple",
           "pink",
           "red",
           "green",
           "orange",
           "blue",
           "purple",
           "purple",
           "pink",
           "red",
           "green",
           "orange",
           "blue",
           "purple",
           "pink",
           "red",
           "green",
           "orange",
           "blue",
           "purple",
           "pink",
           "red",
           "green",
           "orange",
           "blue",
           "purple",
           "pink",
           "red",
           "green",
           "orange",
           "blue",
           "purple",
           "pink",
           "red",
           "green",
           "orange",
           "blue",
           "purple",
           "pink",
           "red",
           "red",
           "green",
           "orange",
           "blue",
           "purple",
           "pink",
           "red",
           "green",
           "orange",
           "blue"
          ]
         },
         "name": "",
         "parents": [
          "",
          "",
          "",
          "",
          "",
          "Northeast",
          "West",
          "West",
          "Southeast",
          "Northeast",
          "Midwest",
          "South",
          "West",
          "Northeast",
          "Northeast",
          "Southeast",
          "Northeast",
          "Southeast",
          "West",
          "Midwest",
          "Midwest",
          "South",
          "West",
          "Midwest",
          "Midwest",
          "Midwest",
          "Northeast",
          "West",
          "South",
          "Midwest",
          "South",
          "South",
          "West",
          "South",
          "West",
          "Southeast",
          "Northeast",
          "Southeast",
          "Midwest",
          "Midwest",
          "South",
          "Northeast",
          "Northeast",
          "South",
          "Midwest",
          "Southeast",
          "Northeast",
          "West",
          "West",
          "Northeast",
          "Northeast",
          "Southeast",
          "West",
          "West",
          "West",
          "Midwest",
          "Midwest",
          "Midwest",
          "Northeast"
         ],
         "textinfo": "label+value",
         "type": "treemap",
         "values": {
          "bdata": "AAAASJdzo0EAAAAWTTCgQQAAAI4BF7BBAAAAjoUvpkEAAAAaxT6hQQEAAMDRS3dBAQAAgNvxckEBAADgqSNsQQAAAKANHnJBAAAAwDqYXUEAAADAVPdtQQAAAAAJ0XBBAAAA4ERickEAAABAmSBlQQAAAGBDYGtBAAAAUNDte0EAAAAAUWNkQQAAADDD2HZBAAAA0Ia3cUEAAAAA7q9iQQAAAHDWoHFBAAAAAD3vc0EAAACAGwZ0QQAAAMACUlxBAAAAkDnDcUEAAAAAR4JdQQAAAAAZE2ZBAAAAkA1AdUEAAAAgD0d4QQAAAMCM2mBBAQAAoCO9bUEAAAAA/zpxQQAAANBo5HNBAAAAYI4baEEAAAAQhnJ4QQAAAABiNmNBAQAAYIJNb0EBAADwDSN+QQAAAEBbel1BAAAAACUlXEEBAADQh6Z2QQAAALj/34JBAAAAwLTyYkEAAADA50FkQQAAAIATnlZBAAAAMIJmekEAAADgYcFjQQEAAKApGm5BAAAAoFJcdEEAAABAOYphQQAAAMBqHGBBAAAAAFiTdEEAAACAlH5iQQAAAKA2eIBBAQAA4GUceUEAAAAAOzRgQQAAACAoeGJBAAAAAJAFY0EAAACAFXVnQQ==",
          "dtype": "f8"
         }
        }
       ],
       "layout": {
        "legend": {
         "tracegroupgap": 0
        },
        "margin": {
         "b": 50,
         "l": 50,
         "r": 50,
         "t": 50
        },
        "template": {
         "data": {
          "bar": [
           {
            "error_x": {
             "color": "#2a3f5f"
            },
            "error_y": {
             "color": "#2a3f5f"
            },
            "marker": {
             "line": {
              "color": "#E5ECF6",
              "width": 0.5
             },
             "pattern": {
              "fillmode": "overlay",
              "size": 10,
              "solidity": 0.2
             }
            },
            "type": "bar"
           }
          ],
          "barpolar": [
           {
            "marker": {
             "line": {
              "color": "#E5ECF6",
              "width": 0.5
             },
             "pattern": {
              "fillmode": "overlay",
              "size": 10,
              "solidity": 0.2
             }
            },
            "type": "barpolar"
           }
          ],
          "carpet": [
           {
            "aaxis": {
             "endlinecolor": "#2a3f5f",
             "gridcolor": "white",
             "linecolor": "white",
             "minorgridcolor": "white",
             "startlinecolor": "#2a3f5f"
            },
            "baxis": {
             "endlinecolor": "#2a3f5f",
             "gridcolor": "white",
             "linecolor": "white",
             "minorgridcolor": "white",
             "startlinecolor": "#2a3f5f"
            },
            "type": "carpet"
           }
          ],
          "choropleth": [
           {
            "colorbar": {
             "outlinewidth": 0,
             "ticks": ""
            },
            "type": "choropleth"
           }
          ],
          "contour": [
           {
            "colorbar": {
             "outlinewidth": 0,
             "ticks": ""
            },
            "colorscale": [
             [
              0,
              "#0d0887"
             ],
             [
              0.1111111111111111,
              "#46039f"
             ],
             [
              0.2222222222222222,
              "#7201a8"
             ],
             [
              0.3333333333333333,
              "#9c179e"
             ],
             [
              0.4444444444444444,
              "#bd3786"
             ],
             [
              0.5555555555555556,
              "#d8576b"
             ],
             [
              0.6666666666666666,
              "#ed7953"
             ],
             [
              0.7777777777777778,
              "#fb9f3a"
             ],
             [
              0.8888888888888888,
              "#fdca26"
             ],
             [
              1,
              "#f0f921"
             ]
            ],
            "type": "contour"
           }
          ],
          "contourcarpet": [
           {
            "colorbar": {
             "outlinewidth": 0,
             "ticks": ""
            },
            "type": "contourcarpet"
           }
          ],
          "heatmap": [
           {
            "colorbar": {
             "outlinewidth": 0,
             "ticks": ""
            },
            "colorscale": [
             [
              0,
              "#0d0887"
             ],
             [
              0.1111111111111111,
              "#46039f"
             ],
             [
              0.2222222222222222,
              "#7201a8"
             ],
             [
              0.3333333333333333,
              "#9c179e"
             ],
             [
              0.4444444444444444,
              "#bd3786"
             ],
             [
              0.5555555555555556,
              "#d8576b"
             ],
             [
              0.6666666666666666,
              "#ed7953"
             ],
             [
              0.7777777777777778,
              "#fb9f3a"
             ],
             [
              0.8888888888888888,
              "#fdca26"
             ],
             [
              1,
              "#f0f921"
             ]
            ],
            "type": "heatmap"
           }
          ],
          "histogram": [
           {
            "marker": {
             "pattern": {
              "fillmode": "overlay",
              "size": 10,
              "solidity": 0.2
             }
            },
            "type": "histogram"
           }
          ],
          "histogram2d": [
           {
            "colorbar": {
             "outlinewidth": 0,
             "ticks": ""
            },
            "colorscale": [
             [
              0,
              "#0d0887"
             ],
             [
              0.1111111111111111,
              "#46039f"
             ],
             [
              0.2222222222222222,
              "#7201a8"
             ],
             [
              0.3333333333333333,
              "#9c179e"
             ],
             [
              0.4444444444444444,
              "#bd3786"
             ],
             [
              0.5555555555555556,
              "#d8576b"
             ],
             [
              0.6666666666666666,
              "#ed7953"
             ],
             [
              0.7777777777777778,
              "#fb9f3a"
             ],
             [
              0.8888888888888888,
              "#fdca26"
             ],
             [
              1,
              "#f0f921"
             ]
            ],
            "type": "histogram2d"
           }
          ],
          "histogram2dcontour": [
           {
            "colorbar": {
             "outlinewidth": 0,
             "ticks": ""
            },
            "colorscale": [
             [
              0,
              "#0d0887"
             ],
             [
              0.1111111111111111,
              "#46039f"
             ],
             [
              0.2222222222222222,
              "#7201a8"
             ],
             [
              0.3333333333333333,
              "#9c179e"
             ],
             [
              0.4444444444444444,
              "#bd3786"
             ],
             [
              0.5555555555555556,
              "#d8576b"
             ],
             [
              0.6666666666666666,
              "#ed7953"
             ],
             [
              0.7777777777777778,
              "#fb9f3a"
             ],
             [
              0.8888888888888888,
              "#fdca26"
             ],
             [
              1,
              "#f0f921"
             ]
            ],
            "type": "histogram2dcontour"
           }
          ],
          "mesh3d": [
           {
            "colorbar": {
             "outlinewidth": 0,
             "ticks": ""
            },
            "type": "mesh3d"
           }
          ],
          "parcoords": [
           {
            "line": {
             "colorbar": {
              "outlinewidth": 0,
              "ticks": ""
             }
            },
            "type": "parcoords"
           }
          ],
          "pie": [
           {
            "automargin": true,
            "type": "pie"
           }
          ],
          "scatter": [
           {
            "fillpattern": {
             "fillmode": "overlay",
             "size": 10,
             "solidity": 0.2
            },
            "type": "scatter"
           }
          ],
          "scatter3d": [
           {
            "line": {
             "colorbar": {
              "outlinewidth": 0,
              "ticks": ""
             }
            },
            "marker": {
             "colorbar": {
              "outlinewidth": 0,
              "ticks": ""
             }
            },
            "type": "scatter3d"
           }
          ],
          "scattercarpet": [
           {
            "marker": {
             "colorbar": {
              "outlinewidth": 0,
              "ticks": ""
             }
            },
            "type": "scattercarpet"
           }
          ],
          "scattergeo": [
           {
            "marker": {
             "colorbar": {
              "outlinewidth": 0,
              "ticks": ""
             }
            },
            "type": "scattergeo"
           }
          ],
          "scattergl": [
           {
            "marker": {
             "colorbar": {
              "outlinewidth": 0,
              "ticks": ""
             }
            },
            "type": "scattergl"
           }
          ],
          "scattermap": [
           {
            "marker": {
             "colorbar": {
              "outlinewidth": 0,
              "ticks": ""
             }
            },
            "type": "scattermap"
           }
          ],
          "scattermapbox": [
           {
            "marker": {
             "colorbar": {
              "outlinewidth": 0,
              "ticks": ""
             }
            },
            "type": "scattermapbox"
           }
          ],
          "scatterpolar": [
           {
            "marker": {
             "colorbar": {
              "outlinewidth": 0,
              "ticks": ""
             }
            },
            "type": "scatterpolar"
           }
          ],
          "scatterpolargl": [
           {
            "marker": {
             "colorbar": {
              "outlinewidth": 0,
              "ticks": ""
             }
            },
            "type": "scatterpolargl"
           }
          ],
          "scatterternary": [
           {
            "marker": {
             "colorbar": {
              "outlinewidth": 0,
              "ticks": ""
             }
            },
            "type": "scatterternary"
           }
          ],
          "surface": [
           {
            "colorbar": {
             "outlinewidth": 0,
             "ticks": ""
            },
            "colorscale": [
             [
              0,
              "#0d0887"
             ],
             [
              0.1111111111111111,
              "#46039f"
             ],
             [
              0.2222222222222222,
              "#7201a8"
             ],
             [
              0.3333333333333333,
              "#9c179e"
             ],
             [
              0.4444444444444444,
              "#bd3786"
             ],
             [
              0.5555555555555556,
              "#d8576b"
             ],
             [
              0.6666666666666666,
              "#ed7953"
             ],
             [
              0.7777777777777778,
              "#fb9f3a"
             ],
             [
              0.8888888888888888,
              "#fdca26"
             ],
             [
              1,
              "#f0f921"
             ]
            ],
            "type": "surface"
           }
          ],
          "table": [
           {
            "cells": {
             "fill": {
              "color": "#EBF0F8"
             },
             "line": {
              "color": "white"
             }
            },
            "header": {
             "fill": {
              "color": "#C8D4E3"
             },
             "line": {
              "color": "white"
             }
            },
            "type": "table"
           }
          ]
         },
         "layout": {
          "annotationdefaults": {
           "arrowcolor": "#2a3f5f",
           "arrowhead": 0,
           "arrowwidth": 1
          },
          "autotypenumbers": "strict",
          "coloraxis": {
           "colorbar": {
            "outlinewidth": 0,
            "ticks": ""
           }
          },
          "colorscale": {
           "diverging": [
            [
             0,
             "#8e0152"
            ],
            [
             0.1,
             "#c51b7d"
            ],
            [
             0.2,
             "#de77ae"
            ],
            [
             0.3,
             "#f1b6da"
            ],
            [
             0.4,
             "#fde0ef"
            ],
            [
             0.5,
             "#f7f7f7"
            ],
            [
             0.6,
             "#e6f5d0"
            ],
            [
             0.7,
             "#b8e186"
            ],
            [
             0.8,
             "#7fbc41"
            ],
            [
             0.9,
             "#4d9221"
            ],
            [
             1,
             "#276419"
            ]
           ],
           "sequential": [
            [
             0,
             "#0d0887"
            ],
            [
             0.1111111111111111,
             "#46039f"
            ],
            [
             0.2222222222222222,
             "#7201a8"
            ],
            [
             0.3333333333333333,
             "#9c179e"
            ],
            [
             0.4444444444444444,
             "#bd3786"
            ],
            [
             0.5555555555555556,
             "#d8576b"
            ],
            [
             0.6666666666666666,
             "#ed7953"
            ],
            [
             0.7777777777777778,
             "#fb9f3a"
            ],
            [
             0.8888888888888888,
             "#fdca26"
            ],
            [
             1,
             "#f0f921"
            ]
           ],
           "sequentialminus": [
            [
             0,
             "#0d0887"
            ],
            [
             0.1111111111111111,
             "#46039f"
            ],
            [
             0.2222222222222222,
             "#7201a8"
            ],
            [
             0.3333333333333333,
             "#9c179e"
            ],
            [
             0.4444444444444444,
             "#bd3786"
            ],
            [
             0.5555555555555556,
             "#d8576b"
            ],
            [
             0.6666666666666666,
             "#ed7953"
            ],
            [
             0.7777777777777778,
             "#fb9f3a"
            ],
            [
             0.8888888888888888,
             "#fdca26"
            ],
            [
             1,
             "#f0f921"
            ]
           ]
          },
          "colorway": [
           "#636efa",
           "#EF553B",
           "#00cc96",
           "#ab63fa",
           "#FFA15A",
           "#19d3f3",
           "#FF6692",
           "#B6E880",
           "#FF97FF",
           "#FECB52"
          ],
          "font": {
           "color": "#2a3f5f"
          },
          "geo": {
           "bgcolor": "white",
           "lakecolor": "white",
           "landcolor": "#E5ECF6",
           "showlakes": true,
           "showland": true,
           "subunitcolor": "white"
          },
          "hoverlabel": {
           "align": "left"
          },
          "hovermode": "closest",
          "mapbox": {
           "style": "light"
          },
          "paper_bgcolor": "white",
          "plot_bgcolor": "#E5ECF6",
          "polar": {
           "angularaxis": {
            "gridcolor": "white",
            "linecolor": "white",
            "ticks": ""
           },
           "bgcolor": "#E5ECF6",
           "radialaxis": {
            "gridcolor": "white",
            "linecolor": "white",
            "ticks": ""
           }
          },
          "scene": {
           "xaxis": {
            "backgroundcolor": "#E5ECF6",
            "gridcolor": "white",
            "gridwidth": 2,
            "linecolor": "white",
            "showbackground": true,
            "ticks": "",
            "zerolinecolor": "white"
           },
           "yaxis": {
            "backgroundcolor": "#E5ECF6",
            "gridcolor": "white",
            "gridwidth": 2,
            "linecolor": "white",
            "showbackground": true,
            "ticks": "",
            "zerolinecolor": "white"
           },
           "zaxis": {
            "backgroundcolor": "#E5ECF6",
            "gridcolor": "white",
            "gridwidth": 2,
            "linecolor": "white",
            "showbackground": true,
            "ticks": "",
            "zerolinecolor": "white"
           }
          },
          "shapedefaults": {
           "line": {
            "color": "#2a3f5f"
           }
          },
          "ternary": {
           "aaxis": {
            "gridcolor": "white",
            "linecolor": "white",
            "ticks": ""
           },
           "baxis": {
            "gridcolor": "white",
            "linecolor": "white",
            "ticks": ""
           },
           "bgcolor": "#E5ECF6",
           "caxis": {
            "gridcolor": "white",
            "linecolor": "white",
            "ticks": ""
           }
          },
          "title": {
           "x": 0.05
          },
          "xaxis": {
           "automargin": true,
           "gridcolor": "white",
           "linecolor": "white",
           "ticks": "",
           "title": {
            "standoff": 15
           },
           "zerolinecolor": "white",
           "zerolinewidth": 2
          },
          "yaxis": {
           "automargin": true,
           "gridcolor": "white",
           "linecolor": "white",
           "ticks": "",
           "title": {
            "standoff": 15
           },
           "zerolinecolor": "white",
           "zerolinewidth": 2
          }
         }
        },
        "title": {
         "text": "Total Sales by Region and City"
        },
        "treemapcolorway": [
         "pink",
         "red",
         "green",
         "orange",
         "blue",
         "purple"
        ]
       }
      }
     },
     "metadata": {},
     "output_type": "display_data"
    }
   ],
   "source": [
    "# Graph 4\n",
    "fig4 = px.treemap(dataframe, path=['Region', 'City'], \n",
    "                 values='TotalSales',\n",
    "                color='City',  # Color nodes by region\n",
    "                hover_name='TotalSales',\n",
    "                hover_data=['TotalSales'],  # Show relevant data on hover\n",
    "                title='Total Sales by Region and City',\n",
    "                color_discrete_sequence=['pink', 'red', 'green', 'orange', 'blue', 'purple']\n",
    "            )  # Customize color palette\n",
    "fig4.update_traces(textinfo=\"label+value\")\n",
    "fig4.update_layout(margin=dict(t=50, l=50, r=50, b=50))  # Adjust margins for better readability\n",
    "\n",
    "\n"
   ]
  },
  {
   "cell_type": "markdown",
   "metadata": {},
   "source": [
    "Lets try randoms"
   ]
  },
  {
   "cell_type": "code",
   "execution_count": null,
   "metadata": {},
   "outputs": [
    {
     "name": "stdout",
     "output_type": "stream",
     "text": [
      "   country  population   gdp\n",
      "0       US   333993600  25.3\n",
      "1    China  1444000000  17.7\n",
      "2    Japan   125836000   5.1\n",
      "3  Germany    83240000   4.0\n",
      "4       UK    68555000   3.1\n"
     ]
    }
   ],
   "source": [
    "countries = [\"US\", \"China\", \"Japan\", \"Germany\", \"UK\"]\n",
    "populations = [333993600, 1444000000, 125836000, 83240000, 68555000]\n",
    "gdp = [25.3, 17.7, 5.1, 4.0, 3.1]  # In trillions USD\n",
    "\n",
    "# Create DataFrame\n",
    "df = pd.DataFrame(list(zip(countries, populations, gdp)), \n",
    "                  columns = ['country', 'population', 'gdp'])\n",
    "\n",
    "print(df)"
   ]
  },
  {
   "cell_type": "code",
   "execution_count": null,
   "metadata": {},
   "outputs": [
    {
     "data": {
      "application/vnd.plotly.v1+json": {
       "config": {
        "plotlyServerURL": "https://plot.ly"
       },
       "data": [
        {
         "hovertemplate": "country=US<br>gdp=%{x}<br>population=%{marker.size}<extra></extra>",
         "legendgroup": "US",
         "marker": {
          "color": "#636efa",
          "size": {
           "bdata": "gFboEw==",
           "dtype": "i4"
          },
          "sizemode": "area",
          "sizeref": 3610000,
          "symbol": "circle"
         },
         "mode": "markers",
         "name": "US",
         "orientation": "v",
         "showlegend": true,
         "type": "scatter",
         "x": {
          "bdata": "zczMzMxMOUA=",
          "dtype": "f8"
         },
         "xaxis": "x",
         "y": {
          "bdata": "gFboEw==",
          "dtype": "i4"
         },
         "yaxis": "y"
        },
        {
         "hovertemplate": "country=China<br>gdp=%{x}<br>population=%{marker.size}<extra></extra>",
         "legendgroup": "China",
         "marker": {
          "color": "#EF553B",
          "size": {
           "bdata": "ALERVg==",
           "dtype": "i4"
          },
          "sizemode": "area",
          "sizeref": 3610000,
          "symbol": "circle"
         },
         "mode": "markers",
         "name": "China",
         "orientation": "v",
         "showlegend": true,
         "type": "scatter",
         "x": {
          "bdata": "MzMzMzOzMUA=",
          "dtype": "f8"
         },
         "xaxis": "x",
         "y": {
          "bdata": "ALERVg==",
          "dtype": "i4"
         },
         "yaxis": "y"
        },
        {
         "hovertemplate": "country=Japan<br>gdp=%{x}<br>population=%{marker.size}<extra></extra>",
         "legendgroup": "Japan",
         "marker": {
          "color": "#00cc96",
          "size": {
           "bdata": "4BqABw==",
           "dtype": "i4"
          },
          "sizemode": "area",
          "sizeref": 3610000,
          "symbol": "circle"
         },
         "mode": "markers",
         "name": "Japan",
         "orientation": "v",
         "showlegend": true,
         "type": "scatter",
         "x": {
          "bdata": "ZmZmZmZmFEA=",
          "dtype": "f8"
         },
         "xaxis": "x",
         "y": {
          "bdata": "4BqABw==",
          "dtype": "i4"
         },
         "yaxis": "y"
        },
        {
         "hovertemplate": "country=Germany<br>gdp=%{x}<br>population=%{marker.size}<extra></extra>",
         "legendgroup": "Germany",
         "marker": {
          "color": "#ab63fa",
          "size": {
           "bdata": "QCT2BA==",
           "dtype": "i4"
          },
          "sizemode": "area",
          "sizeref": 3610000,
          "symbol": "circle"
         },
         "mode": "markers",
         "name": "Germany",
         "orientation": "v",
         "showlegend": true,
         "type": "scatter",
         "x": {
          "bdata": "AAAAAAAAEEA=",
          "dtype": "f8"
         },
         "xaxis": "x",
         "y": {
          "bdata": "QCT2BA==",
          "dtype": "i4"
         },
         "yaxis": "y"
        },
        {
         "hovertemplate": "country=UK<br>gdp=%{x}<br>population=%{marker.size}<extra></extra>",
         "legendgroup": "UK",
         "marker": {
          "color": "#FFA15A",
          "size": {
           "bdata": "+BAWBA==",
           "dtype": "i4"
          },
          "sizemode": "area",
          "sizeref": 3610000,
          "symbol": "circle"
         },
         "mode": "markers",
         "name": "UK",
         "orientation": "v",
         "showlegend": true,
         "type": "scatter",
         "x": {
          "bdata": "zczMzMzMCEA=",
          "dtype": "f8"
         },
         "xaxis": "x",
         "y": {
          "bdata": "+BAWBA==",
          "dtype": "i4"
         },
         "yaxis": "y"
        }
       ],
       "layout": {
        "legend": {
         "itemsizing": "constant",
         "title": {
          "text": "country"
         },
         "tracegroupgap": 0
        },
        "template": {
         "data": {
          "bar": [
           {
            "error_x": {
             "color": "#2a3f5f"
            },
            "error_y": {
             "color": "#2a3f5f"
            },
            "marker": {
             "line": {
              "color": "#E5ECF6",
              "width": 0.5
             },
             "pattern": {
              "fillmode": "overlay",
              "size": 10,
              "solidity": 0.2
             }
            },
            "type": "bar"
           }
          ],
          "barpolar": [
           {
            "marker": {
             "line": {
              "color": "#E5ECF6",
              "width": 0.5
             },
             "pattern": {
              "fillmode": "overlay",
              "size": 10,
              "solidity": 0.2
             }
            },
            "type": "barpolar"
           }
          ],
          "carpet": [
           {
            "aaxis": {
             "endlinecolor": "#2a3f5f",
             "gridcolor": "white",
             "linecolor": "white",
             "minorgridcolor": "white",
             "startlinecolor": "#2a3f5f"
            },
            "baxis": {
             "endlinecolor": "#2a3f5f",
             "gridcolor": "white",
             "linecolor": "white",
             "minorgridcolor": "white",
             "startlinecolor": "#2a3f5f"
            },
            "type": "carpet"
           }
          ],
          "choropleth": [
           {
            "colorbar": {
             "outlinewidth": 0,
             "ticks": ""
            },
            "type": "choropleth"
           }
          ],
          "contour": [
           {
            "colorbar": {
             "outlinewidth": 0,
             "ticks": ""
            },
            "colorscale": [
             [
              0,
              "#0d0887"
             ],
             [
              0.1111111111111111,
              "#46039f"
             ],
             [
              0.2222222222222222,
              "#7201a8"
             ],
             [
              0.3333333333333333,
              "#9c179e"
             ],
             [
              0.4444444444444444,
              "#bd3786"
             ],
             [
              0.5555555555555556,
              "#d8576b"
             ],
             [
              0.6666666666666666,
              "#ed7953"
             ],
             [
              0.7777777777777778,
              "#fb9f3a"
             ],
             [
              0.8888888888888888,
              "#fdca26"
             ],
             [
              1,
              "#f0f921"
             ]
            ],
            "type": "contour"
           }
          ],
          "contourcarpet": [
           {
            "colorbar": {
             "outlinewidth": 0,
             "ticks": ""
            },
            "type": "contourcarpet"
           }
          ],
          "heatmap": [
           {
            "colorbar": {
             "outlinewidth": 0,
             "ticks": ""
            },
            "colorscale": [
             [
              0,
              "#0d0887"
             ],
             [
              0.1111111111111111,
              "#46039f"
             ],
             [
              0.2222222222222222,
              "#7201a8"
             ],
             [
              0.3333333333333333,
              "#9c179e"
             ],
             [
              0.4444444444444444,
              "#bd3786"
             ],
             [
              0.5555555555555556,
              "#d8576b"
             ],
             [
              0.6666666666666666,
              "#ed7953"
             ],
             [
              0.7777777777777778,
              "#fb9f3a"
             ],
             [
              0.8888888888888888,
              "#fdca26"
             ],
             [
              1,
              "#f0f921"
             ]
            ],
            "type": "heatmap"
           }
          ],
          "histogram": [
           {
            "marker": {
             "pattern": {
              "fillmode": "overlay",
              "size": 10,
              "solidity": 0.2
             }
            },
            "type": "histogram"
           }
          ],
          "histogram2d": [
           {
            "colorbar": {
             "outlinewidth": 0,
             "ticks": ""
            },
            "colorscale": [
             [
              0,
              "#0d0887"
             ],
             [
              0.1111111111111111,
              "#46039f"
             ],
             [
              0.2222222222222222,
              "#7201a8"
             ],
             [
              0.3333333333333333,
              "#9c179e"
             ],
             [
              0.4444444444444444,
              "#bd3786"
             ],
             [
              0.5555555555555556,
              "#d8576b"
             ],
             [
              0.6666666666666666,
              "#ed7953"
             ],
             [
              0.7777777777777778,
              "#fb9f3a"
             ],
             [
              0.8888888888888888,
              "#fdca26"
             ],
             [
              1,
              "#f0f921"
             ]
            ],
            "type": "histogram2d"
           }
          ],
          "histogram2dcontour": [
           {
            "colorbar": {
             "outlinewidth": 0,
             "ticks": ""
            },
            "colorscale": [
             [
              0,
              "#0d0887"
             ],
             [
              0.1111111111111111,
              "#46039f"
             ],
             [
              0.2222222222222222,
              "#7201a8"
             ],
             [
              0.3333333333333333,
              "#9c179e"
             ],
             [
              0.4444444444444444,
              "#bd3786"
             ],
             [
              0.5555555555555556,
              "#d8576b"
             ],
             [
              0.6666666666666666,
              "#ed7953"
             ],
             [
              0.7777777777777778,
              "#fb9f3a"
             ],
             [
              0.8888888888888888,
              "#fdca26"
             ],
             [
              1,
              "#f0f921"
             ]
            ],
            "type": "histogram2dcontour"
           }
          ],
          "mesh3d": [
           {
            "colorbar": {
             "outlinewidth": 0,
             "ticks": ""
            },
            "type": "mesh3d"
           }
          ],
          "parcoords": [
           {
            "line": {
             "colorbar": {
              "outlinewidth": 0,
              "ticks": ""
             }
            },
            "type": "parcoords"
           }
          ],
          "pie": [
           {
            "automargin": true,
            "type": "pie"
           }
          ],
          "scatter": [
           {
            "fillpattern": {
             "fillmode": "overlay",
             "size": 10,
             "solidity": 0.2
            },
            "type": "scatter"
           }
          ],
          "scatter3d": [
           {
            "line": {
             "colorbar": {
              "outlinewidth": 0,
              "ticks": ""
             }
            },
            "marker": {
             "colorbar": {
              "outlinewidth": 0,
              "ticks": ""
             }
            },
            "type": "scatter3d"
           }
          ],
          "scattercarpet": [
           {
            "marker": {
             "colorbar": {
              "outlinewidth": 0,
              "ticks": ""
             }
            },
            "type": "scattercarpet"
           }
          ],
          "scattergeo": [
           {
            "marker": {
             "colorbar": {
              "outlinewidth": 0,
              "ticks": ""
             }
            },
            "type": "scattergeo"
           }
          ],
          "scattergl": [
           {
            "marker": {
             "colorbar": {
              "outlinewidth": 0,
              "ticks": ""
             }
            },
            "type": "scattergl"
           }
          ],
          "scattermap": [
           {
            "marker": {
             "colorbar": {
              "outlinewidth": 0,
              "ticks": ""
             }
            },
            "type": "scattermap"
           }
          ],
          "scattermapbox": [
           {
            "marker": {
             "colorbar": {
              "outlinewidth": 0,
              "ticks": ""
             }
            },
            "type": "scattermapbox"
           }
          ],
          "scatterpolar": [
           {
            "marker": {
             "colorbar": {
              "outlinewidth": 0,
              "ticks": ""
             }
            },
            "type": "scatterpolar"
           }
          ],
          "scatterpolargl": [
           {
            "marker": {
             "colorbar": {
              "outlinewidth": 0,
              "ticks": ""
             }
            },
            "type": "scatterpolargl"
           }
          ],
          "scatterternary": [
           {
            "marker": {
             "colorbar": {
              "outlinewidth": 0,
              "ticks": ""
             }
            },
            "type": "scatterternary"
           }
          ],
          "surface": [
           {
            "colorbar": {
             "outlinewidth": 0,
             "ticks": ""
            },
            "colorscale": [
             [
              0,
              "#0d0887"
             ],
             [
              0.1111111111111111,
              "#46039f"
             ],
             [
              0.2222222222222222,
              "#7201a8"
             ],
             [
              0.3333333333333333,
              "#9c179e"
             ],
             [
              0.4444444444444444,
              "#bd3786"
             ],
             [
              0.5555555555555556,
              "#d8576b"
             ],
             [
              0.6666666666666666,
              "#ed7953"
             ],
             [
              0.7777777777777778,
              "#fb9f3a"
             ],
             [
              0.8888888888888888,
              "#fdca26"
             ],
             [
              1,
              "#f0f921"
             ]
            ],
            "type": "surface"
           }
          ],
          "table": [
           {
            "cells": {
             "fill": {
              "color": "#EBF0F8"
             },
             "line": {
              "color": "white"
             }
            },
            "header": {
             "fill": {
              "color": "#C8D4E3"
             },
             "line": {
              "color": "white"
             }
            },
            "type": "table"
           }
          ]
         },
         "layout": {
          "annotationdefaults": {
           "arrowcolor": "#2a3f5f",
           "arrowhead": 0,
           "arrowwidth": 1
          },
          "autotypenumbers": "strict",
          "coloraxis": {
           "colorbar": {
            "outlinewidth": 0,
            "ticks": ""
           }
          },
          "colorscale": {
           "diverging": [
            [
             0,
             "#8e0152"
            ],
            [
             0.1,
             "#c51b7d"
            ],
            [
             0.2,
             "#de77ae"
            ],
            [
             0.3,
             "#f1b6da"
            ],
            [
             0.4,
             "#fde0ef"
            ],
            [
             0.5,
             "#f7f7f7"
            ],
            [
             0.6,
             "#e6f5d0"
            ],
            [
             0.7,
             "#b8e186"
            ],
            [
             0.8,
             "#7fbc41"
            ],
            [
             0.9,
             "#4d9221"
            ],
            [
             1,
             "#276419"
            ]
           ],
           "sequential": [
            [
             0,
             "#0d0887"
            ],
            [
             0.1111111111111111,
             "#46039f"
            ],
            [
             0.2222222222222222,
             "#7201a8"
            ],
            [
             0.3333333333333333,
             "#9c179e"
            ],
            [
             0.4444444444444444,
             "#bd3786"
            ],
            [
             0.5555555555555556,
             "#d8576b"
            ],
            [
             0.6666666666666666,
             "#ed7953"
            ],
            [
             0.7777777777777778,
             "#fb9f3a"
            ],
            [
             0.8888888888888888,
             "#fdca26"
            ],
            [
             1,
             "#f0f921"
            ]
           ],
           "sequentialminus": [
            [
             0,
             "#0d0887"
            ],
            [
             0.1111111111111111,
             "#46039f"
            ],
            [
             0.2222222222222222,
             "#7201a8"
            ],
            [
             0.3333333333333333,
             "#9c179e"
            ],
            [
             0.4444444444444444,
             "#bd3786"
            ],
            [
             0.5555555555555556,
             "#d8576b"
            ],
            [
             0.6666666666666666,
             "#ed7953"
            ],
            [
             0.7777777777777778,
             "#fb9f3a"
            ],
            [
             0.8888888888888888,
             "#fdca26"
            ],
            [
             1,
             "#f0f921"
            ]
           ]
          },
          "colorway": [
           "#636efa",
           "#EF553B",
           "#00cc96",
           "#ab63fa",
           "#FFA15A",
           "#19d3f3",
           "#FF6692",
           "#B6E880",
           "#FF97FF",
           "#FECB52"
          ],
          "font": {
           "color": "#2a3f5f"
          },
          "geo": {
           "bgcolor": "white",
           "lakecolor": "white",
           "landcolor": "#E5ECF6",
           "showlakes": true,
           "showland": true,
           "subunitcolor": "white"
          },
          "hoverlabel": {
           "align": "left"
          },
          "hovermode": "closest",
          "mapbox": {
           "style": "light"
          },
          "paper_bgcolor": "white",
          "plot_bgcolor": "#E5ECF6",
          "polar": {
           "angularaxis": {
            "gridcolor": "white",
            "linecolor": "white",
            "ticks": ""
           },
           "bgcolor": "#E5ECF6",
           "radialaxis": {
            "gridcolor": "white",
            "linecolor": "white",
            "ticks": ""
           }
          },
          "scene": {
           "xaxis": {
            "backgroundcolor": "#E5ECF6",
            "gridcolor": "white",
            "gridwidth": 2,
            "linecolor": "white",
            "showbackground": true,
            "ticks": "",
            "zerolinecolor": "white"
           },
           "yaxis": {
            "backgroundcolor": "#E5ECF6",
            "gridcolor": "white",
            "gridwidth": 2,
            "linecolor": "white",
            "showbackground": true,
            "ticks": "",
            "zerolinecolor": "white"
           },
           "zaxis": {
            "backgroundcolor": "#E5ECF6",
            "gridcolor": "white",
            "gridwidth": 2,
            "linecolor": "white",
            "showbackground": true,
            "ticks": "",
            "zerolinecolor": "white"
           }
          },
          "shapedefaults": {
           "line": {
            "color": "#2a3f5f"
           }
          },
          "ternary": {
           "aaxis": {
            "gridcolor": "white",
            "linecolor": "white",
            "ticks": ""
           },
           "baxis": {
            "gridcolor": "white",
            "linecolor": "white",
            "ticks": ""
           },
           "bgcolor": "#E5ECF6",
           "caxis": {
            "gridcolor": "white",
            "linecolor": "white",
            "ticks": ""
           }
          },
          "title": {
           "x": 0.05
          },
          "xaxis": {
           "automargin": true,
           "gridcolor": "white",
           "linecolor": "white",
           "ticks": "",
           "title": {
            "standoff": 15
           },
           "zerolinecolor": "white",
           "zerolinewidth": 2
          },
          "yaxis": {
           "automargin": true,
           "gridcolor": "white",
           "linecolor": "white",
           "ticks": "",
           "title": {
            "standoff": 15
           },
           "zerolinecolor": "white",
           "zerolinewidth": 2
          }
         }
        },
        "title": {
         "text": "Population vs GDP"
        },
        "xaxis": {
         "anchor": "y",
         "domain": [
          0,
          1
         ],
         "title": {
          "text": "gdp"
         }
        },
        "yaxis": {
         "anchor": "x",
         "domain": [
          0,
          1
         ],
         "title": {
          "text": "population"
         }
        }
       }
      }
     },
     "metadata": {},
     "output_type": "display_data"
    }
   ],
   "source": [
    "fig = px.scatter(df, x=\"gdp\", y=\"population\", size=\"population\", \n",
    "                 color=\"country\", title=\"Population vs GDP\")\n",
    "fig.show()"
   ]
  },
  {
   "cell_type": "code",
   "execution_count": null,
   "metadata": {},
   "outputs": [
    {
     "data": {
      "application/vnd.plotly.v1+json": {
       "config": {
        "plotlyServerURL": "https://plot.ly"
       },
       "data": [
        {
         "hovertemplate": "country=%{x}<br>population=%{y}<extra></extra>",
         "legendgroup": "",
         "marker": {
          "color": "#636efa",
          "pattern": {
           "shape": ""
          }
         },
         "name": "",
         "orientation": "v",
         "showlegend": false,
         "textposition": "auto",
         "type": "bar",
         "x": [
          "US",
          "China",
          "Japan",
          "Germany",
          "UK"
         ],
         "xaxis": "x",
         "y": {
          "bdata": "gFboEwCxEVbgGoAHQCT2BPgQFgQ=",
          "dtype": "i4"
         },
         "yaxis": "y"
        }
       ],
       "layout": {
        "barmode": "relative",
        "legend": {
         "tracegroupgap": 0
        },
        "template": {
         "data": {
          "bar": [
           {
            "error_x": {
             "color": "#2a3f5f"
            },
            "error_y": {
             "color": "#2a3f5f"
            },
            "marker": {
             "line": {
              "color": "#E5ECF6",
              "width": 0.5
             },
             "pattern": {
              "fillmode": "overlay",
              "size": 10,
              "solidity": 0.2
             }
            },
            "type": "bar"
           }
          ],
          "barpolar": [
           {
            "marker": {
             "line": {
              "color": "#E5ECF6",
              "width": 0.5
             },
             "pattern": {
              "fillmode": "overlay",
              "size": 10,
              "solidity": 0.2
             }
            },
            "type": "barpolar"
           }
          ],
          "carpet": [
           {
            "aaxis": {
             "endlinecolor": "#2a3f5f",
             "gridcolor": "white",
             "linecolor": "white",
             "minorgridcolor": "white",
             "startlinecolor": "#2a3f5f"
            },
            "baxis": {
             "endlinecolor": "#2a3f5f",
             "gridcolor": "white",
             "linecolor": "white",
             "minorgridcolor": "white",
             "startlinecolor": "#2a3f5f"
            },
            "type": "carpet"
           }
          ],
          "choropleth": [
           {
            "colorbar": {
             "outlinewidth": 0,
             "ticks": ""
            },
            "type": "choropleth"
           }
          ],
          "contour": [
           {
            "colorbar": {
             "outlinewidth": 0,
             "ticks": ""
            },
            "colorscale": [
             [
              0,
              "#0d0887"
             ],
             [
              0.1111111111111111,
              "#46039f"
             ],
             [
              0.2222222222222222,
              "#7201a8"
             ],
             [
              0.3333333333333333,
              "#9c179e"
             ],
             [
              0.4444444444444444,
              "#bd3786"
             ],
             [
              0.5555555555555556,
              "#d8576b"
             ],
             [
              0.6666666666666666,
              "#ed7953"
             ],
             [
              0.7777777777777778,
              "#fb9f3a"
             ],
             [
              0.8888888888888888,
              "#fdca26"
             ],
             [
              1,
              "#f0f921"
             ]
            ],
            "type": "contour"
           }
          ],
          "contourcarpet": [
           {
            "colorbar": {
             "outlinewidth": 0,
             "ticks": ""
            },
            "type": "contourcarpet"
           }
          ],
          "heatmap": [
           {
            "colorbar": {
             "outlinewidth": 0,
             "ticks": ""
            },
            "colorscale": [
             [
              0,
              "#0d0887"
             ],
             [
              0.1111111111111111,
              "#46039f"
             ],
             [
              0.2222222222222222,
              "#7201a8"
             ],
             [
              0.3333333333333333,
              "#9c179e"
             ],
             [
              0.4444444444444444,
              "#bd3786"
             ],
             [
              0.5555555555555556,
              "#d8576b"
             ],
             [
              0.6666666666666666,
              "#ed7953"
             ],
             [
              0.7777777777777778,
              "#fb9f3a"
             ],
             [
              0.8888888888888888,
              "#fdca26"
             ],
             [
              1,
              "#f0f921"
             ]
            ],
            "type": "heatmap"
           }
          ],
          "histogram": [
           {
            "marker": {
             "pattern": {
              "fillmode": "overlay",
              "size": 10,
              "solidity": 0.2
             }
            },
            "type": "histogram"
           }
          ],
          "histogram2d": [
           {
            "colorbar": {
             "outlinewidth": 0,
             "ticks": ""
            },
            "colorscale": [
             [
              0,
              "#0d0887"
             ],
             [
              0.1111111111111111,
              "#46039f"
             ],
             [
              0.2222222222222222,
              "#7201a8"
             ],
             [
              0.3333333333333333,
              "#9c179e"
             ],
             [
              0.4444444444444444,
              "#bd3786"
             ],
             [
              0.5555555555555556,
              "#d8576b"
             ],
             [
              0.6666666666666666,
              "#ed7953"
             ],
             [
              0.7777777777777778,
              "#fb9f3a"
             ],
             [
              0.8888888888888888,
              "#fdca26"
             ],
             [
              1,
              "#f0f921"
             ]
            ],
            "type": "histogram2d"
           }
          ],
          "histogram2dcontour": [
           {
            "colorbar": {
             "outlinewidth": 0,
             "ticks": ""
            },
            "colorscale": [
             [
              0,
              "#0d0887"
             ],
             [
              0.1111111111111111,
              "#46039f"
             ],
             [
              0.2222222222222222,
              "#7201a8"
             ],
             [
              0.3333333333333333,
              "#9c179e"
             ],
             [
              0.4444444444444444,
              "#bd3786"
             ],
             [
              0.5555555555555556,
              "#d8576b"
             ],
             [
              0.6666666666666666,
              "#ed7953"
             ],
             [
              0.7777777777777778,
              "#fb9f3a"
             ],
             [
              0.8888888888888888,
              "#fdca26"
             ],
             [
              1,
              "#f0f921"
             ]
            ],
            "type": "histogram2dcontour"
           }
          ],
          "mesh3d": [
           {
            "colorbar": {
             "outlinewidth": 0,
             "ticks": ""
            },
            "type": "mesh3d"
           }
          ],
          "parcoords": [
           {
            "line": {
             "colorbar": {
              "outlinewidth": 0,
              "ticks": ""
             }
            },
            "type": "parcoords"
           }
          ],
          "pie": [
           {
            "automargin": true,
            "type": "pie"
           }
          ],
          "scatter": [
           {
            "fillpattern": {
             "fillmode": "overlay",
             "size": 10,
             "solidity": 0.2
            },
            "type": "scatter"
           }
          ],
          "scatter3d": [
           {
            "line": {
             "colorbar": {
              "outlinewidth": 0,
              "ticks": ""
             }
            },
            "marker": {
             "colorbar": {
              "outlinewidth": 0,
              "ticks": ""
             }
            },
            "type": "scatter3d"
           }
          ],
          "scattercarpet": [
           {
            "marker": {
             "colorbar": {
              "outlinewidth": 0,
              "ticks": ""
             }
            },
            "type": "scattercarpet"
           }
          ],
          "scattergeo": [
           {
            "marker": {
             "colorbar": {
              "outlinewidth": 0,
              "ticks": ""
             }
            },
            "type": "scattergeo"
           }
          ],
          "scattergl": [
           {
            "marker": {
             "colorbar": {
              "outlinewidth": 0,
              "ticks": ""
             }
            },
            "type": "scattergl"
           }
          ],
          "scattermap": [
           {
            "marker": {
             "colorbar": {
              "outlinewidth": 0,
              "ticks": ""
             }
            },
            "type": "scattermap"
           }
          ],
          "scattermapbox": [
           {
            "marker": {
             "colorbar": {
              "outlinewidth": 0,
              "ticks": ""
             }
            },
            "type": "scattermapbox"
           }
          ],
          "scatterpolar": [
           {
            "marker": {
             "colorbar": {
              "outlinewidth": 0,
              "ticks": ""
             }
            },
            "type": "scatterpolar"
           }
          ],
          "scatterpolargl": [
           {
            "marker": {
             "colorbar": {
              "outlinewidth": 0,
              "ticks": ""
             }
            },
            "type": "scatterpolargl"
           }
          ],
          "scatterternary": [
           {
            "marker": {
             "colorbar": {
              "outlinewidth": 0,
              "ticks": ""
             }
            },
            "type": "scatterternary"
           }
          ],
          "surface": [
           {
            "colorbar": {
             "outlinewidth": 0,
             "ticks": ""
            },
            "colorscale": [
             [
              0,
              "#0d0887"
             ],
             [
              0.1111111111111111,
              "#46039f"
             ],
             [
              0.2222222222222222,
              "#7201a8"
             ],
             [
              0.3333333333333333,
              "#9c179e"
             ],
             [
              0.4444444444444444,
              "#bd3786"
             ],
             [
              0.5555555555555556,
              "#d8576b"
             ],
             [
              0.6666666666666666,
              "#ed7953"
             ],
             [
              0.7777777777777778,
              "#fb9f3a"
             ],
             [
              0.8888888888888888,
              "#fdca26"
             ],
             [
              1,
              "#f0f921"
             ]
            ],
            "type": "surface"
           }
          ],
          "table": [
           {
            "cells": {
             "fill": {
              "color": "#EBF0F8"
             },
             "line": {
              "color": "white"
             }
            },
            "header": {
             "fill": {
              "color": "#C8D4E3"
             },
             "line": {
              "color": "white"
             }
            },
            "type": "table"
           }
          ]
         },
         "layout": {
          "annotationdefaults": {
           "arrowcolor": "#2a3f5f",
           "arrowhead": 0,
           "arrowwidth": 1
          },
          "autotypenumbers": "strict",
          "coloraxis": {
           "colorbar": {
            "outlinewidth": 0,
            "ticks": ""
           }
          },
          "colorscale": {
           "diverging": [
            [
             0,
             "#8e0152"
            ],
            [
             0.1,
             "#c51b7d"
            ],
            [
             0.2,
             "#de77ae"
            ],
            [
             0.3,
             "#f1b6da"
            ],
            [
             0.4,
             "#fde0ef"
            ],
            [
             0.5,
             "#f7f7f7"
            ],
            [
             0.6,
             "#e6f5d0"
            ],
            [
             0.7,
             "#b8e186"
            ],
            [
             0.8,
             "#7fbc41"
            ],
            [
             0.9,
             "#4d9221"
            ],
            [
             1,
             "#276419"
            ]
           ],
           "sequential": [
            [
             0,
             "#0d0887"
            ],
            [
             0.1111111111111111,
             "#46039f"
            ],
            [
             0.2222222222222222,
             "#7201a8"
            ],
            [
             0.3333333333333333,
             "#9c179e"
            ],
            [
             0.4444444444444444,
             "#bd3786"
            ],
            [
             0.5555555555555556,
             "#d8576b"
            ],
            [
             0.6666666666666666,
             "#ed7953"
            ],
            [
             0.7777777777777778,
             "#fb9f3a"
            ],
            [
             0.8888888888888888,
             "#fdca26"
            ],
            [
             1,
             "#f0f921"
            ]
           ],
           "sequentialminus": [
            [
             0,
             "#0d0887"
            ],
            [
             0.1111111111111111,
             "#46039f"
            ],
            [
             0.2222222222222222,
             "#7201a8"
            ],
            [
             0.3333333333333333,
             "#9c179e"
            ],
            [
             0.4444444444444444,
             "#bd3786"
            ],
            [
             0.5555555555555556,
             "#d8576b"
            ],
            [
             0.6666666666666666,
             "#ed7953"
            ],
            [
             0.7777777777777778,
             "#fb9f3a"
            ],
            [
             0.8888888888888888,
             "#fdca26"
            ],
            [
             1,
             "#f0f921"
            ]
           ]
          },
          "colorway": [
           "#636efa",
           "#EF553B",
           "#00cc96",
           "#ab63fa",
           "#FFA15A",
           "#19d3f3",
           "#FF6692",
           "#B6E880",
           "#FF97FF",
           "#FECB52"
          ],
          "font": {
           "color": "#2a3f5f"
          },
          "geo": {
           "bgcolor": "white",
           "lakecolor": "white",
           "landcolor": "#E5ECF6",
           "showlakes": true,
           "showland": true,
           "subunitcolor": "white"
          },
          "hoverlabel": {
           "align": "left"
          },
          "hovermode": "closest",
          "mapbox": {
           "style": "light"
          },
          "paper_bgcolor": "white",
          "plot_bgcolor": "#E5ECF6",
          "polar": {
           "angularaxis": {
            "gridcolor": "white",
            "linecolor": "white",
            "ticks": ""
           },
           "bgcolor": "#E5ECF6",
           "radialaxis": {
            "gridcolor": "white",
            "linecolor": "white",
            "ticks": ""
           }
          },
          "scene": {
           "xaxis": {
            "backgroundcolor": "#E5ECF6",
            "gridcolor": "white",
            "gridwidth": 2,
            "linecolor": "white",
            "showbackground": true,
            "ticks": "",
            "zerolinecolor": "white"
           },
           "yaxis": {
            "backgroundcolor": "#E5ECF6",
            "gridcolor": "white",
            "gridwidth": 2,
            "linecolor": "white",
            "showbackground": true,
            "ticks": "",
            "zerolinecolor": "white"
           },
           "zaxis": {
            "backgroundcolor": "#E5ECF6",
            "gridcolor": "white",
            "gridwidth": 2,
            "linecolor": "white",
            "showbackground": true,
            "ticks": "",
            "zerolinecolor": "white"
           }
          },
          "shapedefaults": {
           "line": {
            "color": "#2a3f5f"
           }
          },
          "ternary": {
           "aaxis": {
            "gridcolor": "white",
            "linecolor": "white",
            "ticks": ""
           },
           "baxis": {
            "gridcolor": "white",
            "linecolor": "white",
            "ticks": ""
           },
           "bgcolor": "#E5ECF6",
           "caxis": {
            "gridcolor": "white",
            "linecolor": "white",
            "ticks": ""
           }
          },
          "title": {
           "x": 0.05
          },
          "xaxis": {
           "automargin": true,
           "gridcolor": "white",
           "linecolor": "white",
           "ticks": "",
           "title": {
            "standoff": 15
           },
           "zerolinecolor": "white",
           "zerolinewidth": 2
          },
          "yaxis": {
           "automargin": true,
           "gridcolor": "white",
           "linecolor": "white",
           "ticks": "",
           "title": {
            "standoff": 15
           },
           "zerolinecolor": "white",
           "zerolinewidth": 2
          }
         }
        },
        "title": {
         "text": "Population by Country"
        },
        "xaxis": {
         "anchor": "y",
         "domain": [
          0,
          1
         ],
         "title": {
          "text": "country"
         }
        },
        "yaxis": {
         "anchor": "x",
         "domain": [
          0,
          1
         ],
         "title": {
          "text": "population"
         }
        }
       }
      }
     },
     "metadata": {},
     "output_type": "display_data"
    }
   ],
   "source": [
    "fig = px.bar(df, x=\"country\", y=\"population\", title=\"Population by Country\")\n",
    "fig.show()"
   ]
  },
  {
   "cell_type": "code",
   "execution_count": null,
   "metadata": {},
   "outputs": [
    {
     "data": {
      "application/vnd.plotly.v1+json": {
       "config": {
        "plotlyServerURL": "https://plot.ly"
       },
       "data": [
        {
         "bingroup": "x",
         "hovertemplate": "population=%{x}<br>count=%{y}<extra></extra>",
         "legendgroup": "",
         "marker": {
          "color": "#636efa",
          "pattern": {
           "shape": ""
          }
         },
         "name": "",
         "orientation": "v",
         "showlegend": false,
         "type": "histogram",
         "x": {
          "bdata": "gFboEwCxEVbgGoAHQCT2BPgQFgQ=",
          "dtype": "i4"
         },
         "xaxis": "x",
         "yaxis": "y"
        }
       ],
       "layout": {
        "barmode": "relative",
        "legend": {
         "tracegroupgap": 0
        },
        "template": {
         "data": {
          "bar": [
           {
            "error_x": {
             "color": "#2a3f5f"
            },
            "error_y": {
             "color": "#2a3f5f"
            },
            "marker": {
             "line": {
              "color": "#E5ECF6",
              "width": 0.5
             },
             "pattern": {
              "fillmode": "overlay",
              "size": 10,
              "solidity": 0.2
             }
            },
            "type": "bar"
           }
          ],
          "barpolar": [
           {
            "marker": {
             "line": {
              "color": "#E5ECF6",
              "width": 0.5
             },
             "pattern": {
              "fillmode": "overlay",
              "size": 10,
              "solidity": 0.2
             }
            },
            "type": "barpolar"
           }
          ],
          "carpet": [
           {
            "aaxis": {
             "endlinecolor": "#2a3f5f",
             "gridcolor": "white",
             "linecolor": "white",
             "minorgridcolor": "white",
             "startlinecolor": "#2a3f5f"
            },
            "baxis": {
             "endlinecolor": "#2a3f5f",
             "gridcolor": "white",
             "linecolor": "white",
             "minorgridcolor": "white",
             "startlinecolor": "#2a3f5f"
            },
            "type": "carpet"
           }
          ],
          "choropleth": [
           {
            "colorbar": {
             "outlinewidth": 0,
             "ticks": ""
            },
            "type": "choropleth"
           }
          ],
          "contour": [
           {
            "colorbar": {
             "outlinewidth": 0,
             "ticks": ""
            },
            "colorscale": [
             [
              0,
              "#0d0887"
             ],
             [
              0.1111111111111111,
              "#46039f"
             ],
             [
              0.2222222222222222,
              "#7201a8"
             ],
             [
              0.3333333333333333,
              "#9c179e"
             ],
             [
              0.4444444444444444,
              "#bd3786"
             ],
             [
              0.5555555555555556,
              "#d8576b"
             ],
             [
              0.6666666666666666,
              "#ed7953"
             ],
             [
              0.7777777777777778,
              "#fb9f3a"
             ],
             [
              0.8888888888888888,
              "#fdca26"
             ],
             [
              1,
              "#f0f921"
             ]
            ],
            "type": "contour"
           }
          ],
          "contourcarpet": [
           {
            "colorbar": {
             "outlinewidth": 0,
             "ticks": ""
            },
            "type": "contourcarpet"
           }
          ],
          "heatmap": [
           {
            "colorbar": {
             "outlinewidth": 0,
             "ticks": ""
            },
            "colorscale": [
             [
              0,
              "#0d0887"
             ],
             [
              0.1111111111111111,
              "#46039f"
             ],
             [
              0.2222222222222222,
              "#7201a8"
             ],
             [
              0.3333333333333333,
              "#9c179e"
             ],
             [
              0.4444444444444444,
              "#bd3786"
             ],
             [
              0.5555555555555556,
              "#d8576b"
             ],
             [
              0.6666666666666666,
              "#ed7953"
             ],
             [
              0.7777777777777778,
              "#fb9f3a"
             ],
             [
              0.8888888888888888,
              "#fdca26"
             ],
             [
              1,
              "#f0f921"
             ]
            ],
            "type": "heatmap"
           }
          ],
          "histogram": [
           {
            "marker": {
             "pattern": {
              "fillmode": "overlay",
              "size": 10,
              "solidity": 0.2
             }
            },
            "type": "histogram"
           }
          ],
          "histogram2d": [
           {
            "colorbar": {
             "outlinewidth": 0,
             "ticks": ""
            },
            "colorscale": [
             [
              0,
              "#0d0887"
             ],
             [
              0.1111111111111111,
              "#46039f"
             ],
             [
              0.2222222222222222,
              "#7201a8"
             ],
             [
              0.3333333333333333,
              "#9c179e"
             ],
             [
              0.4444444444444444,
              "#bd3786"
             ],
             [
              0.5555555555555556,
              "#d8576b"
             ],
             [
              0.6666666666666666,
              "#ed7953"
             ],
             [
              0.7777777777777778,
              "#fb9f3a"
             ],
             [
              0.8888888888888888,
              "#fdca26"
             ],
             [
              1,
              "#f0f921"
             ]
            ],
            "type": "histogram2d"
           }
          ],
          "histogram2dcontour": [
           {
            "colorbar": {
             "outlinewidth": 0,
             "ticks": ""
            },
            "colorscale": [
             [
              0,
              "#0d0887"
             ],
             [
              0.1111111111111111,
              "#46039f"
             ],
             [
              0.2222222222222222,
              "#7201a8"
             ],
             [
              0.3333333333333333,
              "#9c179e"
             ],
             [
              0.4444444444444444,
              "#bd3786"
             ],
             [
              0.5555555555555556,
              "#d8576b"
             ],
             [
              0.6666666666666666,
              "#ed7953"
             ],
             [
              0.7777777777777778,
              "#fb9f3a"
             ],
             [
              0.8888888888888888,
              "#fdca26"
             ],
             [
              1,
              "#f0f921"
             ]
            ],
            "type": "histogram2dcontour"
           }
          ],
          "mesh3d": [
           {
            "colorbar": {
             "outlinewidth": 0,
             "ticks": ""
            },
            "type": "mesh3d"
           }
          ],
          "parcoords": [
           {
            "line": {
             "colorbar": {
              "outlinewidth": 0,
              "ticks": ""
             }
            },
            "type": "parcoords"
           }
          ],
          "pie": [
           {
            "automargin": true,
            "type": "pie"
           }
          ],
          "scatter": [
           {
            "fillpattern": {
             "fillmode": "overlay",
             "size": 10,
             "solidity": 0.2
            },
            "type": "scatter"
           }
          ],
          "scatter3d": [
           {
            "line": {
             "colorbar": {
              "outlinewidth": 0,
              "ticks": ""
             }
            },
            "marker": {
             "colorbar": {
              "outlinewidth": 0,
              "ticks": ""
             }
            },
            "type": "scatter3d"
           }
          ],
          "scattercarpet": [
           {
            "marker": {
             "colorbar": {
              "outlinewidth": 0,
              "ticks": ""
             }
            },
            "type": "scattercarpet"
           }
          ],
          "scattergeo": [
           {
            "marker": {
             "colorbar": {
              "outlinewidth": 0,
              "ticks": ""
             }
            },
            "type": "scattergeo"
           }
          ],
          "scattergl": [
           {
            "marker": {
             "colorbar": {
              "outlinewidth": 0,
              "ticks": ""
             }
            },
            "type": "scattergl"
           }
          ],
          "scattermap": [
           {
            "marker": {
             "colorbar": {
              "outlinewidth": 0,
              "ticks": ""
             }
            },
            "type": "scattermap"
           }
          ],
          "scattermapbox": [
           {
            "marker": {
             "colorbar": {
              "outlinewidth": 0,
              "ticks": ""
             }
            },
            "type": "scattermapbox"
           }
          ],
          "scatterpolar": [
           {
            "marker": {
             "colorbar": {
              "outlinewidth": 0,
              "ticks": ""
             }
            },
            "type": "scatterpolar"
           }
          ],
          "scatterpolargl": [
           {
            "marker": {
             "colorbar": {
              "outlinewidth": 0,
              "ticks": ""
             }
            },
            "type": "scatterpolargl"
           }
          ],
          "scatterternary": [
           {
            "marker": {
             "colorbar": {
              "outlinewidth": 0,
              "ticks": ""
             }
            },
            "type": "scatterternary"
           }
          ],
          "surface": [
           {
            "colorbar": {
             "outlinewidth": 0,
             "ticks": ""
            },
            "colorscale": [
             [
              0,
              "#0d0887"
             ],
             [
              0.1111111111111111,
              "#46039f"
             ],
             [
              0.2222222222222222,
              "#7201a8"
             ],
             [
              0.3333333333333333,
              "#9c179e"
             ],
             [
              0.4444444444444444,
              "#bd3786"
             ],
             [
              0.5555555555555556,
              "#d8576b"
             ],
             [
              0.6666666666666666,
              "#ed7953"
             ],
             [
              0.7777777777777778,
              "#fb9f3a"
             ],
             [
              0.8888888888888888,
              "#fdca26"
             ],
             [
              1,
              "#f0f921"
             ]
            ],
            "type": "surface"
           }
          ],
          "table": [
           {
            "cells": {
             "fill": {
              "color": "#EBF0F8"
             },
             "line": {
              "color": "white"
             }
            },
            "header": {
             "fill": {
              "color": "#C8D4E3"
             },
             "line": {
              "color": "white"
             }
            },
            "type": "table"
           }
          ]
         },
         "layout": {
          "annotationdefaults": {
           "arrowcolor": "#2a3f5f",
           "arrowhead": 0,
           "arrowwidth": 1
          },
          "autotypenumbers": "strict",
          "coloraxis": {
           "colorbar": {
            "outlinewidth": 0,
            "ticks": ""
           }
          },
          "colorscale": {
           "diverging": [
            [
             0,
             "#8e0152"
            ],
            [
             0.1,
             "#c51b7d"
            ],
            [
             0.2,
             "#de77ae"
            ],
            [
             0.3,
             "#f1b6da"
            ],
            [
             0.4,
             "#fde0ef"
            ],
            [
             0.5,
             "#f7f7f7"
            ],
            [
             0.6,
             "#e6f5d0"
            ],
            [
             0.7,
             "#b8e186"
            ],
            [
             0.8,
             "#7fbc41"
            ],
            [
             0.9,
             "#4d9221"
            ],
            [
             1,
             "#276419"
            ]
           ],
           "sequential": [
            [
             0,
             "#0d0887"
            ],
            [
             0.1111111111111111,
             "#46039f"
            ],
            [
             0.2222222222222222,
             "#7201a8"
            ],
            [
             0.3333333333333333,
             "#9c179e"
            ],
            [
             0.4444444444444444,
             "#bd3786"
            ],
            [
             0.5555555555555556,
             "#d8576b"
            ],
            [
             0.6666666666666666,
             "#ed7953"
            ],
            [
             0.7777777777777778,
             "#fb9f3a"
            ],
            [
             0.8888888888888888,
             "#fdca26"
            ],
            [
             1,
             "#f0f921"
            ]
           ],
           "sequentialminus": [
            [
             0,
             "#0d0887"
            ],
            [
             0.1111111111111111,
             "#46039f"
            ],
            [
             0.2222222222222222,
             "#7201a8"
            ],
            [
             0.3333333333333333,
             "#9c179e"
            ],
            [
             0.4444444444444444,
             "#bd3786"
            ],
            [
             0.5555555555555556,
             "#d8576b"
            ],
            [
             0.6666666666666666,
             "#ed7953"
            ],
            [
             0.7777777777777778,
             "#fb9f3a"
            ],
            [
             0.8888888888888888,
             "#fdca26"
            ],
            [
             1,
             "#f0f921"
            ]
           ]
          },
          "colorway": [
           "#636efa",
           "#EF553B",
           "#00cc96",
           "#ab63fa",
           "#FFA15A",
           "#19d3f3",
           "#FF6692",
           "#B6E880",
           "#FF97FF",
           "#FECB52"
          ],
          "font": {
           "color": "#2a3f5f"
          },
          "geo": {
           "bgcolor": "white",
           "lakecolor": "white",
           "landcolor": "#E5ECF6",
           "showlakes": true,
           "showland": true,
           "subunitcolor": "white"
          },
          "hoverlabel": {
           "align": "left"
          },
          "hovermode": "closest",
          "mapbox": {
           "style": "light"
          },
          "paper_bgcolor": "white",
          "plot_bgcolor": "#E5ECF6",
          "polar": {
           "angularaxis": {
            "gridcolor": "white",
            "linecolor": "white",
            "ticks": ""
           },
           "bgcolor": "#E5ECF6",
           "radialaxis": {
            "gridcolor": "white",
            "linecolor": "white",
            "ticks": ""
           }
          },
          "scene": {
           "xaxis": {
            "backgroundcolor": "#E5ECF6",
            "gridcolor": "white",
            "gridwidth": 2,
            "linecolor": "white",
            "showbackground": true,
            "ticks": "",
            "zerolinecolor": "white"
           },
           "yaxis": {
            "backgroundcolor": "#E5ECF6",
            "gridcolor": "white",
            "gridwidth": 2,
            "linecolor": "white",
            "showbackground": true,
            "ticks": "",
            "zerolinecolor": "white"
           },
           "zaxis": {
            "backgroundcolor": "#E5ECF6",
            "gridcolor": "white",
            "gridwidth": 2,
            "linecolor": "white",
            "showbackground": true,
            "ticks": "",
            "zerolinecolor": "white"
           }
          },
          "shapedefaults": {
           "line": {
            "color": "#2a3f5f"
           }
          },
          "ternary": {
           "aaxis": {
            "gridcolor": "white",
            "linecolor": "white",
            "ticks": ""
           },
           "baxis": {
            "gridcolor": "white",
            "linecolor": "white",
            "ticks": ""
           },
           "bgcolor": "#E5ECF6",
           "caxis": {
            "gridcolor": "white",
            "linecolor": "white",
            "ticks": ""
           }
          },
          "title": {
           "x": 0.05
          },
          "xaxis": {
           "automargin": true,
           "gridcolor": "white",
           "linecolor": "white",
           "ticks": "",
           "title": {
            "standoff": 15
           },
           "zerolinecolor": "white",
           "zerolinewidth": 2
          },
          "yaxis": {
           "automargin": true,
           "gridcolor": "white",
           "linecolor": "white",
           "ticks": "",
           "title": {
            "standoff": 15
           },
           "zerolinecolor": "white",
           "zerolinewidth": 2
          }
         }
        },
        "title": {
         "text": "Distribution of Population"
        },
        "xaxis": {
         "anchor": "y",
         "domain": [
          0,
          1
         ],
         "title": {
          "text": "population"
         }
        },
        "yaxis": {
         "anchor": "x",
         "domain": [
          0,
          1
         ],
         "title": {
          "text": "count"
         }
        }
       }
      }
     },
     "metadata": {},
     "output_type": "display_data"
    }
   ],
   "source": [
    "fig = px.histogram(df, x=\"population\", title=\"Distribution of Population\")\n",
    "fig.show()"
   ]
  },
  {
   "cell_type": "code",
   "execution_count": null,
   "metadata": {},
   "outputs": [
    {
     "data": {
      "application/vnd.plotly.v1+json": {
       "config": {
        "plotlyServerURL": "https://plot.ly"
       },
       "data": [
        {
         "domain": {
          "x": [
           0,
           1
          ],
          "y": [
           0,
           1
          ]
         },
         "hovertemplate": "country=%{label}<br>gdp=%{value}<extra></extra>",
         "labels": [
          "US",
          "China",
          "Japan",
          "Germany",
          "UK"
         ],
         "legendgroup": "",
         "name": "",
         "showlegend": true,
         "type": "pie",
         "values": {
          "bdata": "zczMzMxMOUAzMzMzM7MxQGZmZmZmZhRAAAAAAAAAEEDNzMzMzMwIQA==",
          "dtype": "f8"
         }
        }
       ],
       "layout": {
        "legend": {
         "tracegroupgap": 0
        },
        "template": {
         "data": {
          "bar": [
           {
            "error_x": {
             "color": "#2a3f5f"
            },
            "error_y": {
             "color": "#2a3f5f"
            },
            "marker": {
             "line": {
              "color": "#E5ECF6",
              "width": 0.5
             },
             "pattern": {
              "fillmode": "overlay",
              "size": 10,
              "solidity": 0.2
             }
            },
            "type": "bar"
           }
          ],
          "barpolar": [
           {
            "marker": {
             "line": {
              "color": "#E5ECF6",
              "width": 0.5
             },
             "pattern": {
              "fillmode": "overlay",
              "size": 10,
              "solidity": 0.2
             }
            },
            "type": "barpolar"
           }
          ],
          "carpet": [
           {
            "aaxis": {
             "endlinecolor": "#2a3f5f",
             "gridcolor": "white",
             "linecolor": "white",
             "minorgridcolor": "white",
             "startlinecolor": "#2a3f5f"
            },
            "baxis": {
             "endlinecolor": "#2a3f5f",
             "gridcolor": "white",
             "linecolor": "white",
             "minorgridcolor": "white",
             "startlinecolor": "#2a3f5f"
            },
            "type": "carpet"
           }
          ],
          "choropleth": [
           {
            "colorbar": {
             "outlinewidth": 0,
             "ticks": ""
            },
            "type": "choropleth"
           }
          ],
          "contour": [
           {
            "colorbar": {
             "outlinewidth": 0,
             "ticks": ""
            },
            "colorscale": [
             [
              0,
              "#0d0887"
             ],
             [
              0.1111111111111111,
              "#46039f"
             ],
             [
              0.2222222222222222,
              "#7201a8"
             ],
             [
              0.3333333333333333,
              "#9c179e"
             ],
             [
              0.4444444444444444,
              "#bd3786"
             ],
             [
              0.5555555555555556,
              "#d8576b"
             ],
             [
              0.6666666666666666,
              "#ed7953"
             ],
             [
              0.7777777777777778,
              "#fb9f3a"
             ],
             [
              0.8888888888888888,
              "#fdca26"
             ],
             [
              1,
              "#f0f921"
             ]
            ],
            "type": "contour"
           }
          ],
          "contourcarpet": [
           {
            "colorbar": {
             "outlinewidth": 0,
             "ticks": ""
            },
            "type": "contourcarpet"
           }
          ],
          "heatmap": [
           {
            "colorbar": {
             "outlinewidth": 0,
             "ticks": ""
            },
            "colorscale": [
             [
              0,
              "#0d0887"
             ],
             [
              0.1111111111111111,
              "#46039f"
             ],
             [
              0.2222222222222222,
              "#7201a8"
             ],
             [
              0.3333333333333333,
              "#9c179e"
             ],
             [
              0.4444444444444444,
              "#bd3786"
             ],
             [
              0.5555555555555556,
              "#d8576b"
             ],
             [
              0.6666666666666666,
              "#ed7953"
             ],
             [
              0.7777777777777778,
              "#fb9f3a"
             ],
             [
              0.8888888888888888,
              "#fdca26"
             ],
             [
              1,
              "#f0f921"
             ]
            ],
            "type": "heatmap"
           }
          ],
          "histogram": [
           {
            "marker": {
             "pattern": {
              "fillmode": "overlay",
              "size": 10,
              "solidity": 0.2
             }
            },
            "type": "histogram"
           }
          ],
          "histogram2d": [
           {
            "colorbar": {
             "outlinewidth": 0,
             "ticks": ""
            },
            "colorscale": [
             [
              0,
              "#0d0887"
             ],
             [
              0.1111111111111111,
              "#46039f"
             ],
             [
              0.2222222222222222,
              "#7201a8"
             ],
             [
              0.3333333333333333,
              "#9c179e"
             ],
             [
              0.4444444444444444,
              "#bd3786"
             ],
             [
              0.5555555555555556,
              "#d8576b"
             ],
             [
              0.6666666666666666,
              "#ed7953"
             ],
             [
              0.7777777777777778,
              "#fb9f3a"
             ],
             [
              0.8888888888888888,
              "#fdca26"
             ],
             [
              1,
              "#f0f921"
             ]
            ],
            "type": "histogram2d"
           }
          ],
          "histogram2dcontour": [
           {
            "colorbar": {
             "outlinewidth": 0,
             "ticks": ""
            },
            "colorscale": [
             [
              0,
              "#0d0887"
             ],
             [
              0.1111111111111111,
              "#46039f"
             ],
             [
              0.2222222222222222,
              "#7201a8"
             ],
             [
              0.3333333333333333,
              "#9c179e"
             ],
             [
              0.4444444444444444,
              "#bd3786"
             ],
             [
              0.5555555555555556,
              "#d8576b"
             ],
             [
              0.6666666666666666,
              "#ed7953"
             ],
             [
              0.7777777777777778,
              "#fb9f3a"
             ],
             [
              0.8888888888888888,
              "#fdca26"
             ],
             [
              1,
              "#f0f921"
             ]
            ],
            "type": "histogram2dcontour"
           }
          ],
          "mesh3d": [
           {
            "colorbar": {
             "outlinewidth": 0,
             "ticks": ""
            },
            "type": "mesh3d"
           }
          ],
          "parcoords": [
           {
            "line": {
             "colorbar": {
              "outlinewidth": 0,
              "ticks": ""
             }
            },
            "type": "parcoords"
           }
          ],
          "pie": [
           {
            "automargin": true,
            "type": "pie"
           }
          ],
          "scatter": [
           {
            "fillpattern": {
             "fillmode": "overlay",
             "size": 10,
             "solidity": 0.2
            },
            "type": "scatter"
           }
          ],
          "scatter3d": [
           {
            "line": {
             "colorbar": {
              "outlinewidth": 0,
              "ticks": ""
             }
            },
            "marker": {
             "colorbar": {
              "outlinewidth": 0,
              "ticks": ""
             }
            },
            "type": "scatter3d"
           }
          ],
          "scattercarpet": [
           {
            "marker": {
             "colorbar": {
              "outlinewidth": 0,
              "ticks": ""
             }
            },
            "type": "scattercarpet"
           }
          ],
          "scattergeo": [
           {
            "marker": {
             "colorbar": {
              "outlinewidth": 0,
              "ticks": ""
             }
            },
            "type": "scattergeo"
           }
          ],
          "scattergl": [
           {
            "marker": {
             "colorbar": {
              "outlinewidth": 0,
              "ticks": ""
             }
            },
            "type": "scattergl"
           }
          ],
          "scattermap": [
           {
            "marker": {
             "colorbar": {
              "outlinewidth": 0,
              "ticks": ""
             }
            },
            "type": "scattermap"
           }
          ],
          "scattermapbox": [
           {
            "marker": {
             "colorbar": {
              "outlinewidth": 0,
              "ticks": ""
             }
            },
            "type": "scattermapbox"
           }
          ],
          "scatterpolar": [
           {
            "marker": {
             "colorbar": {
              "outlinewidth": 0,
              "ticks": ""
             }
            },
            "type": "scatterpolar"
           }
          ],
          "scatterpolargl": [
           {
            "marker": {
             "colorbar": {
              "outlinewidth": 0,
              "ticks": ""
             }
            },
            "type": "scatterpolargl"
           }
          ],
          "scatterternary": [
           {
            "marker": {
             "colorbar": {
              "outlinewidth": 0,
              "ticks": ""
             }
            },
            "type": "scatterternary"
           }
          ],
          "surface": [
           {
            "colorbar": {
             "outlinewidth": 0,
             "ticks": ""
            },
            "colorscale": [
             [
              0,
              "#0d0887"
             ],
             [
              0.1111111111111111,
              "#46039f"
             ],
             [
              0.2222222222222222,
              "#7201a8"
             ],
             [
              0.3333333333333333,
              "#9c179e"
             ],
             [
              0.4444444444444444,
              "#bd3786"
             ],
             [
              0.5555555555555556,
              "#d8576b"
             ],
             [
              0.6666666666666666,
              "#ed7953"
             ],
             [
              0.7777777777777778,
              "#fb9f3a"
             ],
             [
              0.8888888888888888,
              "#fdca26"
             ],
             [
              1,
              "#f0f921"
             ]
            ],
            "type": "surface"
           }
          ],
          "table": [
           {
            "cells": {
             "fill": {
              "color": "#EBF0F8"
             },
             "line": {
              "color": "white"
             }
            },
            "header": {
             "fill": {
              "color": "#C8D4E3"
             },
             "line": {
              "color": "white"
             }
            },
            "type": "table"
           }
          ]
         },
         "layout": {
          "annotationdefaults": {
           "arrowcolor": "#2a3f5f",
           "arrowhead": 0,
           "arrowwidth": 1
          },
          "autotypenumbers": "strict",
          "coloraxis": {
           "colorbar": {
            "outlinewidth": 0,
            "ticks": ""
           }
          },
          "colorscale": {
           "diverging": [
            [
             0,
             "#8e0152"
            ],
            [
             0.1,
             "#c51b7d"
            ],
            [
             0.2,
             "#de77ae"
            ],
            [
             0.3,
             "#f1b6da"
            ],
            [
             0.4,
             "#fde0ef"
            ],
            [
             0.5,
             "#f7f7f7"
            ],
            [
             0.6,
             "#e6f5d0"
            ],
            [
             0.7,
             "#b8e186"
            ],
            [
             0.8,
             "#7fbc41"
            ],
            [
             0.9,
             "#4d9221"
            ],
            [
             1,
             "#276419"
            ]
           ],
           "sequential": [
            [
             0,
             "#0d0887"
            ],
            [
             0.1111111111111111,
             "#46039f"
            ],
            [
             0.2222222222222222,
             "#7201a8"
            ],
            [
             0.3333333333333333,
             "#9c179e"
            ],
            [
             0.4444444444444444,
             "#bd3786"
            ],
            [
             0.5555555555555556,
             "#d8576b"
            ],
            [
             0.6666666666666666,
             "#ed7953"
            ],
            [
             0.7777777777777778,
             "#fb9f3a"
            ],
            [
             0.8888888888888888,
             "#fdca26"
            ],
            [
             1,
             "#f0f921"
            ]
           ],
           "sequentialminus": [
            [
             0,
             "#0d0887"
            ],
            [
             0.1111111111111111,
             "#46039f"
            ],
            [
             0.2222222222222222,
             "#7201a8"
            ],
            [
             0.3333333333333333,
             "#9c179e"
            ],
            [
             0.4444444444444444,
             "#bd3786"
            ],
            [
             0.5555555555555556,
             "#d8576b"
            ],
            [
             0.6666666666666666,
             "#ed7953"
            ],
            [
             0.7777777777777778,
             "#fb9f3a"
            ],
            [
             0.8888888888888888,
             "#fdca26"
            ],
            [
             1,
             "#f0f921"
            ]
           ]
          },
          "colorway": [
           "#636efa",
           "#EF553B",
           "#00cc96",
           "#ab63fa",
           "#FFA15A",
           "#19d3f3",
           "#FF6692",
           "#B6E880",
           "#FF97FF",
           "#FECB52"
          ],
          "font": {
           "color": "#2a3f5f"
          },
          "geo": {
           "bgcolor": "white",
           "lakecolor": "white",
           "landcolor": "#E5ECF6",
           "showlakes": true,
           "showland": true,
           "subunitcolor": "white"
          },
          "hoverlabel": {
           "align": "left"
          },
          "hovermode": "closest",
          "mapbox": {
           "style": "light"
          },
          "paper_bgcolor": "white",
          "plot_bgcolor": "#E5ECF6",
          "polar": {
           "angularaxis": {
            "gridcolor": "white",
            "linecolor": "white",
            "ticks": ""
           },
           "bgcolor": "#E5ECF6",
           "radialaxis": {
            "gridcolor": "white",
            "linecolor": "white",
            "ticks": ""
           }
          },
          "scene": {
           "xaxis": {
            "backgroundcolor": "#E5ECF6",
            "gridcolor": "white",
            "gridwidth": 2,
            "linecolor": "white",
            "showbackground": true,
            "ticks": "",
            "zerolinecolor": "white"
           },
           "yaxis": {
            "backgroundcolor": "#E5ECF6",
            "gridcolor": "white",
            "gridwidth": 2,
            "linecolor": "white",
            "showbackground": true,
            "ticks": "",
            "zerolinecolor": "white"
           },
           "zaxis": {
            "backgroundcolor": "#E5ECF6",
            "gridcolor": "white",
            "gridwidth": 2,
            "linecolor": "white",
            "showbackground": true,
            "ticks": "",
            "zerolinecolor": "white"
           }
          },
          "shapedefaults": {
           "line": {
            "color": "#2a3f5f"
           }
          },
          "ternary": {
           "aaxis": {
            "gridcolor": "white",
            "linecolor": "white",
            "ticks": ""
           },
           "baxis": {
            "gridcolor": "white",
            "linecolor": "white",
            "ticks": ""
           },
           "bgcolor": "#E5ECF6",
           "caxis": {
            "gridcolor": "white",
            "linecolor": "white",
            "ticks": ""
           }
          },
          "title": {
           "x": 0.05
          },
          "xaxis": {
           "automargin": true,
           "gridcolor": "white",
           "linecolor": "white",
           "ticks": "",
           "title": {
            "standoff": 15
           },
           "zerolinecolor": "white",
           "zerolinewidth": 2
          },
          "yaxis": {
           "automargin": true,
           "gridcolor": "white",
           "linecolor": "white",
           "ticks": "",
           "title": {
            "standoff": 15
           },
           "zerolinecolor": "white",
           "zerolinewidth": 2
          }
         }
        },
        "title": {
         "text": "Share of Global GDP"
        }
       }
      }
     },
     "metadata": {},
     "output_type": "display_data"
    }
   ],
   "source": [
    "fig = px.pie(df, values='gdp', names='country', title=\"Share of Global GDP\")\n",
    "fig.show()"
   ]
  },
  {
   "cell_type": "code",
   "execution_count": null,
   "metadata": {},
   "outputs": [
    {
     "data": {
      "application/vnd.plotly.v1+json": {
       "config": {
        "plotlyServerURL": "https://plot.ly"
       },
       "data": [
        {
         "jitter": 0.3,
         "line": {
          "width": 1
         },
         "meanline": {
          "visible": true
         },
         "name": "Population Distribution",
         "points": "all",
         "type": "violin",
         "x": [
          "US",
          "China",
          "Japan",
          "Germany",
          "UK"
         ],
         "y": {
          "bdata": "gFboEwCxEVbgGoAHQCT2BPgQFgQ=",
          "dtype": "i4"
         }
        }
       ],
       "layout": {
        "template": {
         "data": {
          "bar": [
           {
            "error_x": {
             "color": "#2a3f5f"
            },
            "error_y": {
             "color": "#2a3f5f"
            },
            "marker": {
             "line": {
              "color": "#E5ECF6",
              "width": 0.5
             },
             "pattern": {
              "fillmode": "overlay",
              "size": 10,
              "solidity": 0.2
             }
            },
            "type": "bar"
           }
          ],
          "barpolar": [
           {
            "marker": {
             "line": {
              "color": "#E5ECF6",
              "width": 0.5
             },
             "pattern": {
              "fillmode": "overlay",
              "size": 10,
              "solidity": 0.2
             }
            },
            "type": "barpolar"
           }
          ],
          "carpet": [
           {
            "aaxis": {
             "endlinecolor": "#2a3f5f",
             "gridcolor": "white",
             "linecolor": "white",
             "minorgridcolor": "white",
             "startlinecolor": "#2a3f5f"
            },
            "baxis": {
             "endlinecolor": "#2a3f5f",
             "gridcolor": "white",
             "linecolor": "white",
             "minorgridcolor": "white",
             "startlinecolor": "#2a3f5f"
            },
            "type": "carpet"
           }
          ],
          "choropleth": [
           {
            "colorbar": {
             "outlinewidth": 0,
             "ticks": ""
            },
            "type": "choropleth"
           }
          ],
          "contour": [
           {
            "colorbar": {
             "outlinewidth": 0,
             "ticks": ""
            },
            "colorscale": [
             [
              0,
              "#0d0887"
             ],
             [
              0.1111111111111111,
              "#46039f"
             ],
             [
              0.2222222222222222,
              "#7201a8"
             ],
             [
              0.3333333333333333,
              "#9c179e"
             ],
             [
              0.4444444444444444,
              "#bd3786"
             ],
             [
              0.5555555555555556,
              "#d8576b"
             ],
             [
              0.6666666666666666,
              "#ed7953"
             ],
             [
              0.7777777777777778,
              "#fb9f3a"
             ],
             [
              0.8888888888888888,
              "#fdca26"
             ],
             [
              1,
              "#f0f921"
             ]
            ],
            "type": "contour"
           }
          ],
          "contourcarpet": [
           {
            "colorbar": {
             "outlinewidth": 0,
             "ticks": ""
            },
            "type": "contourcarpet"
           }
          ],
          "heatmap": [
           {
            "colorbar": {
             "outlinewidth": 0,
             "ticks": ""
            },
            "colorscale": [
             [
              0,
              "#0d0887"
             ],
             [
              0.1111111111111111,
              "#46039f"
             ],
             [
              0.2222222222222222,
              "#7201a8"
             ],
             [
              0.3333333333333333,
              "#9c179e"
             ],
             [
              0.4444444444444444,
              "#bd3786"
             ],
             [
              0.5555555555555556,
              "#d8576b"
             ],
             [
              0.6666666666666666,
              "#ed7953"
             ],
             [
              0.7777777777777778,
              "#fb9f3a"
             ],
             [
              0.8888888888888888,
              "#fdca26"
             ],
             [
              1,
              "#f0f921"
             ]
            ],
            "type": "heatmap"
           }
          ],
          "histogram": [
           {
            "marker": {
             "pattern": {
              "fillmode": "overlay",
              "size": 10,
              "solidity": 0.2
             }
            },
            "type": "histogram"
           }
          ],
          "histogram2d": [
           {
            "colorbar": {
             "outlinewidth": 0,
             "ticks": ""
            },
            "colorscale": [
             [
              0,
              "#0d0887"
             ],
             [
              0.1111111111111111,
              "#46039f"
             ],
             [
              0.2222222222222222,
              "#7201a8"
             ],
             [
              0.3333333333333333,
              "#9c179e"
             ],
             [
              0.4444444444444444,
              "#bd3786"
             ],
             [
              0.5555555555555556,
              "#d8576b"
             ],
             [
              0.6666666666666666,
              "#ed7953"
             ],
             [
              0.7777777777777778,
              "#fb9f3a"
             ],
             [
              0.8888888888888888,
              "#fdca26"
             ],
             [
              1,
              "#f0f921"
             ]
            ],
            "type": "histogram2d"
           }
          ],
          "histogram2dcontour": [
           {
            "colorbar": {
             "outlinewidth": 0,
             "ticks": ""
            },
            "colorscale": [
             [
              0,
              "#0d0887"
             ],
             [
              0.1111111111111111,
              "#46039f"
             ],
             [
              0.2222222222222222,
              "#7201a8"
             ],
             [
              0.3333333333333333,
              "#9c179e"
             ],
             [
              0.4444444444444444,
              "#bd3786"
             ],
             [
              0.5555555555555556,
              "#d8576b"
             ],
             [
              0.6666666666666666,
              "#ed7953"
             ],
             [
              0.7777777777777778,
              "#fb9f3a"
             ],
             [
              0.8888888888888888,
              "#fdca26"
             ],
             [
              1,
              "#f0f921"
             ]
            ],
            "type": "histogram2dcontour"
           }
          ],
          "mesh3d": [
           {
            "colorbar": {
             "outlinewidth": 0,
             "ticks": ""
            },
            "type": "mesh3d"
           }
          ],
          "parcoords": [
           {
            "line": {
             "colorbar": {
              "outlinewidth": 0,
              "ticks": ""
             }
            },
            "type": "parcoords"
           }
          ],
          "pie": [
           {
            "automargin": true,
            "type": "pie"
           }
          ],
          "scatter": [
           {
            "fillpattern": {
             "fillmode": "overlay",
             "size": 10,
             "solidity": 0.2
            },
            "type": "scatter"
           }
          ],
          "scatter3d": [
           {
            "line": {
             "colorbar": {
              "outlinewidth": 0,
              "ticks": ""
             }
            },
            "marker": {
             "colorbar": {
              "outlinewidth": 0,
              "ticks": ""
             }
            },
            "type": "scatter3d"
           }
          ],
          "scattercarpet": [
           {
            "marker": {
             "colorbar": {
              "outlinewidth": 0,
              "ticks": ""
             }
            },
            "type": "scattercarpet"
           }
          ],
          "scattergeo": [
           {
            "marker": {
             "colorbar": {
              "outlinewidth": 0,
              "ticks": ""
             }
            },
            "type": "scattergeo"
           }
          ],
          "scattergl": [
           {
            "marker": {
             "colorbar": {
              "outlinewidth": 0,
              "ticks": ""
             }
            },
            "type": "scattergl"
           }
          ],
          "scattermap": [
           {
            "marker": {
             "colorbar": {
              "outlinewidth": 0,
              "ticks": ""
             }
            },
            "type": "scattermap"
           }
          ],
          "scattermapbox": [
           {
            "marker": {
             "colorbar": {
              "outlinewidth": 0,
              "ticks": ""
             }
            },
            "type": "scattermapbox"
           }
          ],
          "scatterpolar": [
           {
            "marker": {
             "colorbar": {
              "outlinewidth": 0,
              "ticks": ""
             }
            },
            "type": "scatterpolar"
           }
          ],
          "scatterpolargl": [
           {
            "marker": {
             "colorbar": {
              "outlinewidth": 0,
              "ticks": ""
             }
            },
            "type": "scatterpolargl"
           }
          ],
          "scatterternary": [
           {
            "marker": {
             "colorbar": {
              "outlinewidth": 0,
              "ticks": ""
             }
            },
            "type": "scatterternary"
           }
          ],
          "surface": [
           {
            "colorbar": {
             "outlinewidth": 0,
             "ticks": ""
            },
            "colorscale": [
             [
              0,
              "#0d0887"
             ],
             [
              0.1111111111111111,
              "#46039f"
             ],
             [
              0.2222222222222222,
              "#7201a8"
             ],
             [
              0.3333333333333333,
              "#9c179e"
             ],
             [
              0.4444444444444444,
              "#bd3786"
             ],
             [
              0.5555555555555556,
              "#d8576b"
             ],
             [
              0.6666666666666666,
              "#ed7953"
             ],
             [
              0.7777777777777778,
              "#fb9f3a"
             ],
             [
              0.8888888888888888,
              "#fdca26"
             ],
             [
              1,
              "#f0f921"
             ]
            ],
            "type": "surface"
           }
          ],
          "table": [
           {
            "cells": {
             "fill": {
              "color": "#EBF0F8"
             },
             "line": {
              "color": "white"
             }
            },
            "header": {
             "fill": {
              "color": "#C8D4E3"
             },
             "line": {
              "color": "white"
             }
            },
            "type": "table"
           }
          ]
         },
         "layout": {
          "annotationdefaults": {
           "arrowcolor": "#2a3f5f",
           "arrowhead": 0,
           "arrowwidth": 1
          },
          "autotypenumbers": "strict",
          "coloraxis": {
           "colorbar": {
            "outlinewidth": 0,
            "ticks": ""
           }
          },
          "colorscale": {
           "diverging": [
            [
             0,
             "#8e0152"
            ],
            [
             0.1,
             "#c51b7d"
            ],
            [
             0.2,
             "#de77ae"
            ],
            [
             0.3,
             "#f1b6da"
            ],
            [
             0.4,
             "#fde0ef"
            ],
            [
             0.5,
             "#f7f7f7"
            ],
            [
             0.6,
             "#e6f5d0"
            ],
            [
             0.7,
             "#b8e186"
            ],
            [
             0.8,
             "#7fbc41"
            ],
            [
             0.9,
             "#4d9221"
            ],
            [
             1,
             "#276419"
            ]
           ],
           "sequential": [
            [
             0,
             "#0d0887"
            ],
            [
             0.1111111111111111,
             "#46039f"
            ],
            [
             0.2222222222222222,
             "#7201a8"
            ],
            [
             0.3333333333333333,
             "#9c179e"
            ],
            [
             0.4444444444444444,
             "#bd3786"
            ],
            [
             0.5555555555555556,
             "#d8576b"
            ],
            [
             0.6666666666666666,
             "#ed7953"
            ],
            [
             0.7777777777777778,
             "#fb9f3a"
            ],
            [
             0.8888888888888888,
             "#fdca26"
            ],
            [
             1,
             "#f0f921"
            ]
           ],
           "sequentialminus": [
            [
             0,
             "#0d0887"
            ],
            [
             0.1111111111111111,
             "#46039f"
            ],
            [
             0.2222222222222222,
             "#7201a8"
            ],
            [
             0.3333333333333333,
             "#9c179e"
            ],
            [
             0.4444444444444444,
             "#bd3786"
            ],
            [
             0.5555555555555556,
             "#d8576b"
            ],
            [
             0.6666666666666666,
             "#ed7953"
            ],
            [
             0.7777777777777778,
             "#fb9f3a"
            ],
            [
             0.8888888888888888,
             "#fdca26"
            ],
            [
             1,
             "#f0f921"
            ]
           ]
          },
          "colorway": [
           "#636efa",
           "#EF553B",
           "#00cc96",
           "#ab63fa",
           "#FFA15A",
           "#19d3f3",
           "#FF6692",
           "#B6E880",
           "#FF97FF",
           "#FECB52"
          ],
          "font": {
           "color": "#2a3f5f"
          },
          "geo": {
           "bgcolor": "white",
           "lakecolor": "white",
           "landcolor": "#E5ECF6",
           "showlakes": true,
           "showland": true,
           "subunitcolor": "white"
          },
          "hoverlabel": {
           "align": "left"
          },
          "hovermode": "closest",
          "mapbox": {
           "style": "light"
          },
          "paper_bgcolor": "white",
          "plot_bgcolor": "#E5ECF6",
          "polar": {
           "angularaxis": {
            "gridcolor": "white",
            "linecolor": "white",
            "ticks": ""
           },
           "bgcolor": "#E5ECF6",
           "radialaxis": {
            "gridcolor": "white",
            "linecolor": "white",
            "ticks": ""
           }
          },
          "scene": {
           "xaxis": {
            "backgroundcolor": "#E5ECF6",
            "gridcolor": "white",
            "gridwidth": 2,
            "linecolor": "white",
            "showbackground": true,
            "ticks": "",
            "zerolinecolor": "white"
           },
           "yaxis": {
            "backgroundcolor": "#E5ECF6",
            "gridcolor": "white",
            "gridwidth": 2,
            "linecolor": "white",
            "showbackground": true,
            "ticks": "",
            "zerolinecolor": "white"
           },
           "zaxis": {
            "backgroundcolor": "#E5ECF6",
            "gridcolor": "white",
            "gridwidth": 2,
            "linecolor": "white",
            "showbackground": true,
            "ticks": "",
            "zerolinecolor": "white"
           }
          },
          "shapedefaults": {
           "line": {
            "color": "#2a3f5f"
           }
          },
          "ternary": {
           "aaxis": {
            "gridcolor": "white",
            "linecolor": "white",
            "ticks": ""
           },
           "baxis": {
            "gridcolor": "white",
            "linecolor": "white",
            "ticks": ""
           },
           "bgcolor": "#E5ECF6",
           "caxis": {
            "gridcolor": "white",
            "linecolor": "white",
            "ticks": ""
           }
          },
          "title": {
           "x": 0.05
          },
          "xaxis": {
           "automargin": true,
           "gridcolor": "white",
           "linecolor": "white",
           "ticks": "",
           "title": {
            "standoff": 15
           },
           "zerolinecolor": "white",
           "zerolinewidth": 2
          },
          "yaxis": {
           "automargin": true,
           "gridcolor": "white",
           "linecolor": "white",
           "ticks": "",
           "title": {
            "standoff": 15
           },
           "zerolinecolor": "white",
           "zerolinewidth": 2
          }
         }
        },
        "title": {
         "text": "Violin Plot: Population Distribution by Country"
        }
       }
      }
     },
     "metadata": {},
     "output_type": "display_data"
    }
   ],
   "source": [
    "import plotly.graph_objects as go\n",
    "\n",
    "# Assuming you have a dataframe 'df' with columns 'country' and 'population'\n",
    "\n",
    "fig = go.Figure(data=[go.Violin(\n",
    "  x=df['country'],\n",
    "  y=df['population'],\n",
    "  points='all', # Show all data points (default: 'suspectedoutliers')\n",
    "  jitter=0.3, # Add jitter to scatter points\n",
    "  line={'width': 1}, # Show lines for box plot\n",
    "  meanline={'visible': True}, # Show mean line\n",
    "  name='Population Distribution'\n",
    ")])\n",
    "\n",
    "fig.update_layout(title='Violin Plot: Population Distribution by Country')\n",
    "fig.show()"
   ]
  },
  {
   "cell_type": "code",
   "execution_count": null,
   "metadata": {},
   "outputs": [
    {
     "data": {
      "application/vnd.plotly.v1+json": {
       "config": {
        "plotlyServerURL": "https://plot.ly"
       },
       "data": [
        {
         "coloraxis": "coloraxis",
         "hovertemplate": "year: %{x}<br>country: %{y}<br>color: %{z}<extra></extra>",
         "name": "0",
         "type": "heatmap",
         "x": {
          "bdata": "5wc=",
          "dtype": "i2"
         },
         "xaxis": "x",
         "y": [
          "China",
          "Germany",
          "Japan",
          "UK",
          "US"
         ],
         "yaxis": "y",
         "z": {
          "bdata": "y8sTVbJSSj7/rTN+d8xpPtD5E2RBwmU+OdIhAOBGaD7hrdBKf1V0Pg==",
          "dtype": "f8",
          "shape": "5, 1"
         }
        }
       ],
       "layout": {
        "coloraxis": {
         "colorscale": [
          [
           0,
           "#0d0887"
          ],
          [
           0.1111111111111111,
           "#46039f"
          ],
          [
           0.2222222222222222,
           "#7201a8"
          ],
          [
           0.3333333333333333,
           "#9c179e"
          ],
          [
           0.4444444444444444,
           "#bd3786"
          ],
          [
           0.5555555555555556,
           "#d8576b"
          ],
          [
           0.6666666666666666,
           "#ed7953"
          ],
          [
           0.7777777777777778,
           "#fb9f3a"
          ],
          [
           0.8888888888888888,
           "#fdca26"
          ],
          [
           1,
           "#f0f921"
          ]
         ]
        },
        "template": {
         "data": {
          "bar": [
           {
            "error_x": {
             "color": "#2a3f5f"
            },
            "error_y": {
             "color": "#2a3f5f"
            },
            "marker": {
             "line": {
              "color": "#E5ECF6",
              "width": 0.5
             },
             "pattern": {
              "fillmode": "overlay",
              "size": 10,
              "solidity": 0.2
             }
            },
            "type": "bar"
           }
          ],
          "barpolar": [
           {
            "marker": {
             "line": {
              "color": "#E5ECF6",
              "width": 0.5
             },
             "pattern": {
              "fillmode": "overlay",
              "size": 10,
              "solidity": 0.2
             }
            },
            "type": "barpolar"
           }
          ],
          "carpet": [
           {
            "aaxis": {
             "endlinecolor": "#2a3f5f",
             "gridcolor": "white",
             "linecolor": "white",
             "minorgridcolor": "white",
             "startlinecolor": "#2a3f5f"
            },
            "baxis": {
             "endlinecolor": "#2a3f5f",
             "gridcolor": "white",
             "linecolor": "white",
             "minorgridcolor": "white",
             "startlinecolor": "#2a3f5f"
            },
            "type": "carpet"
           }
          ],
          "choropleth": [
           {
            "colorbar": {
             "outlinewidth": 0,
             "ticks": ""
            },
            "type": "choropleth"
           }
          ],
          "contour": [
           {
            "colorbar": {
             "outlinewidth": 0,
             "ticks": ""
            },
            "colorscale": [
             [
              0,
              "#0d0887"
             ],
             [
              0.1111111111111111,
              "#46039f"
             ],
             [
              0.2222222222222222,
              "#7201a8"
             ],
             [
              0.3333333333333333,
              "#9c179e"
             ],
             [
              0.4444444444444444,
              "#bd3786"
             ],
             [
              0.5555555555555556,
              "#d8576b"
             ],
             [
              0.6666666666666666,
              "#ed7953"
             ],
             [
              0.7777777777777778,
              "#fb9f3a"
             ],
             [
              0.8888888888888888,
              "#fdca26"
             ],
             [
              1,
              "#f0f921"
             ]
            ],
            "type": "contour"
           }
          ],
          "contourcarpet": [
           {
            "colorbar": {
             "outlinewidth": 0,
             "ticks": ""
            },
            "type": "contourcarpet"
           }
          ],
          "heatmap": [
           {
            "colorbar": {
             "outlinewidth": 0,
             "ticks": ""
            },
            "colorscale": [
             [
              0,
              "#0d0887"
             ],
             [
              0.1111111111111111,
              "#46039f"
             ],
             [
              0.2222222222222222,
              "#7201a8"
             ],
             [
              0.3333333333333333,
              "#9c179e"
             ],
             [
              0.4444444444444444,
              "#bd3786"
             ],
             [
              0.5555555555555556,
              "#d8576b"
             ],
             [
              0.6666666666666666,
              "#ed7953"
             ],
             [
              0.7777777777777778,
              "#fb9f3a"
             ],
             [
              0.8888888888888888,
              "#fdca26"
             ],
             [
              1,
              "#f0f921"
             ]
            ],
            "type": "heatmap"
           }
          ],
          "histogram": [
           {
            "marker": {
             "pattern": {
              "fillmode": "overlay",
              "size": 10,
              "solidity": 0.2
             }
            },
            "type": "histogram"
           }
          ],
          "histogram2d": [
           {
            "colorbar": {
             "outlinewidth": 0,
             "ticks": ""
            },
            "colorscale": [
             [
              0,
              "#0d0887"
             ],
             [
              0.1111111111111111,
              "#46039f"
             ],
             [
              0.2222222222222222,
              "#7201a8"
             ],
             [
              0.3333333333333333,
              "#9c179e"
             ],
             [
              0.4444444444444444,
              "#bd3786"
             ],
             [
              0.5555555555555556,
              "#d8576b"
             ],
             [
              0.6666666666666666,
              "#ed7953"
             ],
             [
              0.7777777777777778,
              "#fb9f3a"
             ],
             [
              0.8888888888888888,
              "#fdca26"
             ],
             [
              1,
              "#f0f921"
             ]
            ],
            "type": "histogram2d"
           }
          ],
          "histogram2dcontour": [
           {
            "colorbar": {
             "outlinewidth": 0,
             "ticks": ""
            },
            "colorscale": [
             [
              0,
              "#0d0887"
             ],
             [
              0.1111111111111111,
              "#46039f"
             ],
             [
              0.2222222222222222,
              "#7201a8"
             ],
             [
              0.3333333333333333,
              "#9c179e"
             ],
             [
              0.4444444444444444,
              "#bd3786"
             ],
             [
              0.5555555555555556,
              "#d8576b"
             ],
             [
              0.6666666666666666,
              "#ed7953"
             ],
             [
              0.7777777777777778,
              "#fb9f3a"
             ],
             [
              0.8888888888888888,
              "#fdca26"
             ],
             [
              1,
              "#f0f921"
             ]
            ],
            "type": "histogram2dcontour"
           }
          ],
          "mesh3d": [
           {
            "colorbar": {
             "outlinewidth": 0,
             "ticks": ""
            },
            "type": "mesh3d"
           }
          ],
          "parcoords": [
           {
            "line": {
             "colorbar": {
              "outlinewidth": 0,
              "ticks": ""
             }
            },
            "type": "parcoords"
           }
          ],
          "pie": [
           {
            "automargin": true,
            "type": "pie"
           }
          ],
          "scatter": [
           {
            "fillpattern": {
             "fillmode": "overlay",
             "size": 10,
             "solidity": 0.2
            },
            "type": "scatter"
           }
          ],
          "scatter3d": [
           {
            "line": {
             "colorbar": {
              "outlinewidth": 0,
              "ticks": ""
             }
            },
            "marker": {
             "colorbar": {
              "outlinewidth": 0,
              "ticks": ""
             }
            },
            "type": "scatter3d"
           }
          ],
          "scattercarpet": [
           {
            "marker": {
             "colorbar": {
              "outlinewidth": 0,
              "ticks": ""
             }
            },
            "type": "scattercarpet"
           }
          ],
          "scattergeo": [
           {
            "marker": {
             "colorbar": {
              "outlinewidth": 0,
              "ticks": ""
             }
            },
            "type": "scattergeo"
           }
          ],
          "scattergl": [
           {
            "marker": {
             "colorbar": {
              "outlinewidth": 0,
              "ticks": ""
             }
            },
            "type": "scattergl"
           }
          ],
          "scattermap": [
           {
            "marker": {
             "colorbar": {
              "outlinewidth": 0,
              "ticks": ""
             }
            },
            "type": "scattermap"
           }
          ],
          "scattermapbox": [
           {
            "marker": {
             "colorbar": {
              "outlinewidth": 0,
              "ticks": ""
             }
            },
            "type": "scattermapbox"
           }
          ],
          "scatterpolar": [
           {
            "marker": {
             "colorbar": {
              "outlinewidth": 0,
              "ticks": ""
             }
            },
            "type": "scatterpolar"
           }
          ],
          "scatterpolargl": [
           {
            "marker": {
             "colorbar": {
              "outlinewidth": 0,
              "ticks": ""
             }
            },
            "type": "scatterpolargl"
           }
          ],
          "scatterternary": [
           {
            "marker": {
             "colorbar": {
              "outlinewidth": 0,
              "ticks": ""
             }
            },
            "type": "scatterternary"
           }
          ],
          "surface": [
           {
            "colorbar": {
             "outlinewidth": 0,
             "ticks": ""
            },
            "colorscale": [
             [
              0,
              "#0d0887"
             ],
             [
              0.1111111111111111,
              "#46039f"
             ],
             [
              0.2222222222222222,
              "#7201a8"
             ],
             [
              0.3333333333333333,
              "#9c179e"
             ],
             [
              0.4444444444444444,
              "#bd3786"
             ],
             [
              0.5555555555555556,
              "#d8576b"
             ],
             [
              0.6666666666666666,
              "#ed7953"
             ],
             [
              0.7777777777777778,
              "#fb9f3a"
             ],
             [
              0.8888888888888888,
              "#fdca26"
             ],
             [
              1,
              "#f0f921"
             ]
            ],
            "type": "surface"
           }
          ],
          "table": [
           {
            "cells": {
             "fill": {
              "color": "#EBF0F8"
             },
             "line": {
              "color": "white"
             }
            },
            "header": {
             "fill": {
              "color": "#C8D4E3"
             },
             "line": {
              "color": "white"
             }
            },
            "type": "table"
           }
          ]
         },
         "layout": {
          "annotationdefaults": {
           "arrowcolor": "#2a3f5f",
           "arrowhead": 0,
           "arrowwidth": 1
          },
          "autotypenumbers": "strict",
          "coloraxis": {
           "colorbar": {
            "outlinewidth": 0,
            "ticks": ""
           }
          },
          "colorscale": {
           "diverging": [
            [
             0,
             "#8e0152"
            ],
            [
             0.1,
             "#c51b7d"
            ],
            [
             0.2,
             "#de77ae"
            ],
            [
             0.3,
             "#f1b6da"
            ],
            [
             0.4,
             "#fde0ef"
            ],
            [
             0.5,
             "#f7f7f7"
            ],
            [
             0.6,
             "#e6f5d0"
            ],
            [
             0.7,
             "#b8e186"
            ],
            [
             0.8,
             "#7fbc41"
            ],
            [
             0.9,
             "#4d9221"
            ],
            [
             1,
             "#276419"
            ]
           ],
           "sequential": [
            [
             0,
             "#0d0887"
            ],
            [
             0.1111111111111111,
             "#46039f"
            ],
            [
             0.2222222222222222,
             "#7201a8"
            ],
            [
             0.3333333333333333,
             "#9c179e"
            ],
            [
             0.4444444444444444,
             "#bd3786"
            ],
            [
             0.5555555555555556,
             "#d8576b"
            ],
            [
             0.6666666666666666,
             "#ed7953"
            ],
            [
             0.7777777777777778,
             "#fb9f3a"
            ],
            [
             0.8888888888888888,
             "#fdca26"
            ],
            [
             1,
             "#f0f921"
            ]
           ],
           "sequentialminus": [
            [
             0,
             "#0d0887"
            ],
            [
             0.1111111111111111,
             "#46039f"
            ],
            [
             0.2222222222222222,
             "#7201a8"
            ],
            [
             0.3333333333333333,
             "#9c179e"
            ],
            [
             0.4444444444444444,
             "#bd3786"
            ],
            [
             0.5555555555555556,
             "#d8576b"
            ],
            [
             0.6666666666666666,
             "#ed7953"
            ],
            [
             0.7777777777777778,
             "#fb9f3a"
            ],
            [
             0.8888888888888888,
             "#fdca26"
            ],
            [
             1,
             "#f0f921"
            ]
           ]
          },
          "colorway": [
           "#636efa",
           "#EF553B",
           "#00cc96",
           "#ab63fa",
           "#FFA15A",
           "#19d3f3",
           "#FF6692",
           "#B6E880",
           "#FF97FF",
           "#FECB52"
          ],
          "font": {
           "color": "#2a3f5f"
          },
          "geo": {
           "bgcolor": "white",
           "lakecolor": "white",
           "landcolor": "#E5ECF6",
           "showlakes": true,
           "showland": true,
           "subunitcolor": "white"
          },
          "hoverlabel": {
           "align": "left"
          },
          "hovermode": "closest",
          "mapbox": {
           "style": "light"
          },
          "paper_bgcolor": "white",
          "plot_bgcolor": "#E5ECF6",
          "polar": {
           "angularaxis": {
            "gridcolor": "white",
            "linecolor": "white",
            "ticks": ""
           },
           "bgcolor": "#E5ECF6",
           "radialaxis": {
            "gridcolor": "white",
            "linecolor": "white",
            "ticks": ""
           }
          },
          "scene": {
           "xaxis": {
            "backgroundcolor": "#E5ECF6",
            "gridcolor": "white",
            "gridwidth": 2,
            "linecolor": "white",
            "showbackground": true,
            "ticks": "",
            "zerolinecolor": "white"
           },
           "yaxis": {
            "backgroundcolor": "#E5ECF6",
            "gridcolor": "white",
            "gridwidth": 2,
            "linecolor": "white",
            "showbackground": true,
            "ticks": "",
            "zerolinecolor": "white"
           },
           "zaxis": {
            "backgroundcolor": "#E5ECF6",
            "gridcolor": "white",
            "gridwidth": 2,
            "linecolor": "white",
            "showbackground": true,
            "ticks": "",
            "zerolinecolor": "white"
           }
          },
          "shapedefaults": {
           "line": {
            "color": "#2a3f5f"
           }
          },
          "ternary": {
           "aaxis": {
            "gridcolor": "white",
            "linecolor": "white",
            "ticks": ""
           },
           "baxis": {
            "gridcolor": "white",
            "linecolor": "white",
            "ticks": ""
           },
           "bgcolor": "#E5ECF6",
           "caxis": {
            "gridcolor": "white",
            "linecolor": "white",
            "ticks": ""
           }
          },
          "title": {
           "x": 0.05
          },
          "xaxis": {
           "automargin": true,
           "gridcolor": "white",
           "linecolor": "white",
           "ticks": "",
           "title": {
            "standoff": 15
           },
           "zerolinecolor": "white",
           "zerolinewidth": 2
          },
          "yaxis": {
           "automargin": true,
           "gridcolor": "white",
           "linecolor": "white",
           "ticks": "",
           "title": {
            "standoff": 15
           },
           "zerolinecolor": "white",
           "zerolinewidth": 2
          }
         }
        },
        "title": {
         "text": "Heatmap: GDP per Capita by Country and Year"
        },
        "xaxis": {
         "anchor": "y",
         "constrain": "domain",
         "domain": [
          0,
          1
         ],
         "scaleanchor": "y",
         "title": {
          "text": "year"
         }
        },
        "yaxis": {
         "anchor": "x",
         "autorange": "reversed",
         "constrain": "domain",
         "domain": [
          0,
          1
         ],
         "title": {
          "text": "country"
         }
        }
       }
      }
     },
     "metadata": {},
     "output_type": "display_data"
    }
   ],
   "source": [
    "# Assuming you have a 'year' column in your DataFrame\n",
    "df['year'] = [2023, 2023, 2023, 2023, 2023]\n",
    "\n",
    "# Calculate GDP per capita\n",
    "df['gdp_per_capita'] = df['gdp'] / df['population']\n",
    "\n",
    "fig = px.imshow(df.pivot_table(index='country', columns='year', values='gdp_per_capita'),\n",
    "                 title='Heatmap: GDP per Capita by Country and Year')\n",
    "fig.show()"
   ]
  },
  {
   "cell_type": "code",
   "execution_count": null,
   "metadata": {},
   "outputs": [
    {
     "data": {
      "application/vnd.plotly.v1+json": {
       "config": {
        "plotlyServerURL": "https://plot.ly"
       },
       "data": [
        {
         "hovertemplate": "country=US<br>population=%{x}<br>gdp=%{y}<br>z_value=%{z}<extra></extra>",
         "legendgroup": "US",
         "marker": {
          "color": "#636efa",
          "symbol": "circle"
         },
         "mode": "markers",
         "name": "US",
         "scene": "scene",
         "showlegend": true,
         "type": "scatter3d",
         "x": {
          "bdata": "gFboEw==",
          "dtype": "i4"
         },
         "y": {
          "bdata": "zczMzMxMOUA=",
          "dtype": "f8"
         },
         "z": {
          "bdata": "Cg==",
          "dtype": "i1"
         }
        },
        {
         "hovertemplate": "country=China<br>population=%{x}<br>gdp=%{y}<br>z_value=%{z}<extra></extra>",
         "legendgroup": "China",
         "marker": {
          "color": "#EF553B",
          "symbol": "circle"
         },
         "mode": "markers",
         "name": "China",
         "scene": "scene",
         "showlegend": true,
         "type": "scatter3d",
         "x": {
          "bdata": "ALERVg==",
          "dtype": "i4"
         },
         "y": {
          "bdata": "MzMzMzOzMUA=",
          "dtype": "f8"
         },
         "z": {
          "bdata": "Dw==",
          "dtype": "i1"
         }
        },
        {
         "hovertemplate": "country=Japan<br>population=%{x}<br>gdp=%{y}<br>z_value=%{z}<extra></extra>",
         "legendgroup": "Japan",
         "marker": {
          "color": "#00cc96",
          "symbol": "circle"
         },
         "mode": "markers",
         "name": "Japan",
         "scene": "scene",
         "showlegend": true,
         "type": "scatter3d",
         "x": {
          "bdata": "4BqABw==",
          "dtype": "i4"
         },
         "y": {
          "bdata": "ZmZmZmZmFEA=",
          "dtype": "f8"
         },
         "z": {
          "bdata": "CA==",
          "dtype": "i1"
         }
        },
        {
         "hovertemplate": "country=Germany<br>population=%{x}<br>gdp=%{y}<br>z_value=%{z}<extra></extra>",
         "legendgroup": "Germany",
         "marker": {
          "color": "#ab63fa",
          "symbol": "circle"
         },
         "mode": "markers",
         "name": "Germany",
         "scene": "scene",
         "showlegend": true,
         "type": "scatter3d",
         "x": {
          "bdata": "QCT2BA==",
          "dtype": "i4"
         },
         "y": {
          "bdata": "AAAAAAAAEEA=",
          "dtype": "f8"
         },
         "z": {
          "bdata": "DA==",
          "dtype": "i1"
         }
        },
        {
         "hovertemplate": "country=UK<br>population=%{x}<br>gdp=%{y}<br>z_value=%{z}<extra></extra>",
         "legendgroup": "UK",
         "marker": {
          "color": "#FFA15A",
          "symbol": "circle"
         },
         "mode": "markers",
         "name": "UK",
         "scene": "scene",
         "showlegend": true,
         "type": "scatter3d",
         "x": {
          "bdata": "+BAWBA==",
          "dtype": "i4"
         },
         "y": {
          "bdata": "zczMzMzMCEA=",
          "dtype": "f8"
         },
         "z": {
          "bdata": "CQ==",
          "dtype": "i1"
         }
        }
       ],
       "layout": {
        "legend": {
         "title": {
          "text": "country"
         },
         "tracegroupgap": 0
        },
        "scene": {
         "domain": {
          "x": [
           0,
           1
          ],
          "y": [
           0,
           1
          ]
         },
         "xaxis": {
          "title": {
           "text": "population"
          }
         },
         "yaxis": {
          "title": {
           "text": "gdp"
          }
         },
         "zaxis": {
          "title": {
           "text": "z_value"
          }
         }
        },
        "template": {
         "data": {
          "bar": [
           {
            "error_x": {
             "color": "#2a3f5f"
            },
            "error_y": {
             "color": "#2a3f5f"
            },
            "marker": {
             "line": {
              "color": "#E5ECF6",
              "width": 0.5
             },
             "pattern": {
              "fillmode": "overlay",
              "size": 10,
              "solidity": 0.2
             }
            },
            "type": "bar"
           }
          ],
          "barpolar": [
           {
            "marker": {
             "line": {
              "color": "#E5ECF6",
              "width": 0.5
             },
             "pattern": {
              "fillmode": "overlay",
              "size": 10,
              "solidity": 0.2
             }
            },
            "type": "barpolar"
           }
          ],
          "carpet": [
           {
            "aaxis": {
             "endlinecolor": "#2a3f5f",
             "gridcolor": "white",
             "linecolor": "white",
             "minorgridcolor": "white",
             "startlinecolor": "#2a3f5f"
            },
            "baxis": {
             "endlinecolor": "#2a3f5f",
             "gridcolor": "white",
             "linecolor": "white",
             "minorgridcolor": "white",
             "startlinecolor": "#2a3f5f"
            },
            "type": "carpet"
           }
          ],
          "choropleth": [
           {
            "colorbar": {
             "outlinewidth": 0,
             "ticks": ""
            },
            "type": "choropleth"
           }
          ],
          "contour": [
           {
            "colorbar": {
             "outlinewidth": 0,
             "ticks": ""
            },
            "colorscale": [
             [
              0,
              "#0d0887"
             ],
             [
              0.1111111111111111,
              "#46039f"
             ],
             [
              0.2222222222222222,
              "#7201a8"
             ],
             [
              0.3333333333333333,
              "#9c179e"
             ],
             [
              0.4444444444444444,
              "#bd3786"
             ],
             [
              0.5555555555555556,
              "#d8576b"
             ],
             [
              0.6666666666666666,
              "#ed7953"
             ],
             [
              0.7777777777777778,
              "#fb9f3a"
             ],
             [
              0.8888888888888888,
              "#fdca26"
             ],
             [
              1,
              "#f0f921"
             ]
            ],
            "type": "contour"
           }
          ],
          "contourcarpet": [
           {
            "colorbar": {
             "outlinewidth": 0,
             "ticks": ""
            },
            "type": "contourcarpet"
           }
          ],
          "heatmap": [
           {
            "colorbar": {
             "outlinewidth": 0,
             "ticks": ""
            },
            "colorscale": [
             [
              0,
              "#0d0887"
             ],
             [
              0.1111111111111111,
              "#46039f"
             ],
             [
              0.2222222222222222,
              "#7201a8"
             ],
             [
              0.3333333333333333,
              "#9c179e"
             ],
             [
              0.4444444444444444,
              "#bd3786"
             ],
             [
              0.5555555555555556,
              "#d8576b"
             ],
             [
              0.6666666666666666,
              "#ed7953"
             ],
             [
              0.7777777777777778,
              "#fb9f3a"
             ],
             [
              0.8888888888888888,
              "#fdca26"
             ],
             [
              1,
              "#f0f921"
             ]
            ],
            "type": "heatmap"
           }
          ],
          "histogram": [
           {
            "marker": {
             "pattern": {
              "fillmode": "overlay",
              "size": 10,
              "solidity": 0.2
             }
            },
            "type": "histogram"
           }
          ],
          "histogram2d": [
           {
            "colorbar": {
             "outlinewidth": 0,
             "ticks": ""
            },
            "colorscale": [
             [
              0,
              "#0d0887"
             ],
             [
              0.1111111111111111,
              "#46039f"
             ],
             [
              0.2222222222222222,
              "#7201a8"
             ],
             [
              0.3333333333333333,
              "#9c179e"
             ],
             [
              0.4444444444444444,
              "#bd3786"
             ],
             [
              0.5555555555555556,
              "#d8576b"
             ],
             [
              0.6666666666666666,
              "#ed7953"
             ],
             [
              0.7777777777777778,
              "#fb9f3a"
             ],
             [
              0.8888888888888888,
              "#fdca26"
             ],
             [
              1,
              "#f0f921"
             ]
            ],
            "type": "histogram2d"
           }
          ],
          "histogram2dcontour": [
           {
            "colorbar": {
             "outlinewidth": 0,
             "ticks": ""
            },
            "colorscale": [
             [
              0,
              "#0d0887"
             ],
             [
              0.1111111111111111,
              "#46039f"
             ],
             [
              0.2222222222222222,
              "#7201a8"
             ],
             [
              0.3333333333333333,
              "#9c179e"
             ],
             [
              0.4444444444444444,
              "#bd3786"
             ],
             [
              0.5555555555555556,
              "#d8576b"
             ],
             [
              0.6666666666666666,
              "#ed7953"
             ],
             [
              0.7777777777777778,
              "#fb9f3a"
             ],
             [
              0.8888888888888888,
              "#fdca26"
             ],
             [
              1,
              "#f0f921"
             ]
            ],
            "type": "histogram2dcontour"
           }
          ],
          "mesh3d": [
           {
            "colorbar": {
             "outlinewidth": 0,
             "ticks": ""
            },
            "type": "mesh3d"
           }
          ],
          "parcoords": [
           {
            "line": {
             "colorbar": {
              "outlinewidth": 0,
              "ticks": ""
             }
            },
            "type": "parcoords"
           }
          ],
          "pie": [
           {
            "automargin": true,
            "type": "pie"
           }
          ],
          "scatter": [
           {
            "fillpattern": {
             "fillmode": "overlay",
             "size": 10,
             "solidity": 0.2
            },
            "type": "scatter"
           }
          ],
          "scatter3d": [
           {
            "line": {
             "colorbar": {
              "outlinewidth": 0,
              "ticks": ""
             }
            },
            "marker": {
             "colorbar": {
              "outlinewidth": 0,
              "ticks": ""
             }
            },
            "type": "scatter3d"
           }
          ],
          "scattercarpet": [
           {
            "marker": {
             "colorbar": {
              "outlinewidth": 0,
              "ticks": ""
             }
            },
            "type": "scattercarpet"
           }
          ],
          "scattergeo": [
           {
            "marker": {
             "colorbar": {
              "outlinewidth": 0,
              "ticks": ""
             }
            },
            "type": "scattergeo"
           }
          ],
          "scattergl": [
           {
            "marker": {
             "colorbar": {
              "outlinewidth": 0,
              "ticks": ""
             }
            },
            "type": "scattergl"
           }
          ],
          "scattermap": [
           {
            "marker": {
             "colorbar": {
              "outlinewidth": 0,
              "ticks": ""
             }
            },
            "type": "scattermap"
           }
          ],
          "scattermapbox": [
           {
            "marker": {
             "colorbar": {
              "outlinewidth": 0,
              "ticks": ""
             }
            },
            "type": "scattermapbox"
           }
          ],
          "scatterpolar": [
           {
            "marker": {
             "colorbar": {
              "outlinewidth": 0,
              "ticks": ""
             }
            },
            "type": "scatterpolar"
           }
          ],
          "scatterpolargl": [
           {
            "marker": {
             "colorbar": {
              "outlinewidth": 0,
              "ticks": ""
             }
            },
            "type": "scatterpolargl"
           }
          ],
          "scatterternary": [
           {
            "marker": {
             "colorbar": {
              "outlinewidth": 0,
              "ticks": ""
             }
            },
            "type": "scatterternary"
           }
          ],
          "surface": [
           {
            "colorbar": {
             "outlinewidth": 0,
             "ticks": ""
            },
            "colorscale": [
             [
              0,
              "#0d0887"
             ],
             [
              0.1111111111111111,
              "#46039f"
             ],
             [
              0.2222222222222222,
              "#7201a8"
             ],
             [
              0.3333333333333333,
              "#9c179e"
             ],
             [
              0.4444444444444444,
              "#bd3786"
             ],
             [
              0.5555555555555556,
              "#d8576b"
             ],
             [
              0.6666666666666666,
              "#ed7953"
             ],
             [
              0.7777777777777778,
              "#fb9f3a"
             ],
             [
              0.8888888888888888,
              "#fdca26"
             ],
             [
              1,
              "#f0f921"
             ]
            ],
            "type": "surface"
           }
          ],
          "table": [
           {
            "cells": {
             "fill": {
              "color": "#EBF0F8"
             },
             "line": {
              "color": "white"
             }
            },
            "header": {
             "fill": {
              "color": "#C8D4E3"
             },
             "line": {
              "color": "white"
             }
            },
            "type": "table"
           }
          ]
         },
         "layout": {
          "annotationdefaults": {
           "arrowcolor": "#2a3f5f",
           "arrowhead": 0,
           "arrowwidth": 1
          },
          "autotypenumbers": "strict",
          "coloraxis": {
           "colorbar": {
            "outlinewidth": 0,
            "ticks": ""
           }
          },
          "colorscale": {
           "diverging": [
            [
             0,
             "#8e0152"
            ],
            [
             0.1,
             "#c51b7d"
            ],
            [
             0.2,
             "#de77ae"
            ],
            [
             0.3,
             "#f1b6da"
            ],
            [
             0.4,
             "#fde0ef"
            ],
            [
             0.5,
             "#f7f7f7"
            ],
            [
             0.6,
             "#e6f5d0"
            ],
            [
             0.7,
             "#b8e186"
            ],
            [
             0.8,
             "#7fbc41"
            ],
            [
             0.9,
             "#4d9221"
            ],
            [
             1,
             "#276419"
            ]
           ],
           "sequential": [
            [
             0,
             "#0d0887"
            ],
            [
             0.1111111111111111,
             "#46039f"
            ],
            [
             0.2222222222222222,
             "#7201a8"
            ],
            [
             0.3333333333333333,
             "#9c179e"
            ],
            [
             0.4444444444444444,
             "#bd3786"
            ],
            [
             0.5555555555555556,
             "#d8576b"
            ],
            [
             0.6666666666666666,
             "#ed7953"
            ],
            [
             0.7777777777777778,
             "#fb9f3a"
            ],
            [
             0.8888888888888888,
             "#fdca26"
            ],
            [
             1,
             "#f0f921"
            ]
           ],
           "sequentialminus": [
            [
             0,
             "#0d0887"
            ],
            [
             0.1111111111111111,
             "#46039f"
            ],
            [
             0.2222222222222222,
             "#7201a8"
            ],
            [
             0.3333333333333333,
             "#9c179e"
            ],
            [
             0.4444444444444444,
             "#bd3786"
            ],
            [
             0.5555555555555556,
             "#d8576b"
            ],
            [
             0.6666666666666666,
             "#ed7953"
            ],
            [
             0.7777777777777778,
             "#fb9f3a"
            ],
            [
             0.8888888888888888,
             "#fdca26"
            ],
            [
             1,
             "#f0f921"
            ]
           ]
          },
          "colorway": [
           "#636efa",
           "#EF553B",
           "#00cc96",
           "#ab63fa",
           "#FFA15A",
           "#19d3f3",
           "#FF6692",
           "#B6E880",
           "#FF97FF",
           "#FECB52"
          ],
          "font": {
           "color": "#2a3f5f"
          },
          "geo": {
           "bgcolor": "white",
           "lakecolor": "white",
           "landcolor": "#E5ECF6",
           "showlakes": true,
           "showland": true,
           "subunitcolor": "white"
          },
          "hoverlabel": {
           "align": "left"
          },
          "hovermode": "closest",
          "mapbox": {
           "style": "light"
          },
          "paper_bgcolor": "white",
          "plot_bgcolor": "#E5ECF6",
          "polar": {
           "angularaxis": {
            "gridcolor": "white",
            "linecolor": "white",
            "ticks": ""
           },
           "bgcolor": "#E5ECF6",
           "radialaxis": {
            "gridcolor": "white",
            "linecolor": "white",
            "ticks": ""
           }
          },
          "scene": {
           "xaxis": {
            "backgroundcolor": "#E5ECF6",
            "gridcolor": "white",
            "gridwidth": 2,
            "linecolor": "white",
            "showbackground": true,
            "ticks": "",
            "zerolinecolor": "white"
           },
           "yaxis": {
            "backgroundcolor": "#E5ECF6",
            "gridcolor": "white",
            "gridwidth": 2,
            "linecolor": "white",
            "showbackground": true,
            "ticks": "",
            "zerolinecolor": "white"
           },
           "zaxis": {
            "backgroundcolor": "#E5ECF6",
            "gridcolor": "white",
            "gridwidth": 2,
            "linecolor": "white",
            "showbackground": true,
            "ticks": "",
            "zerolinecolor": "white"
           }
          },
          "shapedefaults": {
           "line": {
            "color": "#2a3f5f"
           }
          },
          "ternary": {
           "aaxis": {
            "gridcolor": "white",
            "linecolor": "white",
            "ticks": ""
           },
           "baxis": {
            "gridcolor": "white",
            "linecolor": "white",
            "ticks": ""
           },
           "bgcolor": "#E5ECF6",
           "caxis": {
            "gridcolor": "white",
            "linecolor": "white",
            "ticks": ""
           }
          },
          "title": {
           "x": 0.05
          },
          "xaxis": {
           "automargin": true,
           "gridcolor": "white",
           "linecolor": "white",
           "ticks": "",
           "title": {
            "standoff": 15
           },
           "zerolinecolor": "white",
           "zerolinewidth": 2
          },
          "yaxis": {
           "automargin": true,
           "gridcolor": "white",
           "linecolor": "white",
           "ticks": "",
           "title": {
            "standoff": 15
           },
           "zerolinecolor": "white",
           "zerolinewidth": 2
          }
         }
        },
        "title": {
         "text": "3D Scatter Plot: Population, GDP, and Z-Value"
        }
       }
      }
     },
     "metadata": {},
     "output_type": "display_data"
    }
   ],
   "source": [
    "# Assuming you have a hypothetical 'z_value' column\n",
    "df['z_value'] = [10, 15, 8, 12, 9]\n",
    "\n",
    "fig = px.scatter_3d(df, x='population', y='gdp', z='z_value',\n",
    "                    color='country', title='3D Scatter Plot: Population, GDP, and Z-Value')\n",
    "fig.show()"
   ]
  }
 ],
 "metadata": {
  "kernelspec": {
   "display_name": ".venv",
   "language": "python",
   "name": "python3"
  },
  "language_info": {
   "codemirror_mode": {
    "name": "ipython",
    "version": 3
   },
   "file_extension": ".py",
   "mimetype": "text/x-python",
   "name": "python",
   "nbconvert_exporter": "python",
   "pygments_lexer": "ipython3",
   "version": "3.12.3"
  }
 },
 "nbformat": 4,
 "nbformat_minor": 2
}
